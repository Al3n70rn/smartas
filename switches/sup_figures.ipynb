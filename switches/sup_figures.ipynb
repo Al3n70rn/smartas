{
 "cells": [
  {
   "cell_type": "code",
   "execution_count": 1,
   "metadata": {
    "ExecuteTime": {
     "end_time": "2016-08-05T16:26:32.247398",
     "start_time": "2016-08-05T14:26:15.529Z"
    },
    "collapsed": false
   },
   "outputs": [
    {
     "name": "stderr",
     "output_type": "stream",
     "text": [
      "\n",
      "Attaching package: ‘dplyr’\n",
      "\n",
      "The following objects are masked from ‘package:data.table’:\n",
      "\n",
      "    between, last\n",
      "\n",
      "The following objects are masked from ‘package:stats’:\n",
      "\n",
      "    filter, lag\n",
      "\n",
      "The following objects are masked from ‘package:base’:\n",
      "\n",
      "    intersect, setdiff, setequal, union\n",
      "\n",
      "\n",
      "Attaching package: ‘magrittr’\n",
      "\n",
      "The following object is masked from ‘package:tidyr’:\n",
      "\n",
      "    extract\n",
      "\n"
     ]
    }
   ],
   "source": [
    "source(\"../data/env/variables.R\")\n",
    "source(\"~/wisdom/r/data_analysis_environment.R\")\n",
    "source(\"~/wisdom/r/clean_theme.R\")\n",
    "options(repr.plot.width=10, repr.plot.height=8)\n",
    "\n",
    "switches.split <- read_tsv(\"../data/pancancer/candidateList_full.tumorSplit.tsv\")\n",
    "\n",
    "switches <- read_tsv(\"../data/pancancer/candidateList_full.tsv\") %>%\n",
    "    filter(Reliable==1)\n",
    "\n",
    "drivers <- read_tsv(\"../data/intogen_cancer_drivers-2014.12b/Mutational_drivers_per_tumor_type.tsv\",comment=\"#\") %>%\n",
    "  mutate(Tumor_type = ifelse(Tumor_type==\"COREAD\", \"coad\", Tumor_type),\n",
    "         Tumor_type = ifelse(Tumor_type==\"HC\", \"lihc\", Tumor_type),\n",
    "         Tumor_type = ifelse(Tumor_type==\"RCCC\", \"kirc\", Tumor_type),\n",
    "         Tumor_type = tolower(Tumor_type) ) %>%\n",
    "  set_colnames(c(\"Symbol\",\"Tumor\"))\n",
    "\n",
    "proteome <- read_tsv(\"../data/mutations/proteome_information.txt\") %>%\n",
    "    set_colnames(c(\"Tumor\",\"GeneId\",\"Symbol\",\"Transcript\",\"TPM\",\"ProteinLength\",\"asEvidence\"))\n",
    "\n",
    "wes <- read_tsv(\"../data/mutations/wes_mutations.txt\") %>%\n",
    "    select(Tumor,Gene,Symbol,Patient) %>%\n",
    "    unique"
   ]
  },
  {
   "cell_type": "code",
   "execution_count": 2,
   "metadata": {
    "ExecuteTime": {
     "end_time": "2016-08-05T16:26:39.471182",
     "start_time": "2016-08-05T14:26:17.318Z"
    },
    "collapsed": false
   },
   "outputs": [
    {
     "name": "stderr",
     "output_type": "stream",
     "text": [
      "\n",
      "Attaching package: ‘scales’\n",
      "\n",
      "The following objects are masked from ‘package:readr’:\n",
      "\n",
      "    col_factor, col_numeric\n",
      "\n"
     ]
    },
    {
     "ename": "ERROR",
     "evalue": "Error in eval(expr, envir, enclos): could not find function \"smartas_theme\"\n",
     "output_type": "error",
     "traceback": [
      "Error in eval(expr, envir, enclos): could not find function \"smartas_theme\"\n"
     ]
    },
    {
     "ename": "ERROR",
     "evalue": "Error in plot_clone(plot): object 'p' not found\n",
     "output_type": "error",
     "traceback": [
      "Error in plot_clone(plot): object 'p' not found\n"
     ]
    }
   ],
   "source": [
    "library(scales)\n",
    "library(ggstars)\n",
    "\n",
    "proteome.drivers <- proteome %>%\n",
    "    filter(asEvidence==\"True\") %>%\n",
    "    mutate(Driver = as.numeric(Symbol %in% drivers$Symbol) ) %>%\n",
    "    select(Tumor,GeneId, Driver)\n",
    "    \n",
    "proteome.switches <- proteome %>%\n",
    "    filter(asEvidence==\"True\") %>%\n",
    "    merge(switches.split %>% filter(IsFunctional==1)) %>%\n",
    "    select(Tumor,GeneId) %>%\n",
    "    mutate(Switch=1)\n",
    "\n",
    "driver.enrichment <- proteome %>%\n",
    "    filter(asEvidence==\"True\") %>%\n",
    "    merge(proteome.drivers, all.x=T) %>%\n",
    "    merge(proteome.switches, all.x=T) %>%\n",
    "    mutate(Driver = ifelse(is.na(Driver), 0, Driver),\n",
    "           Switch = ifelse(is.na(Switch), 0, Switch)) %>%\n",
    "    group_by(Tumor) %>%\n",
    "    summarise(SwDr = sum(Driver==1 & Switch==1),\n",
    "              NSwDr = sum(Driver==1 & Switch==0),\n",
    "              SwNDr = sum(Driver==0 & Switch==1),\n",
    "              NSwNDr = sum(Driver==0 & Switch==0))\n",
    "\n",
    "driver.enrichment <- apply(driver.enrichment[,2:5],1,function(x){\n",
    "    f <- fisher.test(matrix(x,2,2))\n",
    "    p <- f$p.value\n",
    "    OR <- as.numeric(f$estimate)\n",
    "    c(p=p,OR=OR)\n",
    "}) %>% t%>% as.data.frame %>%\n",
    "    cbind(driver.enrichment,.)\n",
    "\n",
    "driver.enrichment.melt <- driver.enrichment %>%\n",
    "    select(-p, -OR) %>%\n",
    "    melt(id.vars=\"Tumor\") %>%\n",
    "    mutate( Driver = ifelse(variable %in% c(\"SwDr\",\"NSwDr\"), \"Driver\", \"Non-driver\"),\n",
    "            Switch = ifelse(variable %in% c(\"SwDr\",\"SwNDr\"), \"Switch\", \"No switch\"),\n",
    "            Tag = paste(Tumor, Driver, sep=\"_\"))\n",
    "\n",
    "axisLabels <- strsplit(driver.enrichment.melt$Tag, \"_\") %>% unlist %>% .[c(F,T)]\n",
    "names(axisLabels) <- driver.enrichment.melt$Tag\n",
    "\n",
    "p <- ggplot(driver.enrichment.melt , aes(x=Tag, y=value, fill=Tumor, alpha=Switch)) +\n",
    "    geom_bar(stat=\"identity\",position=\"fill\") +\n",
    "    labs(x=\"\", y=\"% switched\") +\n",
    "    smartas_theme() +\n",
    "    scale_fill_manual(values=colorPalette) +\n",
    "    scale_alpha_manual(values=c(\"Switch\"=1, \"No switch\"=0)) + \n",
    "    theme(axis.text.x = element_text(angle = 45, hjust = 1)) +\n",
    "    scale_x_discrete(labels=axisLabels) +\n",
    "    scale_y_continuous(labels = percent)\n",
    "\n",
    "star_bar(p, driver.enrichment$p < 0.05)"
   ]
  }
 ],
 "metadata": {
  "kernelspec": {
   "display_name": "R",
   "language": "R",
   "name": "ir"
  },
  "language_info": {
   "codemirror_mode": "r",
   "file_extension": ".r",
   "mimetype": "text/x-r-source",
   "name": "R",
   "pygments_lexer": "r",
   "version": "3.2.2"
  },
  "toc": {
   "toc_cell": false,
   "toc_number_sections": true,
   "toc_threshold": 6,
   "toc_window_display": false
  }
 },
 "nbformat": 4,
 "nbformat_minor": 0
}
