{
 "cells": [
  {
   "cell_type": "code",
   "execution_count": 1,
   "metadata": {
    "ExecuteTime": {
     "end_time": "2016-08-25T17:30:01.014630",
     "start_time": "2016-08-25T15:29:59.109Z"
    },
    "collapsed": false
   },
   "outputs": [
    {
     "name": "stderr",
     "output_type": "stream",
     "text": [
      "\n",
      "Attaching package: ‘dplyr’\n",
      "\n",
      "The following objects are masked from ‘package:data.table’:\n",
      "\n",
      "    between, last\n",
      "\n",
      "The following objects are masked from ‘package:stats’:\n",
      "\n",
      "    filter, lag\n",
      "\n",
      "The following objects are masked from ‘package:base’:\n",
      "\n",
      "    intersect, setdiff, setequal, union\n",
      "\n",
      "\n",
      "Attaching package: ‘magrittr’\n",
      "\n",
      "The following object is masked from ‘package:tidyr’:\n",
      "\n",
      "    extract\n",
      "\n"
     ]
    }
   ],
   "source": [
    "source(\"~/wisdom/r/data_analysis_environment.R\")"
   ]
  },
  {
   "cell_type": "code",
   "execution_count": 38,
   "metadata": {
    "ExecuteTime": {
     "end_time": "2016-08-25T18:37:12.201838",
     "start_time": "2016-08-25T16:37:11.590Z"
    },
    "collapsed": false
   },
   "outputs": [
    {
     "ename": "ERROR",
     "evalue": "Error in eval(expr, envir, enclos): Failed to open '../results/supplementary_files/supplementary_file_1.tsv'.\n",
     "output_type": "error",
     "traceback": [
      "Error in eval(expr, envir, enclos): Failed to open '../results/supplementary_files/supplementary_file_1.tsv'.\n"
     ]
    }
   ],
   "source": [
    "# Supplementary File 1 \n",
    "read_tsv(\"../data/pancancer/candidateList_full.tsv\") %>%\n",
    "    filter(Reliable==1 & Origin==\"Tumor\") %>%\n",
    "    select(-Reliable, -Origin) %>%\n",
    "    write_tsv(\"../results/supplementary_files/supplementary_file_1.tsv\")"
   ]
  },
  {
   "cell_type": "code",
   "execution_count": null,
   "metadata": {
    "collapsed": true
   },
   "outputs": [],
   "source": [
    "# Supplementary File 2\n",
    "\n",
    "# domains"
   ]
  },
  {
   "cell_type": "code",
   "execution_count": 37,
   "metadata": {
    "ExecuteTime": {
     "end_time": "2016-08-25T18:34:36.499494",
     "start_time": "2016-08-25T16:33:59.527Z"
    },
    "collapsed": false
   },
   "outputs": [
    {
     "name": "stderr",
     "output_type": "stream",
     "text": [
      "Warning message:\n",
      ": attributes are not identical across measure variables; they will be dropped"
     ]
    }
   ],
   "source": [
    "# Supplementary File 3\n",
    "switches.split <- read_tsv(\"../data/pancancer/candidateList_full.tumorSplit.tsv\") %>%\n",
    "    filter(Reliable==1 & Origin==\"Tumor\") %>%\n",
    "    select(Tumor,GeneId,Symbol,Normal_transcript,Tumor_transcript)\n",
    "\n",
    "proteome <- read_tsv(\"../data/mutations/proteome_information.txt\") %>%\n",
    "    select(Tumor,Transcript)\n",
    "\n",
    "pfams <- read_tsv(\"../data/structural_analysis/interpro_analysis.tsv\") %>%\n",
    "    select(GeneId,Symbol,Normal_transcript,Tumor_transcript,Feature,What,normalReps,tumorReps) %>%\n",
    "    unique %>%\n",
    "    rename(Normal_isoform_order = normalReps, Tumor_isoform_order = tumorReps, Observation = What) %>%\n",
    "    mutate(Observation = ifelse(Observation == \"Nothing\", \"No_change\", Observation)) %>%\n",
    "    separate(Feature, c(\"Pfam_id\", \"Name\"), \"\\\\|\")\n",
    "\n",
    "ppi.file <- \"../data/eporta/raw_tables/Switched_interactions_consensus.txt\"\n",
    "\n",
    "## get max number of columns (necessary for reading)\n",
    "no_col <- max(count.fields(ppi.file,sep = \"\\t\"))\n",
    "no_col.ppi <- (no_col-6)/2\n",
    "ppi.cols <- paste(c(\"Origin\",\"Interaction\"), floor(seq(1,no_col.ppi,0.5)), sep=\"_\")\n",
    "\n",
    "## read table\n",
    "ppi.split <- read.table(ppi.file,header=F,fill=T,col.names=1:no_col) %>%\n",
    "    set_colnames(c(\"GeneId\",\"Symbol\",\"Normal_transcript\",\"Tumor_transcript\",\n",
    "                   \"GeneId_partner\",\"Symbol_partner\",ppi.cols)) %>%\n",
    "    # all Origin columns contail \"DDI_match\", so we can disregard them\n",
    "    select(-starts_with(\"Origin_\")) %>%\n",
    "    # convert from wide to long table format\n",
    "    reshape2::melt(id.vars = c(\"GeneId\",\"Symbol\",\"Normal_transcript\",\"Tumor_transcript\",\n",
    "                               \"GeneId_partner\",\"Symbol_partner\"), value.name = \"Interaction\") %>%\n",
    "    select(-variable) %>%\n",
    "    # remove cases with no interaction described\n",
    "    filter(Interaction != \"\") %>%\n",
    "    # split interaction information\n",
    "    separate(Interaction, into = c(\"Effect_on_interaction\",\"Transcript_partner\",\"Domains\"), sep = \"-\") %>%\n",
    "    mutate(Domains = strsplit(Domains, \"_\")) %>%\n",
    "    unnest(Domains) %>%\n",
    "    separate(Domains, into = c(\"Pfam_id\",\"Pfam_id_partner\"), sep = \"/\") %>%\n",
    "    mutate(Effect_on_interaction = plyr::revalue(Effect_on_interaction, \n",
    "                                           replace = c(\"Gained\"=\"Gain\", \"Lost\"=\"Loss\", \"Kept\"=\"Unaffected\"))) %>%\n",
    "    merge(switches.split) %>%\n",
    "    merge(proteome, by.x = c(\"Tumor\",\"Transcript_partner\"), by.y = c(\"Tumor\",\"Transcript\"))\n",
    "\n",
    "merge(pfams, ppi.split, all = TRUE) %>%\n",
    "    select(Tumor,GeneId:Tumor_isoform_order,GeneId_partner,Symbol_partner,\n",
    "           Transcript_partner,Pfam_id_partner,Effect_on_interaction) %>%\n",
    "    arrange(Tumor) %>%\n",
    "    write_tsv(\"../results/supplementary_files/supplementary_file_3.tsv\")"
   ]
  },
  {
   "cell_type": "code",
   "execution_count": null,
   "metadata": {
    "ExecuteTime": {
     "end_time": "2016-08-25T17:53:49.651466",
     "start_time": "2016-08-25T15:39:22.821Z"
    },
    "collapsed": false
   },
   "outputs": [],
   "source": [
    "# Supplementary File 4\n",
    "\n",
    "me <- lapply(1:10, function(i){\n",
    "    read_tsv(paste0(\"../data/mutations/pannegative_mutual_exclusion.top_\",i,\"_drivers.txt\")) %>%\n",
    "        mutate(NumDrivers = i)\n",
    "}) %>% \n",
    "    do.call(\"rbind\",.) %>%\n",
    "    by(., paste0(.$GeneId,.$Tumor), \n",
    "         function(X) X[which.min(X$p.me),]) %>%\n",
    "    do.call(\"rbind\",.)  %>%\n",
    "    select(Tumor,GeneId,Symbol,Normal_transcript,Tumor_transcript,p.me,NumDrivers) %>%\n",
    "    set_colnames(c(\"Tumor\",\"GeneId\",\"Symbol\",\"Normal_transcript\",\"Tumor_transcript\",\"p_pannegative\",\"Mutually_exclusive_drivers\"))\n",
    "\n",
    "me.specificDrivers <- read_tsv(\"../data/mutations/mutual_exclusion_top_drivers.txt\") %>%\n",
    "    filter(!is.na(Pathway))\n",
    "\n",
    "head(me.specificDrivers)\n",
    "\n",
    "# merge(me, me.specificDrivers, all = TRUE) %>%\n",
    "#     write_tsv(\"../results/supplementary_files/supplementary_file_4.tsv\")\n",
    "\n",
    "# me w/ pancancer and specific gene in the same pathway"
   ]
  }
 ],
 "metadata": {
  "kernelspec": {
   "display_name": "R",
   "language": "R",
   "name": "ir"
  },
  "language_info": {
   "codemirror_mode": "r",
   "file_extension": ".r",
   "mimetype": "text/x-r-source",
   "name": "R",
   "pygments_lexer": "r",
   "version": "3.2.2"
  },
  "toc": {
   "toc_cell": false,
   "toc_number_sections": true,
   "toc_threshold": 6,
   "toc_window_display": false
  }
 },
 "nbformat": 4,
 "nbformat_minor": 0
}
