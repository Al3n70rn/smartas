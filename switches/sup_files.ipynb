{
 "cells": [
  {
   "cell_type": "code",
   "execution_count": 1,
   "metadata": {
    "ExecuteTime": {
     "end_time": "2016-09-01T18:16:55.605623",
     "start_time": "2016-09-01T16:16:53.696Z"
    },
    "collapsed": false
   },
   "outputs": [
    {
     "name": "stderr",
     "output_type": "stream",
     "text": [
      "\n",
      "Attaching package: ‘dplyr’\n",
      "\n",
      "The following objects are masked from ‘package:data.table’:\n",
      "\n",
      "    between, last\n",
      "\n",
      "The following objects are masked from ‘package:stats’:\n",
      "\n",
      "    filter, lag\n",
      "\n",
      "The following objects are masked from ‘package:base’:\n",
      "\n",
      "    intersect, setdiff, setequal, union\n",
      "\n",
      "\n",
      "Attaching package: ‘magrittr’\n",
      "\n",
      "The following object is masked from ‘package:tidyr’:\n",
      "\n",
      "    extract\n",
      "\n"
     ]
    }
   ],
   "source": [
    "source(\"~/wisdom/r/data_analysis_environment.R\")\n",
    "source(\"../data/env/variables.R\")"
   ]
  },
  {
   "cell_type": "code",
   "execution_count": 2,
   "metadata": {
    "ExecuteTime": {
     "end_time": "2016-09-01T18:16:57.170192",
     "start_time": "2016-09-01T16:16:53.709Z"
    },
    "collapsed": false
   },
   "outputs": [],
   "source": [
    "# Supplementary File 1 \n",
    "read_tsv(\"../data/pancancer/candidateList_full.tsv\") %>%\n",
    "    filter(Reliable==1 & Origin==\"Tumor\") %>%\n",
    "    select(-Reliable, -Origin) %>%\n",
    "    rename( AS_driver = Candidate, Samples = Patients_affected, Number_samples = PatientNumber,\n",
    "            Percentage_samples = Percentage) %>%\n",
    "    arrange(desc(Number_samples, AS_driver)) %>%\n",
    "    write_tsv(\"../results/supplementary_files/supplementary_file_1.tsv\")"
   ]
  },
  {
   "cell_type": "code",
   "execution_count": 3,
   "metadata": {
    "ExecuteTime": {
     "end_time": "2016-09-01T18:16:57.464612",
     "start_time": "2016-09-01T16:16:53.718Z"
    },
    "collapsed": false
   },
   "outputs": [],
   "source": [
    "# Supplementary File 2\n",
    "read_tsv(\"../results/pfam_enrichment_analysis.tsv\") %>%\n",
    "    separate(Feature, c(\"Pfam_id\",\"Name\"), \"\\\\|\") %>%\n",
    "    rename(Switches_where_gained = switches_g, Switches_where_lost = switches_l, \n",
    "           p_switch_gain = p_g, p_switch_loss = p_l, adjp_switch_gain = adjp_g, \n",
    "           adjp_switch_loss = adjp_l, p_mutation = p_m, adjp_mutation = adjp_m) %>%\n",
    "    select(-starts_with(\"fc\")) %>%\n",
    "    select(Pfam_id, Name,p_switch_gain:Switches_where_lost) %>%\n",
    "    write_tsv(\"../results/supplementary_files/supplementary_file_2.tsv\")"
   ]
  },
  {
   "cell_type": "code",
   "execution_count": 4,
   "metadata": {
    "ExecuteTime": {
     "end_time": "2016-09-01T18:17:58.603820",
     "start_time": "2016-09-01T16:16:53.727Z"
    },
    "collapsed": false
   },
   "outputs": [],
   "source": [
    "# Supplementary File 3\n",
    "top_drivers <- read_tsv(\"../data/mutations/driver_mutation_number.txt\") %>%\n",
    "    select(Tumor,Symbol)\n",
    "\n",
    "top_drivers <- lapply(cancerTypes, function(tumor){\n",
    "    lapply(1:10, function(i){\n",
    "        top_drivers %>%\n",
    "            filter(Tumor == tumor) %>%\n",
    "            head(n = i) %>% \n",
    "            .$Symbol %>%\n",
    "            paste(collapse = \", \")\n",
    "    } ) %>% set_names(as.character(1:10))\n",
    "} ) %>% set_names(cancerTypes)\n",
    "\n",
    "# pannegative\n",
    "me <- lapply(1:10, function(i){\n",
    "    read_tsv(paste0(\"../data/mutations/pannegative_mutual_exclusion.top_\",i,\"_drivers.txt\")) %>%\n",
    "        mutate(NumDrivers = i)\n",
    "}) %>% \n",
    "    do.call(\"rbind\",.) %>%\n",
    "    by(., paste0(.$GeneId,.$Tumor), function(X){\n",
    "        X %>% slice(which.max(ifelse(p.me < 0.05, NumDrivers, NA)))\n",
    "    }) %>%\n",
    "    do.call(\"rbind\",.)  %>%\n",
    "    select(Tumor,GeneId,Symbol,Normal_transcript,Tumor_transcript,p.me,NumDrivers) %>%\n",
    "    mutate(ME_drivers = apply(cbind(Tumor, NumDrivers), 1, function(x){\n",
    "        top_drivers[[x[1]]][x[2]]\n",
    "    }) %>% unlist) %>%\n",
    "    rename(p_pannegative = p.me, Number_ME_drivers = NumDrivers)\n",
    "\n",
    "# pathways\n",
    "me.specificDrivers <- read_tsv(\"../data/mutations/mutual_exclusion_top_drivers.txt\") %>%\n",
    "    filter(!is.na(Pathway)) %>%\n",
    "    mutate(Tag = paste0(DriverSymbol,\" (\",Pathway,\")\")) %>%\n",
    "    group_by(Tumor,GeneId,Symbol,Normal_transcript,Tumor_transcript) %>%\n",
    "    summarise(Same_pathway_driver = Tag[which.min(p.me)],\n",
    "              p_me_pathway_driver = min(p.me))\n",
    "\n",
    "# merge and filter\n",
    "validSwitches <- read_tsv(\"../data/pancancer/candidateList_full.tsv\") %>%\n",
    "    filter(Reliable==1 & Origin==\"Tumor\") %>%\n",
    "    select(GeneId,Symbol,Normal_transcript,Tumor_transcript) %>%\n",
    "    unique\n",
    "             \n",
    "merge(me, me.specificDrivers, all = TRUE) %>%\n",
    "    merge(validSwitches) %>%\n",
    "    write_tsv(\"../results/supplementary_files/supplementary_file_3.tsv\")"
   ]
  },
  {
   "cell_type": "code",
   "execution_count": 5,
   "metadata": {
    "ExecuteTime": {
     "end_time": "2016-09-01T18:19:01.449030",
     "start_time": "2016-09-01T16:16:53.740Z"
    },
    "collapsed": false
   },
   "outputs": [
    {
     "name": "stderr",
     "output_type": "stream",
     "text": [
      "Warning message:\n",
      ": attributes are not identical across measure variables; they will be dropped"
     ]
    }
   ],
   "source": [
    "# Supplementary File 4\n",
    "switches.split <- read_tsv(\"../data/pancancer/candidateList_full.tumorSplit.tsv\") %>%\n",
    "    filter(Reliable==1 & Origin==\"Tumor\") %>%\n",
    "    select(Tumor,GeneId,Symbol,Normal_transcript,Tumor_transcript)\n",
    "\n",
    "########################\n",
    "#       Domains        #\n",
    "########################\n",
    "pfams <- read_tsv(\"../data/structural_analysis/interpro_analysis.tsv\") %>%\n",
    "    # add tumor annotation\n",
    "    merge(switches.split) %>%\n",
    "    select(Tumor,GeneId,Symbol,Normal_transcript,Tumor_transcript,Feature,What,normalReps,tumorReps) %>%\n",
    "    rename(Normal_isoform_order = normalReps, Tumor_isoform_order = tumorReps, Observation = What) %>%\n",
    "    mutate(Observation = ifelse(Observation == \"Nothing\", \"No_change\", Observation),\n",
    "           Feature_type = \"Pfam\") %>%\n",
    "    separate(Feature, c(\"Feature_id\", \"Feature_name\"), \"\\\\|\")\n",
    "\n",
    "proteome <- read_tsv(\"../data/mutations/proteome_information.txt\") %>%\n",
    "    select(Tumor,Transcript)\n",
    "\n",
    "# PPI\n",
    "ppi.file <- \"../data/eporta/raw_tables/Switched_interactions_consensus.txt\"\n",
    "\n",
    "## get max number of columns (necessary for reading)\n",
    "no_col <- max(count.fields(ppi.file,sep = \"\\t\"))\n",
    "no_col.ppi <- (no_col-6)/2\n",
    "ppi.cols <- paste(c(\"Origin\",\"Interaction\"), floor(seq(1,no_col.ppi,0.5)), sep=\"_\")\n",
    "\n",
    "## read table\n",
    "ppi.split <- read.table(ppi.file,header=F,fill=T,col.names=1:no_col) %>%\n",
    "    set_colnames(c(\"GeneId\",\"Symbol\",\"Normal_transcript\",\"Tumor_transcript\",\n",
    "                   \"GeneId_partner\",\"Symbol_partner\",ppi.cols)) %>%\n",
    "    # all Origin columns contail \"DDI_match\", so we can disregard them\n",
    "    select(-starts_with(\"Origin_\")) %>%\n",
    "    # convert from wide to long table format\n",
    "    reshape2::melt(id.vars = c(\"GeneId\",\"Symbol\",\"Normal_transcript\",\"Tumor_transcript\",\n",
    "                               \"GeneId_partner\",\"Symbol_partner\"), value.name = \"Interaction\") %>%\n",
    "    select(-variable) %>%\n",
    "    # remove cases with no interaction described\n",
    "    filter(Interaction != \"\") %>%\n",
    "    # split interaction information\n",
    "    separate(Interaction, into = c(\"Effect_on_interaction\",\"Transcript_partner\",\"Domains\"), sep = \"-\") %>%\n",
    "    mutate(Domains = strsplit(Domains, \"_\")) %>%\n",
    "    unnest(Domains) %>%\n",
    "    separate(Domains, into = c(\"Feature_id\",\"Pfam_id_partner\"), sep = \"/\") %>%\n",
    "    mutate(Effect_on_interaction = plyr::revalue(Effect_on_interaction, \n",
    "                                                 replace = c(\"Gained\"=\"Gain\", \"Lost\"=\"Loss\", \"Kept\"=\"Unaffected\"))) %>%\n",
    "    merge(switches.split) %>%\n",
    "    merge(proteome, by.x = c(\"Tumor\",\"Transcript_partner\"), by.y = c(\"Tumor\",\"Transcript\"))\n",
    "\n",
    "pfams <- merge(pfams, ppi.split, all.x = TRUE) %>%\n",
    "    select(Tumor:Tumor_transcript,Feature_type,Feature_id:Tumor_isoform_order,GeneId_partner,\n",
    "           Symbol_partner,Transcript_partner,Pfam_id_partner,Effect_on_interaction) %>%\n",
    "    # remove cases where a domain is mapped but is not in the isoform-specific region\n",
    "    mutate(GeneId_partner = ifelse(Effect_on_interaction %in% c(\"Gain\",\"Loss\") & Observation == \"No_change\", \n",
    "                                   NA, GeneId_partner),\n",
    "           Symbol_partner = ifelse(Effect_on_interaction %in% c(\"Gain\",\"Loss\") & Observation == \"No_change\", \n",
    "                                   NA, as.character(Symbol_partner)),\n",
    "           Transcript_partner = ifelse(Effect_on_interaction %in% c(\"Gain\",\"Loss\") & Observation == \"No_change\", \n",
    "                                       NA, Transcript_partner),\n",
    "           Pfam_id_partner = ifelse(Effect_on_interaction %in% c(\"Gain\",\"Loss\") & Observation == \"No_change\", \n",
    "                                    NA, Pfam_id_partner),\n",
    "           Effect_on_interaction = ifelse(Effect_on_interaction %in% c(\"Gain\",\"Loss\") & Observation == \"No_change\", \n",
    "                                          NA, Effect_on_interaction)) %>%\n",
    "    unique\n",
    "\n",
    "########################\n",
    "#       ProSite        #\n",
    "########################\n",
    "prosites <- read_tsv(\"../data/structural_analysis/prosite_analysis.tsv\") %>%\n",
    "    # add tumor annotation\n",
    "    merge(switches.split) %>%\n",
    "    select(Tumor,GeneId,Symbol,Normal_transcript,Tumor_transcript,Feature,What,normalReps,tumorReps) %>%\n",
    "    rename(Normal_isoform_order = normalReps, Tumor_isoform_order = tumorReps, Observation = What) %>%\n",
    "    mutate(Observation = ifelse(Observation == \"Nothing\", \"No_change\", Observation),\n",
    "           Feature_type = \"ProSite\") %>%\n",
    "    separate(Feature, c(\"Feature_id\", \"Feature_name\"), \"\\\\|\") %>%\n",
    "    select(Tumor,GeneId:Tumor_transcript,Feature_type,Feature_id:Tumor_isoform_order) %>%\n",
    "    mutate(GeneId_partner = NA, Symbol_partner = NA, Transcript_partner = NA,\n",
    "           Pfam_id_partner = NA, Effect_on_interaction = NA)\n",
    "\n",
    "########################\n",
    "#        IUPRED        #\n",
    "########################\n",
    "iupreds <- read_tsv(\"../data/structural_analysis/iupred_analysis.tsv\") %>%\n",
    "    filter(Significant == 1) %>%\n",
    "    # add tumor annotation\n",
    "    merge(switches.split) %>%\n",
    "    select(Tumor,GeneId,Symbol,Normal_transcript,Tumor_transcript,What,StartPos,EndPos) %>%\n",
    "    rename(Observation = What) %>%\n",
    "    mutate(Feature_type = \"IUPRED\",\n",
    "           Feature_id = NA,\n",
    "           Feature_name = paste(StartPos,EndPos, sep = \"_\"),\n",
    "           Observation = ifelse(Observation == \"Nothing\", \"No_change\", Observation),\n",
    "           Normal_isoform_order = NA, Tumor_isoform_order = NA) %>%\n",
    "    select(Tumor:Tumor_transcript,Feature_type,Feature_id,Feature_name,\n",
    "           Observation,Normal_isoform_order,Tumor_isoform_order)  %>%\n",
    "    mutate(GeneId_partner = NA, Symbol_partner = NA, Transcript_partner = NA,\n",
    "           Pfam_id_partner = NA, Effect_on_interaction = NA)\n",
    "\n",
    "########################\n",
    "#        IUPRED        #\n",
    "########################\n",
    "anchors <- read_tsv(\"../data/structural_analysis/anchor_analysis.tsv\") %>%\n",
    "    filter(Significant == 1) %>%\n",
    "    # add tumor annotation\n",
    "    merge(switches.split) %>%\n",
    "    select(Tumor,GeneId,Symbol,Normal_transcript,Tumor_transcript,What,StartPos,EndPos) %>%\n",
    "    rename(Observation = What) %>%\n",
    "    mutate(Feature_type = \"ANCHOR\",\n",
    "           Feature_id = NA,\n",
    "           Feature_name = paste(StartPos,EndPos, sep = \"_\"),\n",
    "           Observation = ifelse(Observation == \"Nothing\", \"No_change\", Observation),\n",
    "           Normal_isoform_order = NA, Tumor_isoform_order = NA) %>%\n",
    "    select(Tumor:Tumor_transcript,Feature_type,Feature_id,Feature_name,\n",
    "           Observation,Normal_isoform_order,Tumor_isoform_order)  %>%\n",
    "    mutate(GeneId_partner = NA, Symbol_partner = NA, Transcript_partner = NA,\n",
    "           Pfam_id_partner = NA, Effect_on_interaction = NA)\n",
    "\n",
    "rbind(pfams,prosites) %>%\n",
    "    rbind(iupreds) %>%\n",
    "    rbind(anchors) %>%\n",
    "    arrange(Tumor) %>%\n",
    "    write_tsv(\"../results/supplementary_files/supplementary_file_4.tsv\")"
   ]
  },
  {
   "cell_type": "code",
   "execution_count": 8,
   "metadata": {
    "ExecuteTime": {
     "end_time": "2016-09-01T19:50:35.837672",
     "start_time": "2016-09-01T17:50:35.565Z"
    },
    "collapsed": false
   },
   "outputs": [],
   "source": [
    "# Supplementary File 5\n",
    "canonical_patways <- read_tsv(\"../results/networks/canonical_patways_test.tsv\") %>%\n",
    "    mutate(Geneset_type = \"Pathway\")\n",
    "complexes <- read_tsv(\"../results/networks/complexes_test.tsv\") %>%\n",
    "    mutate(Geneset_type = \"Complex\")\n",
    "mrna <- read_tsv(\"../results/networks/mrna_test.tsv\") %>%\n",
    "    mutate(Geneset_type = \"mRNA_regulation\")\n",
    "\n",
    "rbind(canonical_patways, complexes) %>%\n",
    "    rbind(mrna) %>%\n",
    "    select(Geneset_type, geneset:p, adjp, OR, eOR, switched) %>%\n",
    "    rename(Geneset = geneset, Number_drivers = NumDrivers, Switched_genes = switched) %>%\n",
    "    mutate(Geneset = gsub(\" \", \"_\", Geneset)) %>%\n",
    "    write_tsv(\"../results/supplementary_files/supplementary_file_5.tsv\")"
   ]
  },
  {
   "cell_type": "code",
   "execution_count": 9,
   "metadata": {
    "ExecuteTime": {
     "end_time": "2016-09-01T19:51:22.831574",
     "start_time": "2016-09-01T17:51:11.889Z"
    },
    "collapsed": false
   },
   "outputs": [],
   "source": [
    "# Supplementary File 6\n",
    "modules <- read_tsv(\"../results/networks/annotated_modules.tsv\") %>%\n",
    "    mutate(Geneset = gsub(\" \", \"_\", Geneset)) %>%\n",
    "    write_tsv(\"../results/supplementary_files/supplementary_file_6.tsv\")"
   ]
  }
 ],
 "metadata": {
  "kernelspec": {
   "display_name": "R",
   "language": "R",
   "name": "ir"
  },
  "language_info": {
   "codemirror_mode": "r",
   "file_extension": ".r",
   "mimetype": "text/x-r-source",
   "name": "R",
   "pygments_lexer": "r",
   "version": "3.2.2"
  },
  "toc": {
   "toc_cell": false,
   "toc_number_sections": true,
   "toc_threshold": 6,
   "toc_window_display": false
  }
 },
 "nbformat": 4,
 "nbformat_minor": 0
}
