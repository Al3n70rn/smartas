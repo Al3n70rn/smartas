{
 "cells": [
  {
   "cell_type": "markdown",
   "metadata": {},
   "source": [
    "# Numbers about the switches\n",
    "## Read data"
   ]
  },
  {
   "cell_type": "code",
   "execution_count": null,
   "metadata": {
    "ExecuteTime": {
     "start_time": "2016-05-27T13:30:49.886Z"
    },
    "collapsed": false
   },
   "outputs": [
    {
     "name": "stderr",
     "output_type": "stream",
     "text": [
      "\n",
      "Attaching package: ‘dplyr’\n",
      "\n",
      "The following objects are masked from ‘package:plyr’:\n",
      "\n",
      "    arrange, count, desc, failwith, id, mutate, rename, summarise,\n",
      "    summarize\n",
      "\n",
      "The following objects are masked from ‘package:stats’:\n",
      "\n",
      "    filter, lag\n",
      "\n",
      "The following objects are masked from ‘package:base’:\n",
      "\n",
      "    intersect, setdiff, setequal, union\n",
      "\n",
      "Warning message:\n",
      ": 497148 parsing failures.\n",
      "row col  expected    actual\n",
      "  1  -- 7 columns 6 columns\n",
      "  2  -- 7 columns 6 columns\n",
      "  3  -- 7 columns 6 columns\n",
      "  4  -- 7 columns 6 columns\n",
      "  5  -- 7 columns 6 columns\n",
      "... ... ......... .........\n",
      ".See problems(...) for more details."
     ]
    }
   ],
   "source": [
    "source(\"~/smartas/pipeline/scripts/variablesAndFunctions.r\")\n",
    "\n",
    "# read consensus, not noise, switches\n",
    "switches <- read_tsv(\"../data/pancancer/candidateList_info.agg.tsv\") %>%\n",
    "    filter(NotNoise==1 & IsModel==1)\n",
    "\n",
    "# read mutations\n",
    "wes <- read_tsv(\"../data//mutations/wes_mutations.txt\") %>%\n",
    "    select(Tumor,Gene,Symbol,Patient) %>%\n",
    "    unique\n",
    "\n",
    "wgs <- read_tsv(\"../data//mutations/wgs_mutations.txt\") %>%\n",
    "    select(Tumor,Gene,Symbol,Patient) %>%\n",
    "    unique"
   ]
  },
  {
   "cell_type": "markdown",
   "metadata": {},
   "source": [
    "## Some stats about switches"
   ]
  },
  {
   "cell_type": "code",
   "execution_count": null,
   "metadata": {
    "ExecuteTime": {
     "start_time": "2016-05-27T13:30:49.892Z"
    },
    "collapsed": false
   },
   "outputs": [],
   "source": [
    "# num switches\n",
    "nrow(switches)\n",
    "\n",
    "# num genes\n",
    "nrow(uniqueswitches[,c('GeneId','Symbol')])"
   ]
  },
  {
   "cell_type": "code",
   "execution_count": null,
   "metadata": {
    "ExecuteTime": {
     "start_time": "2016-05-27T13:30:49.898Z"
    },
    "collapsed": false
   },
   "outputs": [],
   "source": [
    "# Numbers\n",
    "# two protein coding isoforms\n",
    "sum(switches$CDS_Normal & switches$CDS_Tumor)\n",
    "\n",
    "# only normal isoform\n",
    "sum(switches$CDS_Normal & !switches$CDS_Tumor)\n",
    "\n",
    "# only tumor isoform\n",
    "sum(!switches$CDS_Normal & switches$CDS_Tumor)\n",
    "\n",
    "# Percentages\n",
    "# two protein coding isoforms\n",
    "sum(switches$CDS_Normal & switches$CDS_Tumor)/nrow(switches) * 100\n",
    "\n",
    "# only normal isoform\n",
    "sum(switches$CDS_Normal & !switches$CDS_Tumor)/nrow(switches) * 100\n",
    "\n",
    "# only tumor isoform\n",
    "sum(!switches$CDS_Normal & switches$CDS_Tumor)/nrow(switches) * 100"
   ]
  },
  {
   "cell_type": "code",
   "execution_count": null,
   "metadata": {
    "ExecuteTime": {
     "start_time": "2016-05-27T13:30:49.905Z"
    },
    "collapsed": false
   },
   "outputs": [],
   "source": [
    "# two protein coding isoforms\n",
    "# functional\n",
    "# number\n",
    "sum(switches$CDS_Normal & switches$CDS_Tumor & switches$IsFunctional)\n",
    "# percentage\n",
    "sum(switches$CDS_Normal & switches$CDS_Tumor & switches$IsFunctional)/sum(switches$CDS_Normal & switches$CDS_Tumor) * 100"
   ]
  },
  {
   "cell_type": "code",
   "execution_count": null,
   "metadata": {
    "ExecuteTime": {
     "start_time": "2016-05-27T13:30:49.912Z"
    },
    "collapsed": false
   },
   "outputs": [],
   "source": [
    "# unbalance between only niso and only tiso\n",
    "x <- sum(switches$CDS_Normal & !switches$CDS_Tumor)\n",
    "n <- sum(!switches$CDS_Normal & switches$CDS_Tumor)+sum(switches$CDS_Normal & !switches$CDS_Tumor)\n",
    "binom.test(x,n,0.5)"
   ]
  },
  {
   "cell_type": "markdown",
   "metadata": {},
   "source": [
    "## Stats about patient recurrence\n",
    "We will use mutation data to put switch data into context."
   ]
  },
  {
   "cell_type": "code",
   "execution_count": null,
   "metadata": {
    "ExecuteTime": {
     "start_time": "2016-05-27T13:30:49.917Z"
    },
    "collapsed": false
   },
   "outputs": [],
   "source": [
    "genesWESMutated <- wes %>%\n",
    "    group_by(Tumor,Patient) %>%\n",
    "    summarise(WES=length(Patient))\n",
    "\n",
    "genesWGSMutated <- wgs %>%\n",
    "    group_by(Tumor,Patient) %>%\n",
    "    summarise(WGS=length(Patient))\n",
    "\n",
    "genesSwitched <- as.data.frame(table(unlist(strsplit(switches$Patients_affected,\",\")))) %>%\n",
    "    set_colnames(c(\"Patient\",\"Switch\"))\n",
    "\n",
    "recurrence <- merge(genesSwitched,genesWESMutated,all=T) %>%\n",
    "    merge(genesWGSMutated,all=T)"
   ]
  },
  {
   "cell_type": "code",
   "execution_count": null,
   "metadata": {
    "ExecuteTime": {
     "start_time": "2016-05-27T13:30:49.923Z"
    },
    "collapsed": false
   },
   "outputs": [],
   "source": [
    "recurrence %>%\n",
    "    melt %>%\n",
    "    set_colnames(c(\"Patient\",\"Tumor\",\"Alteration\",\"Counts\")) %>%\n",
    "    ggplot(aes(x=Tumor,y=log10(Counts), fill=Alteration)) +\n",
    "    geom_boxplot() + \n",
    "    smartas_theme() +\n",
    "    theme(legend.position=\"bottom\") +\n",
    "    labs(title=\"Genes altered by mechanism per patient\")"
   ]
  }
 ],
 "metadata": {
  "kernelspec": {
   "display_name": "R",
   "language": "R",
   "name": "ir"
  },
  "language_info": {
   "codemirror_mode": "r",
   "file_extension": ".r",
   "mimetype": "text/x-r-source",
   "name": "R",
   "pygments_lexer": "r",
   "version": "3.2.2"
  },
  "toc": {
   "toc_cell": false,
   "toc_number_sections": true,
   "toc_threshold": 6,
   "toc_window_display": false
  }
 },
 "nbformat": 4,
 "nbformat_minor": 0
}
