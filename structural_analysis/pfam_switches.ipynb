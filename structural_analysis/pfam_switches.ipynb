{
 "cells": [
  {
   "cell_type": "code",
   "execution_count": 1,
   "metadata": {
    "ExecuteTime": {
     "end_time": "2016-06-16T18:31:29.354689",
     "start_time": "2016-06-16T16:31:27.644Z"
    },
    "collapsed": false
   },
   "outputs": [
    {
     "name": "stderr",
     "output_type": "stream",
     "text": [
      "\n",
      "Attaching package: ‘dplyr’\n",
      "\n",
      "The following objects are masked from ‘package:plyr’:\n",
      "\n",
      "    arrange, count, desc, failwith, id, mutate, rename, summarise,\n",
      "    summarize\n",
      "\n",
      "The following objects are masked from ‘package:stats’:\n",
      "\n",
      "    filter, lag\n",
      "\n",
      "The following objects are masked from ‘package:base’:\n",
      "\n",
      "    intersect, setdiff, setequal, union\n",
      "\n"
     ]
    }
   ],
   "source": [
    "source(\"~/smartas/pipeline/scripts/variablesAndFunctions.r\")\n",
    "library(gtools)\n",
    "\n",
    "# entropy calculation only among those genes undergoing an isoform switch\n",
    "# entropy measures the homogeneity in the distribution of the patients \n",
    "# in different cancer types\n",
    "shannon.entropy <- function(p){\n",
    "  if (invalid(p) || min(p) < 0 || sum(p) <= 0)\n",
    "    return(NaN)\n",
    "  p.norm <- p[p>0]/sum(p)\n",
    "  H <- -sum(log2(p.norm)*p.norm)\n",
    "  if (H == 0){\n",
    "    0\n",
    "  } else {\n",
    "    maxH <- log2(length(p.norm))\n",
    "    H/maxH\n",
    "  }\n",
    "}\n",
    "\n",
    "get.entropy <- function(genes,ntxs,ttxs,patients,mask){\n",
    "    m <- ifelse(is.null(mask),FALSE,mask)\n",
    "    switches.agg <- data.frame(Gene=genes,nTx=ntxs,tTx=ttxs,Patients=patients) %>%\n",
    "        filter(m) %>%\n",
    "        group_by(Gene,nTx,tTx) %>%\n",
    "        summarise(Patients=sum(Patients)) %>%\n",
    "        mutate(p=Patients/sum(Patients))\n",
    "    shannon.entropy(switches.agg$p)\n",
    "}\n",
    "\n",
    "get.uniq.switches <- function(genes,ntxs,ttxs,mask){\n",
    "    m <- ifelse(is.null(mask),FALSE,mask)\n",
    "    as.data.frame(cbind(genes,ntxs,ttxs)) %>%\n",
    "        filter(m) %>%\n",
    "        unique %>%\n",
    "        nrow\n",
    "}\n",
    "\n",
    "get.uniq.patients <- function(genes,ntxs,ttxs,patients,mask){\n",
    "    m <- ifelse(is.null(mask),FALSE,mask)\n",
    "    switches <- data.frame(Gene=genes,nTx=ntxs,tTx=ttxs,Patients=patients) %>%\n",
    "        filter(m)\n",
    "    sum(switches$Patients)\n",
    "}\n",
    "\n",
    "my.binomial.test <- function(x,testNumber){ \n",
    "    if (!is.na(x[1]) & ! is.na(x[2]))\n",
    "        binom.test(x[1],testNumber,x[2],\"greater\")$p.value\n",
    "    else\n",
    "        NA\n",
    "}"
   ]
  },
  {
   "cell_type": "code",
   "execution_count": 2,
   "metadata": {
    "ExecuteTime": {
     "end_time": "2016-06-16T18:31:49.243574",
     "start_time": "2016-06-16T16:31:27.670Z"
    },
    "collapsed": false
   },
   "outputs": [],
   "source": [
    "# Read switches\n",
    "switches <- read_tsv(\"../data/pancancer/candidateList_info.tumorSplit.tsv\")\n",
    "\n",
    "# Read feature information\n",
    "features <- read_tsv(\"../data/mutations/proteome_features.txt\") %>%\n",
    "    filter(Analysis == \"Pfam\")\n",
    "\n",
    "# Read information of the expressed transcripts (TPM>=0.1)\n",
    "proteome <- read_tsv(\"../data/mutations/proteome_information.txt\") %>%\n",
    "    mutate(asEvidence=as.numeric(revalue(asEvidence,c(\"True\"=\"1\",\"False\"=\"0\"))))\n",
    "\n",
    "# Get statistics per feature\n",
    "pfam.agg <- features %>%\n",
    "    # consider splicing information for frequency calculation\n",
    "    merge(proteome) %>%\n",
    "    # count at feature level\n",
    "    group_by(Feature) %>%\n",
    "    summarize(ProteomeCounts=length(Feature)-sum(!asEvidence),  ## remove cases where no as evidence was found\n",
    "              TotalLength = sum(FeatureLength)) %>% ## for mutations we apply no filter\n",
    "    # get expected frequencies\n",
    "    mutate(ExpectedSwitchFrequency = ProteomeCounts/sum(ProteomeCounts), \n",
    "           ExpectedMutFrequency = TotalLength/sum(TotalLength))\n",
    "\n",
    "# Read structural changes\n",
    "switches.pfam <- read_tsv('../data/structural_analysis/structural_features.onlyModels.tsv') %>%\n",
    "    filter(Random==\"NonRandom\" & Analysis==\"Pfam\" & WhatsHappenning!=\"Nothing\") %>%\n",
    "    # Use switch information to characterize structural information\n",
    "    merge(switches,by.x=c(\"Cancer\",\"Gene\",\"Symbol\",\"nTx\",\"tTx\"),\n",
    "          by.y=c(\"Tumor\",\"GeneId\",\"Symbol\",\"Normal_transcript\",\"Tumor_transcript\"))"
   ]
  },
  {
   "cell_type": "markdown",
   "metadata": {},
   "source": [
    "## Calculate enrichment in switches"
   ]
  },
  {
   "cell_type": "code",
   "execution_count": 3,
   "metadata": {
    "ExecuteTime": {
     "end_time": "2016-06-16T18:32:42.176225",
     "start_time": "2016-06-16T16:31:27.688Z"
    },
    "collapsed": false
   },
   "outputs": [],
   "source": [
    "pfam.switch_info <- switches.pfam %>%\n",
    "    group_by(Feature) %>%\n",
    "    summarize(LostNum = sum((WhatsHappenning==\"Lost_in_tumor\") * PatientNumber), \n",
    "              GainNum = sum((WhatsHappenning==\"Gained_in_tumor\") * PatientNumber), \n",
    "              H_g = get.entropy(Gene,nTx,tTx,PatientNumber,WhatsHappenning==\"Gained_in_tumor\"), \n",
    "              H_l = get.entropy(Gene,nTx,tTx,PatientNumber,WhatsHappenning==\"Lost_in_tumor\"), \n",
    "              patients_g = get.uniq.patients(Gene,nTx,tTx,PatientNumber,WhatsHappenning==\"Gained_in_tumor\"),\n",
    "              switches_g = get.uniq.switches(Gene,nTx,tTx,WhatsHappenning==\"Gained_in_tumor\"),\n",
    "              patients_l = get.uniq.patients(Gene,nTx,tTx,PatientNumber,WhatsHappenning==\"Lost_in_tumor\"),\n",
    "              switches_l = get.uniq.switches(Gene,nTx,tTx,WhatsHappenning==\"Lost_in_tumor\"))\n",
    "\n",
    "# aggregate switches\n",
    "totalGains <- sum(pfam.switch_info$GainNum)\n",
    "totalLosses <- sum(pfam.switch_info$LostNum)\n",
    "\n",
    "# calculate statistics\n",
    "pf <- merge(pfam.agg,pfam.switch_info,all=T) %>%\n",
    "    mutate(fc_g = GainNum/totalGains/ExpectedSwitchFrequency,\n",
    "           fc_l = LostNum/totalLosses/ExpectedSwitchFrequency) %>%\n",
    "    mutate(., \n",
    "           p_g = apply(subset(.,select=c(\"GainNum\",\"ExpectedSwitchFrequency\")),1,my.binomial.test,totalGains),\n",
    "           p_l = apply(subset(.,select=c(\"LostNum\",\"ExpectedSwitchFrequency\")),1,my.binomial.test,totalLosses)) %>%\n",
    "    mutate(adjp_g = p.adjust(p_g),\n",
    "           adjp_l = p.adjust(p_l)) %>%\n",
    "    mutate(Name = gsub(\"|\",\"@\",Feature,fixed = T)) %>%\n",
    "    mutate(Name = gsub(\"_\",\" \",Name,fixed = T)) %>%\n",
    "    mutate(id = unlist(strsplit(Name,\"@\"))[c(T,F)], \n",
    "           Name = unlist(strsplit(Name,\"@\"))[c(F,T)])"
   ]
  },
  {
   "cell_type": "markdown",
   "metadata": {},
   "source": [
    "Let's check the domains that are significantly enriched in switches and that affect more than one switch. The rationale behind the latter criteria is that if a domain is only affected by one switch, we have no-way to ensure it is domain specific rather than gene-specific."
   ]
  },
  {
   "cell_type": "code",
   "execution_count": 4,
   "metadata": {
    "ExecuteTime": {
     "end_time": "2016-06-16T18:32:42.230832",
     "start_time": "2016-06-16T16:31:27.708Z"
    },
    "collapsed": false
   },
   "outputs": [
    {
     "data": {
      "text/html": [
       "341"
      ],
      "text/latex": [
       "341"
      ],
      "text/markdown": [
       "341"
      ],
      "text/plain": [
       "[1] 341"
      ]
     },
     "execution_count": 4,
     "metadata": {},
     "output_type": "execute_result"
    },
    {
     "data": {
      "text/html": [
       "70"
      ],
      "text/latex": [
       "70"
      ],
      "text/markdown": [
       "70"
      ],
      "text/plain": [
       "[1] 70"
      ]
     },
     "execution_count": 4,
     "metadata": {},
     "output_type": "execute_result"
    }
   ],
   "source": [
    "sum(pf$adjp_l<0.05 & pf$switches_l>1,na.rm=T)\n",
    "sum(pf$adjp_g<0.05 & pf$switches_g>1,na.rm=T)"
   ]
  },
  {
   "cell_type": "markdown",
   "metadata": {},
   "source": [
    "## Description of the domains"
   ]
  },
  {
   "cell_type": "code",
   "execution_count": 5,
   "metadata": {
    "ExecuteTime": {
     "end_time": "2016-06-16T18:32:42.297918",
     "start_time": "2016-06-16T16:31:27.724Z"
    },
    "collapsed": false
   },
   "outputs": [
    {
     "data": {
      "text/plain": [
       "\n",
       "     Gained        Lost Not altered \n",
       "         70         341        4896 "
      ]
     },
     "execution_count": 5,
     "metadata": {},
     "output_type": "execute_result"
    }
   ],
   "source": [
    "# plot number of domains in each condition\n",
    "df <- pf\n",
    "\n",
    "df$Tag <- \"Not altered\"\n",
    "df$Tag[df$adjp_g < 0.05 & pf$switches_g>1] <- \"Gained\"\n",
    "df$Tag[df$adjp_l < 0.05 & pf$switches_l>1] <- \"Lost\"\n",
    "df$Tag[df$adjp_g < 0.05  & pf$switches_g>1 & df$adjp_l < 0.05 & pf$switches_l>1] <- \"Both\"\n",
    "\n",
    "table(df$Tag)"
   ]
  },
  {
   "cell_type": "markdown",
   "metadata": {},
   "source": [
    "### Comparison to mutations"
   ]
  },
  {
   "cell_type": "code",
   "execution_count": 6,
   "metadata": {
    "ExecuteTime": {
     "end_time": "2016-06-16T18:32:52.311655",
     "start_time": "2016-06-16T16:31:27.742Z"
    },
    "collapsed": false
   },
   "outputs": [],
   "source": [
    "# Read mutations\n",
    "allMuts <- c(\"Frame_Shift_Del\",\"Frame_Shift_Ins\",\"In_Frame_Del\",\"In_Frame_Ins\",\"Missense_Mutation\",\n",
    "             \"Nonsense_Mutation\",\"Nonstop_Mutation\",\"Frame_Shift_Del_out\",\"Frame_Shift_Ins_out\",\n",
    "             \"Nonsense_Mutation_out\")\n",
    "inFeatureMuts <- c(\"Frame_Shift_Del\",\"Frame_Shift_Ins\",\"In_Frame_Del\",\"In_Frame_Ins\",\n",
    "                   \"Missense_Mutation\",\"Nonsense_Mutation\",\"Nonstop_Mutation\")\n",
    "\n",
    "## calculate total mutations per domain\n",
    "proteome.muts <- read_tsv(\"../data/mutations/proteome_mutations.txt\") %>%\n",
    "    filter(Analysis==\"Pfam\") %>%\n",
    "    # convert from long format to wide format\n",
    "    dcast(formula=Feature+Cancer+Transcript~Type, value.var=\"Patient\",fun.aggregate=length) %>%\n",
    "    group_by(Feature) %>%\n",
    "    summarise(Frame_Shift_Del = sum(Frame_Shift_Del),\n",
    "              Frame_Shift_Ins = sum(Frame_Shift_Ins),\n",
    "              In_Frame_Del = sum(In_Frame_Del),\n",
    "              In_Frame_Ins = sum(In_Frame_Ins),\n",
    "              Missense_Mutation = sum(Missense_Mutation),\n",
    "              Nonsense_Mutation = sum(Nonsense_Mutation),\n",
    "              Nonstop_Mutation = sum(Nonstop_Mutation),\n",
    "              Frame_Shift_Del_out = sum(Frame_Shift_Del_out),\n",
    "              Frame_Shift_Ins_out = sum(Frame_Shift_Ins_out),\n",
    "              Nonsense_Mutation_out = sum(Nonsense_Mutation_out)) %>%\n",
    "    mutate(TotalMutations = rowSums(.[,inFeatureMuts]))\n",
    "\n",
    "# enrichment test\n",
    "pf.m <- merge(pfam.agg,proteome.muts) %>%\n",
    "    mutate(fc_m = TotalMutations/sum(TotalMutations)/ExpectedMutFrequency,\n",
    "           p_m = apply(.[,c(\"TotalMutations\",\"ExpectedMutFrequency\")],1, my.binomial.test, sum(TotalMutations)),\n",
    "           adjp_m = p.adjust(p_m))\n",
    "\n",
    "# create table with all the analysis\n",
    "pf.all <- merge(pf,pf.m,all=T)\n",
    "\n",
    "# save results\n",
    "subset(pf.all,select=c(\"id\",\"Feature\",\"ProteomeCounts\",\"ExpectedSwitchFrequency\",\"LostNum\",\"GainNum\",\n",
    "                   \"fc_g\",\"fc_l\",\"fc_m\",\"p_g\",\"adjp_g\",\"p_l\",\"adjp_l\",\"p_m\",\"adjp_m\",\"H_g\",\"H_l\",\n",
    "                   \"switches_g\",\"switches_l\",\"patients_g\",\"patients_l\")) %>%\n",
    "    write_tsv(\"../results/pfam_enrichment_analysis.tsv\")"
   ]
  },
  {
   "cell_type": "code",
   "execution_count": 7,
   "metadata": {
    "ExecuteTime": {
     "end_time": "2016-06-16T18:32:52.360770",
     "start_time": "2016-06-16T16:31:27.759Z"
    },
    "collapsed": false
   },
   "outputs": [
    {
     "data": {
      "text/html": [
       "77"
      ],
      "text/latex": [
       "77"
      ],
      "text/markdown": [
       "77"
      ],
      "text/plain": [
       "[1] 77"
      ]
     },
     "execution_count": 7,
     "metadata": {},
     "output_type": "execute_result"
    }
   ],
   "source": [
    "sum(pf.m$adjp_m < 0.05)"
   ]
  },
  {
   "cell_type": "code",
   "execution_count": 8,
   "metadata": {
    "ExecuteTime": {
     "end_time": "2016-06-16T18:32:52.527215",
     "start_time": "2016-06-16T16:31:27.775Z"
    },
    "collapsed": false
   },
   "outputs": [
    {
     "data": {
      "text/plain": [
       "\n",
       "\tFisher's Exact Test for Count Data\n",
       "\n",
       "data:  m\n",
       "p-value = 0.0006782\n",
       "alternative hypothesis: true odds ratio is not equal to 1\n",
       "95 percent confidence interval:\n",
       " 0.1882892 0.6472163\n",
       "sample estimates:\n",
       "odds ratio \n",
       " 0.3387039 \n"
      ]
     },
     "execution_count": 8,
     "metadata": {},
     "output_type": "execute_result"
    },
    {
     "data": {
      "text/html": [
       "<table>\n",
       "<thead><tr><th></th><th scope=col>M</th><th scope=col>NM</th></tr></thead>\n",
       "<tbody>\n",
       "\t<tr><th scope=row>NS</th><td>62</td><td>4834</td></tr>\n",
       "\t<tr><th scope=row>S</th><td>15</td><td>396</td></tr>\n",
       "</tbody>\n",
       "</table>\n"
      ],
      "text/latex": [
       "\\begin{tabular}{r|ll}\n",
       "  & M & NM\\\\\n",
       "\\hline\n",
       "\tNS & 62 & 4834\\\\\n",
       "\tS & 15 & 396\\\\\n",
       "\\end{tabular}\n"
      ],
      "text/plain": [
       "    M   NM\n",
       "NS 62 4834\n",
       "S  15  396"
      ]
     },
     "execution_count": 8,
     "metadata": {},
     "output_type": "execute_result"
    }
   ],
   "source": [
    "M <- pf.all$adjp_m < 0.05\n",
    "M[is.na(M)] <- FALSE\n",
    "S <- (pf.all$adjp_l < 0.05 & pf.all$switches_l > 1) | (pf.all$adjp_g < 0.05 & pf.all$switches_g > 1)\n",
    "S[is.na(S)] <- FALSE\n",
    "\n",
    "l <- rep(\"N\", nrow(pf.all))\n",
    "l[M] <- \"M\"\n",
    "l[S] <- \"S\"\n",
    "l[M&S] <- \"MS\"\n",
    "\n",
    "m <- matrix(table(l),2,2)\n",
    "fisher.test(m)\n",
    "m %>%\n",
    "    as.data.frame %>%\n",
    "    set_colnames(c(\"M\",\"NM\")) %>%\n",
    "    set_rownames(c(\"NS\",\"S\"))"
   ]
  },
  {
   "cell_type": "markdown",
   "metadata": {},
   "source": [
    "There is a higher coincidence than expected by chance. Hence, switches and mutations seem to affect the same protein domains."
   ]
  },
  {
   "cell_type": "code",
   "execution_count": 9,
   "metadata": {
    "ExecuteTime": {
     "end_time": "2016-06-16T18:32:52.576547",
     "start_time": "2016-06-16T16:31:27.798Z"
    },
    "collapsed": false
   },
   "outputs": [
    {
     "data": {
      "text/html": [
       "<table>\n",
       "<thead><tr><th scope=col>Id</th><th scope=col>Name</th></tr></thead>\n",
       "<tbody>\n",
       "\t<tr><td>PF00041                    </td><td>Fibronectin type III domain</td></tr>\n",
       "\t<tr><td>PF00090                     </td><td>Thrombospondin type 1 domain</td></tr>\n",
       "\t<tr><td>PF00413 </td><td>Matrixin</td></tr>\n",
       "\t<tr><td>PF00535                      </td><td>Glycosyl transferase family 2</td></tr>\n",
       "\t<tr><td>PF00683  </td><td>TB domain</td></tr>\n",
       "\t<tr><td>PF00969                                         </td><td>Class II histocompatibility antigen, beta domain</td></tr>\n",
       "\t<tr><td>PF01421                                      </td><td>Reprolysin (M12B) family zinc metalloprotease</td></tr>\n",
       "\t<tr><td>PF01833       </td><td>IPT/TIG domain</td></tr>\n",
       "\t<tr><td>PF02931                                                 </td><td>Neurotransmitter-gated ion-channel ligand binding domain</td></tr>\n",
       "\t<tr><td>PF07645                   </td><td>Calcium-binding EGF domain</td></tr>\n",
       "\t<tr><td>PF07654                     </td><td>Immunoglobulin C1-set domain</td></tr>\n",
       "\t<tr><td>PF07679                    </td><td>Immunoglobulin I-set domain</td></tr>\n",
       "\t<tr><td>PF07686                    </td><td>Immunoglobulin V-set domain</td></tr>\n",
       "\t<tr><td>PF10409                                    </td><td>C2 domain of PTEN tumour-suppressor protein</td></tr>\n",
       "\t<tr><td>PF15440             </td><td>THRAP3/BCLAF1 family</td></tr>\n",
       "</tbody>\n",
       "</table>\n"
      ],
      "text/latex": [
       "\\begin{tabular}{ll}\n",
       " Id & Name\\\\\n",
       "\\hline\n",
       "\t PF00041                     & Fibronectin type III domain\\\\\n",
       "\t PF00090                      & Thrombospondin type 1 domain\\\\\n",
       "\t PF00413  & Matrixin\\\\\n",
       "\t PF00535                       & Glycosyl transferase family 2\\\\\n",
       "\t PF00683   & TB domain\\\\\n",
       "\t PF00969                                          & Class II histocompatibility antigen, beta domain\\\\\n",
       "\t PF01421                                       & Reprolysin (M12B) family zinc metalloprotease\\\\\n",
       "\t PF01833        & IPT/TIG domain\\\\\n",
       "\t PF02931                                                  & Neurotransmitter-gated ion-channel ligand binding domain\\\\\n",
       "\t PF07645                    & Calcium-binding EGF domain\\\\\n",
       "\t PF07654                      & Immunoglobulin C1-set domain\\\\\n",
       "\t PF07679                     & Immunoglobulin I-set domain\\\\\n",
       "\t PF07686                     & Immunoglobulin V-set domain\\\\\n",
       "\t PF10409                                     & C2 domain of PTEN tumour-suppressor protein\\\\\n",
       "\t PF15440              & THRAP3/BCLAF1 family\\\\\n",
       "\\end{tabular}\n"
      ],
      "text/markdown": [
       "1. 'PF00041'\n",
       "2. 'PF00090'\n",
       "3. 'PF00413'\n",
       "4. 'PF00535'\n",
       "5. 'PF00683'\n",
       "6. 'PF00969'\n",
       "7. 'PF01421'\n",
       "8. 'PF01833'\n",
       "9. 'PF02931'\n",
       "10. 'PF07645'\n",
       "11. 'PF07654'\n",
       "12. 'PF07679'\n",
       "13. 'PF07686'\n",
       "14. 'PF10409'\n",
       "15. 'PF15440'\n",
       "16. 'Fibronectin type III domain'\n",
       "17. 'Thrombospondin type 1 domain'\n",
       "18. 'Matrixin'\n",
       "19. 'Glycosyl transferase family 2'\n",
       "20. 'TB domain'\n",
       "21. 'Class II histocompatibility antigen, beta domain'\n",
       "22. 'Reprolysin (M12B) family zinc metalloprotease'\n",
       "23. 'IPT/TIG domain'\n",
       "24. 'Neurotransmitter-gated ion-channel ligand binding domain'\n",
       "25. 'Calcium-binding EGF domain'\n",
       "26. 'Immunoglobulin C1-set domain'\n",
       "27. 'Immunoglobulin I-set domain'\n",
       "28. 'Immunoglobulin V-set domain'\n",
       "29. 'C2 domain of PTEN tumour-suppressor protein'\n",
       "30. 'THRAP3/BCLAF1 family'\n",
       "\n",
       "\n"
      ],
      "text/plain": [
       "      Id        Name                                                      \n",
       " [1,] \"PF00041\" \"Fibronectin type III domain\"                             \n",
       " [2,] \"PF00090\" \"Thrombospondin type 1 domain\"                            \n",
       " [3,] \"PF00413\" \"Matrixin\"                                                \n",
       " [4,] \"PF00535\" \"Glycosyl transferase family 2\"                           \n",
       " [5,] \"PF00683\" \"TB domain\"                                               \n",
       " [6,] \"PF00969\" \"Class II histocompatibility antigen, beta domain\"        \n",
       " [7,] \"PF01421\" \"Reprolysin (M12B) family zinc metalloprotease\"           \n",
       " [8,] \"PF01833\" \"IPT/TIG domain\"                                          \n",
       " [9,] \"PF02931\" \"Neurotransmitter-gated ion-channel ligand binding domain\"\n",
       "[10,] \"PF07645\" \"Calcium-binding EGF domain\"                              \n",
       "[11,] \"PF07654\" \"Immunoglobulin C1-set domain\"                            \n",
       "[12,] \"PF07679\" \"Immunoglobulin I-set domain\"                             \n",
       "[13,] \"PF07686\" \"Immunoglobulin V-set domain\"                             \n",
       "[14,] \"PF10409\" \"C2 domain of PTEN tumour-suppressor protein\"             \n",
       "[15,] \"PF15440\" \"THRAP3/BCLAF1 family\"                                    "
      ]
     },
     "execution_count": 9,
     "metadata": {},
     "output_type": "execute_result"
    }
   ],
   "source": [
    "# display MS domains\n",
    "pf.all$Feature[M&S] %>%\n",
    "    gsub(\"_\",\" \",.) %>%\n",
    "    gsub(\"PF[0-9]+\\\\|\",\"\",.) %>%\n",
    "    cbind(pf.all$id[M&S],.) %>%\n",
    "    set_colnames(c(\"Id\",\"Name\"))"
   ]
  },
  {
   "cell_type": "code",
   "execution_count": 10,
   "metadata": {
    "ExecuteTime": {
     "end_time": "2016-06-16T18:32:55.643198",
     "start_time": "2016-06-16T16:31:27.815Z"
    },
    "collapsed": false
   },
   "outputs": [
    {
     "data": {
      "text/html": [
       "<table>\n",
       "<thead><tr><th></th><th scope=col>Gene</th><th scope=col>Symbol</th><th scope=col>PatientNumber</th></tr></thead>\n",
       "<tbody>\n",
       "\t<tr><th scope=row>1</th><td>2199</td><td>FBLN2</td><td>343</td></tr>\n",
       "\t<tr><th scope=row>62</th><td>2199</td><td>FBLN2</td><td>247</td></tr>\n",
       "\t<tr><th scope=row>123</th><td>345193</td><td>LRIT3</td><td>134</td></tr>\n",
       "\t<tr><th scope=row>128</th><td>51162</td><td>EGFL7</td><td>129</td></tr>\n",
       "\t<tr><th scope=row>139</th><td>3671</td><td>ISLR</td><td>119</td></tr>\n",
       "\t<tr><th scope=row>150</th><td>3371</td><td>TNC</td><td>115</td></tr>\n",
       "\t<tr><th scope=row>282</th><td>56253</td><td>CRTAM</td><td>93</td></tr>\n",
       "\t<tr><th scope=row>285</th><td>4915</td><td>NTRK2</td><td>72</td></tr>\n",
       "\t<tr><th scope=row>307</th><td>63917</td><td>GALNT11</td><td>67</td></tr>\n",
       "\t<tr><th scope=row>318</th><td>1525</td><td>CXADR</td><td>66</td></tr>\n",
       "\t<tr><th scope=row>329</th><td>4238</td><td>MFAP3</td><td>61</td></tr>\n",
       "\t<tr><th scope=row>339</th><td>1525</td><td>CXADR</td><td>59</td></tr>\n",
       "\t<tr><th scope=row>350</th><td>10461</td><td>MERTK</td><td>58</td></tr>\n",
       "\t<tr><th scope=row>372</th><td>345193</td><td>LRIT3</td><td>54</td></tr>\n",
       "\t<tr><th scope=row>377</th><td>7056</td><td>THBD</td><td>53</td></tr>\n",
       "</tbody>\n",
       "</table>\n"
      ],
      "text/latex": [
       "\\begin{tabular}{r|lll}\n",
       "  & Gene & Symbol & PatientNumber\\\\\n",
       "\\hline\n",
       "\t1 & 2199 & FBLN2 & 343\\\\\n",
       "\t62 & 2199 & FBLN2 & 247\\\\\n",
       "\t123 & 345193 & LRIT3 & 134\\\\\n",
       "\t128 & 51162 & EGFL7 & 129\\\\\n",
       "\t139 & 3671 & ISLR & 119\\\\\n",
       "\t150 & 3371 & TNC & 115\\\\\n",
       "\t282 & 56253 & CRTAM & 93\\\\\n",
       "\t285 & 4915 & NTRK2 & 72\\\\\n",
       "\t307 & 63917 & GALNT11 & 67\\\\\n",
       "\t318 & 1525 & CXADR & 66\\\\\n",
       "\t329 & 4238 & MFAP3 & 61\\\\\n",
       "\t339 & 1525 & CXADR & 59\\\\\n",
       "\t350 & 10461 & MERTK & 58\\\\\n",
       "\t372 & 345193 & LRIT3 & 54\\\\\n",
       "\t377 & 7056 & THBD & 53\\\\\n",
       "\\end{tabular}\n"
      ],
      "text/plain": [
       "      Gene  Symbol PatientNumber\n",
       "1     2199   FBLN2           343\n",
       "62    2199   FBLN2           247\n",
       "123 345193   LRIT3           134\n",
       "128  51162   EGFL7           129\n",
       "139   3671    ISLR           119\n",
       "150   3371     TNC           115\n",
       "282  56253   CRTAM            93\n",
       "285   4915   NTRK2            72\n",
       "307  63917 GALNT11            67\n",
       "318   1525   CXADR            66\n",
       "329   4238   MFAP3            61\n",
       "339   1525   CXADR            59\n",
       "350  10461   MERTK            58\n",
       "372 345193   LRIT3            54\n",
       "377   7056    THBD            53"
      ]
     },
     "execution_count": 10,
     "metadata": {},
     "output_type": "execute_result"
    }
   ],
   "source": [
    "# genes where MS domains change\n",
    "features %>%\n",
    "    filter(Feature %in% pf.all$Feature[M&S]) %>%\n",
    "    merge(switches,by.x=c(\"Gene\",\"Symbol\"),by.y=c(\"GeneId\",\"Symbol\")) %>%\n",
    "    arrange(desc(PatientNumber)) %>%\n",
    "    select(Gene,Symbol,PatientNumber) %>%\n",
    "    unique %>%\n",
    "    head(n=15)"
   ]
  },
  {
   "cell_type": "code",
   "execution_count": 11,
   "metadata": {
    "ExecuteTime": {
     "end_time": "2016-06-16T18:32:55.710998",
     "start_time": "2016-06-16T16:31:27.831Z"
    },
    "collapsed": false
   },
   "outputs": [
    {
     "data": {
      "text/html": [
       "5307"
      ],
      "text/latex": [
       "5307"
      ],
      "text/markdown": [
       "5307"
      ],
      "text/plain": [
       "[1] 5307"
      ]
     },
     "execution_count": 11,
     "metadata": {},
     "output_type": "execute_result"
    },
    {
     "data": {
      "text/html": [
       "1776"
      ],
      "text/latex": [
       "1776"
      ],
      "text/markdown": [
       "1776"
      ],
      "text/plain": [
       "[1] 1776"
      ]
     },
     "execution_count": 11,
     "metadata": {},
     "output_type": "execute_result"
    },
    {
     "data": {
      "text/html": [
       "5054"
      ],
      "text/latex": [
       "5054"
      ],
      "text/markdown": [
       "5054"
      ],
      "text/plain": [
       "[1] 5054"
      ]
     },
     "execution_count": 11,
     "metadata": {},
     "output_type": "execute_result"
    }
   ],
   "source": [
    "# total number of domains observed\n",
    "length(unique(c(pfam.agg$Feature,pf$Feature,pf.m$Feature)))\n",
    "\n",
    "# number of domains for which switch has been observed\n",
    "sum(pf$LostNum > 0 | pf$GainNum > 0,na.rm=T)\n",
    "\n",
    "# number of domains for which a mutation has been observed\n",
    "sum(pf.m$TotalMutations > 0)"
   ]
  },
  {
   "cell_type": "markdown",
   "metadata": {},
   "source": [
    "### GO term enrichment"
   ]
  },
  {
   "cell_type": "raw",
   "metadata": {
    "ExecuteTime": {
     "end_time": "2016-05-30T17:14:42.915007",
     "start_time": "2016-05-30T15:13:16.000Z"
    },
    "collapsed": false
   },
   "source": [
    "# gains\n",
    "awk '$11<0.05 && $18>1' results/pfam_enrichment_analysis.tsv | cut -f1\n",
    "\n",
    "# losses\n",
    "awk '$13<0.05 && $19>1' results/pfam_enrichment_analysis.tsv | cut -f1\n",
    "\n",
    "# gains + losses\n",
    "awk '($13<0.05 && $19>1) || ($11<0.05 && $18>1)' results/pfam_enrichment_analysis.tsv | cut -f1\n",
    "\n",
    "# mutated\n",
    "awk '$15<0.05' results/pfam_enrichment_analysis.tsv | cut -f1\n",
    "\n",
    "# paste in http://supfam.org/SUPERFAMILY/cgi-bin/dcenrichment.cgi using functions/diseases."
   ]
  },
  {
   "cell_type": "markdown",
   "metadata": {},
   "source": [
    "### Comparison M - S"
   ]
  },
  {
   "cell_type": "code",
   "execution_count": 12,
   "metadata": {
    "ExecuteTime": {
     "end_time": "2016-06-16T18:34:26.100400",
     "start_time": "2016-06-16T16:31:27.949Z"
    },
    "collapsed": false
   },
   "outputs": [],
   "source": [
    "# Read pfam annotation\n",
    "pfam2go <- read_tsv(\"~/smartas/data/PFAM2GO.txt\",skip=1)\n",
    "go.levels <- read_tsv(\"../data/PFAMGO.txt\",skip=1)\n",
    "\n",
    "pfam2go.m <- merge(pfam2go,go.levels) \n",
    "\n",
    "# Get list of all observed domains with their associated annotation\n",
    "domains <- dlply(pfam2go.m,.(slim_level,GO_subontology,GO_ID),function(x){\n",
    "    intersect(pf$id,unlist(strsplit(x[,3],\",\")))\n",
    "}) %>% unlist \n",
    "class <- gsub(\"\\\\.[^\\\\.]+$\",\"\",names(domains))\n",
    "\n",
    "expressedgos <- unlist(strsplit(names(domains),\".\",fixed=T))[c(F,F,T)] %>% \n",
    "    substr(1,10) %>%\n",
    "    split(class) %>%\n",
    "    lapply(unique)"
   ]
  },
  {
   "cell_type": "code",
   "execution_count": 13,
   "metadata": {
    "ExecuteTime": {
     "end_time": "2016-06-16T18:34:26.485285",
     "start_time": "2016-06-16T16:31:27.964Z"
    },
    "collapsed": false
   },
   "outputs": [],
   "source": [
    "# read GO term enrichment analysis and calculate an agreement between M and S\n",
    "## molecular function\n",
    "smf <- read_tsv(\"../results/pfam_go_term/S_GO_molecular_function.tsv\",skip=15)\n",
    "mmf <- read_tsv(\"../results/pfam_go_term/M_GO_molecular_function.tsv\",skip=15)\n",
    "\n",
    "x <- table(rbind(mmf[,c(2,4)],smf[,c(2,4)]))\n",
    "c.mf <- colSums(x==2)\n",
    "a.mf <- colSums(x>0)\n",
    "s.mf <- colSums(table(smf[,c(2,4)]))\n",
    "m.mf <- colSums(table(mmf[,c(2,4)]))\n",
    "\n",
    "## cellular component\n",
    "scc <- read_tsv(\"../results/pfam_go_term/S_GO_cellular_component.tsv\",skip=15)\n",
    "mcc <- read_tsv(\"../results/pfam_go_term/M_GO_cellular_component.tsv\",skip=15)\n",
    "\n",
    "x <- table(rbind(mcc[,c(2,4)],scc[,c(2,4)]))\n",
    "c.cc <- colSums(x==2)\n",
    "a.cc <- colSums(x>0)\n",
    "s.cc <- colSums(table(scc[,c(2,4)]))\n",
    "m.cc <- colSums(table(mcc[,c(2,4)]))\n",
    "\n",
    "## biological process\n",
    "sbp <- read_tsv(\"../results/pfam_go_term/S_GO_biological_process.tsv\",skip=15)\n",
    "mbp <- read_tsv(\"../results/pfam_go_term/M_GO_biological_process.tsv\",skip=15)\n",
    "\n",
    "x <- table(rbind(mbp[,c(2,4)],sbp[,c(2,4)]))\n",
    "c.bp <- colSums(x==2)\n",
    "a.bp <- colSums(x>0)\n",
    "s.bp <- colSums(table(sbp[,c(2,4)]))\n",
    "m.bp <- colSums(table(mbp[,c(2,4)]))\n",
    "\n",
    "# aggregate data\n",
    "coincidence <- data_frame(Match=c(c.mf,c.cc,c.bp),\n",
    "                          Any=c(a.mf,a.cc,a.bp),\n",
    "                          M=c(m.mf,m.cc,m.bp),\n",
    "                          S=c(s.mf,s.cc,s.bp),\n",
    "                          GO_subontology=c(rep('molecular_function',4),\n",
    "                                           rep('cellular_component',4),\n",
    "                                           rep('biological_process',4)),\n",
    "                          slim_level=rep(\n",
    "                              c('Least Informative','Moderately Informative','Informative','Highly Informative'),3)) %>%\n",
    "    mutate(MatchPerc=100*Match/Any, Coincidence=\"Observed\", sd=NA, sdPerc=NA,\n",
    "           slim_level=factor(slim_level,levels=\n",
    "                             c('Least Informative','Moderately Informative','Informative','Highly Informative')))\n"
   ]
  },
  {
   "cell_type": "code",
   "execution_count": 14,
   "metadata": {
    "ExecuteTime": {
     "end_time": "2016-06-16T18:34:28.432304",
     "start_time": "2016-06-16T16:31:27.985Z"
    },
    "collapsed": false,
    "scrolled": false
   },
   "outputs": [
    {
     "name": "stderr",
     "output_type": "stream",
     "text": [
      "Warning message:\n",
      ": Removed 12 rows containing missing values (geom_errorbar)."
     ]
    },
    {
     "data": {
      "image/png": "[encoded data removed]",
      "image/svg+xml": [
       "<?xml version=\"1.0\" encoding=\"UTF-8\"?>\n",
       "<svg xmlns=\"http://www.w3.org/2000/svg\" xmlns:xlink=\"http://www.w3.org/1999/xlink\" width=\"504pt\" height=\"504pt\" viewBox=\"0 0 504 504\" version=\"1.1\">\n",
       "<defs>\n",
       "<g>\n",
       "<symbol overflow=\"visible\" id=\"glyph0-0\">\n",
       "<path style=\"stroke:none;\" d=\"\"/>\n",
       "</symbol>\n",
       "<symbol overflow=\"visible\" id=\"glyph0-1\">\n",
       "<path style=\"stroke:none;\" d=\"M 4.125 -10.640625 C 3.140625 -10.640625 2.234375 -10.203125 1.6875 -9.46875 C 0.984375 -8.53125 0.640625 -7.109375 0.640625 -5.140625 C 0.640625 -1.5625 1.84375 0.34375 4.125 0.34375 C 6.375 0.34375 7.609375 -1.5625 7.609375 -5.0625 C 7.609375 -7.125 7.28125 -8.5 6.5625 -9.46875 C 6.015625 -10.21875 5.125 -10.640625 4.125 -10.640625 Z M 4.125 -9.46875 C 5.546875 -9.46875 6.25 -8.03125 6.25 -5.171875 C 6.25 -2.15625 5.5625 -0.75 4.09375 -0.75 C 2.703125 -0.75 2 -2.21875 2 -5.125 C 2 -8.046875 2.703125 -9.46875 4.125 -9.46875 Z \"/>\n",
       "</symbol>\n",
       "<symbol overflow=\"visible\" id=\"glyph0-2\">\n",
       "<path style=\"stroke:none;\" d=\"M 7.59375 -1.3125 L 2 -1.3125 C 2.125 -2.171875 2.609375 -2.734375 3.921875 -3.5 L 5.421875 -4.3125 C 6.90625 -5.109375 7.671875 -6.203125 7.671875 -7.515625 C 7.671875 -8.40625 7.3125 -9.21875 6.671875 -9.796875 C 6.046875 -10.359375 5.265625 -10.640625 4.265625 -10.640625 C 2.90625 -10.640625 1.90625 -10.15625 1.3125 -9.25 C 0.9375 -8.6875 0.78125 -8.03125 0.75 -6.9375 L 2.0625 -6.9375 C 2.109375 -7.671875 2.203125 -8.09375 2.390625 -8.4375 C 2.734375 -9.09375 3.421875 -9.484375 4.21875 -9.484375 C 5.421875 -9.484375 6.3125 -8.625 6.3125 -7.484375 C 6.3125 -6.640625 5.8125 -5.921875 4.875 -5.390625 L 3.5 -4.609375 C 1.28125 -3.34375 0.625 -2.34375 0.515625 0 L 7.59375 0 Z \"/>\n",
       "</symbol>\n",
       "<symbol overflow=\"visible\" id=\"glyph0-3\">\n",
       "<path style=\"stroke:none;\" d=\"M 7.140625 -10.640625 L 1.65625 -10.640625 L 0.859375 -4.84375 L 2.0625 -4.84375 C 2.6875 -5.578125 3.1875 -5.828125 4.015625 -5.828125 C 5.4375 -5.828125 6.34375 -4.859375 6.34375 -3.28125 C 6.34375 -1.75 5.453125 -0.828125 4.015625 -0.828125 C 2.859375 -0.828125 2.15625 -1.40625 1.84375 -2.609375 L 0.53125 -2.609375 C 0.703125 -1.734375 0.859375 -1.3125 1.171875 -0.9375 C 1.765625 -0.125 2.84375 0.34375 4.046875 0.34375 C 6.1875 0.34375 7.6875 -1.21875 7.6875 -3.46875 C 7.6875 -5.5625 6.296875 -7 4.265625 -7 C 3.515625 -7 2.90625 -6.8125 2.296875 -6.359375 L 2.71875 -9.328125 L 7.140625 -9.328125 Z \"/>\n",
       "</symbol>\n",
       "<symbol overflow=\"visible\" id=\"glyph0-4\">\n",
       "<path style=\"stroke:none;\" d=\"M 7.796875 -10.640625 L 0.6875 -10.640625 L 0.6875 -9.328125 L 6.4375 -9.328125 C 3.90625 -5.71875 2.859375 -3.5 2.0625 0 L 3.484375 0 C 4.0625 -3.40625 5.40625 -6.328125 7.796875 -9.53125 Z \"/>\n",
       "</symbol>\n",
       "<symbol overflow=\"visible\" id=\"glyph1-0\">\n",
       "<path style=\"stroke:none;\" d=\"\"/>\n",
       "</symbol>\n",
       "<symbol overflow=\"visible\" id=\"glyph1-1\">\n",
       "<path style=\"stroke:none;\" d=\"M -5.90625 -9.5625 L -6.890625 -8.578125 L 0.84375 -0.84375 L 5.65625 -5.65625 L 4.78125 -6.53125 L 0.953125 -2.703125 Z \"/>\n",
       "</symbol>\n",
       "<symbol overflow=\"visible\" id=\"glyph1-2\">\n",
       "<path style=\"stroke:none;\" d=\"M 2.953125 -7.921875 C 2.109375 -8.765625 1.53125 -9.21875 0.96875 -9.46875 C -0.3125 -10.03125 -1.703125 -9.734375 -2.75 -8.6875 C -4.296875 -7.140625 -4.109375 -4.953125 -2.28125 -3.125 C -0.46875 -1.3125 1.640625 -1.140625 3.203125 -2.703125 C 4.46875 -3.96875 4.640625 -5.578125 3.640625 -7.015625 L 2.75 -6.125 C 3.234375 -5.140625 3.109375 -4.265625 2.40625 -3.5625 C 1.84375 -3 1.109375 -2.765625 0.34375 -2.9375 C -0.171875 -3.046875 -0.578125 -3.296875 -1.140625 -3.828125 Z M -1.828125 -4.578125 C -2.78125 -5.6875 -2.84375 -6.96875 -1.9375 -7.875 C -1.078125 -8.734375 0.328125 -8.671875 1.234375 -7.765625 C 1.25 -7.75 1.28125 -7.71875 1.28125 -7.6875 Z \"/>\n",
       "</symbol>\n",
       "<symbol overflow=\"visible\" id=\"glyph1-3\">\n",
       "<path style=\"stroke:none;\" d=\"M 5.15625 -6.1875 C 5.078125 -6.078125 5.03125 -6.03125 4.984375 -5.984375 C 4.671875 -5.671875 4.34375 -5.65625 4.078125 -5.921875 L 0.796875 -9.203125 C -0.1875 -10.1875 -1.4375 -10 -2.796875 -8.640625 C -3.609375 -7.828125 -4.03125 -6.9375 -4 -6.15625 C -3.96875 -5.59375 -3.765625 -5.171875 -3.21875 -4.59375 L -2.328125 -5.484375 C -2.9375 -6.25 -2.84375 -6.96875 -2.015625 -7.796875 C -1.234375 -8.578125 -0.484375 -8.734375 0.046875 -8.203125 L 0.28125 -7.96875 C 0.65625 -7.59375 0.59375 -7.21875 -0.015625 -6.421875 C -1.109375 -5.015625 -1.28125 -4.78125 -1.46875 -4.3125 C -1.859375 -3.390625 -1.6875 -2.5625 -0.96875 -1.84375 C 0.046875 -0.828125 1.40625 -0.90625 2.515625 -2.015625 C 3.21875 -2.71875 3.53125 -3.53125 3.578125 -4.734375 C 4.203125 -4.234375 4.75 -4.25 5.328125 -4.828125 C 5.5 -5 5.609375 -5.171875 5.8125 -5.53125 Z M 2.375 -5.875 C 2.671875 -5.578125 2.78125 -5.3125 2.75 -4.8125 C 2.703125 -4.109375 2.453125 -3.515625 1.9375 -3 C 1.234375 -2.296875 0.515625 -2.234375 -0.046875 -2.796875 C -0.625 -3.375 -0.546875 -4.046875 0.265625 -5.140625 C 1.078125 -6.203125 1.21875 -6.4375 1.375 -6.875 Z \"/>\n",
       "</symbol>\n",
       "<symbol overflow=\"visible\" id=\"glyph1-4\">\n",
       "<path style=\"stroke:none;\" d=\"M 0.625 -8.65625 C -0.46875 -9.75 -1.8125 -9.625 -3.09375 -8.34375 C -4.375 -7.0625 -4.546875 -5.546875 -3.515625 -4.515625 C -2.65625 -3.65625 -1.796875 -3.671875 -0.171875 -4.671875 L 0.859375 -5.296875 C 1.640625 -5.765625 2.09375 -5.78125 2.484375 -5.390625 C 3.015625 -4.859375 2.84375 -4 2.078125 -3.234375 C 1.59375 -2.75 1.0625 -2.46875 0.609375 -2.484375 C 0.3125 -2.53125 0.078125 -2.609375 -0.359375 -2.953125 L -1.296875 -2.015625 C 0.015625 -0.765625 1.375 -0.875 2.828125 -2.328125 C 4.234375 -3.734375 4.4375 -5.3125 3.359375 -6.390625 C 2.53125 -7.21875 1.59375 -7.1875 0.234375 -6.359375 L -0.8125 -5.71875 C -1.71875 -5.15625 -2.25 -5.09375 -2.640625 -5.484375 C -3.15625 -6 -3.03125 -6.78125 -2.3125 -7.5 C -1.59375 -8.21875 -0.90625 -8.28125 -0.296875 -7.734375 Z \"/>\n",
       "</symbol>\n",
       "<symbol overflow=\"visible\" id=\"glyph1-5\">\n",
       "<path style=\"stroke:none;\" d=\"M -2.859375 -8.265625 L -3.78125 -7.34375 L -5.296875 -8.859375 L -6.171875 -7.984375 L -4.65625 -6.46875 L -5.421875 -5.703125 L -4.703125 -4.984375 L -3.9375 -5.75 L 0.265625 -1.546875 C 0.828125 -0.984375 1.53125 -1.03125 2.234375 -1.734375 C 2.4375 -1.9375 2.609375 -2.171875 2.875 -2.53125 L 2.125 -3.28125 C 2.03125 -3.125 1.90625 -2.96875 1.734375 -2.796875 C 1.359375 -2.421875 1.140625 -2.421875 0.75 -2.8125 L -3.0625 -6.625 L -2.140625 -7.546875 Z \"/>\n",
       "</symbol>\n",
       "<symbol overflow=\"visible\" id=\"glyph1-6\">\n",
       "<path style=\"stroke:none;\" d=\"\"/>\n",
       "</symbol>\n",
       "<symbol overflow=\"visible\" id=\"glyph1-7\">\n",
       "<path style=\"stroke:none;\" d=\"M -5.671875 -9.796875 L -6.671875 -8.796875 L 1.0625 -1.0625 L 2.0625 -2.0625 Z \"/>\n",
       "</symbol>\n",
       "<symbol overflow=\"visible\" id=\"glyph1-8\">\n",
       "<path style=\"stroke:none;\" d=\"M -4.828125 -6.296875 L 0.734375 -0.734375 L 1.640625 -1.640625 L -1.421875 -4.703125 C -2.5625 -5.84375 -2.703125 -7.171875 -1.796875 -8.078125 C -1.09375 -8.78125 -0.234375 -8.796875 0.4375 -8.125 L 4.28125 -4.28125 L 5.171875 -5.171875 L 0.96875 -9.375 C 0.046875 -10.296875 -1.25 -10.1875 -2.3125 -9.125 C -3.140625 -8.296875 -3.359375 -7.453125 -3.0625 -6.1875 L -4 -7.125 Z \"/>\n",
       "</symbol>\n",
       "<symbol overflow=\"visible\" id=\"glyph1-9\">\n",
       "<path style=\"stroke:none;\" d=\"M -2.828125 -8.296875 L -3.75 -7.375 L -4.625 -8.25 C -4.984375 -8.609375 -4.984375 -9.015625 -4.5625 -9.4375 C -4.484375 -9.515625 -4.46875 -9.53125 -4.25 -9.71875 L -4.984375 -10.453125 C -5.21875 -10.28125 -5.34375 -10.1875 -5.515625 -10.015625 C -6.34375 -9.1875 -6.375 -8.21875 -5.578125 -7.421875 L -4.640625 -6.484375 L -5.375 -5.75 L -4.65625 -5.03125 L -3.921875 -5.765625 L 0.921875 -0.921875 L 1.8125 -1.8125 L -3.03125 -6.65625 L -2.109375 -7.578125 Z \"/>\n",
       "</symbol>\n",
       "<symbol overflow=\"visible\" id=\"glyph1-10\">\n",
       "<path style=\"stroke:none;\" d=\"M -2.828125 -8.609375 C -4.390625 -7.046875 -4.21875 -5 -2.34375 -3.125 C -0.484375 -1.265625 1.5625 -1.0625 3.140625 -2.640625 C 4.703125 -4.203125 4.53125 -6.28125 2.703125 -8.109375 C 0.78125 -10.03125 -1.234375 -10.203125 -2.828125 -8.609375 Z M -2.015625 -7.796875 C -1.015625 -8.796875 0.390625 -8.578125 1.78125 -7.1875 C 3.078125 -5.890625 3.28125 -4.4375 2.3125 -3.46875 C 1.328125 -2.484375 -0.09375 -2.6875 -1.4375 -4.03125 C -2.78125 -5.375 -3 -6.8125 -2.015625 -7.796875 Z \"/>\n",
       "</symbol>\n",
       "<symbol overflow=\"visible\" id=\"glyph1-11\">\n",
       "<path style=\"stroke:none;\" d=\"M -4.828125 -6.296875 L 0.734375 -0.734375 L 1.625 -1.625 L -1.265625 -4.515625 C -2.046875 -5.296875 -2.375 -6.03125 -2.25 -6.75 C -2.1875 -7.21875 -1.984375 -7.546875 -1.375 -8.1875 L -2.28125 -9.09375 C -2.4375 -8.96875 -2.53125 -8.90625 -2.65625 -8.78125 C -3.21875 -8.21875 -3.3125 -7.4375 -3 -6.09375 L -4.015625 -7.109375 Z \"/>\n",
       "</symbol>\n",
       "<symbol overflow=\"visible\" id=\"glyph1-12\">\n",
       "<path style=\"stroke:none;\" d=\"M -4.828125 -6.296875 L 0.734375 -0.734375 L 1.640625 -1.640625 L -1.84375 -5.125 C -2.65625 -5.9375 -2.71875 -7.15625 -2 -7.875 C -1.34375 -8.53125 -0.578125 -8.515625 0.140625 -7.796875 L 3.96875 -3.96875 L 4.859375 -4.859375 L 1.375 -8.34375 C 0.5625 -9.15625 0.5 -10.375 1.234375 -11.109375 C 1.875 -11.75 2.65625 -11.71875 3.359375 -11.015625 L 7.1875 -7.1875 L 8.09375 -8.09375 L 3.921875 -12.265625 C 2.921875 -13.265625 1.796875 -13.234375 0.75 -12.1875 C 0 -11.4375 -0.203125 -10.765625 -0.109375 -9.640625 C -1.015625 -9.890625 -1.734375 -9.703125 -2.453125 -8.984375 C -3.203125 -8.234375 -3.40625 -7.46875 -3.203125 -6.328125 L -4 -7.125 Z \"/>\n",
       "</symbol>\n",
       "<symbol overflow=\"visible\" id=\"glyph1-13\">\n",
       "<path style=\"stroke:none;\" d=\"M -3.96875 -7.15625 L -4.859375 -6.265625 L 0.703125 -0.703125 L 1.59375 -1.59375 Z M -6.140625 -9.328125 L -7.03125 -8.4375 L -5.921875 -7.328125 L -5.03125 -8.21875 Z \"/>\n",
       "</symbol>\n",
       "<symbol overflow=\"visible\" id=\"glyph1-14\">\n",
       "<path style=\"stroke:none;\" d=\"M 3.03125 -3.03125 L -0.40625 -10.71875 L -1.40625 -9.71875 L 1.53125 -3.625 L -4.453125 -6.671875 L -5.453125 -5.671875 L 2.0625 -2.0625 Z \"/>\n",
       "</symbol>\n",
       "<symbol overflow=\"visible\" id=\"glyph1-15\">\n",
       "<path style=\"stroke:none;\" d=\"M 4.953125 -4.953125 L 0.65625 -13.625 L 7.140625 -7.140625 L 8.078125 -8.078125 L 0.34375 -15.8125 L -1.03125 -14.4375 L 3.453125 -5.453125 L -5.5625 -9.90625 L -6.9375 -8.53125 L 0.796875 -0.796875 L 1.71875 -1.71875 L -4.765625 -8.203125 L 3.921875 -3.921875 Z \"/>\n",
       "</symbol>\n",
       "<symbol overflow=\"visible\" id=\"glyph1-16\">\n",
       "<path style=\"stroke:none;\" d=\"M -2.484375 -12.984375 L -3.359375 -12.109375 L -0.484375 -9.234375 C -1.421875 -9.421875 -2.3125 -9.125 -3.0625 -8.375 C -4.5 -6.9375 -4.28125 -4.84375 -2.5 -3.0625 C -0.640625 -1.203125 1.4375 -0.9375 2.953125 -2.453125 C 3.703125 -3.203125 3.9375 -4.03125 3.734375 -5.203125 L 4.46875 -4.46875 L 5.25 -5.25 Z M -2.078125 -7.703125 C -1.125 -8.65625 0.328125 -8.421875 1.65625 -7.09375 C 2.9375 -5.8125 3.171875 -4.328125 2.234375 -3.390625 C 1.265625 -2.421875 -0.265625 -2.640625 -1.546875 -3.921875 C -2.84375 -5.21875 -3.046875 -6.734375 -2.078125 -7.703125 Z \"/>\n",
       "</symbol>\n",
       "<symbol overflow=\"visible\" id=\"glyph1-17\">\n",
       "<path style=\"stroke:none;\" d=\"M -6.125 -9.34375 L -7.015625 -8.453125 L 0.71875 -0.71875 L 1.609375 -1.609375 Z \"/>\n",
       "</symbol>\n",
       "<symbol overflow=\"visible\" id=\"glyph1-18\">\n",
       "<path style=\"stroke:none;\" d=\"M -1.453125 -9.671875 L 1.359375 -3.796875 L -4.40625 -6.71875 L -5.359375 -5.765625 L 2.109375 -2.078125 L 2.65625 -0.84375 C 2.90625 -0.3125 2.875 0.03125 2.484375 0.421875 C 2.375 0.53125 2.1875 0.65625 1.953125 0.796875 L 2.75 1.59375 C 3.015625 1.515625 3.234375 1.390625 3.484375 1.140625 C 3.765625 0.859375 3.96875 0.46875 4.03125 0.0625 C 4.109375 -0.421875 4.046875 -0.828125 3.765625 -1.421875 L -0.484375 -10.640625 Z \"/>\n",
       "</symbol>\n",
       "<symbol overflow=\"visible\" id=\"glyph1-19\">\n",
       "<path style=\"stroke:none;\" d=\"M 2.3125 -9.375 L 5.84375 -5.84375 L 6.828125 -6.828125 L -0.90625 -14.5625 L -1.890625 -13.578125 L 1.453125 -10.234375 L -2.53125 -6.25 L -5.875 -9.59375 L -6.84375 -8.625 L 0.890625 -0.890625 L 1.875 -1.875 L -1.65625 -5.40625 Z \"/>\n",
       "</symbol>\n",
       "<symbol overflow=\"visible\" id=\"glyph1-20\">\n",
       "<path style=\"stroke:none;\" d=\"M -1.1875 -9.9375 L -0.375 -9.125 C -1.484375 -9.328125 -2.34375 -9.09375 -3.046875 -8.390625 C -4.453125 -6.984375 -4.171875 -4.796875 -2.375 -3 C -1.453125 -2.078125 -0.484375 -1.578125 0.5 -1.5 C 1.390625 -1.453125 2.265625 -1.765625 2.84375 -2.34375 C 3.546875 -3.046875 3.734375 -3.859375 3.53125 -5.03125 L 3.8125 -4.75 C 4.5625 -4 4.921875 -3.453125 5.015625 -2.921875 C 5.109375 -2.359375 4.84375 -1.71875 4.296875 -1.171875 C 3.890625 -0.765625 3.4375 -0.53125 2.984375 -0.453125 C 2.640625 -0.421875 2.421875 -0.484375 2.03125 -0.75 L 1.125 0.15625 C 2.265625 1.109375 3.71875 0.90625 5.015625 -0.390625 C 5.84375 -1.21875 6.296875 -2.203125 6.21875 -3 C 6.125 -3.9375 5.578125 -4.796875 4.265625 -6.109375 L -0.375 -10.75 Z M -2.140625 -7.671875 C -1.1875 -8.625 0.1875 -8.375 1.578125 -6.984375 C 2.90625 -5.65625 3.140625 -4.296875 2.203125 -3.359375 C 1.234375 -2.390625 -0.171875 -2.609375 -1.515625 -3.953125 C -2.859375 -5.296875 -3.078125 -6.734375 -2.140625 -7.671875 Z \"/>\n",
       "</symbol>\n",
       "<symbol overflow=\"visible\" id=\"glyph1-21\">\n",
       "<path style=\"stroke:none;\" d=\"M -7 -8.46875 L 0.734375 -0.734375 L 1.625 -1.625 L -1.4375 -4.6875 C -2.578125 -5.828125 -2.71875 -7.15625 -1.8125 -8.0625 C -1.53125 -8.34375 -1.140625 -8.546875 -0.78125 -8.59375 C -0.328125 -8.671875 0.03125 -8.53125 0.4375 -8.125 L 4.28125 -4.28125 L 5.15625 -5.15625 L 0.953125 -9.359375 C 0.015625 -10.296875 -1.234375 -10.203125 -2.3125 -9.125 C -3.09375 -8.34375 -3.328125 -7.609375 -3.171875 -6.421875 L -6.109375 -9.359375 Z \"/>\n",
       "</symbol>\n",
       "<symbol overflow=\"visible\" id=\"glyph2-0\">\n",
       "<path style=\"stroke:none;\" d=\"\"/>\n",
       "</symbol>\n",
       "<symbol overflow=\"visible\" id=\"glyph2-1\">\n",
       "<path style=\"stroke:none;\" d=\"M 14.1875 -7.703125 L 8.09375 -7.703125 L 8.09375 -6.0625 L 12.546875 -6.0625 L 12.546875 -5.65625 C 12.546875 -3.0625 10.625 -1.1875 7.953125 -1.1875 C 6.484375 -1.1875 5.140625 -1.71875 4.28125 -2.65625 C 3.3125 -3.703125 2.734375 -5.4375 2.734375 -7.234375 C 2.734375 -10.8125 4.78125 -13.1875 7.859375 -13.1875 C 10.078125 -13.1875 11.6875 -12.046875 12.078125 -10.15625 L 13.984375 -10.15625 C 13.453125 -13.125 11.21875 -14.8125 7.875 -14.8125 C 6.09375 -14.8125 4.65625 -14.359375 3.515625 -13.421875 C 1.84375 -12.015625 0.875 -9.765625 0.875 -7.140625 C 0.875 -2.65625 3.625 0.453125 7.5625 0.453125 C 9.546875 0.453125 11.125 -0.28125 12.546875 -1.859375 L 13 0.078125 L 14.1875 0.078125 Z \"/>\n",
       "</symbol>\n",
       "<symbol overflow=\"visible\" id=\"glyph2-2\">\n",
       "<path style=\"stroke:none;\" d=\"M 7.78125 -14.8125 C 3.59375 -14.8125 0.765625 -11.734375 0.765625 -7.1875 C 0.765625 -2.625 3.59375 0.453125 7.796875 0.453125 C 9.5625 0.453125 11.140625 -0.078125 12.3125 -1.078125 C 13.90625 -2.421875 14.84375 -4.6875 14.84375 -7.0625 C 14.84375 -11.765625 12.0625 -14.8125 7.78125 -14.8125 Z M 7.78125 -13.1875 C 10.9375 -13.1875 12.984375 -10.78125 12.984375 -7.09375 C 12.984375 -3.578125 10.875 -1.1875 7.796875 -1.1875 C 4.703125 -1.1875 2.625 -3.578125 2.625 -7.1875 C 2.625 -10.78125 4.703125 -13.1875 7.78125 -13.1875 Z \"/>\n",
       "</symbol>\n",
       "<symbol overflow=\"visible\" id=\"glyph2-3\">\n",
       "<path style=\"stroke:none;\" d=\"\"/>\n",
       "</symbol>\n",
       "<symbol overflow=\"visible\" id=\"glyph2-4\">\n",
       "<path style=\"stroke:none;\" d=\"M 8.765625 -7.5625 C 8.734375 -9.625 7.375 -10.78125 4.953125 -10.78125 C 2.515625 -10.78125 0.9375 -9.515625 0.9375 -7.578125 C 0.9375 -5.9375 1.78125 -5.15625 4.265625 -4.5625 L 5.8125 -4.1875 C 6.984375 -3.90625 7.4375 -3.484375 7.4375 -2.71875 C 7.4375 -1.734375 6.453125 -1.078125 5 -1.078125 C 4.09375 -1.078125 3.34375 -1.34375 2.921875 -1.78125 C 2.65625 -2.078125 2.546875 -2.375 2.4375 -3.125 L 0.6875 -3.125 C 0.765625 -0.703125 2.125 0.453125 4.859375 0.453125 C 7.5 0.453125 9.1875 -0.84375 9.1875 -2.859375 C 9.1875 -4.421875 8.296875 -5.28125 6.21875 -5.78125 L 4.625 -6.15625 C 3.265625 -6.484375 2.6875 -6.921875 2.6875 -7.65625 C 2.6875 -8.625 3.546875 -9.234375 4.90625 -9.234375 C 6.234375 -9.234375 6.953125 -8.65625 7 -7.5625 Z \"/>\n",
       "</symbol>\n",
       "<symbol overflow=\"visible\" id=\"glyph2-5\">\n",
       "<path style=\"stroke:none;\" d=\"M 3.046875 -14.578125 L 1.359375 -14.578125 L 1.359375 0 L 3.046875 0 Z \"/>\n",
       "</symbol>\n",
       "<symbol overflow=\"visible\" id=\"glyph2-6\">\n",
       "<path style=\"stroke:none;\" d=\"M 3 -10.484375 L 1.34375 -10.484375 L 1.34375 0 L 3 0 Z M 3 -14.578125 L 1.3125 -14.578125 L 1.3125 -12.484375 L 3 -12.484375 Z \"/>\n",
       "</symbol>\n",
       "<symbol overflow=\"visible\" id=\"glyph2-7\">\n",
       "<path style=\"stroke:none;\" d=\"M 1.40625 -10.484375 L 1.40625 0 L 3.078125 0 L 3.078125 -6.578125 C 3.078125 -8.09375 4.1875 -9.3125 5.546875 -9.3125 C 6.78125 -9.3125 7.484375 -8.5625 7.484375 -7.21875 L 7.484375 0 L 9.15625 0 L 9.15625 -6.578125 C 9.15625 -8.09375 10.265625 -9.3125 11.625 -9.3125 C 12.84375 -9.3125 13.5625 -8.546875 13.5625 -7.21875 L 13.5625 0 L 15.234375 0 L 15.234375 -7.859375 C 15.234375 -9.734375 14.15625 -10.78125 12.203125 -10.78125 C 10.796875 -10.78125 9.953125 -10.359375 8.984375 -9.1875 C 8.359375 -10.296875 7.515625 -10.78125 6.15625 -10.78125 C 4.765625 -10.78125 3.84375 -10.265625 2.9375 -9 L 2.9375 -10.484375 Z \"/>\n",
       "</symbol>\n",
       "<symbol overflow=\"visible\" id=\"glyph2-8\">\n",
       "<path style=\"stroke:none;\" d=\"M 10.265625 -4.6875 C 10.265625 -6.28125 10.140625 -7.234375 9.84375 -8.015625 C 9.15625 -9.734375 7.5625 -10.78125 5.59375 -10.78125 C 2.6875 -10.78125 0.796875 -8.546875 0.796875 -5.09375 C 0.796875 -1.65625 2.625 0.453125 5.5625 0.453125 C 7.953125 0.453125 9.625 -0.90625 10.046875 -3.1875 L 8.359375 -3.1875 C 7.90625 -1.796875 6.953125 -1.078125 5.625 -1.078125 C 4.5625 -1.078125 3.65625 -1.5625 3.09375 -2.4375 C 2.703125 -3.046875 2.5625 -3.640625 2.546875 -4.6875 Z M 2.578125 -6.046875 C 2.71875 -7.984375 3.90625 -9.234375 5.578125 -9.234375 C 7.21875 -9.234375 8.484375 -7.875 8.484375 -6.15625 C 8.484375 -6.125 8.484375 -6.078125 8.453125 -6.046875 Z \"/>\n",
       "</symbol>\n",
       "<symbol overflow=\"visible\" id=\"glyph2-9\">\n",
       "<path style=\"stroke:none;\" d=\"M 5.703125 0 L 9.71875 -10.484375 L 7.84375 -10.484375 L 4.875 -1.984375 L 2.078125 -10.484375 L 0.203125 -10.484375 L 3.875 0 Z \"/>\n",
       "</symbol>\n",
       "<symbol overflow=\"visible\" id=\"glyph2-10\">\n",
       "<path style=\"stroke:none;\" d=\"M 13.234375 -10.0625 C 12.65625 -13.265625 10.8125 -14.8125 7.625 -14.8125 C 5.65625 -14.8125 4.078125 -14.203125 3 -13 C 1.6875 -11.5625 0.953125 -9.484375 0.953125 -7.125 C 0.953125 -4.71875 1.703125 -2.65625 3.078125 -1.234375 C 4.203125 -0.078125 5.640625 0.453125 7.546875 0.453125 C 11.09375 0.453125 13.09375 -1.453125 13.546875 -5.3125 L 11.625 -5.3125 C 11.453125 -4.3125 11.265625 -3.640625 10.953125 -3.0625 C 10.359375 -1.859375 9.125 -1.1875 7.5625 -1.1875 C 4.65625 -1.1875 2.8125 -3.5 2.8125 -7.140625 C 2.8125 -10.875 4.578125 -13.1875 7.40625 -13.1875 C 8.578125 -13.1875 9.6875 -12.8125 10.28125 -12.265625 C 10.8125 -11.765625 11.125 -11.140625 11.34375 -10.0625 Z \"/>\n",
       "</symbol>\n",
       "<symbol overflow=\"visible\" id=\"glyph2-11\">\n",
       "<path style=\"stroke:none;\" d=\"M 5.4375 -10.78125 C 2.5 -10.78125 0.71875 -8.6875 0.71875 -5.15625 C 0.71875 -1.640625 2.484375 0.453125 5.453125 0.453125 C 8.40625 0.453125 10.203125 -1.640625 10.203125 -5.078125 C 10.203125 -8.703125 8.453125 -10.78125 5.4375 -10.78125 Z M 5.453125 -9.234375 C 7.34375 -9.234375 8.453125 -7.703125 8.453125 -5.09375 C 8.453125 -2.640625 7.296875 -1.078125 5.453125 -1.078125 C 3.59375 -1.078125 2.453125 -2.625 2.453125 -5.15625 C 2.453125 -7.6875 3.59375 -9.234375 5.453125 -9.234375 Z \"/>\n",
       "</symbol>\n",
       "<symbol overflow=\"visible\" id=\"glyph2-12\">\n",
       "<path style=\"stroke:none;\" d=\"M 1.40625 -10.484375 L 1.40625 0 L 3.078125 0 L 3.078125 -5.78125 C 3.078125 -7.921875 4.203125 -9.3125 5.921875 -9.3125 C 7.234375 -9.3125 8.078125 -8.515625 8.078125 -7.265625 L 8.078125 0 L 9.734375 0 L 9.734375 -7.921875 C 9.734375 -9.65625 8.4375 -10.78125 6.421875 -10.78125 C 4.859375 -10.78125 3.859375 -10.1875 2.9375 -8.71875 L 2.9375 -10.484375 Z \"/>\n",
       "</symbol>\n",
       "<symbol overflow=\"visible\" id=\"glyph2-13\">\n",
       "<path style=\"stroke:none;\" d=\"M 9.421875 -6.953125 C 9.34375 -7.984375 9.125 -8.640625 8.71875 -9.21875 C 8 -10.203125 6.734375 -10.78125 5.28125 -10.78125 C 2.453125 -10.78125 0.625 -8.546875 0.625 -5.0625 C 0.625 -1.6875 2.421875 0.453125 5.265625 0.453125 C 7.765625 0.453125 9.34375 -1.046875 9.546875 -3.59375 L 7.859375 -3.59375 C 7.578125 -1.921875 6.71875 -1.078125 5.296875 -1.078125 C 3.453125 -1.078125 2.359375 -2.578125 2.359375 -5.0625 C 2.359375 -7.6875 3.4375 -9.234375 5.265625 -9.234375 C 6.65625 -9.234375 7.546875 -8.421875 7.734375 -6.953125 Z \"/>\n",
       "</symbol>\n",
       "<symbol overflow=\"visible\" id=\"glyph2-14\">\n",
       "<path style=\"stroke:none;\" d=\"M 9.90625 -14.578125 L 8.234375 -14.578125 L 8.234375 -9.15625 C 7.546875 -10.21875 6.421875 -10.78125 5.015625 -10.78125 C 2.296875 -10.78125 0.515625 -8.59375 0.515625 -5.265625 C 0.515625 -1.71875 2.265625 0.453125 5.078125 0.453125 C 6.515625 0.453125 7.515625 -0.078125 8.421875 -1.375 L 8.421875 0 L 9.90625 0 Z M 5.296875 -9.21875 C 7.09375 -9.21875 8.234375 -7.625 8.234375 -5.125 C 8.234375 -2.703125 7.078125 -1.09375 5.3125 -1.09375 C 3.484375 -1.09375 2.265625 -2.71875 2.265625 -5.15625 C 2.265625 -7.59375 3.484375 -9.21875 5.296875 -9.21875 Z \"/>\n",
       "</symbol>\n",
       "<symbol overflow=\"visible\" id=\"glyph2-15\">\n",
       "<path style=\"stroke:none;\" d=\"M 1.078125 -14.578125 L 1.078125 0 L 2.578125 0 L 2.578125 -1.34375 C 3.375 -0.125 4.4375 0.453125 5.90625 0.453125 C 8.65625 0.453125 10.453125 -1.796875 10.453125 -5.28125 C 10.453125 -8.6875 8.734375 -10.78125 5.984375 -10.78125 C 4.546875 -10.78125 3.515625 -10.234375 2.734375 -9.0625 L 2.734375 -14.578125 Z M 5.65625 -9.21875 C 7.515625 -9.21875 8.71875 -7.59375 8.71875 -5.09375 C 8.71875 -2.71875 7.484375 -1.09375 5.65625 -1.09375 C 3.90625 -1.09375 2.734375 -2.703125 2.734375 -5.15625 C 2.734375 -7.625 3.90625 -9.21875 5.65625 -9.21875 Z \"/>\n",
       "</symbol>\n",
       "<symbol overflow=\"visible\" id=\"glyph2-16\">\n",
       "<path style=\"stroke:none;\" d=\"M 1.375 -10.484375 L 1.375 0 L 3.0625 0 L 3.0625 -5.4375 C 3.0625 -6.9375 3.4375 -7.921875 4.234375 -8.5 C 4.765625 -8.875 5.265625 -9 6.421875 -9.015625 L 6.421875 -10.71875 C 6.140625 -10.765625 6 -10.78125 5.78125 -10.78125 C 4.703125 -10.78125 3.875 -10.140625 2.921875 -8.578125 L 2.921875 -10.484375 Z \"/>\n",
       "</symbol>\n",
       "<symbol overflow=\"visible\" id=\"glyph2-17\">\n",
       "<path style=\"stroke:none;\" d=\"M 3.71875 -6.28125 L 8.515625 -6.28125 C 10.1875 -6.28125 10.921875 -5.484375 10.921875 -3.6875 L 10.90625 -2.375 C 10.90625 -1.484375 11.0625 -0.59375 11.3125 0 L 13.578125 0 L 13.578125 -0.453125 C 12.875 -0.9375 12.734375 -1.453125 12.703125 -3.40625 C 12.6875 -5.796875 12.296875 -6.515625 10.71875 -7.203125 C 12.359375 -8 13.015625 -9.015625 13.015625 -10.6875 C 13.015625 -13.203125 11.4375 -14.578125 8.578125 -14.578125 L 1.859375 -14.578125 L 1.859375 0 L 3.71875 0 Z M 3.71875 -7.921875 L 3.71875 -12.9375 L 8.21875 -12.9375 C 9.265625 -12.9375 9.859375 -12.78125 10.3125 -12.375 C 10.8125 -11.953125 11.078125 -11.296875 11.078125 -10.421875 C 11.078125 -8.703125 10.203125 -7.921875 8.21875 -7.921875 Z \"/>\n",
       "</symbol>\n",
       "<symbol overflow=\"visible\" id=\"glyph2-18\">\n",
       "<path style=\"stroke:none;\" d=\"M 10.703125 -0.984375 C 10.515625 -0.9375 10.4375 -0.9375 10.34375 -0.9375 C 9.765625 -0.9375 9.4375 -1.234375 9.4375 -1.765625 L 9.4375 -7.921875 C 9.4375 -9.78125 8.078125 -10.78125 5.5 -10.78125 C 3.984375 -10.78125 2.71875 -10.34375 2.015625 -9.5625 C 1.546875 -9.015625 1.34375 -8.421875 1.296875 -7.375 L 2.984375 -7.375 C 3.125 -8.65625 3.875 -9.234375 5.4375 -9.234375 C 6.9375 -9.234375 7.78125 -8.6875 7.78125 -7.6875 L 7.78125 -7.234375 C 7.78125 -6.546875 7.359375 -6.234375 6.046875 -6.078125 C 3.6875 -5.78125 3.3125 -5.703125 2.6875 -5.4375 C 1.453125 -4.9375 0.84375 -4 0.84375 -2.640625 C 0.84375 -0.734375 2.15625 0.453125 4.28125 0.453125 C 5.59375 0.453125 6.65625 0 7.84375 -1.078125 C 7.953125 -0.015625 8.484375 0.453125 9.5625 0.453125 C 9.90625 0.453125 10.15625 0.421875 10.703125 0.28125 Z M 7.78125 -3.296875 C 7.78125 -2.734375 7.625 -2.40625 7.125 -1.9375 C 6.4375 -1.3125 5.625 -1 4.640625 -1 C 3.34375 -1 2.578125 -1.625 2.578125 -2.6875 C 2.578125 -3.78125 3.3125 -4.34375 5.09375 -4.59375 C 6.859375 -4.84375 7.21875 -4.921875 7.78125 -5.1875 Z \"/>\n",
       "</symbol>\n",
       "<symbol overflow=\"visible\" id=\"glyph2-19\">\n",
       "<path style=\"stroke:none;\" d=\"M 4.71875 -14.578125 C 2.71875 -11.953125 1.453125 -8.3125 1.453125 -5.1875 C 1.453125 -2.015625 2.71875 1.625 4.71875 4.234375 L 5.8125 4.234375 C 4.0625 1.375 3.078125 -1.984375 3.078125 -5.1875 C 3.078125 -8.359375 4.0625 -11.734375 5.8125 -14.578125 Z \"/>\n",
       "</symbol>\n",
       "<symbol overflow=\"visible\" id=\"glyph2-20\">\n",
       "<path style=\"stroke:none;\" d=\"M 5.84375 -5.421875 L 9.359375 -10.484375 L 7.484375 -10.484375 L 4.953125 -6.6875 L 2.4375 -10.484375 L 0.546875 -10.484375 L 4.046875 -5.34375 L 0.34375 0 L 2.234375 0 L 4.90625 -4.015625 L 7.515625 0 L 9.453125 0 Z \"/>\n",
       "</symbol>\n",
       "<symbol overflow=\"visible\" id=\"glyph2-21\">\n",
       "<path style=\"stroke:none;\" d=\"M 5.1875 -10.09375 L 5.1875 0 L 6.9375 0 L 6.9375 -14.1875 L 5.78125 -14.1875 C 5.15625 -12 4.765625 -11.703125 2.046875 -11.359375 L 2.046875 -10.09375 Z \"/>\n",
       "</symbol>\n",
       "<symbol overflow=\"visible\" id=\"glyph2-22\">\n",
       "<path style=\"stroke:none;\" d=\"M 5.5 -14.1875 C 4.1875 -14.1875 2.984375 -13.59375 2.234375 -12.625 C 1.3125 -11.375 0.859375 -9.484375 0.859375 -6.859375 C 0.859375 -2.078125 2.453125 0.453125 5.5 0.453125 C 8.5 0.453125 10.140625 -2.078125 10.140625 -6.734375 C 10.140625 -9.5 9.703125 -11.34375 8.765625 -12.625 C 8.015625 -13.625 6.84375 -14.1875 5.5 -14.1875 Z M 5.5 -12.625 C 7.40625 -12.625 8.34375 -10.703125 8.34375 -6.90625 C 8.34375 -2.875 7.421875 -1 5.453125 -1 C 3.59375 -1 2.65625 -2.953125 2.65625 -6.84375 C 2.65625 -10.71875 3.59375 -12.625 5.5 -12.625 Z \"/>\n",
       "</symbol>\n",
       "<symbol overflow=\"visible\" id=\"glyph2-23\">\n",
       "<path style=\"stroke:none;\" d=\"M 1.859375 4.234375 C 3.859375 1.625 5.125 -2.015625 5.125 -5.15625 C 5.125 -8.3125 3.859375 -11.953125 1.859375 -14.578125 L 0.765625 -14.578125 C 2.515625 -11.71875 3.5 -8.359375 3.5 -5.15625 C 3.5 -1.984375 2.515625 1.40625 0.765625 4.234375 Z \"/>\n",
       "</symbol>\n",
       "<symbol overflow=\"visible\" id=\"glyph2-24\">\n",
       "<path style=\"stroke:none;\" d=\"M 5.078125 -10.484375 L 3.359375 -10.484375 L 3.359375 -13.359375 L 1.703125 -13.359375 L 1.703125 -10.484375 L 0.28125 -10.484375 L 0.28125 -9.125 L 1.703125 -9.125 L 1.703125 -1.203125 C 1.703125 -0.140625 2.421875 0.453125 3.71875 0.453125 C 4.125 0.453125 4.515625 0.421875 5.078125 0.3125 L 5.078125 -1.078125 C 4.859375 -1.015625 4.59375 -1 4.28125 -1 C 3.5625 -1 3.359375 -1.203125 3.359375 -1.9375 L 3.359375 -9.125 L 5.078125 -9.125 Z \"/>\n",
       "</symbol>\n",
       "<symbol overflow=\"visible\" id=\"glyph2-25\">\n",
       "<path style=\"stroke:none;\" d=\"M 8.234375 -10.484375 L 8.234375 -8.953125 C 7.40625 -10.203125 6.375 -10.78125 5.046875 -10.78125 C 2.375 -10.78125 0.578125 -8.453125 0.578125 -5.0625 C 0.578125 -3.34375 1.046875 -1.9375 1.90625 -0.9375 C 2.6875 -0.0625 3.796875 0.453125 4.90625 0.453125 C 6.21875 0.453125 7.140625 -0.09375 8.078125 -1.421875 L 8.078125 -0.875 C 8.078125 0.546875 7.90625 1.40625 7.484375 1.984375 C 7.046875 2.59375 6.1875 2.953125 5.15625 2.953125 C 4.40625 2.953125 3.71875 2.765625 3.265625 2.40625 C 2.875 2.09375 2.71875 1.8125 2.625 1.203125 L 0.921875 1.203125 C 1.09375 3.1875 2.640625 4.359375 5.09375 4.359375 C 6.65625 4.359375 8 3.859375 8.6875 3.015625 C 9.484375 2.0625 9.78125 0.734375 9.78125 -1.71875 L 9.78125 -10.484375 Z M 5.21875 -9.234375 C 7.015625 -9.234375 8.078125 -7.71875 8.078125 -5.09375 C 8.078125 -2.59375 7 -1.078125 5.234375 -1.078125 C 3.421875 -1.078125 2.3125 -2.625 2.3125 -5.15625 C 2.3125 -7.6875 3.4375 -9.234375 5.21875 -9.234375 Z \"/>\n",
       "</symbol>\n",
       "<symbol overflow=\"visible\" id=\"glyph2-26\">\n",
       "<path style=\"stroke:none;\" d=\"M 7.765625 -10.484375 L 4.859375 -2.3125 L 2.1875 -10.484375 L 0.40625 -10.484375 L 3.9375 0.046875 L 3.296875 1.703125 C 3.046875 2.4375 2.65625 2.71875 1.953125 2.71875 C 1.71875 2.71875 1.4375 2.6875 1.078125 2.59375 L 1.078125 4.09375 C 1.421875 4.28125 1.765625 4.359375 2.203125 4.359375 C 2.734375 4.359375 3.3125 4.1875 3.765625 3.859375 C 4.28125 3.484375 4.578125 3.046875 4.90625 2.203125 L 9.5625 -10.484375 Z \"/>\n",
       "</symbol>\n",
       "<symbol overflow=\"visible\" id=\"glyph2-27\">\n",
       "<path style=\"stroke:none;\" d=\"M 11.5625 2.515625 L -0.4375 2.515625 L -0.4375 3.515625 L 11.5625 3.515625 Z \"/>\n",
       "</symbol>\n",
       "<symbol overflow=\"visible\" id=\"glyph2-28\">\n",
       "<path style=\"stroke:none;\" d=\"M 1.078125 4.359375 L 2.765625 4.359375 L 2.765625 -1.09375 C 3.640625 -0.015625 4.625 0.453125 5.984375 0.453125 C 8.6875 0.453125 10.453125 -1.71875 10.453125 -5.0625 C 10.453125 -8.578125 8.734375 -10.78125 5.953125 -10.78125 C 4.546875 -10.78125 3.40625 -10.140625 2.625 -8.90625 L 2.625 -10.484375 L 1.078125 -10.484375 Z M 5.6875 -9.21875 C 7.515625 -9.21875 8.71875 -7.59375 8.71875 -5.09375 C 8.71875 -2.71875 7.5 -1.09375 5.6875 -1.09375 C 3.921875 -1.09375 2.765625 -2.703125 2.765625 -5.15625 C 2.765625 -7.625 3.921875 -9.21875 5.6875 -9.21875 Z \"/>\n",
       "</symbol>\n",
       "<symbol overflow=\"visible\" id=\"glyph2-29\">\n",
       "<path style=\"stroke:none;\" d=\"M 9.640625 0 L 9.640625 -10.484375 L 7.984375 -10.484375 L 7.984375 -4.546875 C 7.984375 -2.40625 6.859375 -1 5.125 -1 C 3.796875 -1 2.953125 -1.796875 2.953125 -3.0625 L 2.953125 -10.484375 L 1.296875 -10.484375 L 1.296875 -2.40625 C 1.296875 -0.65625 2.59375 0.453125 4.640625 0.453125 C 6.1875 0.453125 7.15625 -0.078125 8.140625 -1.453125 L 8.140625 0 Z \"/>\n",
       "</symbol>\n",
       "<symbol overflow=\"visible\" id=\"glyph2-30\">\n",
       "<path style=\"stroke:none;\" d=\"M 5.15625 -10.484375 L 3.421875 -10.484375 L 3.421875 -12.125 C 3.421875 -12.8125 3.8125 -13.1875 4.578125 -13.1875 C 4.71875 -13.1875 4.78125 -13.1875 5.15625 -13.15625 L 5.15625 -14.546875 C 4.78125 -14.625 4.5625 -14.640625 4.21875 -14.640625 C 2.6875 -14.640625 1.765625 -13.765625 1.765625 -12.265625 L 1.765625 -10.484375 L 0.359375 -10.484375 L 0.359375 -9.125 L 1.765625 -9.125 L 1.765625 0 L 3.421875 0 L 3.421875 -9.125 L 5.15625 -9.125 Z \"/>\n",
       "</symbol>\n",
       "<symbol overflow=\"visible\" id=\"glyph3-0\">\n",
       "<path style=\"stroke:none;\" d=\"\"/>\n",
       "</symbol>\n",
       "<symbol overflow=\"visible\" id=\"glyph3-1\">\n",
       "<path style=\"stroke:none;\" d=\"M 0 -9.359375 L -12.21875 -13.453125 L 0 -13.453125 L 0 -15.21875 L -14.578125 -15.21875 L -14.578125 -12.640625 L -1.875 -8.40625 L -14.578125 -4.078125 L -14.578125 -1.5 L 0 -1.5 L 0 -3.265625 L -12.21875 -3.265625 L 0 -7.40625 Z \"/>\n",
       "</symbol>\n",
       "<symbol overflow=\"visible\" id=\"glyph3-2\">\n",
       "<path style=\"stroke:none;\" d=\"\"/>\n",
       "</symbol>\n",
       "<symbol overflow=\"visible\" id=\"glyph3-3\">\n",
       "<path style=\"stroke:none;\" d=\"M -0.984375 -10.703125 C -0.9375 -10.515625 -0.9375 -10.4375 -0.9375 -10.34375 C -0.9375 -9.765625 -1.234375 -9.4375 -1.765625 -9.4375 L -7.921875 -9.4375 C -9.78125 -9.4375 -10.78125 -8.078125 -10.78125 -5.5 C -10.78125 -3.984375 -10.34375 -2.71875 -9.5625 -2.015625 C -9.015625 -1.546875 -8.421875 -1.34375 -7.375 -1.296875 L -7.375 -2.984375 C -8.65625 -3.125 -9.234375 -3.875 -9.234375 -5.4375 C -9.234375 -6.9375 -8.6875 -7.78125 -7.6875 -7.78125 L -7.234375 -7.78125 C -6.546875 -7.78125 -6.234375 -7.359375 -6.078125 -6.046875 C -5.78125 -3.6875 -5.703125 -3.3125 -5.4375 -2.6875 C -4.9375 -1.453125 -4 -0.84375 -2.640625 -0.84375 C -0.734375 -0.84375 0.453125 -2.15625 0.453125 -4.28125 C 0.453125 -5.59375 0 -6.65625 -1.078125 -7.84375 C -0.015625 -7.953125 0.453125 -8.484375 0.453125 -9.5625 C 0.453125 -9.90625 0.421875 -10.15625 0.28125 -10.703125 Z M -3.296875 -7.78125 C -2.734375 -7.78125 -2.40625 -7.625 -1.9375 -7.125 C -1.3125 -6.4375 -1 -5.625 -1 -4.640625 C -1 -3.34375 -1.625 -2.578125 -2.6875 -2.578125 C -3.78125 -2.578125 -4.34375 -3.3125 -4.59375 -5.09375 C -4.84375 -6.859375 -4.921875 -7.21875 -5.1875 -7.78125 Z \"/>\n",
       "</symbol>\n",
       "<symbol overflow=\"visible\" id=\"glyph3-4\">\n",
       "<path style=\"stroke:none;\" d=\"M -10.484375 -1.40625 L 0 -1.40625 L 0 -3.078125 L -5.78125 -3.078125 C -7.921875 -3.078125 -9.3125 -4.203125 -9.3125 -5.921875 C -9.3125 -7.234375 -8.515625 -8.078125 -7.265625 -8.078125 L 0 -8.078125 L 0 -9.734375 L -7.921875 -9.734375 C -9.65625 -9.734375 -10.78125 -8.4375 -10.78125 -6.421875 C -10.78125 -4.859375 -10.1875 -3.859375 -8.71875 -2.9375 L -10.484375 -2.9375 Z \"/>\n",
       "</symbol>\n",
       "<symbol overflow=\"visible\" id=\"glyph3-5\">\n",
       "<path style=\"stroke:none;\" d=\"M -14.578125 -9.90625 L -14.578125 -8.234375 L -9.15625 -8.234375 C -10.21875 -7.546875 -10.78125 -6.421875 -10.78125 -5.015625 C -10.78125 -2.296875 -8.59375 -0.515625 -5.265625 -0.515625 C -1.71875 -0.515625 0.453125 -2.265625 0.453125 -5.078125 C 0.453125 -6.515625 -0.078125 -7.515625 -1.375 -8.421875 L 0 -8.421875 L 0 -9.90625 Z M -9.21875 -5.296875 C -9.21875 -7.09375 -7.625 -8.234375 -5.125 -8.234375 C -2.703125 -8.234375 -1.09375 -7.078125 -1.09375 -5.3125 C -1.09375 -3.484375 -2.71875 -2.265625 -5.15625 -2.265625 C -7.59375 -2.265625 -9.21875 -3.484375 -9.21875 -5.296875 Z \"/>\n",
       "</symbol>\n",
       "<symbol overflow=\"visible\" id=\"glyph3-6\">\n",
       "<path style=\"stroke:none;\" d=\"M -10.296875 -11.921875 C -13.15625 -11.90625 -14.8125 -9.9375 -14.8125 -6.578125 C -14.8125 -3.375 -13.1875 -1.40625 -10.546875 -1.40625 C -8.765625 -1.40625 -7.640625 -2.34375 -7.140625 -4.265625 L -6.1875 -7.875 C -5.703125 -9.71875 -4.953125 -10.5625 -3.8125 -10.5625 C -3.046875 -10.5625 -2.234375 -10.140625 -1.796875 -9.515625 C -1.40625 -8.9375 -1.1875 -8.015625 -1.1875 -6.84375 C -1.1875 -5.265625 -1.5625 -4.1875 -2.40625 -3.484375 C -3.046875 -2.9375 -3.734375 -2.703125 -4.640625 -2.71875 L -4.640625 -0.953125 C -3.296875 -0.984375 -2.421875 -1.234375 -1.625 -1.8125 C -0.265625 -2.8125 0.453125 -4.5 0.453125 -6.71875 C 0.453125 -8.453125 0.0625 -9.875 -0.65625 -10.8125 C -1.4375 -11.796875 -2.734375 -12.421875 -4 -12.421875 C -5.796875 -12.421875 -7.125 -11.296875 -7.65625 -9.3125 L -8.640625 -5.65625 C -9.125 -3.90625 -9.6875 -3.265625 -10.796875 -3.265625 C -12.28125 -3.265625 -13.265625 -4.5625 -13.265625 -6.515625 C -13.265625 -8.84375 -12.203125 -10.140625 -10.296875 -10.15625 Z \"/>\n",
       "</symbol>\n",
       "<symbol overflow=\"visible\" id=\"glyph3-7\">\n",
       "<path style=\"stroke:none;\" d=\"M -10.484375 -8.234375 L -8.953125 -8.234375 C -10.203125 -7.40625 -10.78125 -6.375 -10.78125 -5.046875 C -10.78125 -2.375 -8.453125 -0.578125 -5.0625 -0.578125 C -3.34375 -0.578125 -1.9375 -1.046875 -0.9375 -1.90625 C -0.0625 -2.6875 0.453125 -3.796875 0.453125 -4.90625 C 0.453125 -6.21875 -0.09375 -7.140625 -1.421875 -8.078125 L -0.875 -8.078125 C 0.546875 -8.078125 1.40625 -7.90625 1.984375 -7.484375 C 2.59375 -7.046875 2.953125 -6.1875 2.953125 -5.15625 C 2.953125 -4.40625 2.765625 -3.71875 2.40625 -3.265625 C 2.09375 -2.875 1.8125 -2.71875 1.203125 -2.625 L 1.203125 -0.921875 C 3.1875 -1.09375 4.359375 -2.640625 4.359375 -5.09375 C 4.359375 -6.65625 3.859375 -8 3.015625 -8.6875 C 2.0625 -9.484375 0.734375 -9.78125 -1.71875 -9.78125 L -10.484375 -9.78125 Z M -9.234375 -5.21875 C -9.234375 -7.015625 -7.71875 -8.078125 -5.09375 -8.078125 C -2.59375 -8.078125 -1.078125 -7 -1.078125 -5.234375 C -1.078125 -3.421875 -2.625 -2.3125 -5.15625 -2.3125 C -7.6875 -2.3125 -9.234375 -3.4375 -9.234375 -5.21875 Z \"/>\n",
       "</symbol>\n",
       "<symbol overflow=\"visible\" id=\"glyph3-8\">\n",
       "<path style=\"stroke:none;\" d=\"M -10.484375 -1.375 L 0 -1.375 L 0 -3.0625 L -5.4375 -3.0625 C -6.9375 -3.0625 -7.921875 -3.4375 -8.5 -4.234375 C -8.875 -4.765625 -9 -5.265625 -9.015625 -6.421875 L -10.71875 -6.421875 C -10.765625 -6.140625 -10.78125 -6 -10.78125 -5.78125 C -10.78125 -4.703125 -10.140625 -3.875 -8.578125 -2.921875 L -10.484375 -2.921875 Z \"/>\n",
       "</symbol>\n",
       "<symbol overflow=\"visible\" id=\"glyph3-9\">\n",
       "<path style=\"stroke:none;\" d=\"M -4.6875 -10.265625 C -6.28125 -10.265625 -7.234375 -10.140625 -8.015625 -9.84375 C -9.734375 -9.15625 -10.78125 -7.5625 -10.78125 -5.59375 C -10.78125 -2.6875 -8.546875 -0.796875 -5.09375 -0.796875 C -1.65625 -0.796875 0.453125 -2.625 0.453125 -5.5625 C 0.453125 -7.953125 -0.90625 -9.625 -3.1875 -10.046875 L -3.1875 -8.359375 C -1.796875 -7.90625 -1.078125 -6.953125 -1.078125 -5.625 C -1.078125 -4.5625 -1.5625 -3.65625 -2.4375 -3.09375 C -3.046875 -2.703125 -3.640625 -2.5625 -4.6875 -2.546875 Z M -6.046875 -2.578125 C -7.984375 -2.71875 -9.234375 -3.90625 -9.234375 -5.578125 C -9.234375 -7.21875 -7.875 -8.484375 -6.15625 -8.484375 C -6.125 -8.484375 -6.078125 -8.484375 -6.046875 -8.453125 Z \"/>\n",
       "</symbol>\n",
       "<symbol overflow=\"visible\" id=\"glyph3-10\">\n",
       "<path style=\"stroke:none;\" d=\"M -10.484375 -1.40625 L 0 -1.40625 L 0 -3.078125 L -6.578125 -3.078125 C -8.09375 -3.078125 -9.3125 -4.1875 -9.3125 -5.546875 C -9.3125 -6.78125 -8.5625 -7.484375 -7.21875 -7.484375 L 0 -7.484375 L 0 -9.15625 L -6.578125 -9.15625 C -8.09375 -9.15625 -9.3125 -10.265625 -9.3125 -11.625 C -9.3125 -12.84375 -8.546875 -13.5625 -7.21875 -13.5625 L 0 -13.5625 L 0 -15.234375 L -7.859375 -15.234375 C -9.734375 -15.234375 -10.78125 -14.15625 -10.78125 -12.203125 C -10.78125 -10.796875 -10.359375 -9.953125 -9.1875 -8.984375 C -10.296875 -8.359375 -10.78125 -7.515625 -10.78125 -6.15625 C -10.78125 -4.765625 -10.265625 -3.84375 -9 -2.9375 L -10.484375 -2.9375 Z \"/>\n",
       "</symbol>\n",
       "<symbol overflow=\"visible\" id=\"glyph3-11\">\n",
       "<path style=\"stroke:none;\" d=\"M -10.484375 -5.078125 L -10.484375 -3.359375 L -13.359375 -3.359375 L -13.359375 -1.703125 L -10.484375 -1.703125 L -10.484375 -0.28125 L -9.125 -0.28125 L -9.125 -1.703125 L -1.203125 -1.703125 C -0.140625 -1.703125 0.453125 -2.421875 0.453125 -3.71875 C 0.453125 -4.125 0.421875 -4.515625 0.3125 -5.078125 L -1.078125 -5.078125 C -1.015625 -4.859375 -1 -4.59375 -1 -4.28125 C -1 -3.5625 -1.203125 -3.359375 -1.9375 -3.359375 L -9.125 -3.359375 L -9.125 -5.078125 Z \"/>\n",
       "</symbol>\n",
       "</g>\n",
       "<clipPath id=\"clip1\">\n",
       "  <path d=\"M 62.84375 9.921875 L 280 9.921875 L 280 344 L 62.84375 344 Z \"/>\n",
       "</clipPath>\n",
       "<clipPath id=\"clip2\">\n",
       "  <path d=\"M 62.84375 9.921875 L 280.980469 9.921875 L 280.980469 344.609375 L 62.84375 344.609375 Z \"/>\n",
       "</clipPath>\n",
       "<clipPath id=\"clip3\">\n",
       "  <path d=\"M 62.84375 312 L 280.980469 312 L 280.980469 314 L 62.84375 314 Z \"/>\n",
       "</clipPath>\n",
       "<clipPath id=\"clip4\">\n",
       "  <path d=\"M 62.84375 232 L 280.980469 232 L 280.980469 234 L 62.84375 234 Z \"/>\n",
       "</clipPath>\n",
       "<clipPath id=\"clip5\">\n",
       "  <path d=\"M 62.84375 152 L 280.980469 152 L 280.980469 154 L 62.84375 154 Z \"/>\n",
       "</clipPath>\n",
       "<clipPath id=\"clip6\">\n",
       "  <path d=\"M 62.84375 72 L 280.980469 72 L 280.980469 74 L 62.84375 74 Z \"/>\n",
       "</clipPath>\n",
       "<clipPath id=\"clip7\">\n",
       "  <path d=\"M 93 9.921875 L 95 9.921875 L 95 344 L 93 344 Z \"/>\n",
       "</clipPath>\n",
       "<clipPath id=\"clip8\">\n",
       "  <path d=\"M 145 9.921875 L 146 9.921875 L 146 344 L 145 344 Z \"/>\n",
       "</clipPath>\n",
       "<clipPath id=\"clip9\">\n",
       "  <path d=\"M 196 9.921875 L 198 9.921875 L 198 344 L 196 344 Z \"/>\n",
       "</clipPath>\n",
       "<clipPath id=\"clip10\">\n",
       "  <path d=\"M 248 9.921875 L 250 9.921875 L 250 344 L 248 344 Z \"/>\n",
       "</clipPath>\n",
       "<clipPath id=\"clip11\">\n",
       "  <path d=\"M 62.84375 9.921875 L 280.980469 9.921875 L 280.980469 344.609375 L 62.84375 344.609375 Z \"/>\n",
       "</clipPath>\n",
       "</defs>\n",
       "<g id=\"surface85\">\n",
       "<rect x=\"0\" y=\"0\" width=\"504\" height=\"504\" style=\"fill:rgb(100%,100%,100%);fill-opacity:1;stroke:none;\"/>\n",
       "<rect x=\"0\" y=\"0\" width=\"504\" height=\"504\" style=\"fill:rgb(100%,100%,100%);fill-opacity:1;stroke:none;\"/>\n",
       "<path style=\"fill:none;stroke-width:1.066978;stroke-linecap:round;stroke-linejoin:round;stroke:rgb(100%,100%,100%);stroke-opacity:1;stroke-miterlimit:10;\" d=\"M 0 504 L 504 504 L 504 0 L 0 0 Z \"/>\n",
       "<g clip-path=\"url(#clip1)\" clip-rule=\"nonzero\">\n",
       "<path style=\" stroke:none;fill-rule:nonzero;fill:rgb(100%,100%,100%);fill-opacity:1;\" d=\"M 62.84375 343.609375 L 279.980469 343.609375 L 279.980469 9.921875 L 62.84375 9.921875 Z \"/>\n",
       "</g>\n",
       "<g clip-path=\"url(#clip2)\" clip-rule=\"nonzero\">\n",
       "<path style=\"fill:none;stroke-width:1.066978;stroke-linecap:round;stroke-linejoin:round;stroke:rgb(100%,100%,100%);stroke-opacity:1;stroke-miterlimit:10;\" d=\"M 62.84375 343.609375 L 279.980469 343.609375 L 279.980469 9.921875 L 62.84375 9.921875 Z \"/>\n",
       "</g>\n",
       "<g clip-path=\"url(#clip3)\" clip-rule=\"nonzero\">\n",
       "<path style=\"fill:none;stroke-width:0.533489;stroke-linecap:butt;stroke-linejoin:round;stroke:rgb(85.098039%,85.098039%,85.098039%);stroke-opacity:1;stroke-miterlimit:10;\" d=\"M 62.84375 313.007812 L 279.980469 313.007812 \"/>\n",
       "</g>\n",
       "<g clip-path=\"url(#clip4)\" clip-rule=\"nonzero\">\n",
       "<path style=\"fill:none;stroke-width:0.533489;stroke-linecap:butt;stroke-linejoin:round;stroke:rgb(85.098039%,85.098039%,85.098039%);stroke-opacity:1;stroke-miterlimit:10;\" d=\"M 62.84375 233.03125 L 279.980469 233.03125 \"/>\n",
       "</g>\n",
       "<g clip-path=\"url(#clip5)\" clip-rule=\"nonzero\">\n",
       "<path style=\"fill:none;stroke-width:0.533489;stroke-linecap:butt;stroke-linejoin:round;stroke:rgb(85.098039%,85.098039%,85.098039%);stroke-opacity:1;stroke-miterlimit:10;\" d=\"M 62.84375 153.054688 L 279.980469 153.054688 \"/>\n",
       "</g>\n",
       "<g clip-path=\"url(#clip6)\" clip-rule=\"nonzero\">\n",
       "<path style=\"fill:none;stroke-width:0.533489;stroke-linecap:butt;stroke-linejoin:round;stroke:rgb(85.098039%,85.098039%,85.098039%);stroke-opacity:1;stroke-miterlimit:10;\" d=\"M 62.84375 73.074219 L 279.980469 73.074219 \"/>\n",
       "</g>\n",
       "<g clip-path=\"url(#clip7)\" clip-rule=\"nonzero\">\n",
       "<path style=\"fill:none;stroke-width:0.533489;stroke-linecap:butt;stroke-linejoin:round;stroke:rgb(85.098039%,85.098039%,85.098039%);stroke-opacity:1;stroke-miterlimit:10;\" d=\"M 93.863281 343.609375 L 93.863281 9.921875 \"/>\n",
       "</g>\n",
       "<g clip-path=\"url(#clip8)\" clip-rule=\"nonzero\">\n",
       "<path style=\"fill:none;stroke-width:0.533489;stroke-linecap:butt;stroke-linejoin:round;stroke:rgb(85.098039%,85.098039%,85.098039%);stroke-opacity:1;stroke-miterlimit:10;\" d=\"M 145.5625 343.609375 L 145.5625 9.921875 \"/>\n",
       "</g>\n",
       "<g clip-path=\"url(#clip9)\" clip-rule=\"nonzero\">\n",
       "<path style=\"fill:none;stroke-width:0.533489;stroke-linecap:butt;stroke-linejoin:round;stroke:rgb(85.098039%,85.098039%,85.098039%);stroke-opacity:1;stroke-miterlimit:10;\" d=\"M 197.261719 343.609375 L 197.261719 9.921875 \"/>\n",
       "</g>\n",
       "<g clip-path=\"url(#clip10)\" clip-rule=\"nonzero\">\n",
       "<path style=\"fill:none;stroke-width:0.533489;stroke-linecap:butt;stroke-linejoin:round;stroke:rgb(85.098039%,85.098039%,85.098039%);stroke-opacity:1;stroke-miterlimit:10;\" d=\"M 248.960938 343.609375 L 248.960938 9.921875 \"/>\n",
       "</g>\n",
       "<path style=\" stroke:none;fill-rule:nonzero;fill:rgb(97.254902%,46.27451%,42.745098%);fill-opacity:0.501961;\" d=\"M 78.351562 313.007812 L 86.105469 313.007812 L 86.105469 217.585938 L 78.351562 217.585938 Z \"/>\n",
       "<path style=\" stroke:none;fill-rule:nonzero;fill:rgb(0%,72.941176%,21.960784%);fill-opacity:0.501961;\" d=\"M 93.863281 313.007812 L 101.617188 313.007812 L 101.617188 265.019531 L 93.863281 265.019531 Z \"/>\n",
       "<path style=\" stroke:none;fill-rule:nonzero;fill:rgb(38.039216%,61.176471%,100%);fill-opacity:0.501961;\" d=\"M 109.371094 313.007812 L 117.125 313.007812 L 117.125 294.613281 L 109.371094 294.613281 Z \"/>\n",
       "<path style=\" stroke:none;fill-rule:nonzero;fill:rgb(38.039216%,61.176471%,100%);fill-opacity:1;\" d=\"M 101.617188 313.007812 L 109.371094 313.007812 L 109.371094 99.734375 L 101.617188 99.734375 Z \"/>\n",
       "<path style=\" stroke:none;fill-rule:nonzero;fill:rgb(0%,72.941176%,21.960784%);fill-opacity:1;\" d=\"M 86.105469 313.007812 L 93.859375 313.007812 L 93.859375 38.796875 L 86.105469 38.796875 Z \"/>\n",
       "<path style=\" stroke:none;fill-rule:nonzero;fill:rgb(97.254902%,46.27451%,42.745098%);fill-opacity:1;\" d=\"M 70.597656 313.007812 L 78.351562 313.007812 L 78.351562 25.085938 L 70.597656 25.085938 Z \"/>\n",
       "<path style=\" stroke:none;fill-rule:nonzero;fill:rgb(97.254902%,46.27451%,42.745098%);fill-opacity:0.501961;\" d=\"M 130.050781 313.007812 L 137.804688 313.007812 L 137.804688 233.902344 L 130.050781 233.902344 Z \"/>\n",
       "<path style=\" stroke:none;fill-rule:nonzero;fill:rgb(0%,72.941176%,21.960784%);fill-opacity:0.501961;\" d=\"M 145.5625 313.007812 L 153.316406 313.007812 L 153.316406 294.710938 L 145.5625 294.710938 Z \"/>\n",
       "<path style=\" stroke:none;fill-rule:nonzero;fill:rgb(38.039216%,61.176471%,100%);fill-opacity:0.501961;\" d=\"M 161.070312 313.007812 L 168.824219 313.007812 L 168.824219 290.054688 L 161.070312 290.054688 Z \"/>\n",
       "<path style=\" stroke:none;fill-rule:nonzero;fill:rgb(38.039216%,61.176471%,100%);fill-opacity:1;\" d=\"M 153.316406 313.007812 L 161.070312 313.007812 L 161.070312 243.835938 L 153.316406 243.835938 Z \"/>\n",
       "<path style=\" stroke:none;fill-rule:nonzero;fill:rgb(0%,72.941176%,21.960784%);fill-opacity:1;\" d=\"M 137.804688 313.007812 L 145.558594 313.007812 L 145.558594 236.839844 L 137.804688 236.839844 Z \"/>\n",
       "<path style=\" stroke:none;fill-rule:nonzero;fill:rgb(97.254902%,46.27451%,42.745098%);fill-opacity:1;\" d=\"M 122.296875 313.007812 L 130.050781 313.007812 L 130.050781 119.605469 L 122.296875 119.605469 Z \"/>\n",
       "<path style=\" stroke:none;fill-rule:nonzero;fill:rgb(97.254902%,46.27451%,42.745098%);fill-opacity:0.501961;\" d=\"M 181.75 313.007812 L 189.503906 313.007812 L 189.503906 295.867188 L 181.75 295.867188 Z \"/>\n",
       "<path style=\" stroke:none;fill-rule:nonzero;fill:rgb(0%,72.941176%,21.960784%);fill-opacity:0.501961;\" d=\"M 197.261719 313.007812 L 205.015625 313.007812 L 205.015625 306.214844 L 197.261719 306.214844 Z \"/>\n",
       "<path style=\" stroke:none;fill-rule:nonzero;fill:rgb(38.039216%,61.176471%,100%);fill-opacity:0.501961;\" d=\"M 212.769531 313.007812 L 220.523438 313.007812 L 220.523438 307.625 L 212.769531 307.625 Z \"/>\n",
       "<path style=\" stroke:none;fill-rule:nonzero;fill:rgb(38.039216%,61.176471%,100%);fill-opacity:1;\" d=\"M 205.015625 313.007812 L 212.769531 313.007812 L 212.769531 283.925781 L 205.015625 283.925781 Z \"/>\n",
       "<path style=\" stroke:none;fill-rule:nonzero;fill:rgb(97.254902%,46.27451%,42.745098%);fill-opacity:1;\" d=\"M 173.996094 313.007812 L 181.75 313.007812 L 181.75 281.015625 L 173.996094 281.015625 Z \"/>\n",
       "<path style=\" stroke:none;fill-rule:nonzero;fill:rgb(97.254902%,46.27451%,42.745098%);fill-opacity:1;\" d=\"M 225.695312 313.007812 L 241.203125 313.007812 L 241.203125 301.160156 L 225.695312 301.160156 Z \"/>\n",
       "<path style=\"fill:none;stroke-width:1.066978;stroke-linecap:butt;stroke-linejoin:round;stroke:rgb(0%,0%,0%);stroke-opacity:0.501961;stroke-miterlimit:1;\" d=\"M 78.351562 202.035156 L 86.105469 202.035156 \"/>\n",
       "<path style=\"fill:none;stroke-width:1.066978;stroke-linecap:butt;stroke-linejoin:round;stroke:rgb(0%,0%,0%);stroke-opacity:0.501961;stroke-miterlimit:1;\" d=\"M 82.230469 202.035156 L 82.230469 233.140625 \"/>\n",
       "<path style=\"fill:none;stroke-width:1.066978;stroke-linecap:butt;stroke-linejoin:round;stroke:rgb(0%,0%,0%);stroke-opacity:0.501961;stroke-miterlimit:1;\" d=\"M 78.351562 233.140625 L 86.105469 233.140625 \"/>\n",
       "<path style=\"fill:none;stroke-width:1.066978;stroke-linecap:butt;stroke-linejoin:round;stroke:rgb(0%,0%,0%);stroke-opacity:0.501961;stroke-miterlimit:1;\" d=\"M 93.863281 236.074219 L 101.617188 236.074219 \"/>\n",
       "<path style=\"fill:none;stroke-width:1.066978;stroke-linecap:butt;stroke-linejoin:round;stroke:rgb(0%,0%,0%);stroke-opacity:0.501961;stroke-miterlimit:1;\" d=\"M 97.738281 236.074219 L 97.738281 293.964844 \"/>\n",
       "<path style=\"fill:none;stroke-width:1.066978;stroke-linecap:butt;stroke-linejoin:round;stroke:rgb(0%,0%,0%);stroke-opacity:0.501961;stroke-miterlimit:1;\" d=\"M 93.863281 293.964844 L 101.617188 293.964844 \"/>\n",
       "<path style=\"fill:none;stroke-width:1.066978;stroke-linecap:butt;stroke-linejoin:round;stroke:rgb(0%,0%,0%);stroke-opacity:0.501961;stroke-miterlimit:1;\" d=\"M 109.371094 260.789062 L 117.125 260.789062 \"/>\n",
       "<path style=\"fill:none;stroke-width:1.066978;stroke-linecap:butt;stroke-linejoin:round;stroke:rgb(0%,0%,0%);stroke-opacity:0.501961;stroke-miterlimit:1;\" d=\"M 113.25 260.789062 L 113.25 328.441406 \"/>\n",
       "<path style=\"fill:none;stroke-width:1.066978;stroke-linecap:butt;stroke-linejoin:round;stroke:rgb(0%,0%,0%);stroke-opacity:0.501961;stroke-miterlimit:1;\" d=\"M 109.371094 328.441406 L 117.125 328.441406 \"/>\n",
       "<path style=\"fill:none;stroke-width:1.066978;stroke-linecap:butt;stroke-linejoin:round;stroke:rgb(0%,0%,0%);stroke-opacity:0.501961;stroke-miterlimit:1;\" d=\"M 130.050781 226.605469 L 137.804688 226.605469 \"/>\n",
       "<path style=\"fill:none;stroke-width:1.066978;stroke-linecap:butt;stroke-linejoin:round;stroke:rgb(0%,0%,0%);stroke-opacity:0.501961;stroke-miterlimit:1;\" d=\"M 133.929688 226.605469 L 133.929688 241.199219 \"/>\n",
       "<path style=\"fill:none;stroke-width:1.066978;stroke-linecap:butt;stroke-linejoin:round;stroke:rgb(0%,0%,0%);stroke-opacity:0.501961;stroke-miterlimit:1;\" d=\"M 130.050781 241.199219 L 137.804688 241.199219 \"/>\n",
       "<path style=\"fill:none;stroke-width:1.066978;stroke-linecap:butt;stroke-linejoin:round;stroke:rgb(0%,0%,0%);stroke-opacity:0.501961;stroke-miterlimit:1;\" d=\"M 145.5625 279.683594 L 153.316406 279.683594 \"/>\n",
       "<path style=\"fill:none;stroke-width:1.066978;stroke-linecap:butt;stroke-linejoin:round;stroke:rgb(0%,0%,0%);stroke-opacity:0.501961;stroke-miterlimit:1;\" d=\"M 149.4375 279.683594 L 149.4375 309.746094 \"/>\n",
       "<path style=\"fill:none;stroke-width:1.066978;stroke-linecap:butt;stroke-linejoin:round;stroke:rgb(0%,0%,0%);stroke-opacity:0.501961;stroke-miterlimit:1;\" d=\"M 145.5625 309.746094 L 153.316406 309.746094 \"/>\n",
       "<path style=\"fill:none;stroke-width:1.066978;stroke-linecap:butt;stroke-linejoin:round;stroke:rgb(0%,0%,0%);stroke-opacity:0.501961;stroke-miterlimit:1;\" d=\"M 161.070312 277.738281 L 168.824219 277.738281 \"/>\n",
       "<path style=\"fill:none;stroke-width:1.066978;stroke-linecap:butt;stroke-linejoin:round;stroke:rgb(0%,0%,0%);stroke-opacity:0.501961;stroke-miterlimit:1;\" d=\"M 164.949219 277.738281 L 164.949219 302.371094 \"/>\n",
       "<path style=\"fill:none;stroke-width:1.066978;stroke-linecap:butt;stroke-linejoin:round;stroke:rgb(0%,0%,0%);stroke-opacity:0.501961;stroke-miterlimit:1;\" d=\"M 161.070312 302.371094 L 168.824219 302.371094 \"/>\n",
       "<path style=\"fill:none;stroke-width:1.066978;stroke-linecap:butt;stroke-linejoin:round;stroke:rgb(0%,0%,0%);stroke-opacity:0.501961;stroke-miterlimit:1;\" d=\"M 181.75 292.007812 L 189.503906 292.007812 \"/>\n",
       "<path style=\"fill:none;stroke-width:1.066978;stroke-linecap:butt;stroke-linejoin:round;stroke:rgb(0%,0%,0%);stroke-opacity:0.501961;stroke-miterlimit:1;\" d=\"M 185.628906 292.007812 L 185.628906 299.734375 \"/>\n",
       "<path style=\"fill:none;stroke-width:1.066978;stroke-linecap:butt;stroke-linejoin:round;stroke:rgb(0%,0%,0%);stroke-opacity:0.501961;stroke-miterlimit:1;\" d=\"M 181.75 299.734375 L 189.503906 299.734375 \"/>\n",
       "<path style=\"fill:none;stroke-width:1.066978;stroke-linecap:butt;stroke-linejoin:round;stroke:rgb(0%,0%,0%);stroke-opacity:0.501961;stroke-miterlimit:1;\" d=\"M 197.261719 296.71875 L 205.015625 296.71875 \"/>\n",
       "<path style=\"fill:none;stroke-width:1.066978;stroke-linecap:butt;stroke-linejoin:round;stroke:rgb(0%,0%,0%);stroke-opacity:0.501961;stroke-miterlimit:1;\" d=\"M 201.136719 296.71875 L 201.136719 315.714844 \"/>\n",
       "<path style=\"fill:none;stroke-width:1.066978;stroke-linecap:butt;stroke-linejoin:round;stroke:rgb(0%,0%,0%);stroke-opacity:0.501961;stroke-miterlimit:1;\" d=\"M 197.261719 315.714844 L 205.015625 315.714844 \"/>\n",
       "<path style=\"fill:none;stroke-width:1.066978;stroke-linecap:butt;stroke-linejoin:round;stroke:rgb(0%,0%,0%);stroke-opacity:0.501961;stroke-miterlimit:1;\" d=\"M 212.769531 300.59375 L 220.523438 300.59375 \"/>\n",
       "<path style=\"fill:none;stroke-width:1.066978;stroke-linecap:butt;stroke-linejoin:round;stroke:rgb(0%,0%,0%);stroke-opacity:0.501961;stroke-miterlimit:1;\" d=\"M 216.648438 300.59375 L 216.648438 314.65625 \"/>\n",
       "<path style=\"fill:none;stroke-width:1.066978;stroke-linecap:butt;stroke-linejoin:round;stroke:rgb(0%,0%,0%);stroke-opacity:0.501961;stroke-miterlimit:1;\" d=\"M 212.769531 314.65625 L 220.523438 314.65625 \"/>\n",
       "<g clip-path=\"url(#clip11)\" clip-rule=\"nonzero\">\n",
       "<path style=\"fill:none;stroke-width:1.066978;stroke-linecap:round;stroke-linejoin:round;stroke:rgb(100%,100%,100%);stroke-opacity:1;stroke-miterlimit:10;\" d=\"M 62.84375 343.609375 L 279.980469 343.609375 L 279.980469 9.921875 L 62.84375 9.921875 Z \"/>\n",
       "</g>\n",
       "<g style=\"fill:rgb(45.098039%,45.098039%,45.098039%);fill-opacity:1;\">\n",
       "  <use xlink:href=\"#glyph0-1\" x=\"44.875\" y=\"317.802734\"/>\n",
       "</g>\n",
       "<g style=\"fill:rgb(45.098039%,45.098039%,45.098039%);fill-opacity:1;\">\n",
       "  <use xlink:href=\"#glyph0-2\" x=\"36.875\" y=\"237.826172\"/>\n",
       "  <use xlink:href=\"#glyph0-3\" x=\"45.214844\" y=\"237.826172\"/>\n",
       "</g>\n",
       "<g style=\"fill:rgb(45.098039%,45.098039%,45.098039%);fill-opacity:1;\">\n",
       "  <use xlink:href=\"#glyph0-3\" x=\"36.875\" y=\"157.849609\"/>\n",
       "  <use xlink:href=\"#glyph0-1\" x=\"45.214844\" y=\"157.849609\"/>\n",
       "</g>\n",
       "<g style=\"fill:rgb(45.098039%,45.098039%,45.098039%);fill-opacity:1;\">\n",
       "  <use xlink:href=\"#glyph0-4\" x=\"36.875\" y=\"77.869141\"/>\n",
       "  <use xlink:href=\"#glyph0-3\" x=\"45.214844\" y=\"77.869141\"/>\n",
       "</g>\n",
       "<g style=\"fill:rgb(45.098039%,45.098039%,45.098039%);fill-opacity:1;\">\n",
       "  <use xlink:href=\"#glyph1-1\" x=\"19.115849\" y=\"441.881474\"/>\n",
       "  <use xlink:href=\"#glyph1-2\" x=\"25.013009\" y=\"435.984314\"/>\n",
       "  <use xlink:href=\"#glyph1-3\" x=\"30.910169\" y=\"430.087154\"/>\n",
       "  <use xlink:href=\"#glyph1-4\" x=\"36.807329\" y=\"424.189993\"/>\n",
       "  <use xlink:href=\"#glyph1-5\" x=\"42.11063\" y=\"418.886693\"/>\n",
       "  <use xlink:href=\"#glyph1-6\" x=\"45.05921\" y=\"415.938113\"/>\n",
       "  <use xlink:href=\"#glyph1-7\" x=\"48.00779\" y=\"412.989533\"/>\n",
       "  <use xlink:href=\"#glyph1-8\" x=\"50.95637\" y=\"410.040953\"/>\n",
       "  <use xlink:href=\"#glyph1-9\" x=\"56.85353\" y=\"404.143792\"/>\n",
       "  <use xlink:href=\"#glyph1-10\" x=\"59.80211\" y=\"401.195212\"/>\n",
       "  <use xlink:href=\"#glyph1-11\" x=\"65.69927\" y=\"395.298052\"/>\n",
       "  <use xlink:href=\"#glyph1-12\" x=\"69.231351\" y=\"391.765971\"/>\n",
       "  <use xlink:href=\"#glyph1-3\" x=\"78.066733\" y=\"382.930589\"/>\n",
       "  <use xlink:href=\"#glyph1-5\" x=\"83.963893\" y=\"377.033429\"/>\n",
       "  <use xlink:href=\"#glyph1-13\" x=\"86.912473\" y=\"374.084849\"/>\n",
       "  <use xlink:href=\"#glyph1-14\" x=\"89.267194\" y=\"371.730128\"/>\n",
       "  <use xlink:href=\"#glyph1-2\" x=\"94.570495\" y=\"366.426827\"/>\n",
       "</g>\n",
       "<g style=\"fill:rgb(45.098039%,45.098039%,45.098039%);fill-opacity:1;\">\n",
       "  <use xlink:href=\"#glyph1-15\" x=\"44.654911\" y=\"468.045536\"/>\n",
       "  <use xlink:href=\"#glyph1-10\" x=\"53.490293\" y=\"459.210154\"/>\n",
       "  <use xlink:href=\"#glyph1-16\" x=\"59.387453\" y=\"453.312994\"/>\n",
       "  <use xlink:href=\"#glyph1-2\" x=\"65.284613\" y=\"447.415834\"/>\n",
       "  <use xlink:href=\"#glyph1-11\" x=\"71.181773\" y=\"441.518674\"/>\n",
       "  <use xlink:href=\"#glyph1-3\" x=\"74.713855\" y=\"437.986593\"/>\n",
       "  <use xlink:href=\"#glyph1-5\" x=\"80.611015\" y=\"432.089433\"/>\n",
       "  <use xlink:href=\"#glyph1-2\" x=\"83.559595\" y=\"429.140853\"/>\n",
       "  <use xlink:href=\"#glyph1-17\" x=\"89.456755\" y=\"423.243692\"/>\n",
       "  <use xlink:href=\"#glyph1-18\" x=\"91.811476\" y=\"420.888972\"/>\n",
       "  <use xlink:href=\"#glyph1-6\" x=\"97.114777\" y=\"415.585671\"/>\n",
       "  <use xlink:href=\"#glyph1-7\" x=\"100.063357\" y=\"412.637091\"/>\n",
       "  <use xlink:href=\"#glyph1-8\" x=\"103.011937\" y=\"409.688511\"/>\n",
       "  <use xlink:href=\"#glyph1-9\" x=\"108.909097\" y=\"403.791351\"/>\n",
       "  <use xlink:href=\"#glyph1-10\" x=\"111.857677\" y=\"400.842771\"/>\n",
       "  <use xlink:href=\"#glyph1-11\" x=\"117.754837\" y=\"394.945611\"/>\n",
       "  <use xlink:href=\"#glyph1-12\" x=\"121.286918\" y=\"391.413529\"/>\n",
       "  <use xlink:href=\"#glyph1-3\" x=\"130.1223\" y=\"382.578147\"/>\n",
       "  <use xlink:href=\"#glyph1-5\" x=\"136.01946\" y=\"376.680987\"/>\n",
       "  <use xlink:href=\"#glyph1-13\" x=\"138.96804\" y=\"373.732407\"/>\n",
       "  <use xlink:href=\"#glyph1-14\" x=\"141.322761\" y=\"371.377686\"/>\n",
       "  <use xlink:href=\"#glyph1-2\" x=\"146.626062\" y=\"366.074385\"/>\n",
       "</g>\n",
       "<g style=\"fill:rgb(45.098039%,45.098039%,45.098039%);fill-opacity:1;\">\n",
       "  <use xlink:href=\"#glyph1-7\" x=\"151.506474\" y=\"412.889286\"/>\n",
       "  <use xlink:href=\"#glyph1-8\" x=\"154.455054\" y=\"409.940706\"/>\n",
       "  <use xlink:href=\"#glyph1-9\" x=\"160.352214\" y=\"404.043546\"/>\n",
       "  <use xlink:href=\"#glyph1-10\" x=\"163.300794\" y=\"401.094966\"/>\n",
       "  <use xlink:href=\"#glyph1-11\" x=\"169.197954\" y=\"395.197806\"/>\n",
       "  <use xlink:href=\"#glyph1-12\" x=\"172.730035\" y=\"391.665725\"/>\n",
       "  <use xlink:href=\"#glyph1-3\" x=\"181.565417\" y=\"382.830343\"/>\n",
       "  <use xlink:href=\"#glyph1-5\" x=\"187.462577\" y=\"376.933183\"/>\n",
       "  <use xlink:href=\"#glyph1-13\" x=\"190.411157\" y=\"373.984603\"/>\n",
       "  <use xlink:href=\"#glyph1-14\" x=\"192.765878\" y=\"371.629882\"/>\n",
       "  <use xlink:href=\"#glyph1-2\" x=\"198.069179\" y=\"366.326581\"/>\n",
       "</g>\n",
       "<g style=\"fill:rgb(45.098039%,45.098039%,45.098039%);fill-opacity:1;\">\n",
       "  <use xlink:href=\"#glyph1-19\" x=\"170.678349\" y=\"445.41663\"/>\n",
       "  <use xlink:href=\"#glyph1-13\" x=\"178.33637\" y=\"437.758608\"/>\n",
       "  <use xlink:href=\"#glyph1-20\" x=\"180.691091\" y=\"435.403887\"/>\n",
       "  <use xlink:href=\"#glyph1-21\" x=\"186.588251\" y=\"429.506727\"/>\n",
       "  <use xlink:href=\"#glyph1-17\" x=\"192.485411\" y=\"423.609567\"/>\n",
       "  <use xlink:href=\"#glyph1-18\" x=\"194.840132\" y=\"421.254846\"/>\n",
       "  <use xlink:href=\"#glyph1-6\" x=\"200.143433\" y=\"415.951546\"/>\n",
       "  <use xlink:href=\"#glyph1-7\" x=\"203.092013\" y=\"413.002966\"/>\n",
       "  <use xlink:href=\"#glyph1-8\" x=\"206.040593\" y=\"410.054386\"/>\n",
       "  <use xlink:href=\"#glyph1-9\" x=\"211.937753\" y=\"404.157225\"/>\n",
       "  <use xlink:href=\"#glyph1-10\" x=\"214.886333\" y=\"401.208645\"/>\n",
       "  <use xlink:href=\"#glyph1-11\" x=\"220.783493\" y=\"395.311485\"/>\n",
       "  <use xlink:href=\"#glyph1-12\" x=\"224.315575\" y=\"391.779404\"/>\n",
       "  <use xlink:href=\"#glyph1-3\" x=\"233.150957\" y=\"382.944022\"/>\n",
       "  <use xlink:href=\"#glyph1-5\" x=\"239.048117\" y=\"377.046862\"/>\n",
       "  <use xlink:href=\"#glyph1-13\" x=\"241.996697\" y=\"374.098282\"/>\n",
       "  <use xlink:href=\"#glyph1-14\" x=\"244.351418\" y=\"371.743561\"/>\n",
       "  <use xlink:href=\"#glyph1-2\" x=\"249.654718\" y=\"366.44026\"/>\n",
       "</g>\n",
       "<g style=\"fill:rgb(32.156863%,32.156863%,32.156863%);fill-opacity:1;\">\n",
       "  <use xlink:href=\"#glyph2-1\" x=\"111.910156\" y=\"490.571289\"/>\n",
       "  <use xlink:href=\"#glyph2-2\" x=\"127.469727\" y=\"490.571289\"/>\n",
       "  <use xlink:href=\"#glyph2-3\" x=\"143.029297\" y=\"490.571289\"/>\n",
       "  <use xlink:href=\"#glyph2-4\" x=\"148.588867\" y=\"490.571289\"/>\n",
       "  <use xlink:href=\"#glyph2-5\" x=\"158.588867\" y=\"490.571289\"/>\n",
       "  <use xlink:href=\"#glyph2-6\" x=\"163.029297\" y=\"490.571289\"/>\n",
       "  <use xlink:href=\"#glyph2-7\" x=\"167.469727\" y=\"490.571289\"/>\n",
       "  <use xlink:href=\"#glyph2-3\" x=\"184.129883\" y=\"490.571289\"/>\n",
       "  <use xlink:href=\"#glyph2-5\" x=\"189.689453\" y=\"490.571289\"/>\n",
       "  <use xlink:href=\"#glyph2-8\" x=\"194.129883\" y=\"490.571289\"/>\n",
       "  <use xlink:href=\"#glyph2-9\" x=\"205.25\" y=\"490.571289\"/>\n",
       "  <use xlink:href=\"#glyph2-8\" x=\"215.25\" y=\"490.571289\"/>\n",
       "  <use xlink:href=\"#glyph2-5\" x=\"226.370117\" y=\"490.571289\"/>\n",
       "</g>\n",
       "<g style=\"fill:rgb(32.156863%,32.156863%,32.156863%);fill-opacity:1;\">\n",
       "  <use xlink:href=\"#glyph3-1\" x=\"27.96582\" y=\"264.765625\"/>\n",
       "  <use xlink:href=\"#glyph3-2\" x=\"27.96582\" y=\"248.105469\"/>\n",
       "  <use xlink:href=\"#glyph3-3\" x=\"27.96582\" y=\"242.545898\"/>\n",
       "  <use xlink:href=\"#glyph3-4\" x=\"27.96582\" y=\"231.425781\"/>\n",
       "  <use xlink:href=\"#glyph3-5\" x=\"27.96582\" y=\"220.305664\"/>\n",
       "  <use xlink:href=\"#glyph3-2\" x=\"27.96582\" y=\"209.185547\"/>\n",
       "  <use xlink:href=\"#glyph3-6\" x=\"27.96582\" y=\"203.625977\"/>\n",
       "  <use xlink:href=\"#glyph3-2\" x=\"27.96582\" y=\"190.286133\"/>\n",
       "  <use xlink:href=\"#glyph3-3\" x=\"27.96582\" y=\"184.726562\"/>\n",
       "  <use xlink:href=\"#glyph3-7\" x=\"27.96582\" y=\"173.606445\"/>\n",
       "  <use xlink:href=\"#glyph3-8\" x=\"27.96582\" y=\"162.486328\"/>\n",
       "  <use xlink:href=\"#glyph3-9\" x=\"27.96582\" y=\"155.826172\"/>\n",
       "  <use xlink:href=\"#glyph3-9\" x=\"27.96582\" y=\"144.706055\"/>\n",
       "  <use xlink:href=\"#glyph3-10\" x=\"27.96582\" y=\"133.585938\"/>\n",
       "  <use xlink:href=\"#glyph3-9\" x=\"27.96582\" y=\"116.925781\"/>\n",
       "  <use xlink:href=\"#glyph3-4\" x=\"27.96582\" y=\"105.805664\"/>\n",
       "  <use xlink:href=\"#glyph3-11\" x=\"27.96582\" y=\"94.685547\"/>\n",
       "</g>\n",
       "<path style=\" stroke:none;fill-rule:nonzero;fill:rgb(100%,100%,100%);fill-opacity:1;\" d=\"M 288.484375 165.289062 L 454.25 165.289062 L 454.25 103.546875 L 288.484375 103.546875 Z \"/>\n",
       "<g style=\"fill:rgb(0%,0%,0%);fill-opacity:1;\">\n",
       "  <use xlink:href=\"#glyph2-10\" x=\"292.734375\" y=\"121.540039\"/>\n",
       "  <use xlink:href=\"#glyph2-11\" x=\"307.174805\" y=\"121.540039\"/>\n",
       "  <use xlink:href=\"#glyph2-6\" x=\"318.294922\" y=\"121.540039\"/>\n",
       "  <use xlink:href=\"#glyph2-12\" x=\"322.735352\" y=\"121.540039\"/>\n",
       "  <use xlink:href=\"#glyph2-13\" x=\"333.855469\" y=\"121.540039\"/>\n",
       "  <use xlink:href=\"#glyph2-6\" x=\"343.855469\" y=\"121.540039\"/>\n",
       "  <use xlink:href=\"#glyph2-14\" x=\"348.295898\" y=\"121.540039\"/>\n",
       "  <use xlink:href=\"#glyph2-8\" x=\"359.416016\" y=\"121.540039\"/>\n",
       "  <use xlink:href=\"#glyph2-12\" x=\"370.536133\" y=\"121.540039\"/>\n",
       "  <use xlink:href=\"#glyph2-13\" x=\"381.65625\" y=\"121.540039\"/>\n",
       "  <use xlink:href=\"#glyph2-8\" x=\"391.65625\" y=\"121.540039\"/>\n",
       "</g>\n",
       "<path style=\"fill-rule:nonzero;fill:rgb(100%,100%,100%);fill-opacity:1;stroke-width:1.066978;stroke-linecap:round;stroke-linejoin:round;stroke:rgb(80%,80%,80%);stroke-opacity:1;stroke-miterlimit:10;\" d=\"M 292.734375 143.757812 L 310.015625 143.757812 L 310.015625 126.476562 L 292.734375 126.476562 Z \"/>\n",
       "<path style=\" stroke:none;fill-rule:nonzero;fill:rgb(34.901961%,34.901961%,34.901961%);fill-opacity:1;\" d=\"M 293.445312 143.050781 L 309.308594 143.050781 L 309.308594 127.1875 L 293.445312 127.1875 Z \"/>\n",
       "<path style=\"fill:none;stroke-width:1.066978;stroke-linecap:butt;stroke-linejoin:round;stroke:rgb(0%,0%,0%);stroke-opacity:1;stroke-miterlimit:10;\" d=\"M 294.460938 135.117188 L 308.285156 135.117188 \"/>\n",
       "<path style=\"fill-rule:nonzero;fill:rgb(100%,100%,100%);fill-opacity:1;stroke-width:1.066978;stroke-linecap:round;stroke-linejoin:round;stroke:rgb(80%,80%,80%);stroke-opacity:1;stroke-miterlimit:10;\" d=\"M 292.734375 161.039062 L 310.015625 161.039062 L 310.015625 143.757812 L 292.734375 143.757812 Z \"/>\n",
       "<path style=\" stroke:none;fill-rule:nonzero;fill:rgb(34.901961%,34.901961%,34.901961%);fill-opacity:0.501961;\" d=\"M 293.445312 160.328125 L 309.308594 160.328125 L 309.308594 144.464844 L 293.445312 144.464844 Z \"/>\n",
       "<path style=\"fill:none;stroke-width:1.066978;stroke-linecap:butt;stroke-linejoin:round;stroke:rgb(0%,0%,0%);stroke-opacity:0.501961;stroke-miterlimit:10;\" d=\"M 294.460938 152.398438 L 308.285156 152.398438 \"/>\n",
       "<g style=\"fill:rgb(32.156863%,32.156863%,32.156863%);fill-opacity:1;\">\n",
       "  <use xlink:href=\"#glyph2-2\" x=\"312.175781\" y=\"141.676758\"/>\n",
       "  <use xlink:href=\"#glyph2-15\" x=\"327.735352\" y=\"141.676758\"/>\n",
       "  <use xlink:href=\"#glyph2-4\" x=\"338.855469\" y=\"141.676758\"/>\n",
       "  <use xlink:href=\"#glyph2-8\" x=\"348.855469\" y=\"141.676758\"/>\n",
       "  <use xlink:href=\"#glyph2-16\" x=\"359.975586\" y=\"141.676758\"/>\n",
       "  <use xlink:href=\"#glyph2-9\" x=\"366.635742\" y=\"141.676758\"/>\n",
       "  <use xlink:href=\"#glyph2-8\" x=\"376.635742\" y=\"141.676758\"/>\n",
       "  <use xlink:href=\"#glyph2-14\" x=\"387.755859\" y=\"141.676758\"/>\n",
       "</g>\n",
       "<g style=\"fill:rgb(32.156863%,32.156863%,32.156863%);fill-opacity:1;\">\n",
       "  <use xlink:href=\"#glyph2-17\" x=\"312.175781\" y=\"158.958008\"/>\n",
       "  <use xlink:href=\"#glyph2-18\" x=\"326.616211\" y=\"158.958008\"/>\n",
       "  <use xlink:href=\"#glyph2-12\" x=\"337.736328\" y=\"158.958008\"/>\n",
       "  <use xlink:href=\"#glyph2-14\" x=\"348.856445\" y=\"158.958008\"/>\n",
       "  <use xlink:href=\"#glyph2-11\" x=\"359.976562\" y=\"158.958008\"/>\n",
       "  <use xlink:href=\"#glyph2-7\" x=\"371.09668\" y=\"158.958008\"/>\n",
       "  <use xlink:href=\"#glyph2-3\" x=\"387.756836\" y=\"158.958008\"/>\n",
       "  <use xlink:href=\"#glyph2-19\" x=\"393.316406\" y=\"158.958008\"/>\n",
       "  <use xlink:href=\"#glyph2-20\" x=\"399.976562\" y=\"158.958008\"/>\n",
       "  <use xlink:href=\"#glyph2-21\" x=\"409.976562\" y=\"158.958008\"/>\n",
       "  <use xlink:href=\"#glyph2-22\" x=\"421.09668\" y=\"158.958008\"/>\n",
       "  <use xlink:href=\"#glyph2-22\" x=\"432.216797\" y=\"158.958008\"/>\n",
       "  <use xlink:href=\"#glyph2-23\" x=\"443.336914\" y=\"158.958008\"/>\n",
       "</g>\n",
       "<path style=\" stroke:none;fill-rule:nonzero;fill:rgb(100%,100%,100%);fill-opacity:1;\" d=\"M 288.484375 249.984375 L 489.828125 249.984375 L 489.828125 170.960938 L 288.484375 170.960938 Z \"/>\n",
       "<g style=\"fill:rgb(0%,0%,0%);fill-opacity:1;\">\n",
       "  <use xlink:href=\"#glyph2-1\" x=\"292.734375\" y=\"188.950195\"/>\n",
       "  <use xlink:href=\"#glyph2-2\" x=\"308.293945\" y=\"188.950195\"/>\n",
       "  <use xlink:href=\"#glyph2-3\" x=\"323.853516\" y=\"188.950195\"/>\n",
       "  <use xlink:href=\"#glyph2-2\" x=\"329.413086\" y=\"188.950195\"/>\n",
       "  <use xlink:href=\"#glyph2-12\" x=\"344.972656\" y=\"188.950195\"/>\n",
       "  <use xlink:href=\"#glyph2-24\" x=\"356.092773\" y=\"188.950195\"/>\n",
       "  <use xlink:href=\"#glyph2-11\" x=\"361.652344\" y=\"188.950195\"/>\n",
       "  <use xlink:href=\"#glyph2-5\" x=\"372.772461\" y=\"188.950195\"/>\n",
       "  <use xlink:href=\"#glyph2-11\" x=\"377.212891\" y=\"188.950195\"/>\n",
       "  <use xlink:href=\"#glyph2-25\" x=\"388.333008\" y=\"188.950195\"/>\n",
       "  <use xlink:href=\"#glyph2-26\" x=\"399.453125\" y=\"188.950195\"/>\n",
       "</g>\n",
       "<path style=\"fill-rule:nonzero;fill:rgb(100%,100%,100%);fill-opacity:1;stroke-width:1.066978;stroke-linecap:round;stroke-linejoin:round;stroke:rgb(80%,80%,80%);stroke-opacity:1;stroke-miterlimit:10;\" d=\"M 292.734375 211.171875 L 310.015625 211.171875 L 310.015625 193.890625 L 292.734375 193.890625 Z \"/>\n",
       "<path style=\" stroke:none;fill-rule:nonzero;fill:rgb(97.254902%,46.27451%,42.745098%);fill-opacity:1;\" d=\"M 293.445312 210.464844 L 309.308594 210.464844 L 309.308594 194.601562 L 293.445312 194.601562 Z \"/>\n",
       "<path style=\"fill-rule:nonzero;fill:rgb(100%,100%,100%);fill-opacity:1;stroke-width:1.066978;stroke-linecap:round;stroke-linejoin:round;stroke:rgb(80%,80%,80%);stroke-opacity:1;stroke-miterlimit:10;\" d=\"M 292.734375 228.453125 L 310.015625 228.453125 L 310.015625 211.171875 L 292.734375 211.171875 Z \"/>\n",
       "<path style=\" stroke:none;fill-rule:nonzero;fill:rgb(0%,72.941176%,21.960784%);fill-opacity:1;\" d=\"M 293.445312 227.742188 L 309.308594 227.742188 L 309.308594 211.878906 L 293.445312 211.878906 Z \"/>\n",
       "<path style=\"fill-rule:nonzero;fill:rgb(100%,100%,100%);fill-opacity:1;stroke-width:1.066978;stroke-linecap:round;stroke-linejoin:round;stroke:rgb(80%,80%,80%);stroke-opacity:1;stroke-miterlimit:10;\" d=\"M 292.734375 245.730469 L 310.015625 245.730469 L 310.015625 228.449219 L 292.734375 228.449219 Z \"/>\n",
       "<path style=\" stroke:none;fill-rule:nonzero;fill:rgb(38.039216%,61.176471%,100%);fill-opacity:1;\" d=\"M 293.445312 245.023438 L 309.308594 245.023438 L 309.308594 229.160156 L 293.445312 229.160156 Z \"/>\n",
       "<g style=\"fill:rgb(32.156863%,32.156863%,32.156863%);fill-opacity:1;\">\n",
       "  <use xlink:href=\"#glyph2-15\" x=\"312.175781\" y=\"209.09082\"/>\n",
       "  <use xlink:href=\"#glyph2-6\" x=\"323.295898\" y=\"209.09082\"/>\n",
       "  <use xlink:href=\"#glyph2-11\" x=\"327.736328\" y=\"209.09082\"/>\n",
       "  <use xlink:href=\"#glyph2-5\" x=\"338.856445\" y=\"209.09082\"/>\n",
       "  <use xlink:href=\"#glyph2-11\" x=\"343.296875\" y=\"209.09082\"/>\n",
       "  <use xlink:href=\"#glyph2-25\" x=\"354.416992\" y=\"209.09082\"/>\n",
       "  <use xlink:href=\"#glyph2-6\" x=\"365.537109\" y=\"209.09082\"/>\n",
       "  <use xlink:href=\"#glyph2-13\" x=\"369.977539\" y=\"209.09082\"/>\n",
       "  <use xlink:href=\"#glyph2-18\" x=\"379.977539\" y=\"209.09082\"/>\n",
       "  <use xlink:href=\"#glyph2-5\" x=\"391.097656\" y=\"209.09082\"/>\n",
       "  <use xlink:href=\"#glyph2-27\" x=\"395.538086\" y=\"209.09082\"/>\n",
       "  <use xlink:href=\"#glyph2-28\" x=\"406.658203\" y=\"209.09082\"/>\n",
       "  <use xlink:href=\"#glyph2-16\" x=\"417.77832\" y=\"209.09082\"/>\n",
       "  <use xlink:href=\"#glyph2-11\" x=\"424.438477\" y=\"209.09082\"/>\n",
       "  <use xlink:href=\"#glyph2-13\" x=\"435.558594\" y=\"209.09082\"/>\n",
       "  <use xlink:href=\"#glyph2-8\" x=\"445.558594\" y=\"209.09082\"/>\n",
       "  <use xlink:href=\"#glyph2-4\" x=\"456.678711\" y=\"209.09082\"/>\n",
       "  <use xlink:href=\"#glyph2-4\" x=\"466.678711\" y=\"209.09082\"/>\n",
       "</g>\n",
       "<g style=\"fill:rgb(32.156863%,32.156863%,32.156863%);fill-opacity:1;\">\n",
       "  <use xlink:href=\"#glyph2-13\" x=\"312.175781\" y=\"226.37207\"/>\n",
       "  <use xlink:href=\"#glyph2-8\" x=\"322.175781\" y=\"226.37207\"/>\n",
       "  <use xlink:href=\"#glyph2-5\" x=\"333.295898\" y=\"226.37207\"/>\n",
       "  <use xlink:href=\"#glyph2-5\" x=\"337.736328\" y=\"226.37207\"/>\n",
       "  <use xlink:href=\"#glyph2-29\" x=\"342.176758\" y=\"226.37207\"/>\n",
       "  <use xlink:href=\"#glyph2-5\" x=\"353.296875\" y=\"226.37207\"/>\n",
       "  <use xlink:href=\"#glyph2-18\" x=\"357.737305\" y=\"226.37207\"/>\n",
       "  <use xlink:href=\"#glyph2-16\" x=\"368.857422\" y=\"226.37207\"/>\n",
       "  <use xlink:href=\"#glyph2-27\" x=\"375.517578\" y=\"226.37207\"/>\n",
       "  <use xlink:href=\"#glyph2-13\" x=\"386.637695\" y=\"226.37207\"/>\n",
       "  <use xlink:href=\"#glyph2-11\" x=\"396.637695\" y=\"226.37207\"/>\n",
       "  <use xlink:href=\"#glyph2-7\" x=\"407.757812\" y=\"226.37207\"/>\n",
       "  <use xlink:href=\"#glyph2-28\" x=\"424.417969\" y=\"226.37207\"/>\n",
       "  <use xlink:href=\"#glyph2-11\" x=\"435.538086\" y=\"226.37207\"/>\n",
       "  <use xlink:href=\"#glyph2-12\" x=\"446.658203\" y=\"226.37207\"/>\n",
       "  <use xlink:href=\"#glyph2-8\" x=\"457.77832\" y=\"226.37207\"/>\n",
       "  <use xlink:href=\"#glyph2-12\" x=\"468.898438\" y=\"226.37207\"/>\n",
       "  <use xlink:href=\"#glyph2-24\" x=\"480.018555\" y=\"226.37207\"/>\n",
       "</g>\n",
       "<g style=\"fill:rgb(32.156863%,32.156863%,32.156863%);fill-opacity:1;\">\n",
       "  <use xlink:href=\"#glyph2-7\" x=\"312.175781\" y=\"243.649414\"/>\n",
       "  <use xlink:href=\"#glyph2-11\" x=\"328.835938\" y=\"243.649414\"/>\n",
       "  <use xlink:href=\"#glyph2-5\" x=\"339.956055\" y=\"243.649414\"/>\n",
       "  <use xlink:href=\"#glyph2-8\" x=\"344.396484\" y=\"243.649414\"/>\n",
       "  <use xlink:href=\"#glyph2-13\" x=\"355.516602\" y=\"243.649414\"/>\n",
       "  <use xlink:href=\"#glyph2-29\" x=\"365.516602\" y=\"243.649414\"/>\n",
       "  <use xlink:href=\"#glyph2-5\" x=\"376.636719\" y=\"243.649414\"/>\n",
       "  <use xlink:href=\"#glyph2-18\" x=\"381.077148\" y=\"243.649414\"/>\n",
       "  <use xlink:href=\"#glyph2-16\" x=\"392.197266\" y=\"243.649414\"/>\n",
       "  <use xlink:href=\"#glyph2-27\" x=\"398.857422\" y=\"243.649414\"/>\n",
       "  <use xlink:href=\"#glyph2-30\" x=\"409.977539\" y=\"243.649414\"/>\n",
       "  <use xlink:href=\"#glyph2-29\" x=\"415.537109\" y=\"243.649414\"/>\n",
       "  <use xlink:href=\"#glyph2-12\" x=\"426.657227\" y=\"243.649414\"/>\n",
       "  <use xlink:href=\"#glyph2-13\" x=\"437.777344\" y=\"243.649414\"/>\n",
       "  <use xlink:href=\"#glyph2-24\" x=\"447.777344\" y=\"243.649414\"/>\n",
       "  <use xlink:href=\"#glyph2-6\" x=\"453.336914\" y=\"243.649414\"/>\n",
       "  <use xlink:href=\"#glyph2-11\" x=\"457.777344\" y=\"243.649414\"/>\n",
       "  <use xlink:href=\"#glyph2-12\" x=\"468.897461\" y=\"243.649414\"/>\n",
       "</g>\n",
       "</g>\n",
       "</svg>\n"
      ],
      "text/plain": [
       "plot without title"
      ]
     },
     "metadata": {
      "image/svg+xml": {
       "isolated": true
      }
     },
     "output_type": "display_data"
    }
   ],
   "source": [
    "# prepare df to get number of samples\n",
    "M <- unique(coincidence[,c('GO_subontology','slim_level',\"M\",\"S\")])\n",
    "rand <- list()\n",
    "for (c in names(expressedgos)){\n",
    "    # select real data comparison\n",
    "    v <- paste(M$slim_level,M$GO_subontology,sep=\".\")==c\n",
    "    if (sum(v)==0) next\n",
    "    x <- M[v,]\n",
    "    tmp <- list()\n",
    "    # permutate 100 times\n",
    "    for (i in 1:100){\n",
    "        m <- sample(expressedgos[[c]],x$M)\n",
    "        s <- sample(expressedgos[[c]],x$S)\n",
    "        tmp[[i]] <- length(intersect(m,s))/length(unique(c(m,s)))\n",
    "    }\n",
    "    tmp <- do.call(\"rbind\",tmp)\n",
    "    rand[[c]] <- data.frame(slim_level=x$slim_level,GO_subontology=x$GO_subontology,Match=mean(tmp),sd=sd(tmp))\n",
    "}\n",
    "    \n",
    "rand <- do.call(\"rbind\",rand)\n",
    "\n",
    "#join random data and real data and plot\n",
    "rand %>%\n",
    "    mutate(MatchPerc=Match*100, sdPerc=sd*100, Coincidence=\"Random (x100)\") %>%\n",
    "    rbind(subset(coincidence,select=c(\"GO_subontology\",\"slim_level\",\"Match\",\"sd\",\"MatchPerc\",\"sdPerc\",\"Coincidence\"))) %>%\n",
    "    mutate(slim_level=factor(slim_level,levels=\n",
    "                            c('Least Informative','Moderately Informative','Informative','Highly Informative')))  %>%\n",
    "    ggplot(aes(fill=GO_subontology,y=MatchPerc,x=slim_level,alpha=Coincidence)) +\n",
    "        geom_bar(position=\"dodge\",stat=\"identity\") +\n",
    "        geom_errorbar(aes(ymax=MatchPerc+sdPerc,ymin=MatchPerc-sdPerc),position=\"dodge\") +\n",
    "        scale_alpha_discrete(range=c(\"Observed\"=1,\"Random (x100)\"=0.5)) +\n",
    "        labs(x=\"GO slim level\",y=\"M and S agreement\",fill=\"GO Ontology\") +\n",
    "        smartas_theme() +\n",
    "        theme(legend.position=\"right\",axis.text.x = element_text(angle=45, hjust=1))"
   ]
  },
  {
   "cell_type": "code",
   "execution_count": 15,
   "metadata": {
    "ExecuteTime": {
     "end_time": "2016-06-16T18:34:28.504124",
     "start_time": "2016-06-16T16:31:28.003Z"
    },
    "collapsed": false
   },
   "outputs": [
    {
     "data": {
      "text/html": [
       "<ol class=list-inline>\n",
       "\t<li>'molecular transducer activity'</li>\n",
       "\t<li>'receptor activity'</li>\n",
       "</ol>\n"
      ],
      "text/latex": [
       "\\begin{enumerate*}\n",
       "\\item 'molecular transducer activity'\n",
       "\\item 'receptor activity'\n",
       "\\end{enumerate*}\n"
      ],
      "text/markdown": [
       "1. 'molecular transducer activity'\n",
       "2. 'receptor activity'\n",
       "\n",
       "\n"
      ],
      "text/plain": [
       "[1] \"molecular transducer activity\" \"receptor activity\"            "
      ]
     },
     "execution_count": 15,
     "metadata": {},
     "output_type": "execute_result"
    },
    {
     "data": {
      "text/html": [
       "<ol class=list-inline>\n",
       "\t<li>'calcium ion binding'</li>\n",
       "\t<li>'cargo receptor activity'</li>\n",
       "\t<li>'cell adhesion molecule binding'</li>\n",
       "\t<li>'protein complex binding'</li>\n",
       "\t<li>'protein domain specific binding'</li>\n",
       "\t<li>'protein tyrosine kinase activity'</li>\n",
       "\t<li>'receptor binding'</li>\n",
       "\t<li>'transmembrane receptor protein kinase activity'</li>\n",
       "</ol>\n"
      ],
      "text/latex": [
       "\\begin{enumerate*}\n",
       "\\item 'calcium ion binding'\n",
       "\\item 'cargo receptor activity'\n",
       "\\item 'cell adhesion molecule binding'\n",
       "\\item 'protein complex binding'\n",
       "\\item 'protein domain specific binding'\n",
       "\\item 'protein tyrosine kinase activity'\n",
       "\\item 'receptor binding'\n",
       "\\item 'transmembrane receptor protein kinase activity'\n",
       "\\end{enumerate*}\n"
      ],
      "text/markdown": [
       "1. 'calcium ion binding'\n",
       "2. 'cargo receptor activity'\n",
       "3. 'cell adhesion molecule binding'\n",
       "4. 'protein complex binding'\n",
       "5. 'protein domain specific binding'\n",
       "6. 'protein tyrosine kinase activity'\n",
       "7. 'receptor binding'\n",
       "8. 'transmembrane receptor protein kinase activity'\n",
       "\n",
       "\n"
      ],
      "text/plain": [
       "[1] \"calcium ion binding\"                           \n",
       "[2] \"cargo receptor activity\"                       \n",
       "[3] \"cell adhesion molecule binding\"                \n",
       "[4] \"protein complex binding\"                       \n",
       "[5] \"protein domain specific binding\"               \n",
       "[6] \"protein tyrosine kinase activity\"              \n",
       "[7] \"receptor binding\"                              \n",
       "[8] \"transmembrane receptor protein kinase activity\""
      ]
     },
     "execution_count": 15,
     "metadata": {},
     "output_type": "execute_result"
    },
    {
     "data": {
      "text/html": [
       "<ol class=list-inline>\n",
       "\t<li>'collagen binding'</li>\n",
       "\t<li>'PDZ domain binding'</li>\n",
       "\t<li>'phosphatidylinositol 3-kinase binding'</li>\n",
       "</ol>\n"
      ],
      "text/latex": [
       "\\begin{enumerate*}\n",
       "\\item 'collagen binding'\n",
       "\\item 'PDZ domain binding'\n",
       "\\item 'phosphatidylinositol 3-kinase binding'\n",
       "\\end{enumerate*}\n"
      ],
      "text/markdown": [
       "1. 'collagen binding'\n",
       "2. 'PDZ domain binding'\n",
       "3. 'phosphatidylinositol 3-kinase binding'\n",
       "\n",
       "\n"
      ],
      "text/plain": [
       "[1] \"collagen binding\"                     \n",
       "[2] \"PDZ domain binding\"                   \n",
       "[3] \"phosphatidylinositol 3-kinase binding\""
      ]
     },
     "execution_count": 15,
     "metadata": {},
     "output_type": "execute_result"
    }
   ],
   "source": [
    "# some molecular function terms\n",
    "x <- table(rbind(mmf[,c(3,4)],smf[,c(3,4)]))\n",
    "rownames(x)[x[,1]==2]\n",
    "rownames(x)[x[,2]==2]\n",
    "rownames(x)[x[,3]==2]"
   ]
  },
  {
   "cell_type": "markdown",
   "metadata": {},
   "source": [
    "## Coincidence in genes\n",
    "We will check if the domains affected by mutations and switches tend to co-occurr in the same genes."
   ]
  },
  {
   "cell_type": "code",
   "execution_count": 16,
   "metadata": {
    "ExecuteTime": {
     "end_time": "2016-06-16T18:34:30.504082",
     "start_time": "2016-06-16T16:31:28.025Z"
    },
    "collapsed": false,
    "scrolled": false
   },
   "outputs": [
    {
     "data": {
      "text/html": [
       "<table>\n",
       "<thead><tr><th></th><th scope=col>Feature</th><th scope=col>MS</th><th scope=col>M</th><th scope=col>S</th><th scope=col>N</th><th scope=col>J</th></tr></thead>\n",
       "<tbody>\n",
       "\t<tr><th scope=row>1</th><td>PF00683|TB_domain</td><td>5</td><td>2</td><td>0</td><td>0</td><td>0.7142857</td></tr>\n",
       "\t<tr><th scope=row>2</th><td>PF15440|THRAP3/BCLAF1_family</td><td>2</td><td>1</td><td>0</td><td>0</td><td>0.6666667</td></tr>\n",
       "\t<tr><th scope=row>3</th><td>PF00969|Class_II_histocompatibility_antigen,_beta_domain</td><td>3</td><td>2</td><td>1</td><td>2</td><td>0.5</td></tr>\n",
       "\t<tr><th scope=row>4</th><td>PF10409|C2_domain_of_PTEN_tumour-suppressor_protein</td><td>2</td><td>4</td><td>0</td><td>1</td><td>0.3333333</td></tr>\n",
       "\t<tr><th scope=row>5</th><td>PF01833|IPT/TIG_domain</td><td>7</td><td>15</td><td>1</td><td>0</td><td>0.3043478</td></tr>\n",
       "\t<tr><th scope=row>6</th><td>PF07679|Immunoglobulin_I-set_domain</td><td>37</td><td>93</td><td>7</td><td>7</td><td>0.270073</td></tr>\n",
       "\t<tr><th scope=row>7</th><td>PF00041|Fibronectin_type_III_domain</td><td>33</td><td>86</td><td>5</td><td>7</td><td>0.266129</td></tr>\n",
       "\t<tr><th scope=row>8</th><td>PF07645|Calcium-binding_EGF_domain</td><td>17</td><td>52</td><td>1</td><td>1</td><td>0.2428571</td></tr>\n",
       "\t<tr><th scope=row>9</th><td>PF00090|Thrombospondin_type_1_domain</td><td>11</td><td>36</td><td>3</td><td>5</td><td>0.22</td></tr>\n",
       "\t<tr><th scope=row>10</th><td>PF00535|Glycosyl_transferase_family_2</td><td>5</td><td>18</td><td>0</td><td>1</td><td>0.2173913</td></tr>\n",
       "\t<tr><th scope=row>11</th><td>PF07686|Immunoglobulin_V-set_domain</td><td>28</td><td>111</td><td>5</td><td>5</td><td>0.1944444</td></tr>\n",
       "\t<tr><th scope=row>12</th><td>PF01421|Reprolysin_(M12B)_family_zinc_metalloprotease</td><td>5</td><td>23</td><td>1</td><td>1</td><td>0.1724138</td></tr>\n",
       "\t<tr><th scope=row>13</th><td>PF00413|Matrixin</td><td>3</td><td>15</td><td>0</td><td>1</td><td>0.1666667</td></tr>\n",
       "\t<tr><th scope=row>14</th><td>PF07654|Immunoglobulin_C1-set_domain</td><td>2</td><td>35</td><td>2</td><td>2</td><td>0.05128205</td></tr>\n",
       "\t<tr><th scope=row>15</th><td>PF02931|Neurotransmitter-gated_ion-channel_ligand_binding_domain</td><td>1</td><td>28</td><td>1</td><td>3</td><td>0.03333333</td></tr>\n",
       "</tbody>\n",
       "</table>\n"
      ],
      "text/latex": [
       "\\begin{tabular}{r|llllll}\n",
       "  & Feature & MS & M & S & N & J\\\\\n",
       "\\hline\n",
       "\t1 & PF00683|TB_domain & 5 & 2 & 0 & 0 & 0.7142857\\\\\n",
       "\t2 & PF15440|THRAP3/BCLAF1_family & 2 & 1 & 0 & 0 & 0.6666667\\\\\n",
       "\t3 & PF00969|Class_II_histocompatibility_antigen,_beta_domain & 3 & 2 & 1 & 2 & 0.5\\\\\n",
       "\t4 & PF10409|C2_domain_of_PTEN_tumour-suppressor_protein & 2 & 4 & 0 & 1 & 0.3333333\\\\\n",
       "\t5 & PF01833|IPT/TIG_domain & 7 & 15 & 1 & 0 & 0.3043478\\\\\n",
       "\t6 & PF07679|Immunoglobulin_I-set_domain & 37 & 93 & 7 & 7 & 0.270073\\\\\n",
       "\t7 & PF00041|Fibronectin_type_III_domain & 33 & 86 & 5 & 7 & 0.266129\\\\\n",
       "\t8 & PF07645|Calcium-binding_EGF_domain & 17 & 52 & 1 & 1 & 0.2428571\\\\\n",
       "\t9 & PF00090|Thrombospondin_type_1_domain & 11 & 36 & 3 & 5 & 0.22\\\\\n",
       "\t10 & PF00535|Glycosyl_transferase_family_2 & 5 & 18 & 0 & 1 & 0.2173913\\\\\n",
       "\t11 & PF07686|Immunoglobulin_V-set_domain & 28 & 111 & 5 & 5 & 0.1944444\\\\\n",
       "\t12 & PF01421|Reprolysin_(M12B)_family_zinc_metalloprotease & 5 & 23 & 1 & 1 & 0.1724138\\\\\n",
       "\t13 & PF00413|Matrixin & 3 & 15 & 0 & 1 & 0.1666667\\\\\n",
       "\t14 & PF07654|Immunoglobulin_C1-set_domain & 2 & 35 & 2 & 2 & 0.05128205\\\\\n",
       "\t15 & PF02931|Neurotransmitter-gated_ion-channel_ligand_binding_domain & 1 & 28 & 1 & 3 & 0.03333333\\\\\n",
       "\\end{tabular}\n"
      ],
      "text/plain": [
       "Source: local data frame [15 x 6]\n",
       "\n",
       "                                                            Feature    MS     M\n",
       "                                                              (chr) (int) (int)\n",
       "1                                                 PF00683|TB_domain     5     2\n",
       "2                                      PF15440|THRAP3/BCLAF1_family     2     1\n",
       "3          PF00969|Class_II_histocompatibility_antigen,_beta_domain     3     2\n",
       "4               PF10409|C2_domain_of_PTEN_tumour-suppressor_protein     2     4\n",
       "5                                            PF01833|IPT/TIG_domain     7    15\n",
       "6                               PF07679|Immunoglobulin_I-set_domain    37    93\n",
       "7                               PF00041|Fibronectin_type_III_domain    33    86\n",
       "8                                PF07645|Calcium-binding_EGF_domain    17    52\n",
       "9                              PF00090|Thrombospondin_type_1_domain    11    36\n",
       "10                            PF00535|Glycosyl_transferase_family_2     5    18\n",
       "11                              PF07686|Immunoglobulin_V-set_domain    28   111\n",
       "12            PF01421|Reprolysin_(M12B)_family_zinc_metalloprotease     5    23\n",
       "13                                                 PF00413|Matrixin     3    15\n",
       "14                             PF07654|Immunoglobulin_C1-set_domain     2    35\n",
       "15 PF02931|Neurotransmitter-gated_ion-channel_ligand_binding_domain     1    28\n",
       "Variables not shown: S (int), N (int), J (dbl)"
      ]
     },
     "execution_count": 16,
     "metadata": {},
     "output_type": "execute_result"
    }
   ],
   "source": [
    "M <- pf.all$adjp_m < 0.05\n",
    "M[is.na(M)] <- FALSE\n",
    "S <- (pf.all$adjp_l < 0.05 & pf.all$switches_l > 1) | (pf.all$adjp_g < 0.05 & pf.all$switches_g > 1)\n",
    "S[is.na(S)] <- FALSE\n",
    "\n",
    "# get the genes with a switch involving a MS domain\n",
    "s.genes <- switches.pfam %>%\n",
    "    filter(Feature %in% pf.all$Feature[M&S]) %>%\n",
    "    select(Gene,Symbol,Feature) %>%\n",
    "    unique %>%\n",
    "    mutate(Switched=TRUE)\n",
    "\n",
    "# get the genes with a mutation involving a MS domain\n",
    "m.genes <- read_tsv(\"../data/mutations/proteome_mutations.txt\") %>%\n",
    "    filter(Analysis==\"Pfam\") %>%\n",
    "    filter(Feature %in% pf.all$Feature[M&S]) %>%\n",
    "    select(Gene,Symbol,Feature) %>%\n",
    "    unique %>%\n",
    "    mutate(Mutated=TRUE)\n",
    "\n",
    "# check all genes containing this feature in the proteome\n",
    "all.genes <- features %>%\n",
    "    filter(Feature %in% pf.all$Feature[M&S]) %>%\n",
    "    select(Gene,Symbol,Feature) %>%\n",
    "    unique\n",
    "\n",
    "# merge to see coincidence between genes\n",
    "x <- merge(s.genes,m.genes,all=T) %>%\n",
    "    merge(all.genes,all=T) %>%\n",
    "    mutate(Switched=ifelse(is.na(Switched),FALSE,TRUE),\n",
    "           Mutated=ifelse(is.na(Mutated),FALSE,TRUE)) %>%\n",
    "    group_by(Feature) %>%\n",
    "    summarise(MS=sum(Mutated&Switched), M=sum(Mutated), \n",
    "              S=sum(Switched), N=length(Gene)) %>%\n",
    "    mutate(M=M-MS, S=S-MS, \n",
    "           N=N-(MS+S+M), J=MS/(M+S+MS)) %>%\n",
    "    arrange(desc(J))\n",
    "\n",
    "x"
   ]
  },
  {
   "cell_type": "code",
   "execution_count": 18,
   "metadata": {
    "ExecuteTime": {
     "end_time": "2016-06-17T11:37:09.685117",
     "start_time": "2016-06-17T09:37:09.617Z"
    },
    "collapsed": false
   },
   "outputs": [
    {
     "data": {
      "text/html": [
       "<table>\n",
       "<thead><tr><th></th><th scope=col>Gene</th><th scope=col>Symbol</th><th scope=col>WhatsHappenning</th></tr></thead>\n",
       "<tbody>\n",
       "\t<tr><th scope=row>1</th><td>4052</td><td>LTBP1</td><td>Lost_in_tumor</td></tr>\n",
       "\t<tr><th scope=row>3</th><td>4054</td><td>LTBP3</td><td>Lost_in_tumor</td></tr>\n",
       "\t<tr><th scope=row>18</th><td>8425</td><td>LTBP4</td><td>Lost_in_tumor</td></tr>\n",
       "\t<tr><th scope=row>20</th><td>2200</td><td>FBN1</td><td>Lost_in_tumor</td></tr>\n",
       "\t<tr><th scope=row>45</th><td>2201</td><td>FBN2</td><td>Lost_in_tumor</td></tr>\n",
       "</tbody>\n",
       "</table>\n"
      ],
      "text/latex": [
       "\\begin{tabular}{r|lll}\n",
       "  & Gene & Symbol & WhatsHappenning\\\\\n",
       "\\hline\n",
       "\t1 & 4052 & LTBP1 & Lost_in_tumor\\\\\n",
       "\t3 & 4054 & LTBP3 & Lost_in_tumor\\\\\n",
       "\t18 & 8425 & LTBP4 & Lost_in_tumor\\\\\n",
       "\t20 & 2200 & FBN1 & Lost_in_tumor\\\\\n",
       "\t45 & 2201 & FBN2 & Lost_in_tumor\\\\\n",
       "\\end{tabular}\n"
      ],
      "text/plain": [
       "   Gene Symbol WhatsHappenning\n",
       "1  4052  LTBP1   Lost_in_tumor\n",
       "3  4054  LTBP3   Lost_in_tumor\n",
       "18 8425  LTBP4   Lost_in_tumor\n",
       "20 2200   FBN1   Lost_in_tumor\n",
       "45 2201   FBN2   Lost_in_tumor"
      ]
     },
     "execution_count": 18,
     "metadata": {},
     "output_type": "execute_result"
    }
   ],
   "source": [
    "switches.pfam %>%\n",
    "    filter(Feature==\"PF00683|TB_domain\") %>%\n",
    "    select(Gene,Symbol,WhatsHappenning) %>%\n",
    "    unique"
   ]
  }
 ],
 "metadata": {
  "kernelspec": {
   "display_name": "R",
   "language": "R",
   "name": "ir"
  },
  "language_info": {
   "codemirror_mode": "r",
   "file_extension": ".r",
   "mimetype": "text/x-r-source",
   "name": "R",
   "pygments_lexer": "r",
   "version": "3.2.2"
  },
  "toc": {
   "toc_cell": false,
   "toc_number_sections": true,
   "toc_threshold": 6,
   "toc_window_display": false
  }
 },
 "nbformat": 4,
 "nbformat_minor": 0
}
