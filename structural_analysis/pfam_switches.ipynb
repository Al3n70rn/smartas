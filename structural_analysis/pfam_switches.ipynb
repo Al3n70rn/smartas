{
 "cells": [
  {
   "cell_type": "raw",
   "metadata": {},
   "source": [
    "# Enrichment test of Pfam domains\n",
    "## Load libraries and read data"
   ]
  },
  {
   "cell_type": "code",
   "execution_count": 1,
   "metadata": {
    "ExecuteTime": {
     "end_time": "2016-05-30T18:43:19.122418",
     "start_time": "2016-05-30T16:43:17.461Z"
    },
    "collapsed": false,
    "scrolled": true
   },
   "outputs": [
    {
     "name": "stderr",
     "output_type": "stream",
     "text": [
      "\n",
      "Attaching package: ‘dplyr’\n",
      "\n",
      "The following objects are masked from ‘package:plyr’:\n",
      "\n",
      "    arrange, count, desc, failwith, id, mutate, rename, summarise,\n",
      "    summarize\n",
      "\n",
      "The following objects are masked from ‘package:stats’:\n",
      "\n",
      "    filter, lag\n",
      "\n",
      "The following objects are masked from ‘package:base’:\n",
      "\n",
      "    intersect, setdiff, setequal, union\n",
      "\n"
     ]
    }
   ],
   "source": [
    "source(\"~/smartas/pipeline/scripts/variablesAndFunctions.r\")\n",
    "library(gtools)\n",
    "\n",
    "# entropy calculation only among those genes undergoing an isoform switch\n",
    "# entropy measures the homogeneity in the distribution of the patients \n",
    "# in different cancer types\n",
    "shannon.entropy <- function(p){\n",
    "  if (invalid(p) || min(p) < 0 || sum(p) <= 0)\n",
    "    return(NaN)\n",
    "  p.norm <- p[p>0]/sum(p)\n",
    "  H <- -sum(log2(p.norm)*p.norm)\n",
    "  if (H == 0){\n",
    "    0\n",
    "  } else {\n",
    "    maxH <- log2(length(p.norm))\n",
    "    H/maxH\n",
    "  }\n",
    "}\n",
    "\n",
    "get.entropy <- function(genes,ntxs,ttxs,patients,mask){\n",
    "    m <- ifelse(is.null(mask),FALSE,mask)\n",
    "    switches.agg <- data.frame(Gene=genes,nTx=ntxs,tTx=ttxs,Patients=patients) %>%\n",
    "        filter(m) %>%\n",
    "        group_by(Gene,nTx,tTx) %>%\n",
    "        summarise(Patients=sum(Patients)) %>%\n",
    "        mutate(p=Patients/sum(Patients))\n",
    "    shannon.entropy(switches.agg$p)\n",
    "}\n",
    "\n",
    "get.uniq.switches <- function(genes,ntxs,ttxs,mask){\n",
    "    m <- ifelse(is.null(mask),FALSE,mask)\n",
    "    as.data.frame(cbind(genes,ntxs,ttxs)) %>%\n",
    "        filter(m) %>%\n",
    "        unique %>%\n",
    "        nrow\n",
    "}\n",
    "\n",
    "get.uniq.patients <- function(genes,ntxs,ttxs,patients,mask){\n",
    "    m <- ifelse(is.null(mask),FALSE,mask)\n",
    "    switches <- data.frame(Gene=genes,nTx=ntxs,tTx=ttxs,Patients=patients) %>%\n",
    "        filter(m)\n",
    "    sum(switches$Patients)\n",
    "}\n",
    "\n",
    "my.binomial.test <- function(x,testNumber){ \n",
    "    if (!is.na(x[1]) & ! is.na(x[2]))\n",
    "        binom.test(x[1],testNumber,x[2],\"greater\")$p.value\n",
    "    else\n",
    "        NA\n",
    "}"
   ]
  },
  {
   "cell_type": "code",
   "execution_count": 2,
   "metadata": {
    "ExecuteTime": {
     "end_time": "2016-05-30T18:43:23.875320",
     "start_time": "2016-05-30T16:43:17.469Z"
    },
    "collapsed": false
   },
   "outputs": [],
   "source": [
    "# Read switches\n",
    "switches <- read_tsv(\"../data/pancancer/candidateList_info.tumorSplit.tsv\")\n",
    "\n",
    "# Read feature information\n",
    "pfam.agg <- read_tsv(\"../data/mutations/proteome_features.txt\") %>%\n",
    "    filter(Analysis == \"Pfam\") %>%\n",
    "    group_by(Feature) %>%\n",
    "    summarize(ProteomeCounts=length(Feature),\n",
    "              TotalLength = sum(FeatureLength)) %>%\n",
    "    # get expected frequencies\n",
    "    mutate(ExpectedSwitchFrequency = ProteomeCounts/sum(ProteomeCounts),\n",
    "           ExpectedMutFrequency = TotalLength/sum(TotalLength))"
   ]
  },
  {
   "cell_type": "markdown",
   "metadata": {},
   "source": [
    "## Calculate enrichment in switches"
   ]
  },
  {
   "cell_type": "code",
   "execution_count": 3,
   "metadata": {
    "ExecuteTime": {
     "end_time": "2016-05-30T18:44:30.866919",
     "start_time": "2016-05-30T16:43:17.476Z"
    },
    "collapsed": false
   },
   "outputs": [],
   "source": [
    "# Read structural changes\n",
    "pfam.switch_info <- read_tsv('../data/structural_analysis/structural_features.onlyModels.tsv') %>%\n",
    "    filter(Random==\"NonRandom\" & Analysis==\"Pfam\" & WhatsHappenning!=\"Nothing\") %>%\n",
    "    # Use switch information to characterize structural information\n",
    "    merge(switches,by.x=c(\"Cancer\",\"Gene\",\"Symbol\",\"nTx\",\"tTx\"),\n",
    "          by.y=c(\"Tumor\",\"GeneId\",\"Symbol\",\"Normal_transcript\",\"Tumor_transcript\")) %>%\n",
    "    group_by(Feature) %>%\n",
    "    summarize(LostNum = sum((WhatsHappenning==\"Lost_in_tumor\") * PatientNumber), \n",
    "              GainNum = sum((WhatsHappenning==\"Gained_in_tumor\") * PatientNumber), \n",
    "              H_g = get.entropy(Gene,nTx,tTx,PatientNumber,WhatsHappenning==\"Gained_in_tumor\"), \n",
    "              H_l = get.entropy(Gene,nTx,tTx,PatientNumber,WhatsHappenning==\"Lost_in_tumor\"), \n",
    "              patients_g = get.uniq.patients(Gene,nTx,tTx,PatientNumber,WhatsHappenning==\"Gained_in_tumor\"),\n",
    "              switches_g = get.uniq.switches(Gene,nTx,tTx,WhatsHappenning==\"Gained_in_tumor\"),\n",
    "              patients_l = get.uniq.patients(Gene,nTx,tTx,PatientNumber,WhatsHappenning==\"Lost_in_tumor\"),\n",
    "              switches_l = get.uniq.switches(Gene,nTx,tTx,WhatsHappenning==\"Lost_in_tumor\"))\n",
    "\n",
    "# aggregate switches\n",
    "totalGains <- sum(pfam.switch_info$GainNum)\n",
    "totalLosses <- sum(pfam.switch_info$LostNum)\n",
    "\n",
    "# calculate statistics\n",
    "pf <- merge(pfam.agg,pfam.switch_info,all=T) %>%\n",
    "    mutate(fc_g = GainNum/totalGains/ExpectedSwitchFrequency,\n",
    "           fc_l = LostNum/totalLosses/ExpectedSwitchFrequency) %>%\n",
    "    mutate(., \n",
    "           p_g = apply(subset(.,select=c(\"GainNum\",\"ExpectedSwitchFrequency\")),1,my.binomial.test,totalGains),\n",
    "           p_l = apply(subset(.,select=c(\"LostNum\",\"ExpectedSwitchFrequency\")),1,my.binomial.test,totalLosses)) %>%\n",
    "    mutate(adjp_g = p.adjust(p_g),\n",
    "           adjp_l = p.adjust(p_l)) %>%\n",
    "    mutate(Name = gsub(\"|\",\"@\",Feature,fixed = T)) %>%\n",
    "    mutate(Name = gsub(\"_\",\" \",Name,fixed = T)) %>%\n",
    "    mutate(id = unlist(strsplit(Name,\"@\"))[c(T,F)], \n",
    "           Name = unlist(strsplit(Name,\"@\"))[c(F,T)])"
   ]
  },
  {
   "cell_type": "markdown",
   "metadata": {},
   "source": [
    "Let's check the domains that are significantly enriched in switches and that affect more than one switch. The rationale behind the latter criteria is that if a domain is only affected by one switch, we have no-way to ensure it is domain specific rather than gene-specific."
   ]
  },
  {
   "cell_type": "code",
   "execution_count": 4,
   "metadata": {
    "ExecuteTime": {
     "end_time": "2016-05-30T18:44:30.972718",
     "start_time": "2016-05-30T16:43:17.484Z"
    },
    "collapsed": false
   },
   "outputs": [
    {
     "data": {
      "text/html": [
       "590"
      ],
      "text/latex": [
       "590"
      ],
      "text/markdown": [
       "590"
      ],
      "text/plain": [
       "[1] 590"
      ]
     },
     "execution_count": 4,
     "metadata": {},
     "output_type": "execute_result"
    },
    {
     "data": {
      "text/html": [
       "108"
      ],
      "text/latex": [
       "108"
      ],
      "text/markdown": [
       "108"
      ],
      "text/plain": [
       "[1] 108"
      ]
     },
     "execution_count": 4,
     "metadata": {},
     "output_type": "execute_result"
    }
   ],
   "source": [
    "sum(pf$adjp_l<0.05 & pf$switches_l>0,na.rm=T)\n",
    "sum(pf$adjp_g<0.05 & pf$switches_g>0,na.rm=T)"
   ]
  },
  {
   "cell_type": "markdown",
   "metadata": {},
   "source": [
    "## Description of the domains"
   ]
  },
  {
   "cell_type": "code",
   "execution_count": 5,
   "metadata": {
    "ExecuteTime": {
     "end_time": "2016-05-30T18:44:31.038531",
     "start_time": "2016-05-30T16:43:17.490Z"
    },
    "collapsed": false
   },
   "outputs": [
    {
     "data": {
      "text/plain": [
       "\n",
       "     Gained        Lost Not altered \n",
       "         68         335        4181 "
      ]
     },
     "execution_count": 5,
     "metadata": {},
     "output_type": "execute_result"
    }
   ],
   "source": [
    "# plot number of domains in each condition\n",
    "df <- pf\n",
    "\n",
    "df$Tag <- \"Not altered\"\n",
    "df$Tag[df$adjp_g < 0.05 & pf$switches_g>1] <- \"Gained\"\n",
    "df$Tag[df$adjp_l < 0.05 & pf$switches_l>1] <- \"Lost\"\n",
    "df$Tag[df$adjp_g < 0.05  & pf$switches_g>1 & df$adjp_l < 0.05 & pf$switches_l>1] <- \"Both\"\n",
    "\n",
    "table(df$Tag)"
   ]
  },
  {
   "cell_type": "markdown",
   "metadata": {},
   "source": [
    "### Comparison to mutations"
   ]
  },
  {
   "cell_type": "code",
   "execution_count": 6,
   "metadata": {
    "ExecuteTime": {
     "end_time": "2016-05-30T18:44:44.621616",
     "start_time": "2016-05-30T16:43:17.496Z"
    },
    "collapsed": false
   },
   "outputs": [
    {
     "name": "stderr",
     "output_type": "stream",
     "text": [
      "Aggregation function missing: defaulting to length\n"
     ]
    }
   ],
   "source": [
    "# Read mutations\n",
    "allMuts <- c(\"Frame_Shift_Del\",\"Frame_Shift_Ins\",\"In_Frame_Del\",\"In_Frame_Ins\",\"Missense_Mutation\",\n",
    "             \"Nonsense_Mutation\",\"Nonstop_Mutation\",\"Frame_Shift_Del_out\",\"Frame_Shift_Ins_out\",\n",
    "             \"Nonsense_Mutation_out\")\n",
    "inFeatureMuts <- c(\"Frame_Shift_Del\",\"Frame_Shift_Ins\",\"In_Frame_Del\",\"In_Frame_Ins\",\n",
    "                   \"Missense_Mutation\",\"Nonsense_Mutation\",\"Nonstop_Mutation\")\n",
    "\n",
    "## calculate total mutations per domain\n",
    "proteome.muts <- read_tsv(\"../data/mutations/proteome_mutations.txt\") %>%\n",
    "    filter(Analysis==\"Pfam\") %>%\n",
    "    dcast(formula=Feature+Cancer+Transcript~Type, value.var=\"Patient\") %>%\n",
    "    group_by(Feature) %>%\n",
    "    summarise(Frame_Shift_Del = sum(Frame_Shift_Del),\n",
    "              Frame_Shift_Ins = sum(Frame_Shift_Ins),\n",
    "              In_Frame_Del = sum(In_Frame_Del),\n",
    "              In_Frame_Ins = sum(In_Frame_Ins),\n",
    "              Missense_Mutation = sum(Missense_Mutation),\n",
    "              Nonsense_Mutation = sum(Nonsense_Mutation),\n",
    "              Nonstop_Mutation = sum(Nonstop_Mutation),\n",
    "              Frame_Shift_Del_out = sum(Frame_Shift_Del_out),\n",
    "              Frame_Shift_Ins_out = sum(Frame_Shift_Ins_out),\n",
    "              Nonsense_Mutation_out = sum(Nonsense_Mutation_out)) %>%\n",
    "    mutate(TotalMutations = rowSums(.[,inFeatureMuts]))\n",
    "\n",
    "# enrichment test\n",
    "pf.m <- merge(pfam.agg,proteome.muts) %>%\n",
    "    mutate(fc_m = TotalMutations/sum(TotalMutations)/ExpectedMutFrequency,\n",
    "           p_m = apply(.[,c(\"TotalMutations\",\"ExpectedMutFrequency\")],1, my.binomial.test, sum(TotalMutations)),\n",
    "           adjp_m = p.adjust(p_m))\n",
    "\n",
    "# create table with all the analysis\n",
    "pf.all <- merge(pf,pf.m,all=T)\n",
    "\n",
    "# save results\n",
    "subset(pf.all,select=c(\"id\",\"Feature\",\"ProteomeCounts\",\"ExpectedSwitchFrequency\",\"LostNum\",\"GainNum\",\n",
    "                   \"fc_g\",\"fc_l\",\"fc_m\",\"p_g\",\"adjp_g\",\"p_l\",\"adjp_l\",\"p_m\",\"adjp_m\",\"H_g\",\"H_l\",\n",
    "                   \"switches_g\",\"switches_l\",\"patients_g\",\"patients_l\")) %>%\n",
    "    write_tsv(\"../data/structural_analysis/pfam_enrichment_analysis.tsv\")"
   ]
  },
  {
   "cell_type": "code",
   "execution_count": 7,
   "metadata": {
    "ExecuteTime": {
     "end_time": "2016-05-30T18:44:44.661264",
     "start_time": "2016-05-30T16:43:17.501Z"
    },
    "collapsed": false
   },
   "outputs": [
    {
     "data": {
      "text/html": [
       "334"
      ],
      "text/latex": [
       "334"
      ],
      "text/markdown": [
       "334"
      ],
      "text/plain": [
       "[1] 334"
      ]
     },
     "execution_count": 7,
     "metadata": {},
     "output_type": "execute_result"
    }
   ],
   "source": [
    "sum(pf.m$adjp_m < 0.05)"
   ]
  },
  {
   "cell_type": "code",
   "execution_count": 8,
   "metadata": {
    "ExecuteTime": {
     "end_time": "2016-05-30T18:44:44.799490",
     "start_time": "2016-05-30T16:43:17.508Z"
    },
    "collapsed": false
   },
   "outputs": [
    {
     "data": {
      "text/plain": [
       "\n",
       "\tFisher's Exact Test for Count Data\n",
       "\n",
       "data:  m\n",
       "p-value = 0.0008592\n",
       "alternative hypothesis: true odds ratio is not equal to 1\n",
       "95 percent confidence interval:\n",
       " 0.4004619 0.7920342\n",
       "sample estimates:\n",
       "odds ratio \n",
       " 0.5583655 \n"
      ]
     },
     "execution_count": 8,
     "metadata": {},
     "output_type": "execute_result"
    },
    {
     "data": {
      "text/html": [
       "<table>\n",
       "<thead><tr><th></th><th scope=col>M</th><th scope=col>NM</th></tr></thead>\n",
       "<tbody>\n",
       "\t<tr><th scope=row>NS</th><td>287</td><td>3894</td></tr>\n",
       "\t<tr><th scope=row>S</th><td>47</td><td>356</td></tr>\n",
       "</tbody>\n",
       "</table>\n"
      ],
      "text/latex": [
       "\\begin{tabular}{r|ll}\n",
       "  & M & NM\\\\\n",
       "\\hline\n",
       "\tNS & 287 & 3894\\\\\n",
       "\tS & 47 & 356\\\\\n",
       "\\end{tabular}\n"
      ],
      "text/plain": [
       "     M   NM\n",
       "NS 287 3894\n",
       "S   47  356"
      ]
     },
     "execution_count": 8,
     "metadata": {},
     "output_type": "execute_result"
    }
   ],
   "source": [
    "\n",
    "\n",
    "M <- pf.all$adjp_m < 0.05\n",
    "S <- (pf.all$adjp_l < 0.05 & pf.all$switches_l > 1) | (pf.all$adjp_g < 0.05 & pf.all$switches_g > 1)\n",
    "\n",
    "l <- rep(\"N\", nrow(pf.all))\n",
    "l[M] <- \"M\"\n",
    "l[S] <- \"S\"\n",
    "l[M&S] <- \"MS\"\n",
    "\n",
    "m <- matrix(table(l),2,2)\n",
    "fisher.test(m)\n",
    "m %>%\n",
    "    as.data.frame %>%\n",
    "    set_colnames(c(\"M\",\"NM\")) %>%\n",
    "    set_rownames(c(\"NS\",\"S\"))"
   ]
  },
  {
   "cell_type": "markdown",
   "metadata": {},
   "source": [
    "There is a higher coincidence than expected by chance. Hence, switches and mutations seem to affect the same protein domains."
   ]
  },
  {
   "cell_type": "code",
   "execution_count": 9,
   "metadata": {
    "ExecuteTime": {
     "end_time": "2016-05-30T18:44:44.865046",
     "start_time": "2016-05-30T16:43:17.513Z"
    },
    "collapsed": false
   },
   "outputs": [
    {
     "data": {
      "text/html": [
       "4584"
      ],
      "text/latex": [
       "4584"
      ],
      "text/markdown": [
       "4584"
      ],
      "text/plain": [
       "[1] 4584"
      ]
     },
     "execution_count": 9,
     "metadata": {},
     "output_type": "execute_result"
    },
    {
     "data": {
      "text/html": [
       "1776"
      ],
      "text/latex": [
       "1776"
      ],
      "text/markdown": [
       "1776"
      ],
      "text/plain": [
       "[1] 1776"
      ]
     },
     "execution_count": 9,
     "metadata": {},
     "output_type": "execute_result"
    },
    {
     "data": {
      "text/html": [
       "4436"
      ],
      "text/latex": [
       "4436"
      ],
      "text/markdown": [
       "4436"
      ],
      "text/plain": [
       "[1] 4436"
      ]
     },
     "execution_count": 9,
     "metadata": {},
     "output_type": "execute_result"
    }
   ],
   "source": [
    "# total number of domains observed\n",
    "length(unique(c(pfam.agg$Feature,pf$Feature,pf.m$Feature)))\n",
    "\n",
    "# number of domains for which switch has been observed\n",
    "sum(pf$LostNum > 0 | pf$GainNum > 0,na.rm=T)\n",
    "\n",
    "# number of domains for which a mutation has been observed\n",
    "sum(pf.m$TotalMutations > 0)"
   ]
  },
  {
   "cell_type": "markdown",
   "metadata": {},
   "source": [
    "### GO term enrichment"
   ]
  },
  {
   "cell_type": "raw",
   "metadata": {
    "ExecuteTime": {
     "end_time": "2016-05-30T17:14:42.915007",
     "start_time": "2016-05-30T15:13:16.000Z"
    },
    "collapsed": false
   },
   "source": [
    "# gains\n",
    "awk '$10<0.05' data/pancancer/structural_analysis/pfam_enrichment_analysis.tsv | awk '$15>0' | cut -f1\n",
    "\n",
    "# losses\n",
    "awk '$12<0.05' data/pancancer/structural_analysis/pfam_enrichment_analysis.tsv | awk '$16>0' | cut -f1\n",
    "\n",
    "Paste in http://supfam.org/SUPERFAMILY/cgi-bin/dcenrichment.cgi using functions/diseases."
   ]
  }
 ],
 "metadata": {
  "kernelspec": {
   "display_name": "R",
   "language": "R",
   "name": "ir"
  },
  "language_info": {
   "codemirror_mode": "r",
   "file_extension": ".r",
   "mimetype": "text/x-r-source",
   "name": "R",
   "pygments_lexer": "r",
   "version": "3.2.2"
  },
  "toc": {
   "toc_cell": false,
   "toc_number_sections": true,
   "toc_threshold": 6,
   "toc_window_display": false
  }
 },
 "nbformat": 4,
 "nbformat_minor": 0
}
