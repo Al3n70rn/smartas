{
 "cells": [
  {
   "cell_type": "code",
   "execution_count": 1,
   "metadata": {
    "ExecuteTime": {
     "end_time": "2016-08-26T16:16:51.447933",
     "start_time": "2016-08-26T14:14:22.156Z"
    },
    "collapsed": false
   },
   "outputs": [
    {
     "name": "stderr",
     "output_type": "stream",
     "text": [
      "\n",
      "Attaching package: ‘dplyr’\n",
      "\n",
      "The following objects are masked from ‘package:data.table’:\n",
      "\n",
      "    between, last\n",
      "\n",
      "The following objects are masked from ‘package:plyr’:\n",
      "\n",
      "    arrange, count, desc, failwith, id, mutate, rename, summarise,\n",
      "    summarize\n",
      "\n",
      "The following objects are masked from ‘package:stats’:\n",
      "\n",
      "    filter, lag\n",
      "\n",
      "The following objects are masked from ‘package:base’:\n",
      "\n",
      "    intersect, setdiff, setequal, union\n",
      "\n",
      "\n",
      "Attaching package: ‘magrittr’\n",
      "\n",
      "The following object is masked from ‘package:tidyr’:\n",
      "\n",
      "    extract\n",
      "\n"
     ]
    }
   ],
   "source": [
    "library(plyr)\n",
    "source(\"../data/env/variables.R\")\n",
    "source(\"~/wisdom/r/data_analysis_environment.R\")\n",
    "source(\"~/wisdom/r/clean_theme.R\")\n",
    "library(gtools)\n",
    "\n",
    "# Read switches\n",
    "switches <- read_tsv(\"../data/pancancer/candidateList_full.tumorSplit.tsv\") %>%\n",
    "    filter(Reliable==1 & Origin==\"Tumor\")\n",
    "\n",
    "# Read feature information\n",
    "features <- read_tsv(\"../data/mutations/proteome_features.txt\") %>%\n",
    "    filter(Analysis == \"Pfam\")\n",
    "\n",
    "# Read information of the expressed transcripts (TPM>=0.1)\n",
    "proteome <- read_tsv(\"../data/mutations/proteome_information.txt\") %>%\n",
    "    mutate(asEvidence=as.numeric(asEvidence==\"True\"))\n",
    "\n",
    "# Get statistics per feature\n",
    "pfam.agg <- features %>%\n",
    "    # consider splicing information for frequency calculation\n",
    "    merge(proteome) %>%\n",
    "    # count at feature level\n",
    "    group_by(Feature) %>%\n",
    "    summarize(ProteomeCounts=length(Feature)-sum(!asEvidence),  ## remove cases where no as evidence was found\n",
    "              TotalLength = sum(FeatureLength)) %>% ## for mutations we apply no filter\n",
    "    # get expected frequencies\n",
    "    mutate(ExpectedSwitchFrequency = ProteomeCounts/sum(ProteomeCounts), \n",
    "           ExpectedMutFrequency = TotalLength/sum(TotalLength))\n",
    "\n",
    "# Read structural changes\n",
    "switches.pfam <- read_tsv('../data/structural_analysis/structural_features.onlyModels.tsv') %>%\n",
    "    filter(Random==\"NonRandom\" & Analysis==\"Pfam\" & WhatsHappenning!=\"Nothing\") %>%\n",
    "    # Use switch information to characterize structural information\n",
    "    merge(switches, by=c(\"Tumor\",\"GeneId\",\"Symbol\",\"Normal_transcript\",\"Tumor_transcript\"))"
   ]
  },
  {
   "cell_type": "markdown",
   "metadata": {},
   "source": [
    "## Calculate enrichment in switches"
   ]
  },
  {
   "cell_type": "code",
   "execution_count": 2,
   "metadata": {
    "ExecuteTime": {
     "end_time": "2016-08-26T16:17:07.421926",
     "start_time": "2016-08-26T14:14:22.179Z"
    },
    "collapsed": false
   },
   "outputs": [],
   "source": [
    "get.uniq.switches <- function(genes,ntxs,ttxs,col,value){\n",
    "    as.data.frame(cbind(genes,ntxs,ttxs,col)) %>%\n",
    "        filter(col == value) %>%\n",
    "        unique %>%\n",
    "        nrow\n",
    "}\n",
    "\n",
    "my.binomial.test <- function(x,testNumber){ \n",
    "    if (!is.na(x[1]) & ! is.na(x[2]))\n",
    "        binom.test(x[1],testNumber,x[2],\"greater\")$p.value\n",
    "    else\n",
    "        NA\n",
    "}\n",
    "\n",
    "pfam.switch_info <- switches.pfam %>%\n",
    "    group_by(Feature) %>%\n",
    "    summarize(LostNum = sum((WhatsHappenning==\"Lost_in_tumor\") * PatientNumber), \n",
    "              GainNum = sum((WhatsHappenning==\"Gained_in_tumor\") * PatientNumber), \n",
    "              switches_g = get.uniq.switches(GeneId,Normal_transcript,Tumor_transcript,\n",
    "                                             WhatsHappenning,\"Gained_in_tumor\"),\n",
    "              switches_l = get.uniq.switches(GeneId,Normal_transcript,Tumor_transcript, \n",
    "                                             WhatsHappenning,\"Lost_in_tumor\"))\n",
    "\n",
    "# aggregate switches\n",
    "totalGains <- sum(pfam.switch_info$GainNum)\n",
    "totalLosses <- sum(pfam.switch_info$LostNum)\n",
    "\n",
    "# calculate statistics\n",
    "pf <- merge(pfam.agg,pfam.switch_info,all=T) %>%\n",
    "    mutate(fc_g = GainNum/totalGains/ExpectedSwitchFrequency,\n",
    "           fc_l = LostNum/totalLosses/ExpectedSwitchFrequency) %>%\n",
    "    mutate(., \n",
    "           p_g = apply(subset(.,select=c(\"GainNum\",\"ExpectedSwitchFrequency\")),1,my.binomial.test,totalGains),\n",
    "           adjp_g = p.adjust(p_g),\n",
    "           p_l = apply(subset(.,select=c(\"LostNum\",\"ExpectedSwitchFrequency\")),1,my.binomial.test,totalLosses),\n",
    "           adjp_l = p.adjust(p_l),\n",
    "           Name = gsub(\"|\",\"@\",Feature,fixed = T),\n",
    "           Name = gsub(\"_\",\" \",Name,fixed = T),\n",
    "           id = unlist(strsplit(Name,\"@\"))[c(T,F)], \n",
    "           Name = unlist(strsplit(Name,\"@\"))[c(F,T)])"
   ]
  },
  {
   "cell_type": "markdown",
   "metadata": {},
   "source": [
    "Let's check the domains that are significantly enriched in switches and that affect more than one switch. The rationale behind the latter criteria is that if a domain is only affected by one switch, we have no-way to ensure it is domain specific rather than gene-specific."
   ]
  },
  {
   "cell_type": "code",
   "execution_count": 3,
   "metadata": {
    "ExecuteTime": {
     "end_time": "2016-08-26T16:17:07.475736",
     "start_time": "2016-08-26T14:14:22.200Z"
    },
    "collapsed": false
   },
   "outputs": [
    {
     "data": {
      "text/html": [
       "241"
      ],
      "text/latex": [
       "241"
      ],
      "text/markdown": [
       "241"
      ],
      "text/plain": [
       "[1] 241"
      ]
     },
     "execution_count": 3,
     "metadata": {},
     "output_type": "execute_result"
    },
    {
     "data": {
      "text/html": [
       "63"
      ],
      "text/latex": [
       "63"
      ],
      "text/markdown": [
       "63"
      ],
      "text/plain": [
       "[1] 63"
      ]
     },
     "execution_count": 3,
     "metadata": {},
     "output_type": "execute_result"
    }
   ],
   "source": [
    "sum(pf$adjp_l<0.05 & pf$switches_l>1,na.rm=T)\n",
    "sum(pf$adjp_g<0.05 & pf$switches_g>1,na.rm=T)"
   ]
  },
  {
   "cell_type": "markdown",
   "metadata": {},
   "source": [
    "## Description of the domains"
   ]
  },
  {
   "cell_type": "code",
   "execution_count": 4,
   "metadata": {
    "ExecuteTime": {
     "end_time": "2016-08-26T16:17:07.546768",
     "start_time": "2016-08-26T14:14:22.213Z"
    },
    "collapsed": false
   },
   "outputs": [
    {
     "data": {
      "text/plain": [
       "\n",
       "       Both      Gained        Lost Not altered \n",
       "         16          47         225        5014 "
      ]
     },
     "execution_count": 4,
     "metadata": {},
     "output_type": "execute_result"
    }
   ],
   "source": [
    "# plot number of domains in each condition\n",
    "df <- pf\n",
    "\n",
    "df$Tag <- \"Not altered\"\n",
    "df$Tag[df$adjp_g < 0.05 & pf$switches_g>1] <- \"Gained\"\n",
    "df$Tag[df$adjp_l < 0.05 & pf$switches_l>1] <- \"Lost\"\n",
    "df$Tag[df$adjp_g < 0.05  & pf$switches_g>1 & df$adjp_l < 0.05 & pf$switches_l>1] <- \"Both\"\n",
    "\n",
    "table(df$Tag)"
   ]
  },
  {
   "cell_type": "markdown",
   "metadata": {},
   "source": [
    "### Comparison to mutations"
   ]
  },
  {
   "cell_type": "code",
   "execution_count": 5,
   "metadata": {
    "ExecuteTime": {
     "end_time": "2016-08-26T16:17:17.702417",
     "start_time": "2016-08-26T14:14:22.226Z"
    },
    "collapsed": false
   },
   "outputs": [],
   "source": [
    "# Read mutations\n",
    "allMuts <- c(\"Frame_Shift_Del\",\"Frame_Shift_Ins\",\"In_Frame_Del\",\"In_Frame_Ins\",\"Missense_Mutation\",\n",
    "             \"Nonsense_Mutation\",\"Nonstop_Mutation\",\"Frame_Shift_Del_out\",\"Frame_Shift_Ins_out\",\n",
    "             \"Nonsense_Mutation_out\")\n",
    "inFeatureMuts <- c(\"Frame_Shift_Del\",\"Frame_Shift_Ins\",\"In_Frame_Del\",\"In_Frame_Ins\",\n",
    "                   \"Missense_Mutation\",\"Nonsense_Mutation\",\"Nonstop_Mutation\")\n",
    "\n",
    "## calculate total mutations per domain\n",
    "proteome.muts <- read_tsv(\"../data/mutations/proteome_mutations.txt\") %>%\n",
    "    filter(Analysis==\"Pfam\") %>%\n",
    "    # convert from long format to wide format\n",
    "    dcast(formula=Feature+Tumor+Transcript~Type, value.var=\"Patient\",fun.aggregate=length) %>%\n",
    "    group_by(Feature) %>%\n",
    "    summarise(Frame_Shift_Del = sum(Frame_Shift_Del),\n",
    "              Frame_Shift_Ins = sum(Frame_Shift_Ins),\n",
    "              In_Frame_Del = sum(In_Frame_Del),\n",
    "              In_Frame_Ins = sum(In_Frame_Ins),\n",
    "              Missense_Mutation = sum(Missense_Mutation),\n",
    "              Nonsense_Mutation = sum(Nonsense_Mutation),\n",
    "              Nonstop_Mutation = sum(Nonstop_Mutation),\n",
    "              Frame_Shift_Del_out = sum(Frame_Shift_Del_out),\n",
    "              Frame_Shift_Ins_out = sum(Frame_Shift_Ins_out),\n",
    "              Nonsense_Mutation_out = sum(Nonsense_Mutation_out)) %>%\n",
    "    mutate(TotalMutations = rowSums(.[,inFeatureMuts]))\n",
    "\n",
    "# enrichment test\n",
    "pf.m <- merge(pfam.agg,proteome.muts) %>%\n",
    "    mutate(fc_m = TotalMutations/sum(TotalMutations)/ExpectedMutFrequency,\n",
    "           p_m = apply(.[,c(\"TotalMutations\",\"ExpectedMutFrequency\")],1, my.binomial.test, sum(TotalMutations)),\n",
    "           adjp_m = p.adjust(p_m))\n",
    "\n",
    "# create table with all the analysis\n",
    "pf.all <- merge(pf,pf.m,all=T)\n",
    "\n",
    "# save results\n",
    "pf.all %>% \n",
    "    select(id,Feature,ProteomeCounts,ExpectedSwitchFrequency,LostNum,GainNum,\n",
    "           fc_g,fc_l,fc_m,p_g,adjp_g,p_l,adjp_l,p_m,adjp_m,switches_g,switches_l) %>%\n",
    "    write_tsv(\"../results/pfam_enrichment_analysis.tsv\")"
   ]
  },
  {
   "cell_type": "code",
   "execution_count": 6,
   "metadata": {
    "ExecuteTime": {
     "end_time": "2016-08-26T16:17:17.747724",
     "start_time": "2016-08-26T14:14:22.247Z"
    },
    "collapsed": false
   },
   "outputs": [
    {
     "data": {
      "text/html": [
       "76"
      ],
      "text/latex": [
       "76"
      ],
      "text/markdown": [
       "76"
      ],
      "text/plain": [
       "[1] 76"
      ]
     },
     "execution_count": 6,
     "metadata": {},
     "output_type": "execute_result"
    }
   ],
   "source": [
    "sum(pf.m$adjp_m < 0.05)"
   ]
  },
  {
   "cell_type": "code",
   "execution_count": 7,
   "metadata": {
    "ExecuteTime": {
     "end_time": "2016-08-26T16:17:17.910943",
     "start_time": "2016-08-26T14:14:22.280Z"
    },
    "collapsed": false
   },
   "outputs": [
    {
     "data": {
      "text/plain": [
       "\n",
       "\tFisher's Exact Test for Count Data\n",
       "\n",
       "data:  m\n",
       "p-value = 1.03e-05\n",
       "alternative hypothesis: true odds ratio is not equal to 1\n",
       "95 percent confidence interval:\n",
       " 2.322412 8.067392\n",
       "sample estimates:\n",
       "odds ratio \n",
       "  4.458976 \n"
      ]
     },
     "execution_count": 7,
     "metadata": {},
     "output_type": "execute_result"
    },
    {
     "data": {
      "text/html": [
       "<table>\n",
       "<thead><tr><th></th><th scope=col>M</th><th scope=col>NM</th></tr></thead>\n",
       "<tbody>\n",
       "\t<tr><th scope=row>S</th><td> 15</td><td>273</td></tr>\n",
       "\t<tr><th scope=row>NS</th><td>  61</td><td>4953</td></tr>\n",
       "</tbody>\n",
       "</table>\n"
      ],
      "text/latex": [
       "\\begin{tabular}{r|ll}\n",
       "  & M & NM\\\\\n",
       "\\hline\n",
       "\tS &  15 & 273\\\\\n",
       "\tNS &   61 & 4953\\\\\n",
       "\\end{tabular}\n"
      ],
      "text/markdown": [
       "1. 15\n",
       "2. 61\n",
       "3. 273\n",
       "4. 4953\n",
       "\n",
       "\n"
      ],
      "text/plain": [
       "    M   NM\n",
       "S  15  273\n",
       "NS 61 4953"
      ]
     },
     "execution_count": 7,
     "metadata": {},
     "output_type": "execute_result"
    }
   ],
   "source": [
    "M <- pf.all$adjp_m < 0.05\n",
    "M[is.na(M)] <- FALSE\n",
    "L <- pf.all$adjp_l < 0.05 & pf.all$switches_l > 1\n",
    "L[is.na(L)] <- FALSE\n",
    "G <- pf.all$adjp_g < 0.05 & pf.all$switches_g > 1\n",
    "G[is.na(G)] <- FALSE\n",
    "S <- L | G\n",
    "\n",
    "l <- rep(\"N\", nrow(pf.all))\n",
    "l[M] <- \"M\"\n",
    "l[S] <- \"S\"\n",
    "l[M&S] <- \"MS\"\n",
    "\n",
    "m <- matrix(table(l),2,2) %>%\n",
    "    set_colnames(c(\"M\",\"NM\")) %>%\n",
    "    set_rownames(c(\"NS\",\"S\"))\n",
    "\n",
    "m <- m[c(\"S\",\"NS\"),c(\"M\",\"NM\")]\n",
    "fisher.test(m)\n",
    "m"
   ]
  },
  {
   "cell_type": "code",
   "execution_count": 8,
   "metadata": {
    "ExecuteTime": {
     "end_time": "2016-08-26T16:17:17.979346",
     "start_time": "2016-08-26T14:14:22.301Z"
    },
    "collapsed": false
   },
   "outputs": [
    {
     "data": {
      "text/html": [
       "9"
      ],
      "text/latex": [
       "9"
      ],
      "text/markdown": [
       "9"
      ],
      "text/plain": [
       "[1] 9"
      ]
     },
     "execution_count": 8,
     "metadata": {},
     "output_type": "execute_result"
    },
    {
     "data": {
      "text/html": [
       "8"
      ],
      "text/latex": [
       "8"
      ],
      "text/markdown": [
       "8"
      ],
      "text/plain": [
       "[1] 8"
      ]
     },
     "execution_count": 8,
     "metadata": {},
     "output_type": "execute_result"
    },
    {
     "data": {
      "text/html": [
       "2"
      ],
      "text/latex": [
       "2"
      ],
      "text/markdown": [
       "2"
      ],
      "text/plain": [
       "[1] 2"
      ]
     },
     "execution_count": 8,
     "metadata": {},
     "output_type": "execute_result"
    }
   ],
   "source": [
    "# muts + losses\n",
    "sum(M&L)\n",
    "# muts + gains\n",
    "sum(M&G)\n",
    "# muts + splicing\n",
    "sum(M&L&G)"
   ]
  },
  {
   "cell_type": "markdown",
   "metadata": {},
   "source": [
    "There is a higher coincidence than expected by chance. Hence, switches and mutations seem to affect the same protein domains."
   ]
  },
  {
   "cell_type": "code",
   "execution_count": 9,
   "metadata": {
    "ExecuteTime": {
     "end_time": "2016-08-26T16:17:18.033164",
     "start_time": "2016-08-26T14:14:22.326Z"
    },
    "collapsed": false
   },
   "outputs": [
    {
     "data": {
      "text/html": [
       "<table>\n",
       "<thead><tr><th scope=col>Id</th><th scope=col>Name</th></tr></thead>\n",
       "<tbody>\n",
       "\t<tr><td>PF00028        </td><td>Cadherin domain</td></tr>\n",
       "\t<tr><td>PF00041                    </td><td>Fibronectin type III domain</td></tr>\n",
       "\t<tr><td>PF00071   </td><td>Ras family</td></tr>\n",
       "\t<tr><td>PF00090                     </td><td>Thrombospondin type 1 domain</td></tr>\n",
       "\t<tr><td>PF00125                   </td><td>Core histone H2A/H2B/H3/H4</td></tr>\n",
       "\t<tr><td>PF00413 </td><td>Matrixin</td></tr>\n",
       "\t<tr><td>PF00683  </td><td>TB domain</td></tr>\n",
       "\t<tr><td>PF00969                                         </td><td>Class II histocompatibility antigen, beta domain</td></tr>\n",
       "\t<tr><td>PF01421                                      </td><td>Reprolysin (M12B) family zinc metalloprotease</td></tr>\n",
       "\t<tr><td>PF01833       </td><td>IPT/TIG domain</td></tr>\n",
       "\t<tr><td>PF02931                                                 </td><td>Neurotransmitter-gated ion-channel ligand binding domain</td></tr>\n",
       "\t<tr><td>PF04103         </td><td>CD20-like family</td></tr>\n",
       "\t<tr><td>PF07645                   </td><td>Calcium-binding EGF domain</td></tr>\n",
       "\t<tr><td>PF07679                    </td><td>Immunoglobulin I-set domain</td></tr>\n",
       "\t<tr><td>PF10409                                    </td><td>C2 domain of PTEN tumour-suppressor protein</td></tr>\n",
       "</tbody>\n",
       "</table>\n"
      ],
      "text/latex": [
       "\\begin{tabular}{ll}\n",
       " Id & Name\\\\\n",
       "\\hline\n",
       "\t PF00028         & Cadherin domain\\\\\n",
       "\t PF00041                     & Fibronectin type III domain\\\\\n",
       "\t PF00071    & Ras family\\\\\n",
       "\t PF00090                      & Thrombospondin type 1 domain\\\\\n",
       "\t PF00125                    & Core histone H2A/H2B/H3/H4\\\\\n",
       "\t PF00413  & Matrixin\\\\\n",
       "\t PF00683   & TB domain\\\\\n",
       "\t PF00969                                          & Class II histocompatibility antigen, beta domain\\\\\n",
       "\t PF01421                                       & Reprolysin (M12B) family zinc metalloprotease\\\\\n",
       "\t PF01833        & IPT/TIG domain\\\\\n",
       "\t PF02931                                                  & Neurotransmitter-gated ion-channel ligand binding domain\\\\\n",
       "\t PF04103          & CD20-like family\\\\\n",
       "\t PF07645                    & Calcium-binding EGF domain\\\\\n",
       "\t PF07679                     & Immunoglobulin I-set domain\\\\\n",
       "\t PF10409                                     & C2 domain of PTEN tumour-suppressor protein\\\\\n",
       "\\end{tabular}\n"
      ],
      "text/markdown": [
       "1. 'PF00028'\n",
       "2. 'PF00041'\n",
       "3. 'PF00071'\n",
       "4. 'PF00090'\n",
       "5. 'PF00125'\n",
       "6. 'PF00413'\n",
       "7. 'PF00683'\n",
       "8. 'PF00969'\n",
       "9. 'PF01421'\n",
       "10. 'PF01833'\n",
       "11. 'PF02931'\n",
       "12. 'PF04103'\n",
       "13. 'PF07645'\n",
       "14. 'PF07679'\n",
       "15. 'PF10409'\n",
       "16. 'Cadherin domain'\n",
       "17. 'Fibronectin type III domain'\n",
       "18. 'Ras family'\n",
       "19. 'Thrombospondin type 1 domain'\n",
       "20. 'Core histone H2A/H2B/H3/H4'\n",
       "21. 'Matrixin'\n",
       "22. 'TB domain'\n",
       "23. 'Class II histocompatibility antigen, beta domain'\n",
       "24. 'Reprolysin (M12B) family zinc metalloprotease'\n",
       "25. 'IPT/TIG domain'\n",
       "26. 'Neurotransmitter-gated ion-channel ligand binding domain'\n",
       "27. 'CD20-like family'\n",
       "28. 'Calcium-binding EGF domain'\n",
       "29. 'Immunoglobulin I-set domain'\n",
       "30. 'C2 domain of PTEN tumour-suppressor protein'\n",
       "\n",
       "\n"
      ],
      "text/plain": [
       "      Id        Name                                                      \n",
       " [1,] \"PF00028\" \"Cadherin domain\"                                         \n",
       " [2,] \"PF00041\" \"Fibronectin type III domain\"                             \n",
       " [3,] \"PF00071\" \"Ras family\"                                              \n",
       " [4,] \"PF00090\" \"Thrombospondin type 1 domain\"                            \n",
       " [5,] \"PF00125\" \"Core histone H2A/H2B/H3/H4\"                              \n",
       " [6,] \"PF00413\" \"Matrixin\"                                                \n",
       " [7,] \"PF00683\" \"TB domain\"                                               \n",
       " [8,] \"PF00969\" \"Class II histocompatibility antigen, beta domain\"        \n",
       " [9,] \"PF01421\" \"Reprolysin (M12B) family zinc metalloprotease\"           \n",
       "[10,] \"PF01833\" \"IPT/TIG domain\"                                          \n",
       "[11,] \"PF02931\" \"Neurotransmitter-gated ion-channel ligand binding domain\"\n",
       "[12,] \"PF04103\" \"CD20-like family\"                                        \n",
       "[13,] \"PF07645\" \"Calcium-binding EGF domain\"                              \n",
       "[14,] \"PF07679\" \"Immunoglobulin I-set domain\"                             \n",
       "[15,] \"PF10409\" \"C2 domain of PTEN tumour-suppressor protein\"             "
      ]
     },
     "execution_count": 9,
     "metadata": {},
     "output_type": "execute_result"
    }
   ],
   "source": [
    "# display MS domains\n",
    "pf.all$Feature[M&S] %>%\n",
    "    gsub(\"_\",\" \",.) %>%\n",
    "    gsub(\"PF[0-9]+\\\\|\",\"\",.) %>%\n",
    "    cbind(pf.all$id[M&S],.) %>%\n",
    "    set_colnames(c(\"Id\",\"Name\"))"
   ]
  },
  {
   "cell_type": "code",
   "execution_count": 10,
   "metadata": {
    "ExecuteTime": {
     "end_time": "2016-08-26T16:17:19.524626",
     "start_time": "2016-08-26T14:14:22.355Z"
    },
    "collapsed": false
   },
   "outputs": [
    {
     "data": {
      "text/html": [
       "<table>\n",
       "<thead><tr><th></th><th scope=col>GeneId</th><th scope=col>Symbol</th><th scope=col>PatientNumber</th></tr></thead>\n",
       "<tbody>\n",
       "\t<tr><th scope=row>1</th><td>345193</td><td>LRIT3</td><td>134</td></tr>\n",
       "\t<tr><th scope=row>6</th><td>51162</td><td>EGFL7</td><td>129</td></tr>\n",
       "\t<tr><th scope=row>17</th><td>3371</td><td>TNC</td><td>115</td></tr>\n",
       "\t<tr><th scope=row>149</th><td>115273</td><td>RAB42</td><td>89</td></tr>\n",
       "\t<tr><th scope=row>160</th><td>4915</td><td>NTRK2</td><td>72</td></tr>\n",
       "\t<tr><th scope=row>182</th><td>5879</td><td>RAC1</td><td>66</td></tr>\n",
       "\t<tr><th scope=row>194</th><td>4238</td><td>MFAP3</td><td>61</td></tr>\n",
       "\t<tr><th scope=row>204</th><td>345193</td><td>LRIT3</td><td>54</td></tr>\n",
       "\t<tr><th scope=row>209</th><td>9708</td><td>PCDHGA8</td><td>54</td></tr>\n",
       "\t<tr><th scope=row>259</th><td>56138</td><td>PCDHA11</td><td>47</td></tr>\n",
       "\t<tr><th scope=row>299</th><td>79148</td><td>MMP28</td><td>47</td></tr>\n",
       "\t<tr><th scope=row>309</th><td>22883</td><td>CLSTN1</td><td>45</td></tr>\n",
       "\t<tr><th scope=row>313</th><td>4638</td><td>MYLK</td><td>45</td></tr>\n",
       "\t<tr><th scope=row>336</th><td>220001</td><td>VWCE</td><td>39</td></tr>\n",
       "\t<tr><th scope=row>369</th><td>221935</td><td>SDK1</td><td>38</td></tr>\n",
       "</tbody>\n",
       "</table>\n"
      ],
      "text/latex": [
       "\\begin{tabular}{r|lll}\n",
       "  & GeneId & Symbol & PatientNumber\\\\\n",
       "\\hline\n",
       "\t1 & 345193 & LRIT3 & 134\\\\\n",
       "\t6 & 51162 & EGFL7 & 129\\\\\n",
       "\t17 & 3371 & TNC & 115\\\\\n",
       "\t149 & 115273 & RAB42 & 89\\\\\n",
       "\t160 & 4915 & NTRK2 & 72\\\\\n",
       "\t182 & 5879 & RAC1 & 66\\\\\n",
       "\t194 & 4238 & MFAP3 & 61\\\\\n",
       "\t204 & 345193 & LRIT3 & 54\\\\\n",
       "\t209 & 9708 & PCDHGA8 & 54\\\\\n",
       "\t259 & 56138 & PCDHA11 & 47\\\\\n",
       "\t299 & 79148 & MMP28 & 47\\\\\n",
       "\t309 & 22883 & CLSTN1 & 45\\\\\n",
       "\t313 & 4638 & MYLK & 45\\\\\n",
       "\t336 & 220001 & VWCE & 39\\\\\n",
       "\t369 & 221935 & SDK1 & 38\\\\\n",
       "\\end{tabular}\n"
      ],
      "text/plain": [
       "    GeneId  Symbol PatientNumber\n",
       "1   345193   LRIT3           134\n",
       "6    51162   EGFL7           129\n",
       "17    3371     TNC           115\n",
       "149 115273   RAB42            89\n",
       "160   4915   NTRK2            72\n",
       "182   5879    RAC1            66\n",
       "194   4238   MFAP3            61\n",
       "204 345193   LRIT3            54\n",
       "209   9708 PCDHGA8            54\n",
       "259  56138 PCDHA11            47\n",
       "299  79148   MMP28            47\n",
       "309  22883  CLSTN1            45\n",
       "313   4638    MYLK            45\n",
       "336 220001    VWCE            39\n",
       "369 221935    SDK1            38"
      ]
     },
     "execution_count": 10,
     "metadata": {},
     "output_type": "execute_result"
    }
   ],
   "source": [
    "# genes where MS domains change\n",
    "features %>%\n",
    "    filter(Feature %in% pf.all$Feature[M&S]) %>%\n",
    "    merge(switches,by=c(\"GeneId\",\"Symbol\")) %>%\n",
    "    arrange(desc(PatientNumber)) %>%\n",
    "    select(GeneId,Symbol,PatientNumber) %>%\n",
    "    unique %>%\n",
    "    head(n=15)"
   ]
  },
  {
   "cell_type": "code",
   "execution_count": 11,
   "metadata": {
    "ExecuteTime": {
     "end_time": "2016-08-26T16:17:19.597099",
     "start_time": "2016-08-26T14:14:22.373Z"
    },
    "collapsed": false
   },
   "outputs": [
    {
     "data": {
      "text/html": [
       "5302"
      ],
      "text/latex": [
       "5302"
      ],
      "text/markdown": [
       "5302"
      ],
      "text/plain": [
       "[1] 5302"
      ]
     },
     "execution_count": 11,
     "metadata": {},
     "output_type": "execute_result"
    },
    {
     "data": {
      "text/html": [
       "1558"
      ],
      "text/latex": [
       "1558"
      ],
      "text/markdown": [
       "1558"
      ],
      "text/plain": [
       "[1] 1558"
      ]
     },
     "execution_count": 11,
     "metadata": {},
     "output_type": "execute_result"
    },
    {
     "data": {
      "text/html": [
       "5056"
      ],
      "text/latex": [
       "5056"
      ],
      "text/markdown": [
       "5056"
      ],
      "text/plain": [
       "[1] 5056"
      ]
     },
     "execution_count": 11,
     "metadata": {},
     "output_type": "execute_result"
    }
   ],
   "source": [
    "# total number of domains observed\n",
    "length(unique(c(pfam.agg$Feature,pf$Feature,pf.m$Feature)))\n",
    "\n",
    "# number of domains for which switch has been observed\n",
    "sum(pf$LostNum > 0 | pf$GainNum > 0,na.rm=T)\n",
    "\n",
    "# number of domains for which a mutation has been observed\n",
    "sum(pf.m$TotalMutations > 0)"
   ]
  },
  {
   "cell_type": "markdown",
   "metadata": {},
   "source": [
    "### GO term enrichment"
   ]
  },
  {
   "cell_type": "raw",
   "metadata": {
    "ExecuteTime": {
     "end_time": "2016-05-30T17:14:42.915007",
     "start_time": "2016-05-30T15:13:16.000Z"
    },
    "collapsed": false
   },
   "source": [
    "# gains\n",
    "awk '$11<0.05 && $16>1' results/pfam_enrichment_analysis.tsv | cut -f1\n",
    "\n",
    "# losses\n",
    "awk '$13<0.05 && $17>1' results/pfam_enrichment_analysis.tsv | cut -f1\n",
    "\n",
    "# gains + losses\n",
    "awk '($13<0.05 && $17>1) || ($11<0.05 && $16>1)' results/pfam_enrichment_analysis.tsv | cut -f1\n",
    "\n",
    "# mutated\n",
    "awk '$15<0.05' results/pfam_enrichment_analysis.tsv | cut -f1\n",
    "\n",
    "# paste in http://supfam.org/SUPERFAMILY/cgi-bin/dcenrichment.cgi using functions/diseases."
   ]
  },
  {
   "cell_type": "markdown",
   "metadata": {},
   "source": [
    "### Comparison M - S"
   ]
  },
  {
   "cell_type": "code",
   "execution_count": 12,
   "metadata": {
    "ExecuteTime": {
     "end_time": "2016-08-26T16:18:50.066146",
     "start_time": "2016-08-26T14:14:22.508Z"
    },
    "collapsed": false
   },
   "outputs": [
    {
     "name": "stderr",
     "output_type": "stream",
     "text": [
      "Loading required package: RColorBrewer\n",
      "Warning message:\n",
      ": Removed 12 rows containing missing values (geom_errorbar)."
     ]
    },
    {
     "data": {
      "image/png": "[encoded data removed]",
      "image/svg+xml": [
       "<?xml version=\"1.0\" encoding=\"UTF-8\"?>\n",
       "<svg xmlns=\"http://www.w3.org/2000/svg\" xmlns:xlink=\"http://www.w3.org/1999/xlink\" width=\"504pt\" height=\"504pt\" viewBox=\"0 0 504 504\" version=\"1.1\">\n",
       "<defs>\n",
       "<g>\n",
       "<symbol overflow=\"visible\" id=\"glyph0-0\">\n",
       "<path style=\"stroke:none;\" d=\"\"/>\n",
       "</symbol>\n",
       "<symbol overflow=\"visible\" id=\"glyph0-1\">\n",
       "<path style=\"stroke:none;\" d=\"M 4.125 -10.640625 C 3.140625 -10.640625 2.234375 -10.203125 1.6875 -9.46875 C 0.984375 -8.53125 0.640625 -7.109375 0.640625 -5.140625 C 0.640625 -1.5625 1.84375 0.34375 4.125 0.34375 C 6.375 0.34375 7.609375 -1.5625 7.609375 -5.0625 C 7.609375 -7.125 7.28125 -8.5 6.5625 -9.46875 C 6.015625 -10.21875 5.125 -10.640625 4.125 -10.640625 Z M 4.125 -9.46875 C 5.546875 -9.46875 6.25 -8.03125 6.25 -5.171875 C 6.25 -2.15625 5.5625 -0.75 4.09375 -0.75 C 2.703125 -0.75 2 -2.21875 2 -5.125 C 2 -8.046875 2.703125 -9.46875 4.125 -9.46875 Z \"/>\n",
       "</symbol>\n",
       "<symbol overflow=\"visible\" id=\"glyph0-2\">\n",
       "<path style=\"stroke:none;\" d=\"M 2.859375 -1.5625 L 1.3125 -1.5625 L 1.3125 0 L 2.859375 0 Z \"/>\n",
       "</symbol>\n",
       "<symbol overflow=\"visible\" id=\"glyph0-3\">\n",
       "<path style=\"stroke:none;\" d=\"M 7.59375 -1.3125 L 2 -1.3125 C 2.125 -2.171875 2.609375 -2.734375 3.921875 -3.5 L 5.421875 -4.3125 C 6.90625 -5.109375 7.671875 -6.203125 7.671875 -7.515625 C 7.671875 -8.40625 7.3125 -9.21875 6.671875 -9.796875 C 6.046875 -10.359375 5.265625 -10.640625 4.265625 -10.640625 C 2.90625 -10.640625 1.90625 -10.15625 1.3125 -9.25 C 0.9375 -8.6875 0.78125 -8.03125 0.75 -6.9375 L 2.0625 -6.9375 C 2.109375 -7.671875 2.203125 -8.09375 2.390625 -8.4375 C 2.734375 -9.09375 3.421875 -9.484375 4.21875 -9.484375 C 5.421875 -9.484375 6.3125 -8.625 6.3125 -7.484375 C 6.3125 -6.640625 5.8125 -5.921875 4.875 -5.390625 L 3.5 -4.609375 C 1.28125 -3.34375 0.625 -2.34375 0.515625 0 L 7.59375 0 Z \"/>\n",
       "</symbol>\n",
       "<symbol overflow=\"visible\" id=\"glyph0-4\">\n",
       "<path style=\"stroke:none;\" d=\"M 7.140625 -10.640625 L 1.65625 -10.640625 L 0.859375 -4.84375 L 2.0625 -4.84375 C 2.6875 -5.578125 3.1875 -5.828125 4.015625 -5.828125 C 5.4375 -5.828125 6.34375 -4.859375 6.34375 -3.28125 C 6.34375 -1.75 5.453125 -0.828125 4.015625 -0.828125 C 2.859375 -0.828125 2.15625 -1.40625 1.84375 -2.609375 L 0.53125 -2.609375 C 0.703125 -1.734375 0.859375 -1.3125 1.171875 -0.9375 C 1.765625 -0.125 2.84375 0.34375 4.046875 0.34375 C 6.1875 0.34375 7.6875 -1.21875 7.6875 -3.46875 C 7.6875 -5.5625 6.296875 -7 4.265625 -7 C 3.515625 -7 2.90625 -6.8125 2.296875 -6.359375 L 2.71875 -9.328125 L 7.140625 -9.328125 Z \"/>\n",
       "</symbol>\n",
       "<symbol overflow=\"visible\" id=\"glyph0-5\">\n",
       "<path style=\"stroke:none;\" d=\"M 7.796875 -10.640625 L 0.6875 -10.640625 L 0.6875 -9.328125 L 6.4375 -9.328125 C 3.90625 -5.71875 2.859375 -3.5 2.0625 0 L 3.484375 0 C 4.0625 -3.40625 5.40625 -6.328125 7.796875 -9.53125 Z \"/>\n",
       "</symbol>\n",
       "<symbol overflow=\"visible\" id=\"glyph1-0\">\n",
       "<path style=\"stroke:none;\" d=\"\"/>\n",
       "</symbol>\n",
       "<symbol overflow=\"visible\" id=\"glyph1-1\">\n",
       "<path style=\"stroke:none;\" d=\"M 2.84375 -8.5 L 0.640625 -6.296875 L -1.5625 -8.5 L -2.296875 -7.765625 L -0.09375 -5.5625 L -2.296875 -3.359375 L -1.5625 -2.625 L 0.640625 -4.828125 L 2.84375 -2.625 L 3.578125 -3.359375 L 1.375 -5.5625 L 3.578125 -7.765625 Z \"/>\n",
       "</symbol>\n",
       "<symbol overflow=\"visible\" id=\"glyph2-0\">\n",
       "<path style=\"stroke:none;\" d=\"\"/>\n",
       "</symbol>\n",
       "<symbol overflow=\"visible\" id=\"glyph2-1\">\n",
       "<path style=\"stroke:none;\" d=\"M 3.875 -14.578125 L 2 -14.578125 L 2 0 L 3.875 0 Z \"/>\n",
       "</symbol>\n",
       "<symbol overflow=\"visible\" id=\"glyph2-2\">\n",
       "<path style=\"stroke:none;\" d=\"M 1.40625 -10.484375 L 1.40625 0 L 3.078125 0 L 3.078125 -5.78125 C 3.078125 -7.921875 4.203125 -9.3125 5.921875 -9.3125 C 7.234375 -9.3125 8.078125 -8.515625 8.078125 -7.265625 L 8.078125 0 L 9.734375 0 L 9.734375 -7.921875 C 9.734375 -9.65625 8.4375 -10.78125 6.421875 -10.78125 C 4.859375 -10.78125 3.859375 -10.1875 2.9375 -8.71875 L 2.9375 -10.484375 Z \"/>\n",
       "</symbol>\n",
       "<symbol overflow=\"visible\" id=\"glyph2-3\">\n",
       "<path style=\"stroke:none;\" d=\"M 5.15625 -10.484375 L 3.421875 -10.484375 L 3.421875 -12.125 C 3.421875 -12.8125 3.8125 -13.1875 4.578125 -13.1875 C 4.71875 -13.1875 4.78125 -13.1875 5.15625 -13.15625 L 5.15625 -14.546875 C 4.78125 -14.625 4.5625 -14.640625 4.21875 -14.640625 C 2.6875 -14.640625 1.765625 -13.765625 1.765625 -12.265625 L 1.765625 -10.484375 L 0.359375 -10.484375 L 0.359375 -9.125 L 1.765625 -9.125 L 1.765625 0 L 3.421875 0 L 3.421875 -9.125 L 5.15625 -9.125 Z \"/>\n",
       "</symbol>\n",
       "<symbol overflow=\"visible\" id=\"glyph2-4\">\n",
       "<path style=\"stroke:none;\" d=\"M 5.4375 -10.78125 C 2.5 -10.78125 0.71875 -8.6875 0.71875 -5.15625 C 0.71875 -1.640625 2.484375 0.453125 5.453125 0.453125 C 8.40625 0.453125 10.203125 -1.640625 10.203125 -5.078125 C 10.203125 -8.703125 8.453125 -10.78125 5.4375 -10.78125 Z M 5.453125 -9.234375 C 7.34375 -9.234375 8.453125 -7.703125 8.453125 -5.09375 C 8.453125 -2.640625 7.296875 -1.078125 5.453125 -1.078125 C 3.59375 -1.078125 2.453125 -2.625 2.453125 -5.15625 C 2.453125 -7.6875 3.59375 -9.234375 5.453125 -9.234375 Z \"/>\n",
       "</symbol>\n",
       "<symbol overflow=\"visible\" id=\"glyph2-5\">\n",
       "<path style=\"stroke:none;\" d=\"M 1.375 -10.484375 L 1.375 0 L 3.0625 0 L 3.0625 -5.4375 C 3.0625 -6.9375 3.4375 -7.921875 4.234375 -8.5 C 4.765625 -8.875 5.265625 -9 6.421875 -9.015625 L 6.421875 -10.71875 C 6.140625 -10.765625 6 -10.78125 5.78125 -10.78125 C 4.703125 -10.78125 3.875 -10.140625 2.921875 -8.578125 L 2.921875 -10.484375 Z \"/>\n",
       "</symbol>\n",
       "<symbol overflow=\"visible\" id=\"glyph2-6\">\n",
       "<path style=\"stroke:none;\" d=\"M 1.40625 -10.484375 L 1.40625 0 L 3.078125 0 L 3.078125 -6.578125 C 3.078125 -8.09375 4.1875 -9.3125 5.546875 -9.3125 C 6.78125 -9.3125 7.484375 -8.5625 7.484375 -7.21875 L 7.484375 0 L 9.15625 0 L 9.15625 -6.578125 C 9.15625 -8.09375 10.265625 -9.3125 11.625 -9.3125 C 12.84375 -9.3125 13.5625 -8.546875 13.5625 -7.21875 L 13.5625 0 L 15.234375 0 L 15.234375 -7.859375 C 15.234375 -9.734375 14.15625 -10.78125 12.203125 -10.78125 C 10.796875 -10.78125 9.953125 -10.359375 8.984375 -9.1875 C 8.359375 -10.296875 7.515625 -10.78125 6.15625 -10.78125 C 4.765625 -10.78125 3.84375 -10.265625 2.9375 -9 L 2.9375 -10.484375 Z \"/>\n",
       "</symbol>\n",
       "<symbol overflow=\"visible\" id=\"glyph2-7\">\n",
       "<path style=\"stroke:none;\" d=\"M 10.703125 -0.984375 C 10.515625 -0.9375 10.4375 -0.9375 10.34375 -0.9375 C 9.765625 -0.9375 9.4375 -1.234375 9.4375 -1.765625 L 9.4375 -7.921875 C 9.4375 -9.78125 8.078125 -10.78125 5.5 -10.78125 C 3.984375 -10.78125 2.71875 -10.34375 2.015625 -9.5625 C 1.546875 -9.015625 1.34375 -8.421875 1.296875 -7.375 L 2.984375 -7.375 C 3.125 -8.65625 3.875 -9.234375 5.4375 -9.234375 C 6.9375 -9.234375 7.78125 -8.6875 7.78125 -7.6875 L 7.78125 -7.234375 C 7.78125 -6.546875 7.359375 -6.234375 6.046875 -6.078125 C 3.6875 -5.78125 3.3125 -5.703125 2.6875 -5.4375 C 1.453125 -4.9375 0.84375 -4 0.84375 -2.640625 C 0.84375 -0.734375 2.15625 0.453125 4.28125 0.453125 C 5.59375 0.453125 6.65625 0 7.84375 -1.078125 C 7.953125 -0.015625 8.484375 0.453125 9.5625 0.453125 C 9.90625 0.453125 10.15625 0.421875 10.703125 0.28125 Z M 7.78125 -3.296875 C 7.78125 -2.734375 7.625 -2.40625 7.125 -1.9375 C 6.4375 -1.3125 5.625 -1 4.640625 -1 C 3.34375 -1 2.578125 -1.625 2.578125 -2.6875 C 2.578125 -3.78125 3.3125 -4.34375 5.09375 -4.59375 C 6.859375 -4.84375 7.21875 -4.921875 7.78125 -5.1875 Z \"/>\n",
       "</symbol>\n",
       "<symbol overflow=\"visible\" id=\"glyph2-8\">\n",
       "<path style=\"stroke:none;\" d=\"M 5.078125 -10.484375 L 3.359375 -10.484375 L 3.359375 -13.359375 L 1.703125 -13.359375 L 1.703125 -10.484375 L 0.28125 -10.484375 L 0.28125 -9.125 L 1.703125 -9.125 L 1.703125 -1.203125 C 1.703125 -0.140625 2.421875 0.453125 3.71875 0.453125 C 4.125 0.453125 4.515625 0.421875 5.078125 0.3125 L 5.078125 -1.078125 C 4.859375 -1.015625 4.59375 -1 4.28125 -1 C 3.5625 -1 3.359375 -1.203125 3.359375 -1.9375 L 3.359375 -9.125 L 5.078125 -9.125 Z \"/>\n",
       "</symbol>\n",
       "<symbol overflow=\"visible\" id=\"glyph2-9\">\n",
       "<path style=\"stroke:none;\" d=\"M 3 -10.484375 L 1.34375 -10.484375 L 1.34375 0 L 3 0 Z M 3 -14.578125 L 1.3125 -14.578125 L 1.3125 -12.484375 L 3 -12.484375 Z \"/>\n",
       "</symbol>\n",
       "<symbol overflow=\"visible\" id=\"glyph3-0\">\n",
       "<path style=\"stroke:none;\" d=\"\"/>\n",
       "</symbol>\n",
       "<symbol overflow=\"visible\" id=\"glyph3-1\">\n",
       "<path style=\"stroke:none;\" d=\"M 0 -9.359375 L -12.21875 -13.453125 L 0 -13.453125 L 0 -15.21875 L -14.578125 -15.21875 L -14.578125 -12.640625 L -1.875 -8.40625 L -14.578125 -4.078125 L -14.578125 -1.5 L 0 -1.5 L 0 -3.265625 L -12.21875 -3.265625 L 0 -7.40625 Z \"/>\n",
       "</symbol>\n",
       "<symbol overflow=\"visible\" id=\"glyph3-2\">\n",
       "<path style=\"stroke:none;\" d=\"\"/>\n",
       "</symbol>\n",
       "<symbol overflow=\"visible\" id=\"glyph3-3\">\n",
       "<path style=\"stroke:none;\" d=\"M -0.984375 -10.703125 C -0.9375 -10.515625 -0.9375 -10.4375 -0.9375 -10.34375 C -0.9375 -9.765625 -1.234375 -9.4375 -1.765625 -9.4375 L -7.921875 -9.4375 C -9.78125 -9.4375 -10.78125 -8.078125 -10.78125 -5.5 C -10.78125 -3.984375 -10.34375 -2.71875 -9.5625 -2.015625 C -9.015625 -1.546875 -8.421875 -1.34375 -7.375 -1.296875 L -7.375 -2.984375 C -8.65625 -3.125 -9.234375 -3.875 -9.234375 -5.4375 C -9.234375 -6.9375 -8.6875 -7.78125 -7.6875 -7.78125 L -7.234375 -7.78125 C -6.546875 -7.78125 -6.234375 -7.359375 -6.078125 -6.046875 C -5.78125 -3.6875 -5.703125 -3.3125 -5.4375 -2.6875 C -4.9375 -1.453125 -4 -0.84375 -2.640625 -0.84375 C -0.734375 -0.84375 0.453125 -2.15625 0.453125 -4.28125 C 0.453125 -5.59375 0 -6.65625 -1.078125 -7.84375 C -0.015625 -7.953125 0.453125 -8.484375 0.453125 -9.5625 C 0.453125 -9.90625 0.421875 -10.15625 0.28125 -10.703125 Z M -3.296875 -7.78125 C -2.734375 -7.78125 -2.40625 -7.625 -1.9375 -7.125 C -1.3125 -6.4375 -1 -5.625 -1 -4.640625 C -1 -3.34375 -1.625 -2.578125 -2.6875 -2.578125 C -3.78125 -2.578125 -4.34375 -3.3125 -4.59375 -5.09375 C -4.84375 -6.859375 -4.921875 -7.21875 -5.1875 -7.78125 Z \"/>\n",
       "</symbol>\n",
       "<symbol overflow=\"visible\" id=\"glyph3-4\">\n",
       "<path style=\"stroke:none;\" d=\"M -10.484375 -1.40625 L 0 -1.40625 L 0 -3.078125 L -5.78125 -3.078125 C -7.921875 -3.078125 -9.3125 -4.203125 -9.3125 -5.921875 C -9.3125 -7.234375 -8.515625 -8.078125 -7.265625 -8.078125 L 0 -8.078125 L 0 -9.734375 L -7.921875 -9.734375 C -9.65625 -9.734375 -10.78125 -8.4375 -10.78125 -6.421875 C -10.78125 -4.859375 -10.1875 -3.859375 -8.71875 -2.9375 L -10.484375 -2.9375 Z \"/>\n",
       "</symbol>\n",
       "<symbol overflow=\"visible\" id=\"glyph3-5\">\n",
       "<path style=\"stroke:none;\" d=\"M -14.578125 -9.90625 L -14.578125 -8.234375 L -9.15625 -8.234375 C -10.21875 -7.546875 -10.78125 -6.421875 -10.78125 -5.015625 C -10.78125 -2.296875 -8.59375 -0.515625 -5.265625 -0.515625 C -1.71875 -0.515625 0.453125 -2.265625 0.453125 -5.078125 C 0.453125 -6.515625 -0.078125 -7.515625 -1.375 -8.421875 L 0 -8.421875 L 0 -9.90625 Z M -9.21875 -5.296875 C -9.21875 -7.09375 -7.625 -8.234375 -5.125 -8.234375 C -2.703125 -8.234375 -1.09375 -7.078125 -1.09375 -5.3125 C -1.09375 -3.484375 -2.71875 -2.265625 -5.15625 -2.265625 C -7.59375 -2.265625 -9.21875 -3.484375 -9.21875 -5.296875 Z \"/>\n",
       "</symbol>\n",
       "<symbol overflow=\"visible\" id=\"glyph3-6\">\n",
       "<path style=\"stroke:none;\" d=\"M -10.296875 -11.921875 C -13.15625 -11.90625 -14.8125 -9.9375 -14.8125 -6.578125 C -14.8125 -3.375 -13.1875 -1.40625 -10.546875 -1.40625 C -8.765625 -1.40625 -7.640625 -2.34375 -7.140625 -4.265625 L -6.1875 -7.875 C -5.703125 -9.71875 -4.953125 -10.5625 -3.8125 -10.5625 C -3.046875 -10.5625 -2.234375 -10.140625 -1.796875 -9.515625 C -1.40625 -8.9375 -1.1875 -8.015625 -1.1875 -6.84375 C -1.1875 -5.265625 -1.5625 -4.1875 -2.40625 -3.484375 C -3.046875 -2.9375 -3.734375 -2.703125 -4.640625 -2.71875 L -4.640625 -0.953125 C -3.296875 -0.984375 -2.421875 -1.234375 -1.625 -1.8125 C -0.265625 -2.8125 0.453125 -4.5 0.453125 -6.71875 C 0.453125 -8.453125 0.0625 -9.875 -0.65625 -10.8125 C -1.4375 -11.796875 -2.734375 -12.421875 -4 -12.421875 C -5.796875 -12.421875 -7.125 -11.296875 -7.65625 -9.3125 L -8.640625 -5.65625 C -9.125 -3.90625 -9.6875 -3.265625 -10.796875 -3.265625 C -12.28125 -3.265625 -13.265625 -4.5625 -13.265625 -6.515625 C -13.265625 -8.84375 -12.203125 -10.140625 -10.296875 -10.15625 Z \"/>\n",
       "</symbol>\n",
       "<symbol overflow=\"visible\" id=\"glyph3-7\">\n",
       "<path style=\"stroke:none;\" d=\"M -10.484375 -8.234375 L -8.953125 -8.234375 C -10.203125 -7.40625 -10.78125 -6.375 -10.78125 -5.046875 C -10.78125 -2.375 -8.453125 -0.578125 -5.0625 -0.578125 C -3.34375 -0.578125 -1.9375 -1.046875 -0.9375 -1.90625 C -0.0625 -2.6875 0.453125 -3.796875 0.453125 -4.90625 C 0.453125 -6.21875 -0.09375 -7.140625 -1.421875 -8.078125 L -0.875 -8.078125 C 0.546875 -8.078125 1.40625 -7.90625 1.984375 -7.484375 C 2.59375 -7.046875 2.953125 -6.1875 2.953125 -5.15625 C 2.953125 -4.40625 2.765625 -3.71875 2.40625 -3.265625 C 2.09375 -2.875 1.8125 -2.71875 1.203125 -2.625 L 1.203125 -0.921875 C 3.1875 -1.09375 4.359375 -2.640625 4.359375 -5.09375 C 4.359375 -6.65625 3.859375 -8 3.015625 -8.6875 C 2.0625 -9.484375 0.734375 -9.78125 -1.71875 -9.78125 L -10.484375 -9.78125 Z M -9.234375 -5.21875 C -9.234375 -7.015625 -7.71875 -8.078125 -5.09375 -8.078125 C -2.59375 -8.078125 -1.078125 -7 -1.078125 -5.234375 C -1.078125 -3.421875 -2.625 -2.3125 -5.15625 -2.3125 C -7.6875 -2.3125 -9.234375 -3.4375 -9.234375 -5.21875 Z \"/>\n",
       "</symbol>\n",
       "<symbol overflow=\"visible\" id=\"glyph3-8\">\n",
       "<path style=\"stroke:none;\" d=\"M -10.484375 -1.375 L 0 -1.375 L 0 -3.0625 L -5.4375 -3.0625 C -6.9375 -3.0625 -7.921875 -3.4375 -8.5 -4.234375 C -8.875 -4.765625 -9 -5.265625 -9.015625 -6.421875 L -10.71875 -6.421875 C -10.765625 -6.140625 -10.78125 -6 -10.78125 -5.78125 C -10.78125 -4.703125 -10.140625 -3.875 -8.578125 -2.921875 L -10.484375 -2.921875 Z \"/>\n",
       "</symbol>\n",
       "<symbol overflow=\"visible\" id=\"glyph3-9\">\n",
       "<path style=\"stroke:none;\" d=\"M -4.6875 -10.265625 C -6.28125 -10.265625 -7.234375 -10.140625 -8.015625 -9.84375 C -9.734375 -9.15625 -10.78125 -7.5625 -10.78125 -5.59375 C -10.78125 -2.6875 -8.546875 -0.796875 -5.09375 -0.796875 C -1.65625 -0.796875 0.453125 -2.625 0.453125 -5.5625 C 0.453125 -7.953125 -0.90625 -9.625 -3.1875 -10.046875 L -3.1875 -8.359375 C -1.796875 -7.90625 -1.078125 -6.953125 -1.078125 -5.625 C -1.078125 -4.5625 -1.5625 -3.65625 -2.4375 -3.09375 C -3.046875 -2.703125 -3.640625 -2.5625 -4.6875 -2.546875 Z M -6.046875 -2.578125 C -7.984375 -2.71875 -9.234375 -3.90625 -9.234375 -5.578125 C -9.234375 -7.21875 -7.875 -8.484375 -6.15625 -8.484375 C -6.125 -8.484375 -6.078125 -8.484375 -6.046875 -8.453125 Z \"/>\n",
       "</symbol>\n",
       "<symbol overflow=\"visible\" id=\"glyph3-10\">\n",
       "<path style=\"stroke:none;\" d=\"M -10.484375 -1.40625 L 0 -1.40625 L 0 -3.078125 L -6.578125 -3.078125 C -8.09375 -3.078125 -9.3125 -4.1875 -9.3125 -5.546875 C -9.3125 -6.78125 -8.5625 -7.484375 -7.21875 -7.484375 L 0 -7.484375 L 0 -9.15625 L -6.578125 -9.15625 C -8.09375 -9.15625 -9.3125 -10.265625 -9.3125 -11.625 C -9.3125 -12.84375 -8.546875 -13.5625 -7.21875 -13.5625 L 0 -13.5625 L 0 -15.234375 L -7.859375 -15.234375 C -9.734375 -15.234375 -10.78125 -14.15625 -10.78125 -12.203125 C -10.78125 -10.796875 -10.359375 -9.953125 -9.1875 -8.984375 C -10.296875 -8.359375 -10.78125 -7.515625 -10.78125 -6.15625 C -10.78125 -4.765625 -10.265625 -3.84375 -9 -2.9375 L -10.484375 -2.9375 Z \"/>\n",
       "</symbol>\n",
       "<symbol overflow=\"visible\" id=\"glyph3-11\">\n",
       "<path style=\"stroke:none;\" d=\"M -10.484375 -5.078125 L -10.484375 -3.359375 L -13.359375 -3.359375 L -13.359375 -1.703125 L -10.484375 -1.703125 L -10.484375 -0.28125 L -9.125 -0.28125 L -9.125 -1.703125 L -1.203125 -1.703125 C -0.140625 -1.703125 0.453125 -2.421875 0.453125 -3.71875 C 0.453125 -4.125 0.421875 -4.515625 0.3125 -5.078125 L -1.078125 -5.078125 C -1.015625 -4.859375 -1 -4.59375 -1 -4.28125 C -1 -3.5625 -1.203125 -3.359375 -1.9375 -3.359375 L -9.125 -3.359375 L -9.125 -5.078125 Z \"/>\n",
       "</symbol>\n",
       "</g>\n",
       "<clipPath id=\"clip1\">\n",
       "  <path d=\"M 75.84375 9.921875 L 499 9.921875 L 499 427 L 75.84375 427 Z \"/>\n",
       "</clipPath>\n",
       "<clipPath id=\"clip2\">\n",
       "  <path d=\"M 75.84375 387 L 499 387 L 499 388 L 75.84375 388 Z \"/>\n",
       "</clipPath>\n",
       "<clipPath id=\"clip3\">\n",
       "  <path d=\"M 75.84375 287 L 499 287 L 499 289 L 75.84375 289 Z \"/>\n",
       "</clipPath>\n",
       "<clipPath id=\"clip4\">\n",
       "  <path d=\"M 75.84375 188 L 499 188 L 499 189 L 75.84375 189 Z \"/>\n",
       "</clipPath>\n",
       "<clipPath id=\"clip5\">\n",
       "  <path d=\"M 75.84375 88 L 499 88 L 499 89 L 75.84375 89 Z \"/>\n",
       "</clipPath>\n",
       "<clipPath id=\"clip6\">\n",
       "  <path d=\"M 135 9.921875 L 137 9.921875 L 137 427 L 135 427 Z \"/>\n",
       "</clipPath>\n",
       "<clipPath id=\"clip7\">\n",
       "  <path d=\"M 236 9.921875 L 238 9.921875 L 238 427 L 236 427 Z \"/>\n",
       "</clipPath>\n",
       "<clipPath id=\"clip8\">\n",
       "  <path d=\"M 337 9.921875 L 338 9.921875 L 338 427 L 337 427 Z \"/>\n",
       "</clipPath>\n",
       "<clipPath id=\"clip9\">\n",
       "  <path d=\"M 437 9.921875 L 439 9.921875 L 439 427 L 437 427 Z \"/>\n",
       "</clipPath>\n",
       "<clipPath id=\"clip10\">\n",
       "  <path d=\"M 75.84375 9.921875 L 499 9.921875 L 499 427 L 75.84375 427 Z \"/>\n",
       "</clipPath>\n",
       "</defs>\n",
       "<g id=\"surface38\">\n",
       "<rect x=\"0\" y=\"0\" width=\"504\" height=\"504\" style=\"fill:rgb(100%,100%,100%);fill-opacity:1;stroke:none;\"/>\n",
       "<rect x=\"0\" y=\"0\" width=\"504\" height=\"504\" style=\"fill:rgb(100%,100%,100%);fill-opacity:1;stroke:none;\"/>\n",
       "<path style=\"fill:none;stroke-width:1.066978;stroke-linecap:round;stroke-linejoin:round;stroke:rgb(100%,100%,100%);stroke-opacity:1;stroke-miterlimit:10;\" d=\"M 0 504 L 504 504 L 504 0 L 0 0 Z \"/>\n",
       "<g clip-path=\"url(#clip1)\" clip-rule=\"nonzero\">\n",
       "<path style=\"fill-rule:nonzero;fill:rgb(100%,100%,100%);fill-opacity:1;stroke-width:1.066978;stroke-linecap:round;stroke-linejoin:round;stroke:rgb(100%,100%,100%);stroke-opacity:1;stroke-miterlimit:10;\" d=\"M 75.84375 426.339844 L 498.332031 426.339844 L 498.332031 9.921875 L 75.84375 9.921875 Z \"/>\n",
       "</g>\n",
       "<g clip-path=\"url(#clip2)\" clip-rule=\"nonzero\">\n",
       "<path style=\"fill:none;stroke-width:0.533489;stroke-linecap:butt;stroke-linejoin:round;stroke:rgb(85.098039%,85.098039%,85.098039%);stroke-opacity:1;stroke-miterlimit:10;\" d=\"M 75.84375 387.703125 L 498.332031 387.703125 \"/>\n",
       "</g>\n",
       "<g clip-path=\"url(#clip3)\" clip-rule=\"nonzero\">\n",
       "<path style=\"fill:none;stroke-width:0.533489;stroke-linecap:butt;stroke-linejoin:round;stroke:rgb(85.098039%,85.098039%,85.098039%);stroke-opacity:1;stroke-miterlimit:10;\" d=\"M 75.84375 288.019531 L 498.332031 288.019531 \"/>\n",
       "</g>\n",
       "<g clip-path=\"url(#clip4)\" clip-rule=\"nonzero\">\n",
       "<path style=\"fill:none;stroke-width:0.533489;stroke-linecap:butt;stroke-linejoin:round;stroke:rgb(85.098039%,85.098039%,85.098039%);stroke-opacity:1;stroke-miterlimit:10;\" d=\"M 75.84375 188.339844 L 498.332031 188.339844 \"/>\n",
       "</g>\n",
       "<g clip-path=\"url(#clip5)\" clip-rule=\"nonzero\">\n",
       "<path style=\"fill:none;stroke-width:0.533489;stroke-linecap:butt;stroke-linejoin:round;stroke:rgb(85.098039%,85.098039%,85.098039%);stroke-opacity:1;stroke-miterlimit:10;\" d=\"M 75.84375 88.660156 L 498.332031 88.660156 \"/>\n",
       "</g>\n",
       "<g clip-path=\"url(#clip6)\" clip-rule=\"nonzero\">\n",
       "<path style=\"fill:none;stroke-width:0.533489;stroke-linecap:butt;stroke-linejoin:round;stroke:rgb(85.098039%,85.098039%,85.098039%);stroke-opacity:1;stroke-miterlimit:10;\" d=\"M 136.199219 426.339844 L 136.199219 9.921875 \"/>\n",
       "</g>\n",
       "<g clip-path=\"url(#clip7)\" clip-rule=\"nonzero\">\n",
       "<path style=\"fill:none;stroke-width:0.533489;stroke-linecap:butt;stroke-linejoin:round;stroke:rgb(85.098039%,85.098039%,85.098039%);stroke-opacity:1;stroke-miterlimit:10;\" d=\"M 236.789062 426.339844 L 236.789062 9.921875 \"/>\n",
       "</g>\n",
       "<g clip-path=\"url(#clip8)\" clip-rule=\"nonzero\">\n",
       "<path style=\"fill:none;stroke-width:0.533489;stroke-linecap:butt;stroke-linejoin:round;stroke:rgb(85.098039%,85.098039%,85.098039%);stroke-opacity:1;stroke-miterlimit:10;\" d=\"M 337.382812 426.339844 L 337.382812 9.921875 \"/>\n",
       "</g>\n",
       "<g clip-path=\"url(#clip9)\" clip-rule=\"nonzero\">\n",
       "<path style=\"fill:none;stroke-width:0.533489;stroke-linecap:butt;stroke-linejoin:round;stroke:rgb(85.098039%,85.098039%,85.098039%);stroke-opacity:1;stroke-miterlimit:10;\" d=\"M 437.976562 426.339844 L 437.976562 9.921875 \"/>\n",
       "</g>\n",
       "<path style=\" stroke:none;fill-rule:nonzero;fill:rgb(97.254902%,46.27451%,42.745098%);fill-opacity:1;\" d=\"M 90.933594 387.703125 L 106.023438 387.703125 L 106.023438 28.847656 L 90.933594 28.847656 Z \"/>\n",
       "<path style=\" stroke:none;fill-rule:nonzero;fill:rgb(0%,72.941176%,21.960784%);fill-opacity:1;\" d=\"M 121.109375 387.703125 L 136.199219 387.703125 L 136.199219 102.898438 L 121.109375 102.898438 Z \"/>\n",
       "<path style=\" stroke:none;fill-rule:nonzero;fill:rgb(38.039216%,61.176471%,100%);fill-opacity:1;\" d=\"M 151.285156 387.703125 L 166.375 387.703125 L 166.375 121.886719 L 151.285156 121.886719 Z \"/>\n",
       "<path style=\" stroke:none;fill-rule:nonzero;fill:rgb(97.254902%,46.27451%,42.745098%);fill-opacity:0.501961;\" d=\"M 106.019531 387.703125 L 121.109375 387.703125 L 121.109375 265 L 106.019531 265 Z \"/>\n",
       "<path style=\" stroke:none;fill-rule:nonzero;fill:rgb(0%,72.941176%,21.960784%);fill-opacity:0.501961;\" d=\"M 136.199219 387.703125 L 151.289062 387.703125 L 151.289062 316.355469 L 136.199219 316.355469 Z \"/>\n",
       "<path style=\" stroke:none;fill-rule:nonzero;fill:rgb(38.039216%,61.176471%,100%);fill-opacity:0.501961;\" d=\"M 166.375 387.703125 L 181.464844 387.703125 L 181.464844 350.488281 L 166.375 350.488281 Z \"/>\n",
       "<path style=\" stroke:none;fill-rule:nonzero;fill:rgb(97.254902%,46.27451%,42.745098%);fill-opacity:1;\" d=\"M 191.523438 387.703125 L 206.613281 387.703125 L 206.613281 130.628906 L 191.523438 130.628906 Z \"/>\n",
       "<path style=\" stroke:none;fill-rule:nonzero;fill:rgb(0%,72.941176%,21.960784%);fill-opacity:1;\" d=\"M 221.703125 387.703125 L 236.792969 387.703125 L 236.792969 312.941406 L 221.703125 312.941406 Z \"/>\n",
       "<path style=\" stroke:none;fill-rule:nonzero;fill:rgb(38.039216%,61.176471%,100%);fill-opacity:1;\" d=\"M 251.878906 387.703125 L 266.96875 387.703125 L 266.96875 288.023438 L 251.878906 288.023438 Z \"/>\n",
       "<path style=\" stroke:none;fill-rule:nonzero;fill:rgb(97.254902%,46.27451%,42.745098%);fill-opacity:0.501961;\" d=\"M 206.613281 387.703125 L 221.703125 387.703125 L 221.703125 282.863281 L 206.613281 282.863281 Z \"/>\n",
       "<path style=\" stroke:none;fill-rule:nonzero;fill:rgb(0%,72.941176%,21.960784%);fill-opacity:0.501961;\" d=\"M 236.789062 387.703125 L 251.878906 387.703125 L 251.878906 355.992188 L 236.789062 355.992188 Z \"/>\n",
       "<path style=\" stroke:none;fill-rule:nonzero;fill:rgb(38.039216%,61.176471%,100%);fill-opacity:0.501961;\" d=\"M 266.96875 387.703125 L 282.058594 387.703125 L 282.058594 354.839844 L 266.96875 354.839844 Z \"/>\n",
       "<path style=\" stroke:none;fill-rule:nonzero;fill:rgb(97.254902%,46.27451%,42.745098%);fill-opacity:1;\" d=\"M 292.117188 387.703125 L 307.207031 387.703125 L 307.207031 324.628906 L 292.117188 324.628906 Z \"/>\n",
       "<path style=\" stroke:none;fill-rule:nonzero;fill:rgb(0%,72.941176%,21.960784%);fill-opacity:1;\" d=\"M 322.292969 387.703125 L 337.382812 387.703125 L 337.382812 373.464844 L 322.292969 373.464844 Z \"/>\n",
       "<path style=\" stroke:none;fill-rule:nonzero;fill:rgb(38.039216%,61.176471%,100%);fill-opacity:1;\" d=\"M 352.472656 387.703125 L 367.5625 387.703125 L 367.5625 352.519531 L 352.472656 352.519531 Z \"/>\n",
       "<path style=\" stroke:none;fill-rule:nonzero;fill:rgb(97.254902%,46.27451%,42.745098%);fill-opacity:0.501961;\" d=\"M 307.207031 387.703125 L 322.296875 387.703125 L 322.296875 358.957031 L 307.207031 358.957031 Z \"/>\n",
       "<path style=\" stroke:none;fill-rule:nonzero;fill:rgb(0%,72.941176%,21.960784%);fill-opacity:0.501961;\" d=\"M 337.382812 387.703125 L 352.472656 387.703125 L 352.472656 379.589844 L 337.382812 379.589844 Z \"/>\n",
       "<path style=\" stroke:none;fill-rule:nonzero;fill:rgb(38.039216%,61.176471%,100%);fill-opacity:0.501961;\" d=\"M 367.5625 387.703125 L 382.652344 387.703125 L 382.652344 380.277344 L 367.5625 380.277344 Z \"/>\n",
       "<path style=\" stroke:none;fill-rule:nonzero;fill:rgb(97.254902%,46.27451%,42.745098%);fill-opacity:1;\" d=\"M 392.707031 387.703125 L 422.882812 387.703125 L 422.882812 372.367188 L 392.707031 372.367188 Z \"/>\n",
       "<path style=\"fill:none;stroke-width:1.066978;stroke-linecap:butt;stroke-linejoin:round;stroke:rgb(0%,0%,0%);stroke-opacity:0.501961;stroke-miterlimit:1;\" d=\"M 106.019531 246.289062 L 121.109375 246.289062 \"/>\n",
       "<path style=\"fill:none;stroke-width:1.066978;stroke-linecap:butt;stroke-linejoin:round;stroke:rgb(0%,0%,0%);stroke-opacity:0.501961;stroke-miterlimit:1;\" d=\"M 113.566406 246.289062 L 113.566406 283.714844 \"/>\n",
       "<path style=\"fill:none;stroke-width:1.066978;stroke-linecap:butt;stroke-linejoin:round;stroke:rgb(0%,0%,0%);stroke-opacity:0.501961;stroke-miterlimit:1;\" d=\"M 106.019531 283.714844 L 121.109375 283.714844 \"/>\n",
       "<path style=\"fill:none;stroke-width:1.066978;stroke-linecap:butt;stroke-linejoin:round;stroke:rgb(0%,0%,0%);stroke-opacity:0.501961;stroke-miterlimit:1;\" d=\"M 136.199219 273.351562 L 151.285156 273.351562 \"/>\n",
       "<path style=\"fill:none;stroke-width:1.066978;stroke-linecap:butt;stroke-linejoin:round;stroke:rgb(0%,0%,0%);stroke-opacity:0.501961;stroke-miterlimit:1;\" d=\"M 143.742188 273.351562 L 143.742188 359.359375 \"/>\n",
       "<path style=\"fill:none;stroke-width:1.066978;stroke-linecap:butt;stroke-linejoin:round;stroke:rgb(0%,0%,0%);stroke-opacity:0.501961;stroke-miterlimit:1;\" d=\"M 136.199219 359.359375 L 151.285156 359.359375 \"/>\n",
       "<path style=\"fill:none;stroke-width:1.066978;stroke-linecap:butt;stroke-linejoin:round;stroke:rgb(0%,0%,0%);stroke-opacity:0.501961;stroke-miterlimit:1;\" d=\"M 166.375 293.566406 L 181.464844 293.566406 \"/>\n",
       "<path style=\"fill:none;stroke-width:1.066978;stroke-linecap:butt;stroke-linejoin:round;stroke:rgb(0%,0%,0%);stroke-opacity:0.501961;stroke-miterlimit:1;\" d=\"M 173.921875 293.566406 L 173.921875 407.414062 \"/>\n",
       "<path style=\"fill:none;stroke-width:1.066978;stroke-linecap:butt;stroke-linejoin:round;stroke:rgb(0%,0%,0%);stroke-opacity:0.501961;stroke-miterlimit:1;\" d=\"M 166.375 407.414062 L 181.464844 407.414062 \"/>\n",
       "<path style=\"fill:none;stroke-width:1.066978;stroke-linecap:butt;stroke-linejoin:round;stroke:rgb(0%,0%,0%);stroke-opacity:0.501961;stroke-miterlimit:1;\" d=\"M 206.613281 274.871094 L 221.703125 274.871094 \"/>\n",
       "<path style=\"fill:none;stroke-width:1.066978;stroke-linecap:butt;stroke-linejoin:round;stroke:rgb(0%,0%,0%);stroke-opacity:0.501961;stroke-miterlimit:1;\" d=\"M 214.15625 274.871094 L 214.15625 290.851562 \"/>\n",
       "<path style=\"fill:none;stroke-width:1.066978;stroke-linecap:butt;stroke-linejoin:round;stroke:rgb(0%,0%,0%);stroke-opacity:0.501961;stroke-miterlimit:1;\" d=\"M 206.613281 290.851562 L 221.703125 290.851562 \"/>\n",
       "<path style=\"fill:none;stroke-width:1.066978;stroke-linecap:butt;stroke-linejoin:round;stroke:rgb(0%,0%,0%);stroke-opacity:0.501961;stroke-miterlimit:1;\" d=\"M 236.789062 341.441406 L 251.878906 341.441406 \"/>\n",
       "<path style=\"fill:none;stroke-width:1.066978;stroke-linecap:butt;stroke-linejoin:round;stroke:rgb(0%,0%,0%);stroke-opacity:0.501961;stroke-miterlimit:1;\" d=\"M 244.335938 341.441406 L 244.335938 370.542969 \"/>\n",
       "<path style=\"fill:none;stroke-width:1.066978;stroke-linecap:butt;stroke-linejoin:round;stroke:rgb(0%,0%,0%);stroke-opacity:0.501961;stroke-miterlimit:1;\" d=\"M 236.789062 370.542969 L 251.878906 370.542969 \"/>\n",
       "<path style=\"fill:none;stroke-width:1.066978;stroke-linecap:butt;stroke-linejoin:round;stroke:rgb(0%,0%,0%);stroke-opacity:0.501961;stroke-miterlimit:1;\" d=\"M 266.96875 335.039062 L 282.058594 335.039062 \"/>\n",
       "<path style=\"fill:none;stroke-width:1.066978;stroke-linecap:butt;stroke-linejoin:round;stroke:rgb(0%,0%,0%);stroke-opacity:0.501961;stroke-miterlimit:1;\" d=\"M 274.511719 335.039062 L 274.511719 374.640625 \"/>\n",
       "<path style=\"fill:none;stroke-width:1.066978;stroke-linecap:butt;stroke-linejoin:round;stroke:rgb(0%,0%,0%);stroke-opacity:0.501961;stroke-miterlimit:1;\" d=\"M 266.96875 374.640625 L 282.058594 374.640625 \"/>\n",
       "<path style=\"fill:none;stroke-width:1.066978;stroke-linecap:butt;stroke-linejoin:round;stroke:rgb(0%,0%,0%);stroke-opacity:0.501961;stroke-miterlimit:1;\" d=\"M 307.207031 354.4375 L 322.292969 354.4375 \"/>\n",
       "<path style=\"fill:none;stroke-width:1.066978;stroke-linecap:butt;stroke-linejoin:round;stroke:rgb(0%,0%,0%);stroke-opacity:0.501961;stroke-miterlimit:1;\" d=\"M 314.75 354.4375 L 314.75 363.472656 \"/>\n",
       "<path style=\"fill:none;stroke-width:1.066978;stroke-linecap:butt;stroke-linejoin:round;stroke:rgb(0%,0%,0%);stroke-opacity:0.501961;stroke-miterlimit:1;\" d=\"M 307.207031 363.472656 L 322.292969 363.472656 \"/>\n",
       "<path style=\"fill:none;stroke-width:1.066978;stroke-linecap:butt;stroke-linejoin:round;stroke:rgb(0%,0%,0%);stroke-opacity:0.501961;stroke-miterlimit:1;\" d=\"M 337.382812 369.074219 L 352.472656 369.074219 \"/>\n",
       "<path style=\"fill:none;stroke-width:1.066978;stroke-linecap:butt;stroke-linejoin:round;stroke:rgb(0%,0%,0%);stroke-opacity:0.501961;stroke-miterlimit:1;\" d=\"M 344.925781 369.074219 L 344.925781 390.105469 \"/>\n",
       "<path style=\"fill:none;stroke-width:1.066978;stroke-linecap:butt;stroke-linejoin:round;stroke:rgb(0%,0%,0%);stroke-opacity:0.501961;stroke-miterlimit:1;\" d=\"M 337.382812 390.105469 L 352.472656 390.105469 \"/>\n",
       "<path style=\"fill:none;stroke-width:1.066978;stroke-linecap:butt;stroke-linejoin:round;stroke:rgb(0%,0%,0%);stroke-opacity:0.501961;stroke-miterlimit:1;\" d=\"M 367.5625 371.511719 L 382.648438 371.511719 \"/>\n",
       "<path style=\"fill:none;stroke-width:1.066978;stroke-linecap:butt;stroke-linejoin:round;stroke:rgb(0%,0%,0%);stroke-opacity:0.501961;stroke-miterlimit:1;\" d=\"M 375.105469 371.511719 L 375.105469 389.042969 \"/>\n",
       "<path style=\"fill:none;stroke-width:1.066978;stroke-linecap:butt;stroke-linejoin:round;stroke:rgb(0%,0%,0%);stroke-opacity:0.501961;stroke-miterlimit:1;\" d=\"M 367.5625 389.042969 L 382.648438 389.042969 \"/>\n",
       "<g clip-path=\"url(#clip10)\" clip-rule=\"nonzero\">\n",
       "<path style=\"fill:none;stroke-width:1.066978;stroke-linecap:round;stroke-linejoin:round;stroke:rgb(100%,100%,100%);stroke-opacity:1;stroke-miterlimit:10;\" d=\"M 75.84375 426.339844 L 498.332031 426.339844 L 498.332031 9.921875 L 75.84375 9.921875 Z \"/>\n",
       "</g>\n",
       "<g style=\"fill:rgb(45.098039%,45.098039%,45.098039%);fill-opacity:1;\">\n",
       "  <use xlink:href=\"#glyph0-1\" x=\"36.875\" y=\"392.498047\"/>\n",
       "  <use xlink:href=\"#glyph0-2\" x=\"45.214844\" y=\"392.498047\"/>\n",
       "  <use xlink:href=\"#glyph0-1\" x=\"49.384766\" y=\"392.498047\"/>\n",
       "  <use xlink:href=\"#glyph0-1\" x=\"57.724609\" y=\"392.498047\"/>\n",
       "</g>\n",
       "<g style=\"fill:rgb(45.098039%,45.098039%,45.098039%);fill-opacity:1;\">\n",
       "  <use xlink:href=\"#glyph0-1\" x=\"36.875\" y=\"292.814453\"/>\n",
       "  <use xlink:href=\"#glyph0-2\" x=\"45.214844\" y=\"292.814453\"/>\n",
       "  <use xlink:href=\"#glyph0-3\" x=\"49.384766\" y=\"292.814453\"/>\n",
       "  <use xlink:href=\"#glyph0-4\" x=\"57.724609\" y=\"292.814453\"/>\n",
       "</g>\n",
       "<g style=\"fill:rgb(45.098039%,45.098039%,45.098039%);fill-opacity:1;\">\n",
       "  <use xlink:href=\"#glyph0-1\" x=\"36.875\" y=\"193.134766\"/>\n",
       "  <use xlink:href=\"#glyph0-2\" x=\"45.214844\" y=\"193.134766\"/>\n",
       "  <use xlink:href=\"#glyph0-4\" x=\"49.384766\" y=\"193.134766\"/>\n",
       "  <use xlink:href=\"#glyph0-1\" x=\"57.724609\" y=\"193.134766\"/>\n",
       "</g>\n",
       "<g style=\"fill:rgb(45.098039%,45.098039%,45.098039%);fill-opacity:1;\">\n",
       "  <use xlink:href=\"#glyph0-1\" x=\"36.875\" y=\"93.455078\"/>\n",
       "  <use xlink:href=\"#glyph0-2\" x=\"45.214844\" y=\"93.455078\"/>\n",
       "  <use xlink:href=\"#glyph0-5\" x=\"49.384766\" y=\"93.455078\"/>\n",
       "  <use xlink:href=\"#glyph0-4\" x=\"57.724609\" y=\"93.455078\"/>\n",
       "</g>\n",
       "<g style=\"fill:rgb(45.098039%,45.098039%,45.098039%);fill-opacity:1;\">\n",
       "  <use xlink:href=\"#glyph1-1\" x=\"137.115849\" y=\"448.951786\"/>\n",
       "</g>\n",
       "<g style=\"fill:rgb(45.098039%,45.098039%,45.098039%);fill-opacity:1;\">\n",
       "  <use xlink:href=\"#glyph1-1\" x=\"231.342411\" y=\"455.315067\"/>\n",
       "  <use xlink:href=\"#glyph1-1\" x=\"237.536501\" y=\"449.120978\"/>\n",
       "</g>\n",
       "<g style=\"fill:rgb(45.098039%,45.098039%,45.098039%);fill-opacity:1;\">\n",
       "  <use xlink:href=\"#glyph1-1\" x=\"325.568974\" y=\"461.678349\"/>\n",
       "  <use xlink:href=\"#glyph1-1\" x=\"331.763063\" y=\"455.484259\"/>\n",
       "  <use xlink:href=\"#glyph1-1\" x=\"337.957153\" y=\"449.290169\"/>\n",
       "</g>\n",
       "<g style=\"fill:rgb(45.098039%,45.098039%,45.098039%);fill-opacity:1;\">\n",
       "  <use xlink:href=\"#glyph1-1\" x=\"419.799442\" y=\"468.04163\"/>\n",
       "  <use xlink:href=\"#glyph1-1\" x=\"425.993532\" y=\"461.84754\"/>\n",
       "  <use xlink:href=\"#glyph1-1\" x=\"432.187622\" y=\"455.653451\"/>\n",
       "  <use xlink:href=\"#glyph1-1\" x=\"438.381711\" y=\"449.459361\"/>\n",
       "</g>\n",
       "<g style=\"fill:rgb(32.156863%,32.156863%,32.156863%);fill-opacity:1;\">\n",
       "  <use xlink:href=\"#glyph2-1\" x=\"236.585938\" y=\"490.571289\"/>\n",
       "  <use xlink:href=\"#glyph2-2\" x=\"242.145508\" y=\"490.571289\"/>\n",
       "  <use xlink:href=\"#glyph2-3\" x=\"253.265625\" y=\"490.571289\"/>\n",
       "  <use xlink:href=\"#glyph2-4\" x=\"258.825195\" y=\"490.571289\"/>\n",
       "  <use xlink:href=\"#glyph2-5\" x=\"269.945312\" y=\"490.571289\"/>\n",
       "  <use xlink:href=\"#glyph2-6\" x=\"276.605469\" y=\"490.571289\"/>\n",
       "  <use xlink:href=\"#glyph2-7\" x=\"293.265625\" y=\"490.571289\"/>\n",
       "  <use xlink:href=\"#glyph2-8\" x=\"304.385742\" y=\"490.571289\"/>\n",
       "  <use xlink:href=\"#glyph2-9\" x=\"309.945312\" y=\"490.571289\"/>\n",
       "  <use xlink:href=\"#glyph2-4\" x=\"314.385742\" y=\"490.571289\"/>\n",
       "  <use xlink:href=\"#glyph2-2\" x=\"325.505859\" y=\"490.571289\"/>\n",
       "</g>\n",
       "<g style=\"fill:rgb(32.156863%,32.156863%,32.156863%);fill-opacity:1;\">\n",
       "  <use xlink:href=\"#glyph3-1\" x=\"27.96582\" y=\"306.132812\"/>\n",
       "  <use xlink:href=\"#glyph3-2\" x=\"27.96582\" y=\"289.472656\"/>\n",
       "  <use xlink:href=\"#glyph3-3\" x=\"27.96582\" y=\"283.913086\"/>\n",
       "  <use xlink:href=\"#glyph3-4\" x=\"27.96582\" y=\"272.792969\"/>\n",
       "  <use xlink:href=\"#glyph3-5\" x=\"27.96582\" y=\"261.672852\"/>\n",
       "  <use xlink:href=\"#glyph3-2\" x=\"27.96582\" y=\"250.552734\"/>\n",
       "  <use xlink:href=\"#glyph3-6\" x=\"27.96582\" y=\"244.993164\"/>\n",
       "  <use xlink:href=\"#glyph3-2\" x=\"27.96582\" y=\"231.65332\"/>\n",
       "  <use xlink:href=\"#glyph3-3\" x=\"27.96582\" y=\"226.09375\"/>\n",
       "  <use xlink:href=\"#glyph3-7\" x=\"27.96582\" y=\"214.973633\"/>\n",
       "  <use xlink:href=\"#glyph3-8\" x=\"27.96582\" y=\"203.853516\"/>\n",
       "  <use xlink:href=\"#glyph3-9\" x=\"27.96582\" y=\"197.193359\"/>\n",
       "  <use xlink:href=\"#glyph3-9\" x=\"27.96582\" y=\"186.073242\"/>\n",
       "  <use xlink:href=\"#glyph3-10\" x=\"27.96582\" y=\"174.953125\"/>\n",
       "  <use xlink:href=\"#glyph3-9\" x=\"27.96582\" y=\"158.292969\"/>\n",
       "  <use xlink:href=\"#glyph3-4\" x=\"27.96582\" y=\"147.172852\"/>\n",
       "  <use xlink:href=\"#glyph3-11\" x=\"27.96582\" y=\"136.052734\"/>\n",
       "</g>\n",
       "</g>\n",
       "</svg>\n"
      ],
      "text/plain": [
       "plot without title"
      ]
     },
     "metadata": {
      "image/svg+xml": {
       "isolated": true
      }
     },
     "output_type": "display_data"
    }
   ],
   "source": [
    "# Read pfam annotation\n",
    "pfam2go <- read_tsv(\"~/smartas/data/PFAM2GO.txt\",skip=1)\n",
    "go.levels <- read_tsv(\"../data/PFAMGO.txt\",skip=1)\n",
    "\n",
    "pfam2go.m <- merge(pfam2go,go.levels) \n",
    "\n",
    "# Get list of all observed domains with their associated annotation\n",
    "domains <- plyr::dlply(pfam2go.m,.(slim_level,GO_subontology,GO_ID),function(x){\n",
    "    intersect(pf$id,unlist(strsplit(x[,3],\",\")))\n",
    "}) %>% unlist \n",
    "class <- gsub(\"\\\\.[^\\\\.]+$\",\"\",names(domains))\n",
    "\n",
    "expressedgos <- unlist(strsplit(names(domains),\".\",fixed=T))[c(F,F,T)] %>% \n",
    "    substr(1,10) %>%\n",
    "    split(class) %>%\n",
    "    lapply(unique)\n",
    "\n",
    "# read GO term enrichment analysis and calculate an agreement between M and S\n",
    "## molecular function\n",
    "smf <- read_tsv(\"../results/pfam_go_term/S_GO_molecular_function.tsv\",skip=15) %>%\n",
    "    mutate(origin=\"switches\", gotype=\"molecular_function\")\n",
    "mmf <- read_tsv(\"../results/pfam_go_term/M_GO_molecular_function.tsv\",skip=15) %>%\n",
    "    mutate(origin=\"mutations\", gotype=\"molecular_function\")\n",
    "\n",
    "## cellular component\n",
    "scc <- read_tsv(\"../results/pfam_go_term/S_GO_cellular_component.tsv\",skip=15) %>%\n",
    "    mutate(origin=\"switches\", gotype=\"cellular_component\")\n",
    "mcc <- read_tsv(\"../results/pfam_go_term/M_GO_cellular_component.tsv\",skip=15) %>%\n",
    "    mutate(origin=\"mutations\", gotype=\"cellular_component\")\n",
    "\n",
    "## biological process\n",
    "sbp <- read_tsv(\"../results/pfam_go_term/S_GO_biological_process.tsv\",skip=15) %>%\n",
    "    mutate(origin=\"switches\", gotype=\"biological_process\")\n",
    "mbp <- read_tsv(\"../results/pfam_go_term/M_GO_biological_process.tsv\",skip=15) %>%\n",
    "    mutate(origin=\"mutations\", gotype=\"biological_process\")\n",
    "\n",
    "go <- do.call(\"rbind\",list(smf,mmf,scc,mcc,sbp,mbp)) %>%\n",
    "    set_colnames(c(\"group\",\"id\",\"goterm\",\"slim_level\",\"z\",\"p\",\"fdr\",\"table\",\"domains\",\"origin\",\"gotype\")) \n",
    "\n",
    "all <- go %>%\n",
    "    count(id,gotype,slim_level) %>%\n",
    "    group_by(gotype,slim_level)  %>%\n",
    "    summarise(Match = sum(n==2), Any=n())\n",
    "\n",
    "M <- go %>% \n",
    "    filter(origin==\"mutations\") %>%\n",
    "    count(gotype,slim_level) %>%\n",
    "    mutate(M = n) %>%\n",
    "    select(-n)\n",
    "\n",
    "S <- go %>% \n",
    "    filter(origin==\"switches\") %>%\n",
    "    count(gotype,slim_level) %>%\n",
    "    mutate(S = n) %>%\n",
    "    select(-n)\n",
    "\n",
    "coincidence <- merge(all,M) %>%\n",
    "    merge(S) %>%\n",
    "    mutate(MatchPerc = Match/Any, \n",
    "           Coincidence = \"Observed\", \n",
    "           sd = NA, \n",
    "           sdPerc = NA,\n",
    "           slim_level = revalue(as.character(slim_level),\n",
    "                                replace = c('1'=\"Least Informative\", '2'=\"Moderately Informative\",\n",
    "                                            '3'=\"Informative\", '4'=\"Highly Informative\")))\n",
    "\n",
    "# prepare df to get number of samples\n",
    "M <- unique(coincidence[,c('gotype','slim_level',\"M\",\"S\")])\n",
    "rand <- list()\n",
    "for (c in names(expressedgos)){\n",
    "    # select real data comparison\n",
    "    v <- paste(M$slim_level,M$gotype,sep=\".\")==c\n",
    "    if (sum(v)==0) next\n",
    "    x <- M[v,]\n",
    "    tmp <- list()\n",
    "    # permutate 100 times\n",
    "    for (i in 1:100){\n",
    "        m <- sample(expressedgos[[c]],x$M)\n",
    "        s <- sample(expressedgos[[c]],x$S)\n",
    "        tmp[[i]] <- length(intersect(m,s))/length(unique(c(m,s)))\n",
    "    }\n",
    "    tmp <- do.call(\"rbind\",tmp)\n",
    "    rand[[c]] <- data.frame(slim_level=x$slim_level,gotype=x$gotype,Match=mean(tmp),sd=sd(tmp))\n",
    "}\n",
    "    \n",
    "rand <- do.call(\"rbind\",rand) %>%\n",
    "    mutate(MatchPerc=Match, sdPerc=sd, Coincidence=\"Random (x100)\")\n",
    "    \n",
    "coincidence %>%\n",
    "    select(gotype,slim_level,Match,sd,MatchPerc,sdPerc,Coincidence) %>%\n",
    "    rbind(rand) %>%\n",
    "    mutate(slim_level=factor(revalue(slim_level, \n",
    "                                     replace = c('Least Informative'=\"+\",\n",
    "                                                 'Moderately Informative'=\"++\",\n",
    "                                                 'Informative'=\"+++\",\n",
    "                                                 'Highly Informative'=\"++++\")),\n",
    "                                     levels = c('+','++','+++','++++')),\n",
    "          gotype = gsub(\"_\",\" \",gotype))  %>%\n",
    "    ggplot(aes(fill=gotype,y=MatchPerc,x=slim_level,alpha=Coincidence)) +\n",
    "        geom_bar(position=\"dodge\",stat=\"identity\") +\n",
    "        geom_errorbar(aes( ymax = MatchPerc+sdPerc, ymin = MatchPerc-sdPerc),position=\"dodge\") +\n",
    "        scale_alpha_discrete(range=c(\"Observed\"=1,\"Random (x100)\"=0.5)) +\n",
    "        labs(x=\"Information\",y=\"M and S agreement\",fill=\"GO Ontology\") +\n",
    "        clean_theme() +\n",
    "        theme(axis.text.x = element_text(angle=45, hjust=1))"
   ]
  },
  {
   "cell_type": "code",
   "execution_count": 13,
   "metadata": {
    "ExecuteTime": {
     "end_time": "2016-08-26T16:18:50.150555",
     "start_time": "2016-08-26T14:14:22.540Z"
    },
    "collapsed": false
   },
   "outputs": [],
   "source": [
    "all <- go %>%\n",
    "    count(id,gotype,slim_level) %>%\n",
    "    group_by(gotype,slim_level)  %>%\n",
    "    summarise(Match = sum(n==2), Any=n())\n",
    "\n",
    "M <- go %>% \n",
    "    filter(origin==\"mutations\") %>%\n",
    "    count(gotype,slim_level) %>%\n",
    "    mutate(M = n) %>%\n",
    "    select(-n)\n",
    "\n",
    "S <- go %>% \n",
    "    filter(origin==\"switches\") %>%\n",
    "    count(gotype,slim_level) %>%\n",
    "    mutate(S = n) %>%\n",
    "    select(-n)"
   ]
  },
  {
   "cell_type": "code",
   "execution_count": 14,
   "metadata": {
    "ExecuteTime": {
     "end_time": "2016-08-26T16:18:50.344337",
     "start_time": "2016-08-26T14:14:22.555Z"
    },
    "collapsed": false
   },
   "outputs": [
    {
     "data": {
      "text/html": [
       "<ol class=list-inline>\n",
       "\t<li>'molecular transducer activity'</li>\n",
       "\t<li>'receptor activity'</li>\n",
       "</ol>\n"
      ],
      "text/latex": [
       "\\begin{enumerate*}\n",
       "\\item 'molecular transducer activity'\n",
       "\\item 'receptor activity'\n",
       "\\end{enumerate*}\n"
      ],
      "text/markdown": [
       "1. 'molecular transducer activity'\n",
       "2. 'receptor activity'\n",
       "\n",
       "\n"
      ],
      "text/plain": [
       "[1] \"molecular transducer activity\" \"receptor activity\"            "
      ]
     },
     "execution_count": 14,
     "metadata": {},
     "output_type": "execute_result"
    },
    {
     "data": {
      "text/html": [
       "<ol class=list-inline>\n",
       "\t<li>'calcium ion binding'</li>\n",
       "\t<li>'cell adhesion molecule binding'</li>\n",
       "\t<li>'heparin binding'</li>\n",
       "\t<li>'protein complex binding'</li>\n",
       "\t<li>'protein domain specific binding'</li>\n",
       "\t<li>'protein tyrosine kinase activity'</li>\n",
       "\t<li>'receptor binding'</li>\n",
       "\t<li>'transmembrane receptor protein kinase activity'</li>\n",
       "</ol>\n"
      ],
      "text/latex": [
       "\\begin{enumerate*}\n",
       "\\item 'calcium ion binding'\n",
       "\\item 'cell adhesion molecule binding'\n",
       "\\item 'heparin binding'\n",
       "\\item 'protein complex binding'\n",
       "\\item 'protein domain specific binding'\n",
       "\\item 'protein tyrosine kinase activity'\n",
       "\\item 'receptor binding'\n",
       "\\item 'transmembrane receptor protein kinase activity'\n",
       "\\end{enumerate*}\n"
      ],
      "text/markdown": [
       "1. 'calcium ion binding'\n",
       "2. 'cell adhesion molecule binding'\n",
       "3. 'heparin binding'\n",
       "4. 'protein complex binding'\n",
       "5. 'protein domain specific binding'\n",
       "6. 'protein tyrosine kinase activity'\n",
       "7. 'receptor binding'\n",
       "8. 'transmembrane receptor protein kinase activity'\n",
       "\n",
       "\n"
      ],
      "text/plain": [
       "[1] \"calcium ion binding\"                           \n",
       "[2] \"cell adhesion molecule binding\"                \n",
       "[3] \"heparin binding\"                               \n",
       "[4] \"protein complex binding\"                       \n",
       "[5] \"protein domain specific binding\"               \n",
       "[6] \"protein tyrosine kinase activity\"              \n",
       "[7] \"receptor binding\"                              \n",
       "[8] \"transmembrane receptor protein kinase activity\""
      ]
     },
     "execution_count": 14,
     "metadata": {},
     "output_type": "execute_result"
    },
    {
     "data": {
      "text/html": [
       "<ol class=list-inline>\n",
       "\t<li>'collagen binding'</li>\n",
       "\t<li>'PDZ domain binding'</li>\n",
       "\t<li>'phosphatidylinositol 3-kinase binding'</li>\n",
       "</ol>\n"
      ],
      "text/latex": [
       "\\begin{enumerate*}\n",
       "\\item 'collagen binding'\n",
       "\\item 'PDZ domain binding'\n",
       "\\item 'phosphatidylinositol 3-kinase binding'\n",
       "\\end{enumerate*}\n"
      ],
      "text/markdown": [
       "1. 'collagen binding'\n",
       "2. 'PDZ domain binding'\n",
       "3. 'phosphatidylinositol 3-kinase binding'\n",
       "\n",
       "\n"
      ],
      "text/plain": [
       "[1] \"collagen binding\"                     \n",
       "[2] \"PDZ domain binding\"                   \n",
       "[3] \"phosphatidylinositol 3-kinase binding\""
      ]
     },
     "execution_count": 14,
     "metadata": {},
     "output_type": "execute_result"
    }
   ],
   "source": [
    "# some molecular function terms\n",
    "x <- table(rbind(mmf[,c(3,4)],smf[,c(3,4)]))\n",
    "rownames(x)[x[,1]==2]\n",
    "rownames(x)[x[,2]==2]\n",
    "rownames(x)[x[,3]==2]"
   ]
  },
  {
   "cell_type": "markdown",
   "metadata": {},
   "source": [
    "### Genes containing the domains\n",
    "\n",
    "We will inquire if gained/lost domains are characteristic of certain either oncogenes or tumor suppressors. We will clasify all the domains present in the reference proteome that occur in oncogenes suppresors as gained or lost (those outside those categories are omited)."
   ]
  },
  {
   "cell_type": "code",
   "execution_count": 15,
   "metadata": {
    "ExecuteTime": {
     "end_time": "2016-08-26T16:18:51.577243",
     "start_time": "2016-08-26T14:14:22.573Z"
    },
    "collapsed": false
   },
   "outputs": [
    {
     "data": {
      "text/plain": [
       "\n",
       "\tFisher's Exact Test for Count Data\n",
       "\n",
       "data:  .\n",
       "p-value = 9.499e-06\n",
       "alternative hypothesis: true odds ratio is not equal to 1\n",
       "95 percent confidence interval:\n",
       " 1.211981 1.676310\n",
       "sample estimates:\n",
       "odds ratio \n",
       "  1.423767 \n"
      ]
     },
     "execution_count": 15,
     "metadata": {},
     "output_type": "execute_result"
    },
    {
     "data": {
      "image/png": "[encoded data removed]",
      "image/svg+xml": [
       "<?xml version=\"1.0\" encoding=\"UTF-8\"?>\n",
       "<svg xmlns=\"http://www.w3.org/2000/svg\" xmlns:xlink=\"http://www.w3.org/1999/xlink\" width=\"504pt\" height=\"504pt\" viewBox=\"0 0 504 504\" version=\"1.1\">\n",
       "<defs>\n",
       "<g>\n",
       "<symbol overflow=\"visible\" id=\"glyph0-0\">\n",
       "<path style=\"stroke:none;\" d=\"\"/>\n",
       "</symbol>\n",
       "<symbol overflow=\"visible\" id=\"glyph0-1\">\n",
       "<path style=\"stroke:none;\" d=\"M 4.125 -10.640625 C 3.140625 -10.640625 2.234375 -10.203125 1.6875 -9.46875 C 0.984375 -8.53125 0.640625 -7.109375 0.640625 -5.140625 C 0.640625 -1.5625 1.84375 0.34375 4.125 0.34375 C 6.375 0.34375 7.609375 -1.5625 7.609375 -5.0625 C 7.609375 -7.125 7.28125 -8.5 6.5625 -9.46875 C 6.015625 -10.21875 5.125 -10.640625 4.125 -10.640625 Z M 4.125 -9.46875 C 5.546875 -9.46875 6.25 -8.03125 6.25 -5.171875 C 6.25 -2.15625 5.5625 -0.75 4.09375 -0.75 C 2.703125 -0.75 2 -2.21875 2 -5.125 C 2 -8.046875 2.703125 -9.46875 4.125 -9.46875 Z \"/>\n",
       "</symbol>\n",
       "<symbol overflow=\"visible\" id=\"glyph0-2\">\n",
       "<path style=\"stroke:none;\" d=\"M 2.859375 -1.5625 L 1.3125 -1.5625 L 1.3125 0 L 2.859375 0 Z \"/>\n",
       "</symbol>\n",
       "<symbol overflow=\"visible\" id=\"glyph0-3\">\n",
       "<path style=\"stroke:none;\" d=\"M 7.59375 -1.3125 L 2 -1.3125 C 2.125 -2.171875 2.609375 -2.734375 3.921875 -3.5 L 5.421875 -4.3125 C 6.90625 -5.109375 7.671875 -6.203125 7.671875 -7.515625 C 7.671875 -8.40625 7.3125 -9.21875 6.671875 -9.796875 C 6.046875 -10.359375 5.265625 -10.640625 4.265625 -10.640625 C 2.90625 -10.640625 1.90625 -10.15625 1.3125 -9.25 C 0.9375 -8.6875 0.78125 -8.03125 0.75 -6.9375 L 2.0625 -6.9375 C 2.109375 -7.671875 2.203125 -8.09375 2.390625 -8.4375 C 2.734375 -9.09375 3.421875 -9.484375 4.21875 -9.484375 C 5.421875 -9.484375 6.3125 -8.625 6.3125 -7.484375 C 6.3125 -6.640625 5.8125 -5.921875 4.875 -5.390625 L 3.5 -4.609375 C 1.28125 -3.34375 0.625 -2.34375 0.515625 0 L 7.59375 0 Z \"/>\n",
       "</symbol>\n",
       "<symbol overflow=\"visible\" id=\"glyph0-4\">\n",
       "<path style=\"stroke:none;\" d=\"M 7.140625 -10.640625 L 1.65625 -10.640625 L 0.859375 -4.84375 L 2.0625 -4.84375 C 2.6875 -5.578125 3.1875 -5.828125 4.015625 -5.828125 C 5.4375 -5.828125 6.34375 -4.859375 6.34375 -3.28125 C 6.34375 -1.75 5.453125 -0.828125 4.015625 -0.828125 C 2.859375 -0.828125 2.15625 -1.40625 1.84375 -2.609375 L 0.53125 -2.609375 C 0.703125 -1.734375 0.859375 -1.3125 1.171875 -0.9375 C 1.765625 -0.125 2.84375 0.34375 4.046875 0.34375 C 6.1875 0.34375 7.6875 -1.21875 7.6875 -3.46875 C 7.6875 -5.5625 6.296875 -7 4.265625 -7 C 3.515625 -7 2.90625 -6.8125 2.296875 -6.359375 L 2.71875 -9.328125 L 7.140625 -9.328125 Z \"/>\n",
       "</symbol>\n",
       "<symbol overflow=\"visible\" id=\"glyph0-5\">\n",
       "<path style=\"stroke:none;\" d=\"M 7.796875 -10.640625 L 0.6875 -10.640625 L 0.6875 -9.328125 L 6.4375 -9.328125 C 3.90625 -5.71875 2.859375 -3.5 2.0625 0 L 3.484375 0 C 4.0625 -3.40625 5.40625 -6.328125 7.796875 -9.53125 Z \"/>\n",
       "</symbol>\n",
       "<symbol overflow=\"visible\" id=\"glyph0-6\">\n",
       "<path style=\"stroke:none;\" d=\"M 3.890625 -7.578125 L 3.890625 0 L 5.203125 0 L 5.203125 -10.640625 L 4.328125 -10.640625 C 3.875 -9 3.5625 -8.78125 1.53125 -8.515625 L 1.53125 -7.578125 Z \"/>\n",
       "</symbol>\n",
       "<symbol overflow=\"visible\" id=\"glyph0-7\">\n",
       "<path style=\"stroke:none;\" d=\"M 10.640625 -5.78125 L 6.078125 -5.78125 L 6.078125 -4.546875 L 9.40625 -4.546875 L 9.40625 -4.25 C 9.40625 -2.296875 7.96875 -0.890625 5.96875 -0.890625 C 4.859375 -0.890625 3.859375 -1.296875 3.203125 -2 C 2.484375 -2.78125 2.0625 -4.078125 2.0625 -5.4375 C 2.0625 -8.109375 3.578125 -9.890625 5.890625 -9.890625 C 7.5625 -9.890625 8.765625 -9.03125 9.0625 -7.625 L 10.484375 -7.625 C 10.09375 -9.84375 8.421875 -11.109375 5.90625 -11.109375 C 4.578125 -11.109375 3.5 -10.765625 2.640625 -10.0625 C 1.375 -9.015625 0.65625 -7.3125 0.65625 -5.359375 C 0.65625 -2 2.71875 0.34375 5.671875 0.34375 C 7.15625 0.34375 8.34375 -0.203125 9.40625 -1.390625 L 9.75 0.0625 L 10.640625 0.0625 Z \"/>\n",
       "</symbol>\n",
       "<symbol overflow=\"visible\" id=\"glyph0-8\">\n",
       "<path style=\"stroke:none;\" d=\"M 8.03125 -0.734375 C 7.890625 -0.703125 7.828125 -0.703125 7.75 -0.703125 C 7.3125 -0.703125 7.078125 -0.9375 7.078125 -1.3125 L 7.078125 -5.9375 C 7.078125 -7.328125 6.0625 -8.078125 4.125 -8.078125 C 2.984375 -8.078125 2.046875 -7.75 1.515625 -7.171875 C 1.15625 -6.765625 1 -6.3125 0.96875 -5.53125 L 2.234375 -5.53125 C 2.34375 -6.5 2.90625 -6.9375 4.078125 -6.9375 C 5.203125 -6.9375 5.828125 -6.515625 5.828125 -5.765625 L 5.828125 -5.4375 C 5.828125 -4.90625 5.515625 -4.6875 4.53125 -4.5625 C 2.765625 -4.328125 2.484375 -4.28125 2.015625 -4.078125 C 1.09375 -3.703125 0.625 -3 0.625 -1.984375 C 0.625 -0.5625 1.625 0.34375 3.203125 0.34375 C 4.203125 0.34375 5 0 5.875 -0.8125 C 5.96875 -0.015625 6.359375 0.34375 7.171875 0.34375 C 7.421875 0.34375 7.625 0.3125 8.03125 0.203125 Z M 5.828125 -2.46875 C 5.828125 -2.0625 5.71875 -1.796875 5.34375 -1.453125 C 4.828125 -0.984375 4.21875 -0.75 3.484375 -0.75 C 2.5 -0.75 1.9375 -1.21875 1.9375 -2.015625 C 1.9375 -2.828125 2.484375 -3.25 3.828125 -3.453125 C 5.140625 -3.625 5.421875 -3.6875 5.828125 -3.890625 Z \"/>\n",
       "</symbol>\n",
       "<symbol overflow=\"visible\" id=\"glyph0-9\">\n",
       "<path style=\"stroke:none;\" d=\"M 2.25 -7.859375 L 1 -7.859375 L 1 0 L 2.25 0 Z M 2.25 -10.9375 L 0.984375 -10.9375 L 0.984375 -9.359375 L 2.25 -9.359375 Z \"/>\n",
       "</symbol>\n",
       "<symbol overflow=\"visible\" id=\"glyph0-10\">\n",
       "<path style=\"stroke:none;\" d=\"M 1.046875 -7.859375 L 1.046875 0 L 2.3125 0 L 2.3125 -4.328125 C 2.3125 -5.9375 3.15625 -6.984375 4.4375 -6.984375 C 5.4375 -6.984375 6.0625 -6.390625 6.0625 -5.4375 L 6.0625 0 L 7.3125 0 L 7.3125 -5.9375 C 7.3125 -7.25 6.328125 -8.078125 4.8125 -8.078125 C 3.640625 -8.078125 2.890625 -7.640625 2.203125 -6.546875 L 2.203125 -7.859375 Z \"/>\n",
       "</symbol>\n",
       "<symbol overflow=\"visible\" id=\"glyph0-11\">\n",
       "<path style=\"stroke:none;\" d=\"M 6.5625 -5.671875 C 6.5625 -7.21875 5.53125 -8.078125 3.71875 -8.078125 C 1.890625 -8.078125 0.703125 -7.140625 0.703125 -5.6875 C 0.703125 -4.453125 1.328125 -3.875 3.1875 -3.421875 L 4.359375 -3.140625 C 5.234375 -2.921875 5.578125 -2.609375 5.578125 -2.046875 C 5.578125 -1.3125 4.84375 -0.8125 3.75 -0.8125 C 3.078125 -0.8125 2.5 -1 2.1875 -1.328125 C 2 -1.5625 1.90625 -1.78125 1.828125 -2.34375 L 0.515625 -2.34375 C 0.5625 -0.53125 1.59375 0.34375 3.640625 0.34375 C 5.625 0.34375 6.890625 -0.625 6.890625 -2.140625 C 6.890625 -3.3125 6.21875 -3.953125 4.671875 -4.328125 L 3.46875 -4.625 C 2.4375 -4.859375 2.015625 -5.1875 2.015625 -5.75 C 2.015625 -6.46875 2.65625 -6.9375 3.671875 -6.9375 C 4.6875 -6.9375 5.21875 -6.5 5.25 -5.671875 Z \"/>\n",
       "</symbol>\n",
       "<symbol overflow=\"visible\" id=\"glyph0-12\">\n",
       "<path style=\"stroke:none;\" d=\"M 2.59375 -10.9375 L 1.203125 -10.9375 L 1.203125 0 L 8 0 L 8 -1.234375 L 2.59375 -1.234375 Z \"/>\n",
       "</symbol>\n",
       "<symbol overflow=\"visible\" id=\"glyph0-13\">\n",
       "<path style=\"stroke:none;\" d=\"M 4.078125 -8.078125 C 1.875 -8.078125 0.546875 -6.515625 0.546875 -3.875 C 0.546875 -1.234375 1.859375 0.34375 4.09375 0.34375 C 6.296875 0.34375 7.65625 -1.234375 7.65625 -3.8125 C 7.65625 -6.53125 6.34375 -8.078125 4.078125 -8.078125 Z M 4.09375 -6.9375 C 5.5 -6.9375 6.34375 -5.78125 6.34375 -3.828125 C 6.34375 -1.984375 5.46875 -0.8125 4.09375 -0.8125 C 2.703125 -0.8125 1.84375 -1.96875 1.84375 -3.875 C 1.84375 -5.765625 2.703125 -6.9375 4.09375 -6.9375 Z \"/>\n",
       "</symbol>\n",
       "<symbol overflow=\"visible\" id=\"glyph0-14\">\n",
       "<path style=\"stroke:none;\" d=\"M 7.6875 -3.515625 C 7.6875 -4.703125 7.609375 -5.4375 7.375 -6.015625 C 6.875 -7.3125 5.671875 -8.078125 4.203125 -8.078125 C 2.015625 -8.078125 0.59375 -6.40625 0.59375 -3.828125 C 0.59375 -1.25 1.96875 0.34375 4.171875 0.34375 C 5.96875 0.34375 7.21875 -0.671875 7.53125 -2.390625 L 6.265625 -2.390625 C 5.921875 -1.34375 5.21875 -0.8125 4.21875 -0.8125 C 3.421875 -0.8125 2.75 -1.171875 2.328125 -1.828125 C 2.03125 -2.28125 1.921875 -2.734375 1.90625 -3.515625 Z M 1.9375 -4.53125 C 2.046875 -5.984375 2.921875 -6.9375 4.1875 -6.9375 C 5.421875 -6.9375 6.359375 -5.90625 6.359375 -4.625 C 6.359375 -4.59375 6.359375 -4.5625 6.34375 -4.53125 Z \"/>\n",
       "</symbol>\n",
       "<symbol overflow=\"visible\" id=\"glyph1-0\">\n",
       "<path style=\"stroke:none;\" d=\"\"/>\n",
       "</symbol>\n",
       "<symbol overflow=\"visible\" id=\"glyph1-1\">\n",
       "<path style=\"stroke:none;\" d=\"M 7.78125 -14.8125 C 3.59375 -14.8125 0.765625 -11.734375 0.765625 -7.1875 C 0.765625 -2.625 3.59375 0.453125 7.796875 0.453125 C 9.5625 0.453125 11.140625 -0.078125 12.3125 -1.078125 C 13.90625 -2.421875 14.84375 -4.6875 14.84375 -7.0625 C 14.84375 -11.765625 12.0625 -14.8125 7.78125 -14.8125 Z M 7.78125 -13.1875 C 10.9375 -13.1875 12.984375 -10.78125 12.984375 -7.09375 C 12.984375 -3.578125 10.875 -1.1875 7.796875 -1.1875 C 4.703125 -1.1875 2.625 -3.578125 2.625 -7.1875 C 2.625 -10.78125 4.703125 -13.1875 7.78125 -13.1875 Z \"/>\n",
       "</symbol>\n",
       "<symbol overflow=\"visible\" id=\"glyph1-2\">\n",
       "<path style=\"stroke:none;\" d=\"M 1.375 -10.484375 L 1.375 0 L 3.0625 0 L 3.0625 -5.4375 C 3.0625 -6.9375 3.4375 -7.921875 4.234375 -8.5 C 4.765625 -8.875 5.265625 -9 6.421875 -9.015625 L 6.421875 -10.71875 C 6.140625 -10.765625 6 -10.78125 5.78125 -10.78125 C 4.703125 -10.78125 3.875 -10.140625 2.921875 -8.578125 L 2.921875 -10.484375 Z \"/>\n",
       "</symbol>\n",
       "<symbol overflow=\"visible\" id=\"glyph1-3\">\n",
       "<path style=\"stroke:none;\" d=\"M 3 -10.484375 L 1.34375 -10.484375 L 1.34375 0 L 3 0 Z M 3 -14.578125 L 1.3125 -14.578125 L 1.3125 -12.484375 L 3 -12.484375 Z \"/>\n",
       "</symbol>\n",
       "<symbol overflow=\"visible\" id=\"glyph1-4\">\n",
       "<path style=\"stroke:none;\" d=\"M 8.234375 -10.484375 L 8.234375 -8.953125 C 7.40625 -10.203125 6.375 -10.78125 5.046875 -10.78125 C 2.375 -10.78125 0.578125 -8.453125 0.578125 -5.0625 C 0.578125 -3.34375 1.046875 -1.9375 1.90625 -0.9375 C 2.6875 -0.0625 3.796875 0.453125 4.90625 0.453125 C 6.21875 0.453125 7.140625 -0.09375 8.078125 -1.421875 L 8.078125 -0.875 C 8.078125 0.546875 7.90625 1.40625 7.484375 1.984375 C 7.046875 2.59375 6.1875 2.953125 5.15625 2.953125 C 4.40625 2.953125 3.71875 2.765625 3.265625 2.40625 C 2.875 2.09375 2.71875 1.8125 2.625 1.203125 L 0.921875 1.203125 C 1.09375 3.1875 2.640625 4.359375 5.09375 4.359375 C 6.65625 4.359375 8 3.859375 8.6875 3.015625 C 9.484375 2.0625 9.78125 0.734375 9.78125 -1.71875 L 9.78125 -10.484375 Z M 5.21875 -9.234375 C 7.015625 -9.234375 8.078125 -7.71875 8.078125 -5.09375 C 8.078125 -2.59375 7 -1.078125 5.234375 -1.078125 C 3.421875 -1.078125 2.3125 -2.625 2.3125 -5.15625 C 2.3125 -7.6875 3.4375 -9.234375 5.21875 -9.234375 Z \"/>\n",
       "</symbol>\n",
       "<symbol overflow=\"visible\" id=\"glyph1-5\">\n",
       "<path style=\"stroke:none;\" d=\"M 1.40625 -10.484375 L 1.40625 0 L 3.078125 0 L 3.078125 -5.78125 C 3.078125 -7.921875 4.203125 -9.3125 5.921875 -9.3125 C 7.234375 -9.3125 8.078125 -8.515625 8.078125 -7.265625 L 8.078125 0 L 9.734375 0 L 9.734375 -7.921875 C 9.734375 -9.65625 8.4375 -10.78125 6.421875 -10.78125 C 4.859375 -10.78125 3.859375 -10.1875 2.9375 -8.71875 L 2.9375 -10.484375 Z \"/>\n",
       "</symbol>\n",
       "<symbol overflow=\"visible\" id=\"glyph2-0\">\n",
       "<path style=\"stroke:none;\" d=\"\"/>\n",
       "</symbol>\n",
       "<symbol overflow=\"visible\" id=\"glyph2-1\">\n",
       "<path style=\"stroke:none;\" d=\"M -10.0625 -13.234375 C -13.265625 -12.65625 -14.8125 -10.8125 -14.8125 -7.625 C -14.8125 -5.65625 -14.203125 -4.078125 -13 -3 C -11.5625 -1.6875 -9.484375 -0.953125 -7.125 -0.953125 C -4.71875 -0.953125 -2.65625 -1.703125 -1.234375 -3.078125 C -0.078125 -4.203125 0.453125 -5.640625 0.453125 -7.546875 C 0.453125 -11.09375 -1.453125 -13.09375 -5.3125 -13.546875 L -5.3125 -11.625 C -4.3125 -11.453125 -3.640625 -11.265625 -3.0625 -10.953125 C -1.859375 -10.359375 -1.1875 -9.125 -1.1875 -7.5625 C -1.1875 -4.65625 -3.5 -2.8125 -7.140625 -2.8125 C -10.875 -2.8125 -13.1875 -4.578125 -13.1875 -7.40625 C -13.1875 -8.578125 -12.8125 -9.6875 -12.265625 -10.28125 C -11.765625 -10.8125 -11.140625 -11.125 -10.0625 -11.34375 Z \"/>\n",
       "</symbol>\n",
       "<symbol overflow=\"visible\" id=\"glyph2-2\">\n",
       "<path style=\"stroke:none;\" d=\"M -10.78125 -5.4375 C -10.78125 -2.5 -8.6875 -0.71875 -5.15625 -0.71875 C -1.640625 -0.71875 0.453125 -2.484375 0.453125 -5.453125 C 0.453125 -8.40625 -1.640625 -10.203125 -5.078125 -10.203125 C -8.703125 -10.203125 -10.78125 -8.453125 -10.78125 -5.4375 Z M -9.234375 -5.453125 C -9.234375 -7.34375 -7.703125 -8.453125 -5.09375 -8.453125 C -2.640625 -8.453125 -1.078125 -7.296875 -1.078125 -5.453125 C -1.078125 -3.59375 -2.625 -2.453125 -5.15625 -2.453125 C -7.6875 -2.453125 -9.234375 -3.59375 -9.234375 -5.453125 Z \"/>\n",
       "</symbol>\n",
       "<symbol overflow=\"visible\" id=\"glyph2-3\">\n",
       "<path style=\"stroke:none;\" d=\"M 0 -9.640625 L -10.484375 -9.640625 L -10.484375 -7.984375 L -4.546875 -7.984375 C -2.40625 -7.984375 -1 -6.859375 -1 -5.125 C -1 -3.796875 -1.796875 -2.953125 -3.0625 -2.953125 L -10.484375 -2.953125 L -10.484375 -1.296875 L -2.40625 -1.296875 C -0.65625 -1.296875 0.453125 -2.59375 0.453125 -4.640625 C 0.453125 -6.1875 -0.078125 -7.15625 -1.453125 -8.140625 L 0 -8.140625 Z \"/>\n",
       "</symbol>\n",
       "<symbol overflow=\"visible\" id=\"glyph2-4\">\n",
       "<path style=\"stroke:none;\" d=\"M -10.484375 -1.40625 L 0 -1.40625 L 0 -3.078125 L -5.78125 -3.078125 C -7.921875 -3.078125 -9.3125 -4.203125 -9.3125 -5.921875 C -9.3125 -7.234375 -8.515625 -8.078125 -7.265625 -8.078125 L 0 -8.078125 L 0 -9.734375 L -7.921875 -9.734375 C -9.65625 -9.734375 -10.78125 -8.4375 -10.78125 -6.421875 C -10.78125 -4.859375 -10.1875 -3.859375 -8.71875 -2.9375 L -10.484375 -2.9375 Z \"/>\n",
       "</symbol>\n",
       "<symbol overflow=\"visible\" id=\"glyph2-5\">\n",
       "<path style=\"stroke:none;\" d=\"M -10.484375 -5.078125 L -10.484375 -3.359375 L -13.359375 -3.359375 L -13.359375 -1.703125 L -10.484375 -1.703125 L -10.484375 -0.28125 L -9.125 -0.28125 L -9.125 -1.703125 L -1.203125 -1.703125 C -0.140625 -1.703125 0.453125 -2.421875 0.453125 -3.71875 C 0.453125 -4.125 0.421875 -4.515625 0.3125 -5.078125 L -1.078125 -5.078125 C -1.015625 -4.859375 -1 -4.59375 -1 -4.28125 C -1 -3.5625 -1.203125 -3.359375 -1.9375 -3.359375 L -9.125 -3.359375 L -9.125 -5.078125 Z \"/>\n",
       "</symbol>\n",
       "<symbol overflow=\"visible\" id=\"glyph2-6\">\n",
       "<path style=\"stroke:none;\" d=\"M -7.5625 -8.765625 C -9.625 -8.734375 -10.78125 -7.375 -10.78125 -4.953125 C -10.78125 -2.515625 -9.515625 -0.9375 -7.578125 -0.9375 C -5.9375 -0.9375 -5.15625 -1.78125 -4.5625 -4.265625 L -4.1875 -5.8125 C -3.90625 -6.984375 -3.484375 -7.4375 -2.71875 -7.4375 C -1.734375 -7.4375 -1.078125 -6.453125 -1.078125 -5 C -1.078125 -4.09375 -1.34375 -3.34375 -1.78125 -2.921875 C -2.078125 -2.65625 -2.375 -2.546875 -3.125 -2.4375 L -3.125 -0.6875 C -0.703125 -0.765625 0.453125 -2.125 0.453125 -4.859375 C 0.453125 -7.5 -0.84375 -9.1875 -2.859375 -9.1875 C -4.421875 -9.1875 -5.28125 -8.296875 -5.78125 -6.21875 L -6.15625 -4.625 C -6.484375 -3.265625 -6.921875 -2.6875 -7.65625 -2.6875 C -8.625 -2.6875 -9.234375 -3.546875 -9.234375 -4.90625 C -9.234375 -6.234375 -8.65625 -6.953125 -7.5625 -7 Z \"/>\n",
       "</symbol>\n",
       "</g>\n",
       "<clipPath id=\"clip1\">\n",
       "  <path d=\"M 75.84375 9.921875 L 499 9.921875 L 499 449 L 75.84375 449 Z \"/>\n",
       "</clipPath>\n",
       "<clipPath id=\"clip2\">\n",
       "  <path d=\"M 75.84375 9.921875 L 499 9.921875 L 499 449.574219 L 75.84375 449.574219 Z \"/>\n",
       "</clipPath>\n",
       "<clipPath id=\"clip3\">\n",
       "  <path d=\"M 75.84375 428 L 499 428 L 499 429 L 75.84375 429 Z \"/>\n",
       "</clipPath>\n",
       "<clipPath id=\"clip4\">\n",
       "  <path d=\"M 75.84375 328 L 499 328 L 499 330 L 75.84375 330 Z \"/>\n",
       "</clipPath>\n",
       "<clipPath id=\"clip5\">\n",
       "  <path d=\"M 75.84375 228 L 499 228 L 499 230 L 75.84375 230 Z \"/>\n",
       "</clipPath>\n",
       "<clipPath id=\"clip6\">\n",
       "  <path d=\"M 75.84375 129 L 499 129 L 499 130 L 75.84375 130 Z \"/>\n",
       "</clipPath>\n",
       "<clipPath id=\"clip7\">\n",
       "  <path d=\"M 75.84375 29 L 499 29 L 499 31 L 75.84375 31 Z \"/>\n",
       "</clipPath>\n",
       "<clipPath id=\"clip8\">\n",
       "  <path d=\"M 190 9.921875 L 192 9.921875 L 192 449 L 190 449 Z \"/>\n",
       "</clipPath>\n",
       "<clipPath id=\"clip9\">\n",
       "  <path d=\"M 382 9.921875 L 384 9.921875 L 384 449 L 382 449 Z \"/>\n",
       "</clipPath>\n",
       "<clipPath id=\"clip10\">\n",
       "  <path d=\"M 75.84375 9.921875 L 499 9.921875 L 499 449.574219 L 75.84375 449.574219 Z \"/>\n",
       "</clipPath>\n",
       "</defs>\n",
       "<g id=\"surface68\">\n",
       "<rect x=\"0\" y=\"0\" width=\"504\" height=\"504\" style=\"fill:rgb(100%,100%,100%);fill-opacity:1;stroke:none;\"/>\n",
       "<rect x=\"0\" y=\"0\" width=\"504\" height=\"504\" style=\"fill:rgb(100%,100%,100%);fill-opacity:1;stroke:none;\"/>\n",
       "<path style=\"fill:none;stroke-width:1.066978;stroke-linecap:round;stroke-linejoin:round;stroke:rgb(100%,100%,100%);stroke-opacity:1;stroke-miterlimit:10;\" d=\"M 0 504 L 504 504 L 504 0 L 0 0 Z \"/>\n",
       "<g clip-path=\"url(#clip1)\" clip-rule=\"nonzero\">\n",
       "<path style=\" stroke:none;fill-rule:nonzero;fill:rgb(100%,100%,100%);fill-opacity:1;\" d=\"M 75.84375 448.574219 L 498.332031 448.574219 L 498.332031 9.921875 L 75.84375 9.921875 Z \"/>\n",
       "</g>\n",
       "<g clip-path=\"url(#clip2)\" clip-rule=\"nonzero\">\n",
       "<path style=\"fill:none;stroke-width:1.066978;stroke-linecap:round;stroke-linejoin:round;stroke:rgb(100%,100%,100%);stroke-opacity:1;stroke-miterlimit:10;\" d=\"M 75.84375 448.574219 L 498.332031 448.574219 L 498.332031 9.921875 L 75.84375 9.921875 Z \"/>\n",
       "</g>\n",
       "<g clip-path=\"url(#clip3)\" clip-rule=\"nonzero\">\n",
       "<path style=\"fill:none;stroke-width:0.533489;stroke-linecap:butt;stroke-linejoin:round;stroke:rgb(85.098039%,85.098039%,85.098039%);stroke-opacity:1;stroke-miterlimit:10;\" d=\"M 75.84375 428.636719 L 498.332031 428.636719 \"/>\n",
       "</g>\n",
       "<g clip-path=\"url(#clip4)\" clip-rule=\"nonzero\">\n",
       "<path style=\"fill:none;stroke-width:0.533489;stroke-linecap:butt;stroke-linejoin:round;stroke:rgb(85.098039%,85.098039%,85.098039%);stroke-opacity:1;stroke-miterlimit:10;\" d=\"M 75.84375 328.941406 L 498.332031 328.941406 \"/>\n",
       "</g>\n",
       "<g clip-path=\"url(#clip5)\" clip-rule=\"nonzero\">\n",
       "<path style=\"fill:none;stroke-width:0.533489;stroke-linecap:butt;stroke-linejoin:round;stroke:rgb(85.098039%,85.098039%,85.098039%);stroke-opacity:1;stroke-miterlimit:10;\" d=\"M 75.84375 229.246094 L 498.332031 229.246094 \"/>\n",
       "</g>\n",
       "<g clip-path=\"url(#clip6)\" clip-rule=\"nonzero\">\n",
       "<path style=\"fill:none;stroke-width:0.533489;stroke-linecap:butt;stroke-linejoin:round;stroke:rgb(85.098039%,85.098039%,85.098039%);stroke-opacity:1;stroke-miterlimit:10;\" d=\"M 75.84375 129.554688 L 498.332031 129.554688 \"/>\n",
       "</g>\n",
       "<g clip-path=\"url(#clip7)\" clip-rule=\"nonzero\">\n",
       "<path style=\"fill:none;stroke-width:0.533489;stroke-linecap:butt;stroke-linejoin:round;stroke:rgb(85.098039%,85.098039%,85.098039%);stroke-opacity:1;stroke-miterlimit:10;\" d=\"M 75.84375 29.859375 L 498.332031 29.859375 \"/>\n",
       "</g>\n",
       "<g clip-path=\"url(#clip8)\" clip-rule=\"nonzero\">\n",
       "<path style=\"fill:none;stroke-width:0.533489;stroke-linecap:butt;stroke-linejoin:round;stroke:rgb(85.098039%,85.098039%,85.098039%);stroke-opacity:1;stroke-miterlimit:10;\" d=\"M 191.066406 448.574219 L 191.066406 9.921875 \"/>\n",
       "</g>\n",
       "<g clip-path=\"url(#clip9)\" clip-rule=\"nonzero\">\n",
       "<path style=\"fill:none;stroke-width:0.533489;stroke-linecap:butt;stroke-linejoin:round;stroke:rgb(85.098039%,85.098039%,85.098039%);stroke-opacity:1;stroke-miterlimit:10;\" d=\"M 383.105469 448.574219 L 383.105469 9.921875 \"/>\n",
       "</g>\n",
       "<path style=\" stroke:none;fill-rule:nonzero;fill:rgb(97.254902%,46.27451%,42.745098%);fill-opacity:1;\" d=\"M 104.648438 428.636719 L 277.484375 428.636719 L 277.484375 97.765625 L 104.648438 97.765625 Z \"/>\n",
       "<path style=\" stroke:none;fill-rule:nonzero;fill:rgb(0%,74.901961%,76.862745%);fill-opacity:1;\" d=\"M 104.648438 97.765625 L 277.484375 97.765625 L 277.484375 29.859375 L 104.648438 29.859375 Z \"/>\n",
       "<path style=\" stroke:none;fill-rule:nonzero;fill:rgb(97.254902%,46.27451%,42.745098%);fill-opacity:1;\" d=\"M 296.6875 428.636719 L 469.523438 428.636719 L 469.523438 120.042969 L 296.6875 120.042969 Z \"/>\n",
       "<path style=\" stroke:none;fill-rule:nonzero;fill:rgb(0%,74.901961%,76.862745%);fill-opacity:1;\" d=\"M 296.6875 120.039062 L 469.523438 120.039062 L 469.523438 29.859375 L 296.6875 29.859375 Z \"/>\n",
       "<g clip-path=\"url(#clip10)\" clip-rule=\"nonzero\">\n",
       "<path style=\"fill:none;stroke-width:1.066978;stroke-linecap:round;stroke-linejoin:round;stroke:rgb(100%,100%,100%);stroke-opacity:1;stroke-miterlimit:10;\" d=\"M 75.84375 448.574219 L 498.332031 448.574219 L 498.332031 9.921875 L 75.84375 9.921875 Z \"/>\n",
       "</g>\n",
       "<g style=\"fill:rgb(45.098039%,45.098039%,45.098039%);fill-opacity:1;\">\n",
       "  <use xlink:href=\"#glyph0-1\" x=\"36.875\" y=\"433.431641\"/>\n",
       "  <use xlink:href=\"#glyph0-2\" x=\"45.214844\" y=\"433.431641\"/>\n",
       "  <use xlink:href=\"#glyph0-1\" x=\"49.384766\" y=\"433.431641\"/>\n",
       "  <use xlink:href=\"#glyph0-1\" x=\"57.724609\" y=\"433.431641\"/>\n",
       "</g>\n",
       "<g style=\"fill:rgb(45.098039%,45.098039%,45.098039%);fill-opacity:1;\">\n",
       "  <use xlink:href=\"#glyph0-1\" x=\"36.875\" y=\"333.736328\"/>\n",
       "  <use xlink:href=\"#glyph0-2\" x=\"45.214844\" y=\"333.736328\"/>\n",
       "  <use xlink:href=\"#glyph0-3\" x=\"49.384766\" y=\"333.736328\"/>\n",
       "  <use xlink:href=\"#glyph0-4\" x=\"57.724609\" y=\"333.736328\"/>\n",
       "</g>\n",
       "<g style=\"fill:rgb(45.098039%,45.098039%,45.098039%);fill-opacity:1;\">\n",
       "  <use xlink:href=\"#glyph0-1\" x=\"36.875\" y=\"234.041016\"/>\n",
       "  <use xlink:href=\"#glyph0-2\" x=\"45.214844\" y=\"234.041016\"/>\n",
       "  <use xlink:href=\"#glyph0-4\" x=\"49.384766\" y=\"234.041016\"/>\n",
       "  <use xlink:href=\"#glyph0-1\" x=\"57.724609\" y=\"234.041016\"/>\n",
       "</g>\n",
       "<g style=\"fill:rgb(45.098039%,45.098039%,45.098039%);fill-opacity:1;\">\n",
       "  <use xlink:href=\"#glyph0-1\" x=\"36.875\" y=\"134.349609\"/>\n",
       "  <use xlink:href=\"#glyph0-2\" x=\"45.214844\" y=\"134.349609\"/>\n",
       "  <use xlink:href=\"#glyph0-5\" x=\"49.384766\" y=\"134.349609\"/>\n",
       "  <use xlink:href=\"#glyph0-4\" x=\"57.724609\" y=\"134.349609\"/>\n",
       "</g>\n",
       "<g style=\"fill:rgb(45.098039%,45.098039%,45.098039%);fill-opacity:1;\">\n",
       "  <use xlink:href=\"#glyph0-6\" x=\"36.875\" y=\"34.654297\"/>\n",
       "  <use xlink:href=\"#glyph0-2\" x=\"45.214844\" y=\"34.654297\"/>\n",
       "  <use xlink:href=\"#glyph0-1\" x=\"49.384766\" y=\"34.654297\"/>\n",
       "  <use xlink:href=\"#glyph0-1\" x=\"57.724609\" y=\"34.654297\"/>\n",
       "</g>\n",
       "<g style=\"fill:rgb(45.098039%,45.098039%,45.098039%);fill-opacity:1;\">\n",
       "  <use xlink:href=\"#glyph0-7\" x=\"171.066406\" y=\"467.833984\"/>\n",
       "  <use xlink:href=\"#glyph0-8\" x=\"182.736328\" y=\"467.833984\"/>\n",
       "  <use xlink:href=\"#glyph0-9\" x=\"191.076172\" y=\"467.833984\"/>\n",
       "  <use xlink:href=\"#glyph0-10\" x=\"194.40625\" y=\"467.833984\"/>\n",
       "  <use xlink:href=\"#glyph0-11\" x=\"202.746094\" y=\"467.833984\"/>\n",
       "</g>\n",
       "<g style=\"fill:rgb(45.098039%,45.098039%,45.098039%);fill-opacity:1;\">\n",
       "  <use xlink:href=\"#glyph0-12\" x=\"359.105469\" y=\"467.833984\"/>\n",
       "  <use xlink:href=\"#glyph0-13\" x=\"367.445312\" y=\"467.833984\"/>\n",
       "  <use xlink:href=\"#glyph0-11\" x=\"375.785156\" y=\"467.833984\"/>\n",
       "  <use xlink:href=\"#glyph0-11\" x=\"383.285156\" y=\"467.833984\"/>\n",
       "  <use xlink:href=\"#glyph0-14\" x=\"390.785156\" y=\"467.833984\"/>\n",
       "  <use xlink:href=\"#glyph0-11\" x=\"399.125\" y=\"467.833984\"/>\n",
       "</g>\n",
       "<g style=\"fill:rgb(32.156863%,32.156863%,32.156863%);fill-opacity:1;\">\n",
       "  <use xlink:href=\"#glyph1-1\" x=\"260.085938\" y=\"490.571289\"/>\n",
       "  <use xlink:href=\"#glyph1-2\" x=\"275.645508\" y=\"490.571289\"/>\n",
       "  <use xlink:href=\"#glyph1-3\" x=\"282.305664\" y=\"490.571289\"/>\n",
       "  <use xlink:href=\"#glyph1-4\" x=\"286.746094\" y=\"490.571289\"/>\n",
       "  <use xlink:href=\"#glyph1-3\" x=\"297.866211\" y=\"490.571289\"/>\n",
       "  <use xlink:href=\"#glyph1-5\" x=\"302.306641\" y=\"490.571289\"/>\n",
       "</g>\n",
       "<g style=\"fill:rgb(32.156863%,32.156863%,32.156863%);fill-opacity:1;\">\n",
       "  <use xlink:href=\"#glyph2-1\" x=\"27.96582\" y=\"261.246094\"/>\n",
       "  <use xlink:href=\"#glyph2-2\" x=\"27.96582\" y=\"246.805664\"/>\n",
       "  <use xlink:href=\"#glyph2-3\" x=\"27.96582\" y=\"235.685547\"/>\n",
       "  <use xlink:href=\"#glyph2-4\" x=\"27.96582\" y=\"224.56543\"/>\n",
       "  <use xlink:href=\"#glyph2-5\" x=\"27.96582\" y=\"213.445312\"/>\n",
       "  <use xlink:href=\"#glyph2-6\" x=\"27.96582\" y=\"207.885742\"/>\n",
       "</g>\n",
       "</g>\n",
       "</svg>\n"
      ],
      "text/plain": [
       "plot without title"
      ]
     },
     "metadata": {
      "image/svg+xml": {
       "isolated": true
      }
     },
     "output_type": "display_data"
    }
   ],
   "source": [
    "L <- pf.all$adjp_l < 0.05 & pf.all$switches_l > 1\n",
    "L[is.na(L)] <- FALSE\n",
    "G <- pf.all$adjp_g < 0.05 & pf.all$switches_g > 1\n",
    "G[is.na(G)] <- FALSE\n",
    "\n",
    "driver.types <- read_tsv(\"../data/cancer_networks_SuppTables_v7_S7.csv\", col_names = F) %>%\n",
    "    set_colnames(c(\"Symbol\",\"Driver_type\"))\n",
    "\n",
    "g.counts <- features %>%\n",
    "    filter(Feature %in% pf.all$Feature[G]) %>%\n",
    "    select(Symbol) %>%\n",
    "    merge(driver.types) %>%\n",
    "    .$Driver_type %>%\n",
    "    table\n",
    "\n",
    "l.counts <- features %>%\n",
    "    filter(Feature %in% pf.all$Feature[L]) %>%\n",
    "    select(Symbol) %>%\n",
    "    merge(driver.types) %>%\n",
    "    .$Driver_type %>%\n",
    "    table\n",
    "\n",
    "rbind(l.counts,g.counts) %>%\n",
    "    as.data.frame %>%\n",
    "    mutate(Origin = c(\"Losses\",\"Gains\")) %>%\n",
    "    melt(id.vars = \"Origin\") %>%\n",
    "    set_colnames(c(\"Origin\",\"Driver_type\",\"Counts\")) %>%\n",
    "    filter(Driver_type != \"Unknown\" & Driver_type != \"oncogene/suppressor\") %>%\n",
    "    ggplot(aes(x = Origin, y = Counts, fill = Driver_type)) +\n",
    "        geom_bar(stat = \"identity\", position = \"fill\") +\n",
    "        clean_theme()\n",
    "\n",
    "rbind(g.counts,l.counts) %>%\n",
    "    as.data.frame %>%\n",
    "    mutate(Origin = c(\"Losses\",\"Gains\")) %>%\n",
    "    select(oncogene,suppressor) %>%\n",
    "    fisher.test"
   ]
  },
  {
   "cell_type": "markdown",
   "metadata": {},
   "source": [
    "## Coincidence in genes\n",
    "We will check if the domains affected by mutations and switches tend to co-occurr in the same genes."
   ]
  },
  {
   "cell_type": "code",
   "execution_count": 16,
   "metadata": {
    "ExecuteTime": {
     "end_time": "2016-08-26T16:18:53.619611",
     "start_time": "2016-08-26T14:14:22.606Z"
    },
    "collapsed": false,
    "scrolled": false
   },
   "outputs": [
    {
     "data": {
      "text/html": [
       "<table>\n",
       "<thead><tr><th></th><th scope=col>Feature</th><th scope=col>MS</th><th scope=col>M</th><th scope=col>S</th><th scope=col>N</th><th scope=col>J</th></tr></thead>\n",
       "<tbody>\n",
       "\t<tr><th scope=row>1</th><td>PF00683|TB_domain</td><td>3</td><td>4</td><td>0</td><td>0</td><td>0.4285714</td></tr>\n",
       "\t<tr><th scope=row>2</th><td>PF00969|Class_II_histocompatibility_antigen,_beta_domain</td><td>2</td><td>3</td><td>1</td><td>2</td><td>0.3333333</td></tr>\n",
       "\t<tr><th scope=row>3</th><td>PF10409|C2_domain_of_PTEN_tumour-suppressor_protein</td><td>2</td><td>4</td><td>0</td><td>1</td><td>0.3333333</td></tr>\n",
       "\t<tr><th scope=row>4</th><td>PF00041|Fibronectin_type_III_domain</td><td>29</td><td>90</td><td>4</td><td>7</td><td>0.2357724</td></tr>\n",
       "\t<tr><th scope=row>5</th><td>PF07679|Immunoglobulin_I-set_domain</td><td>31</td><td>99</td><td>7</td><td>7</td><td>0.2262774</td></tr>\n",
       "\t<tr><th scope=row>6</th><td>PF00090|Thrombospondin_type_1_domain</td><td>9</td><td>38</td><td>3</td><td>5</td><td>0.18</td></tr>\n",
       "\t<tr><th scope=row>7</th><td>PF01833|IPT/TIG_domain</td><td>4</td><td>18</td><td>1</td><td>0</td><td>0.173913</td></tr>\n",
       "\t<tr><th scope=row>8</th><td>PF07645|Calcium-binding_EGF_domain</td><td>12</td><td>57</td><td>1</td><td>1</td><td>0.1714286</td></tr>\n",
       "\t<tr><th scope=row>9</th><td>PF04103|CD20-like_family</td><td>2</td><td>12</td><td>1</td><td>3</td><td>0.1333333</td></tr>\n",
       "\t<tr><th scope=row>10</th><td>PF00413|Matrixin</td><td>2</td><td>16</td><td>0</td><td>1</td><td>0.1111111</td></tr>\n",
       "\t<tr><th scope=row>11</th><td>PF00028|Cadherin_domain</td><td>11</td><td>89</td><td>3</td><td>4</td><td>0.1067961</td></tr>\n",
       "\t<tr><th scope=row>12</th><td>PF01421|Reprolysin_(M12B)_family_zinc_metalloprotease</td><td>3</td><td>25</td><td>1</td><td>1</td><td>0.1034483</td></tr>\n",
       "\t<tr><th scope=row>13</th><td>PF00071|Ras_family</td><td>13</td><td>115</td><td>0</td><td>2</td><td>0.1015625</td></tr>\n",
       "\t<tr><th scope=row>14</th><td>PF00125|Core_histone_H2A/H2B/H3/H4</td><td>4</td><td>40</td><td>1</td><td>12</td><td>0.08888889</td></tr>\n",
       "\t<tr><th scope=row>15</th><td>PF02931|Neurotransmitter-gated_ion-channel_ligand_binding_domain</td><td>1</td><td>28</td><td>1</td><td>3</td><td>0.03333333</td></tr>\n",
       "</tbody>\n",
       "</table>\n"
      ],
      "text/latex": [
       "\\begin{tabular}{r|llllll}\n",
       "  & Feature & MS & M & S & N & J\\\\\n",
       "\\hline\n",
       "\t1 & PF00683|TB_domain & 3 & 4 & 0 & 0 & 0.4285714\\\\\n",
       "\t2 & PF00969|Class_II_histocompatibility_antigen,_beta_domain & 2 & 3 & 1 & 2 & 0.3333333\\\\\n",
       "\t3 & PF10409|C2_domain_of_PTEN_tumour-suppressor_protein & 2 & 4 & 0 & 1 & 0.3333333\\\\\n",
       "\t4 & PF00041|Fibronectin_type_III_domain & 29 & 90 & 4 & 7 & 0.2357724\\\\\n",
       "\t5 & PF07679|Immunoglobulin_I-set_domain & 31 & 99 & 7 & 7 & 0.2262774\\\\\n",
       "\t6 & PF00090|Thrombospondin_type_1_domain & 9 & 38 & 3 & 5 & 0.18\\\\\n",
       "\t7 & PF01833|IPT/TIG_domain & 4 & 18 & 1 & 0 & 0.173913\\\\\n",
       "\t8 & PF07645|Calcium-binding_EGF_domain & 12 & 57 & 1 & 1 & 0.1714286\\\\\n",
       "\t9 & PF04103|CD20-like_family & 2 & 12 & 1 & 3 & 0.1333333\\\\\n",
       "\t10 & PF00413|Matrixin & 2 & 16 & 0 & 1 & 0.1111111\\\\\n",
       "\t11 & PF00028|Cadherin_domain & 11 & 89 & 3 & 4 & 0.1067961\\\\\n",
       "\t12 & PF01421|Reprolysin_(M12B)_family_zinc_metalloprotease & 3 & 25 & 1 & 1 & 0.1034483\\\\\n",
       "\t13 & PF00071|Ras_family & 13 & 115 & 0 & 2 & 0.1015625\\\\\n",
       "\t14 & PF00125|Core_histone_H2A/H2B/H3/H4 & 4 & 40 & 1 & 12 & 0.08888889\\\\\n",
       "\t15 & PF02931|Neurotransmitter-gated_ion-channel_ligand_binding_domain & 1 & 28 & 1 & 3 & 0.03333333\\\\\n",
       "\\end{tabular}\n"
      ],
      "text/plain": [
       "Source: local data frame [15 x 6]\n",
       "\n",
       "                                                            Feature    MS     M\n",
       "                                                              (chr) (int) (int)\n",
       "1                                                 PF00683|TB_domain     3     4\n",
       "2          PF00969|Class_II_histocompatibility_antigen,_beta_domain     2     3\n",
       "3               PF10409|C2_domain_of_PTEN_tumour-suppressor_protein     2     4\n",
       "4                               PF00041|Fibronectin_type_III_domain    29    90\n",
       "5                               PF07679|Immunoglobulin_I-set_domain    31    99\n",
       "6                              PF00090|Thrombospondin_type_1_domain     9    38\n",
       "7                                            PF01833|IPT/TIG_domain     4    18\n",
       "8                                PF07645|Calcium-binding_EGF_domain    12    57\n",
       "9                                          PF04103|CD20-like_family     2    12\n",
       "10                                                 PF00413|Matrixin     2    16\n",
       "11                                          PF00028|Cadherin_domain    11    89\n",
       "12            PF01421|Reprolysin_(M12B)_family_zinc_metalloprotease     3    25\n",
       "13                                               PF00071|Ras_family    13   115\n",
       "14                               PF00125|Core_histone_H2A/H2B/H3/H4     4    40\n",
       "15 PF02931|Neurotransmitter-gated_ion-channel_ligand_binding_domain     1    28\n",
       "Variables not shown: S (int), N (int), J (dbl)"
      ]
     },
     "execution_count": 16,
     "metadata": {},
     "output_type": "execute_result"
    }
   ],
   "source": [
    "M <- pf.all$adjp_m < 0.05\n",
    "M[is.na(M)] <- FALSE\n",
    "S <- (pf.all$adjp_l < 0.05 & pf.all$switches_l > 1) | (pf.all$adjp_g < 0.05 & pf.all$switches_g > 1)\n",
    "S[is.na(S)] <- FALSE\n",
    "\n",
    "# get the genes with a switch involving a MS domain\n",
    "s.genes <- switches.pfam %>%\n",
    "    filter(Feature %in% pf.all$Feature[M&S]) %>%\n",
    "    select(GeneId,Symbol,Feature) %>%\n",
    "    unique %>%\n",
    "    mutate(Switched=TRUE)\n",
    "\n",
    "# get the genes with a mutation involving a MS domain\n",
    "m.genes <- read_tsv(\"../data/mutations/proteome_mutations.txt\") %>%\n",
    "    filter(Analysis==\"Pfam\") %>%\n",
    "    filter(Feature %in% pf.all$Feature[M&S]) %>%\n",
    "    select(GeneId,Symbol,Feature) %>%\n",
    "    unique %>%\n",
    "    mutate(Mutated=TRUE)\n",
    "\n",
    "# check all genes containing this feature in the proteome\n",
    "all.genes <- features %>%\n",
    "    filter(Feature %in% pf.all$Feature[M&S]) %>%\n",
    "    select(GeneId,Symbol,Feature) %>%\n",
    "    unique\n",
    "\n",
    "# merge to see coincidence between genes\n",
    "x <- merge(s.genes,m.genes,all=T) %>%\n",
    "    merge(all.genes,all=T) %>%\n",
    "    mutate(Switched=ifelse(is.na(Switched),FALSE,TRUE),\n",
    "           Mutated=ifelse(is.na(Mutated),FALSE,TRUE)) %>%\n",
    "    group_by(Feature) %>%\n",
    "    summarise(MS=sum(Mutated&Switched), M=sum(Mutated), \n",
    "              S=sum(Switched), N=length(GeneId)) %>%\n",
    "    mutate(M=M-MS, S=S-MS, \n",
    "           N=N-(MS+S+M), J=MS/(M+S+MS)) %>%\n",
    "    arrange(desc(J))\n",
    "\n",
    "x"
   ]
  },
  {
   "cell_type": "code",
   "execution_count": 17,
   "metadata": {
    "ExecuteTime": {
     "end_time": "2016-08-26T16:18:53.683219",
     "start_time": "2016-08-26T14:14:22.626Z"
    },
    "collapsed": false
   },
   "outputs": [
    {
     "data": {
      "text/html": [
       "<table>\n",
       "<thead><tr><th></th><th scope=col>GeneId</th><th scope=col>Symbol</th><th scope=col>WhatsHappenning</th></tr></thead>\n",
       "<tbody>\n",
       "\t<tr><th scope=row>1</th><td>4054</td><td>LTBP3</td><td>Lost_in_tumor</td></tr>\n",
       "\t<tr><th scope=row>10</th><td>8425</td><td>LTBP4</td><td>Lost_in_tumor</td></tr>\n",
       "\t<tr><th scope=row>26</th><td>2201</td><td>FBN2</td><td>Lost_in_tumor</td></tr>\n",
       "</tbody>\n",
       "</table>\n"
      ],
      "text/latex": [
       "\\begin{tabular}{r|lll}\n",
       "  & GeneId & Symbol & WhatsHappenning\\\\\n",
       "\\hline\n",
       "\t1 & 4054 & LTBP3 & Lost_in_tumor\\\\\n",
       "\t10 & 8425 & LTBP4 & Lost_in_tumor\\\\\n",
       "\t26 & 2201 & FBN2 & Lost_in_tumor\\\\\n",
       "\\end{tabular}\n"
      ],
      "text/plain": [
       "   GeneId Symbol WhatsHappenning\n",
       "1    4054  LTBP3   Lost_in_tumor\n",
       "10   8425  LTBP4   Lost_in_tumor\n",
       "26   2201   FBN2   Lost_in_tumor"
      ]
     },
     "execution_count": 17,
     "metadata": {},
     "output_type": "execute_result"
    }
   ],
   "source": [
    "switches.pfam %>%\n",
    "    filter(Feature==\"PF00683|TB_domain\") %>%\n",
    "    select(GeneId,Symbol,WhatsHappenning) %>%\n",
    "    unique"
   ]
  }
 ],
 "metadata": {
  "kernelspec": {
   "display_name": "R",
   "language": "R",
   "name": "ir"
  },
  "language_info": {
   "codemirror_mode": "r",
   "file_extension": ".r",
   "mimetype": "text/x-r-source",
   "name": "R",
   "pygments_lexer": "r",
   "version": "3.2.2"
  },
  "toc": {
   "toc_cell": false,
   "toc_number_sections": true,
   "toc_threshold": 6,
   "toc_window_display": false
  }
 },
 "nbformat": 4,
 "nbformat_minor": 0
}
