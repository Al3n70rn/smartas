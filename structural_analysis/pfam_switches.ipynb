{
 "cells": [
  {
   "cell_type": "code",
   "execution_count": 1,
   "metadata": {
    "ExecuteTime": {
     "end_time": "2016-08-22T14:16:40.776841",
     "start_time": "2016-08-22T12:14:02.378Z"
    },
    "collapsed": false
   },
   "outputs": [
    {
     "name": "stderr",
     "output_type": "stream",
     "text": [
      "\n",
      "Attaching package: ‘dplyr’\n",
      "\n",
      "The following objects are masked from ‘package:data.table’:\n",
      "\n",
      "    between, last\n",
      "\n",
      "The following objects are masked from ‘package:plyr’:\n",
      "\n",
      "    arrange, count, desc, failwith, id, mutate, rename, summarise,\n",
      "    summarize\n",
      "\n",
      "The following objects are masked from ‘package:stats’:\n",
      "\n",
      "    filter, lag\n",
      "\n",
      "The following objects are masked from ‘package:base’:\n",
      "\n",
      "    intersect, setdiff, setequal, union\n",
      "\n",
      "\n",
      "Attaching package: ‘magrittr’\n",
      "\n",
      "The following object is masked from ‘package:tidyr’:\n",
      "\n",
      "    extract\n",
      "\n"
     ]
    }
   ],
   "source": [
    "library(plyr)\n",
    "source(\"../data/env/variables.R\")\n",
    "source(\"~/wisdom/r/data_analysis_environment.R\")\n",
    "source(\"~/wisdom/r/clean_theme.R\")\n",
    "library(gtools)\n",
    "\n",
    "# Read switches\n",
    "switches <- read_tsv(\"../data/pancancer/candidateList_full.tumorSplit.tsv\") %>%\n",
    "    filter(Reliable==1 & Origin==\"Tumor\")\n",
    "\n",
    "# Read feature information\n",
    "features <- read_tsv(\"../data/mutations/proteome_features.txt\") %>%\n",
    "    filter(Analysis == \"Pfam\")\n",
    "\n",
    "# Read information of the expressed transcripts (TPM>=0.1)\n",
    "proteome <- read_tsv(\"../data/mutations/proteome_information.txt\") %>%\n",
    "    mutate(asEvidence=as.numeric(asEvidence==\"True\"))\n",
    "\n",
    "# Get statistics per feature\n",
    "pfam.agg <- features %>%\n",
    "    # consider splicing information for frequency calculation\n",
    "    merge(proteome) %>%\n",
    "    # count at feature level\n",
    "    group_by(Feature) %>%\n",
    "    summarize(ProteomeCounts=length(Feature)-sum(!asEvidence),  ## remove cases where no as evidence was found\n",
    "              TotalLength = sum(FeatureLength)) %>% ## for mutations we apply no filter\n",
    "    # get expected frequencies\n",
    "    mutate(ExpectedSwitchFrequency = ProteomeCounts/sum(ProteomeCounts), \n",
    "           ExpectedMutFrequency = TotalLength/sum(TotalLength))\n",
    "\n",
    "# Read structural changes\n",
    "switches.pfam <- read_tsv('../data/structural_analysis/structural_features.onlyModels.tsv') %>%\n",
    "    filter(Random==\"NonRandom\" & Analysis==\"Pfam\" & WhatsHappenning!=\"Nothing\") %>%\n",
    "    # Use switch information to characterize structural information\n",
    "    merge(switches, by=c(\"Tumor\",\"GeneId\",\"Symbol\",\"Normal_transcript\",\"Tumor_transcript\"))"
   ]
  },
  {
   "cell_type": "markdown",
   "metadata": {},
   "source": [
    "## Calculate enrichment in switches"
   ]
  },
  {
   "cell_type": "code",
   "execution_count": 2,
   "metadata": {
    "ExecuteTime": {
     "end_time": "2016-08-22T14:16:57.352710",
     "start_time": "2016-08-22T12:14:02.397Z"
    },
    "collapsed": false
   },
   "outputs": [],
   "source": [
    "get.uniq.switches <- function(genes,ntxs,ttxs,col,value){\n",
    "    as.data.frame(cbind(genes,ntxs,ttxs,col)) %>%\n",
    "        filter(col == value) %>%\n",
    "        unique %>%\n",
    "        nrow\n",
    "}\n",
    "\n",
    "my.binomial.test <- function(x,testNumber){ \n",
    "    if (!is.na(x[1]) & ! is.na(x[2]))\n",
    "        binom.test(x[1],testNumber,x[2],\"greater\")$p.value\n",
    "    else\n",
    "        NA\n",
    "}\n",
    "\n",
    "pfam.switch_info <- switches.pfam %>%\n",
    "    group_by(Feature) %>%\n",
    "    summarize(LostNum = sum((WhatsHappenning==\"Lost_in_tumor\") * PatientNumber), \n",
    "              GainNum = sum((WhatsHappenning==\"Gained_in_tumor\") * PatientNumber), \n",
    "              switches_g = get.uniq.switches(GeneId,Normal_transcript,Tumor_transcript,\n",
    "                                             WhatsHappenning,\"Gained_in_tumor\"),\n",
    "              switches_l = get.uniq.switches(GeneId,Normal_transcript,Tumor_transcript, \n",
    "                                             WhatsHappenning,\"Lost_in_tumor\"))\n",
    "\n",
    "# aggregate switches\n",
    "totalGains <- sum(pfam.switch_info$GainNum)\n",
    "totalLosses <- sum(pfam.switch_info$LostNum)\n",
    "\n",
    "# calculate statistics\n",
    "pf <- merge(pfam.agg,pfam.switch_info,all=T) %>%\n",
    "    mutate(fc_g = GainNum/totalGains/ExpectedSwitchFrequency,\n",
    "           fc_l = LostNum/totalLosses/ExpectedSwitchFrequency) %>%\n",
    "    mutate(., \n",
    "           p_g = apply(subset(.,select=c(\"GainNum\",\"ExpectedSwitchFrequency\")),1,my.binomial.test,totalGains),\n",
    "           adjp_g = p.adjust(p_g),\n",
    "           p_l = apply(subset(.,select=c(\"LostNum\",\"ExpectedSwitchFrequency\")),1,my.binomial.test,totalLosses),\n",
    "           adjp_l = p.adjust(p_l),\n",
    "           Name = gsub(\"|\",\"@\",Feature,fixed = T),\n",
    "           Name = gsub(\"_\",\" \",Name,fixed = T),\n",
    "           id = unlist(strsplit(Name,\"@\"))[c(T,F)], \n",
    "           Name = unlist(strsplit(Name,\"@\"))[c(F,T)])"
   ]
  },
  {
   "cell_type": "markdown",
   "metadata": {},
   "source": [
    "Let's check the domains that are significantly enriched in switches and that affect more than one switch. The rationale behind the latter criteria is that if a domain is only affected by one switch, we have no-way to ensure it is domain specific rather than gene-specific."
   ]
  },
  {
   "cell_type": "code",
   "execution_count": 3,
   "metadata": {
    "ExecuteTime": {
     "end_time": "2016-08-22T14:16:57.418837",
     "start_time": "2016-08-22T12:14:02.413Z"
    },
    "collapsed": false
   },
   "outputs": [
    {
     "data": {
      "text/html": [
       "241"
      ],
      "text/latex": [
       "241"
      ],
      "text/markdown": [
       "241"
      ],
      "text/plain": [
       "[1] 241"
      ]
     },
     "execution_count": 3,
     "metadata": {},
     "output_type": "execute_result"
    },
    {
     "data": {
      "text/html": [
       "63"
      ],
      "text/latex": [
       "63"
      ],
      "text/markdown": [
       "63"
      ],
      "text/plain": [
       "[1] 63"
      ]
     },
     "execution_count": 3,
     "metadata": {},
     "output_type": "execute_result"
    }
   ],
   "source": [
    "sum(pf$adjp_l<0.05 & pf$switches_l>1,na.rm=T)\n",
    "sum(pf$adjp_g<0.05 & pf$switches_g>1,na.rm=T)"
   ]
  },
  {
   "cell_type": "markdown",
   "metadata": {},
   "source": [
    "## Description of the domains"
   ]
  },
  {
   "cell_type": "code",
   "execution_count": 4,
   "metadata": {
    "ExecuteTime": {
     "end_time": "2016-08-22T14:16:57.490502",
     "start_time": "2016-08-22T12:14:02.423Z"
    },
    "collapsed": false
   },
   "outputs": [
    {
     "data": {
      "text/plain": [
       "\n",
       "       Both      Gained        Lost Not altered \n",
       "         16          47         225        5014 "
      ]
     },
     "execution_count": 4,
     "metadata": {},
     "output_type": "execute_result"
    }
   ],
   "source": [
    "# plot number of domains in each condition\n",
    "df <- pf\n",
    "\n",
    "df$Tag <- \"Not altered\"\n",
    "df$Tag[df$adjp_g < 0.05 & pf$switches_g>1] <- \"Gained\"\n",
    "df$Tag[df$adjp_l < 0.05 & pf$switches_l>1] <- \"Lost\"\n",
    "df$Tag[df$adjp_g < 0.05  & pf$switches_g>1 & df$adjp_l < 0.05 & pf$switches_l>1] <- \"Both\"\n",
    "\n",
    "table(df$Tag)"
   ]
  },
  {
   "cell_type": "markdown",
   "metadata": {},
   "source": [
    "### Comparison to mutations"
   ]
  },
  {
   "cell_type": "code",
   "execution_count": 5,
   "metadata": {
    "ExecuteTime": {
     "end_time": "2016-08-22T14:17:08.164108",
     "start_time": "2016-08-22T12:14:02.437Z"
    },
    "collapsed": false
   },
   "outputs": [],
   "source": [
    "# Read mutations\n",
    "allMuts <- c(\"Frame_Shift_Del\",\"Frame_Shift_Ins\",\"In_Frame_Del\",\"In_Frame_Ins\",\"Missense_Mutation\",\n",
    "             \"Nonsense_Mutation\",\"Nonstop_Mutation\",\"Frame_Shift_Del_out\",\"Frame_Shift_Ins_out\",\n",
    "             \"Nonsense_Mutation_out\")\n",
    "inFeatureMuts <- c(\"Frame_Shift_Del\",\"Frame_Shift_Ins\",\"In_Frame_Del\",\"In_Frame_Ins\",\n",
    "                   \"Missense_Mutation\",\"Nonsense_Mutation\",\"Nonstop_Mutation\")\n",
    "\n",
    "## calculate total mutations per domain\n",
    "proteome.muts <- read_tsv(\"../data/mutations/proteome_mutations.txt\") %>%\n",
    "    filter(Analysis==\"Pfam\") %>%\n",
    "    # convert from long format to wide format\n",
    "    dcast(formula=Feature+Tumor+Transcript~Type, value.var=\"Patient\",fun.aggregate=length) %>%\n",
    "    group_by(Feature) %>%\n",
    "    summarise(Frame_Shift_Del = sum(Frame_Shift_Del),\n",
    "              Frame_Shift_Ins = sum(Frame_Shift_Ins),\n",
    "              In_Frame_Del = sum(In_Frame_Del),\n",
    "              In_Frame_Ins = sum(In_Frame_Ins),\n",
    "              Missense_Mutation = sum(Missense_Mutation),\n",
    "              Nonsense_Mutation = sum(Nonsense_Mutation),\n",
    "              Nonstop_Mutation = sum(Nonstop_Mutation),\n",
    "              Frame_Shift_Del_out = sum(Frame_Shift_Del_out),\n",
    "              Frame_Shift_Ins_out = sum(Frame_Shift_Ins_out),\n",
    "              Nonsense_Mutation_out = sum(Nonsense_Mutation_out)) %>%\n",
    "    mutate(TotalMutations = rowSums(.[,inFeatureMuts]))\n",
    "\n",
    "# enrichment test\n",
    "pf.m <- merge(pfam.agg,proteome.muts) %>%\n",
    "    mutate(fc_m = TotalMutations/sum(TotalMutations)/ExpectedMutFrequency,\n",
    "           p_m = apply(.[,c(\"TotalMutations\",\"ExpectedMutFrequency\")],1, my.binomial.test, sum(TotalMutations)),\n",
    "           adjp_m = p.adjust(p_m))\n",
    "\n",
    "# create table with all the analysis\n",
    "pf.all <- merge(pf,pf.m,all=T)\n",
    "\n",
    "# save results\n",
    "pf.all %>% \n",
    "    select(id,Feature,ProteomeCounts,ExpectedSwitchFrequency,LostNum,GainNum,\n",
    "           fc_g,fc_l,fc_m,p_g,adjp_g,p_l,adjp_l,p_m,adjp_m,switches_g,switches_l) %>%\n",
    "    write_tsv(\"../results/pfam_enrichment_analysis.tsv\")"
   ]
  },
  {
   "cell_type": "code",
   "execution_count": 6,
   "metadata": {
    "ExecuteTime": {
     "end_time": "2016-08-22T14:17:08.203871",
     "start_time": "2016-08-22T12:14:02.453Z"
    },
    "collapsed": false
   },
   "outputs": [
    {
     "data": {
      "text/html": [
       "76"
      ],
      "text/latex": [
       "76"
      ],
      "text/markdown": [
       "76"
      ],
      "text/plain": [
       "[1] 76"
      ]
     },
     "execution_count": 6,
     "metadata": {},
     "output_type": "execute_result"
    }
   ],
   "source": [
    "sum(pf.m$adjp_m < 0.05)"
   ]
  },
  {
   "cell_type": "code",
   "execution_count": 7,
   "metadata": {
    "ExecuteTime": {
     "end_time": "2016-08-22T14:17:08.310527",
     "start_time": "2016-08-22T12:14:02.466Z"
    },
    "collapsed": false
   },
   "outputs": [
    {
     "data": {
      "text/plain": [
       "\n",
       "\tFisher's Exact Test for Count Data\n",
       "\n",
       "data:  m\n",
       "p-value = 1.03e-05\n",
       "alternative hypothesis: true odds ratio is not equal to 1\n",
       "95 percent confidence interval:\n",
       " 0.1239558 0.4305868\n",
       "sample estimates:\n",
       "odds ratio \n",
       " 0.2242668 \n"
      ]
     },
     "execution_count": 7,
     "metadata": {},
     "output_type": "execute_result"
    },
    {
     "data": {
      "text/html": [
       "<table>\n",
       "<thead><tr><th></th><th scope=col>M</th><th scope=col>NM</th></tr></thead>\n",
       "<tbody>\n",
       "\t<tr><th scope=row>NS</th><td>61</td><td>4953</td></tr>\n",
       "\t<tr><th scope=row>S</th><td>15</td><td>273</td></tr>\n",
       "</tbody>\n",
       "</table>\n"
      ],
      "text/latex": [
       "\\begin{tabular}{r|ll}\n",
       "  & M & NM\\\\\n",
       "\\hline\n",
       "\tNS & 61 & 4953\\\\\n",
       "\tS & 15 & 273\\\\\n",
       "\\end{tabular}\n"
      ],
      "text/plain": [
       "    M   NM\n",
       "NS 61 4953\n",
       "S  15  273"
      ]
     },
     "execution_count": 7,
     "metadata": {},
     "output_type": "execute_result"
    }
   ],
   "source": [
    "M <- pf.all$adjp_m < 0.05\n",
    "M[is.na(M)] <- FALSE\n",
    "S <- (pf.all$adjp_l < 0.05 & pf.all$switches_l > 1) | (pf.all$adjp_g < 0.05 & pf.all$switches_g > 1)\n",
    "S[is.na(S)] <- FALSE\n",
    "\n",
    "l <- rep(\"N\", nrow(pf.all))\n",
    "l[M] <- \"M\"\n",
    "l[S] <- \"S\"\n",
    "l[M&S] <- \"MS\"\n",
    "\n",
    "m <- matrix(table(l),2,2)\n",
    "fisher.test(m)\n",
    "m %>%\n",
    "    as.data.frame %>%\n",
    "    set_colnames(c(\"M\",\"NM\")) %>%\n",
    "    set_rownames(c(\"NS\",\"S\"))"
   ]
  },
  {
   "cell_type": "markdown",
   "metadata": {},
   "source": [
    "There is a higher coincidence than expected by chance. Hence, switches and mutations seem to affect the same protein domains."
   ]
  },
  {
   "cell_type": "code",
   "execution_count": 8,
   "metadata": {
    "ExecuteTime": {
     "end_time": "2016-08-22T14:17:08.403506",
     "start_time": "2016-08-22T12:14:02.478Z"
    },
    "collapsed": false
   },
   "outputs": [
    {
     "data": {
      "text/html": [
       "<table>\n",
       "<thead><tr><th scope=col>Id</th><th scope=col>Name</th></tr></thead>\n",
       "<tbody>\n",
       "\t<tr><td>PF00028        </td><td>Cadherin domain</td></tr>\n",
       "\t<tr><td>PF00041                    </td><td>Fibronectin type III domain</td></tr>\n",
       "\t<tr><td>PF00071   </td><td>Ras family</td></tr>\n",
       "\t<tr><td>PF00090                     </td><td>Thrombospondin type 1 domain</td></tr>\n",
       "\t<tr><td>PF00125                   </td><td>Core histone H2A/H2B/H3/H4</td></tr>\n",
       "\t<tr><td>PF00413 </td><td>Matrixin</td></tr>\n",
       "\t<tr><td>PF00683  </td><td>TB domain</td></tr>\n",
       "\t<tr><td>PF00969                                         </td><td>Class II histocompatibility antigen, beta domain</td></tr>\n",
       "\t<tr><td>PF01421                                      </td><td>Reprolysin (M12B) family zinc metalloprotease</td></tr>\n",
       "\t<tr><td>PF01833       </td><td>IPT/TIG domain</td></tr>\n",
       "\t<tr><td>PF02931                                                 </td><td>Neurotransmitter-gated ion-channel ligand binding domain</td></tr>\n",
       "\t<tr><td>PF04103         </td><td>CD20-like family</td></tr>\n",
       "\t<tr><td>PF07645                   </td><td>Calcium-binding EGF domain</td></tr>\n",
       "\t<tr><td>PF07679                    </td><td>Immunoglobulin I-set domain</td></tr>\n",
       "\t<tr><td>PF10409                                    </td><td>C2 domain of PTEN tumour-suppressor protein</td></tr>\n",
       "</tbody>\n",
       "</table>\n"
      ],
      "text/latex": [
       "\\begin{tabular}{ll}\n",
       " Id & Name\\\\\n",
       "\\hline\n",
       "\t PF00028         & Cadherin domain\\\\\n",
       "\t PF00041                     & Fibronectin type III domain\\\\\n",
       "\t PF00071    & Ras family\\\\\n",
       "\t PF00090                      & Thrombospondin type 1 domain\\\\\n",
       "\t PF00125                    & Core histone H2A/H2B/H3/H4\\\\\n",
       "\t PF00413  & Matrixin\\\\\n",
       "\t PF00683   & TB domain\\\\\n",
       "\t PF00969                                          & Class II histocompatibility antigen, beta domain\\\\\n",
       "\t PF01421                                       & Reprolysin (M12B) family zinc metalloprotease\\\\\n",
       "\t PF01833        & IPT/TIG domain\\\\\n",
       "\t PF02931                                                  & Neurotransmitter-gated ion-channel ligand binding domain\\\\\n",
       "\t PF04103          & CD20-like family\\\\\n",
       "\t PF07645                    & Calcium-binding EGF domain\\\\\n",
       "\t PF07679                     & Immunoglobulin I-set domain\\\\\n",
       "\t PF10409                                     & C2 domain of PTEN tumour-suppressor protein\\\\\n",
       "\\end{tabular}\n"
      ],
      "text/markdown": [
       "1. 'PF00028'\n",
       "2. 'PF00041'\n",
       "3. 'PF00071'\n",
       "4. 'PF00090'\n",
       "5. 'PF00125'\n",
       "6. 'PF00413'\n",
       "7. 'PF00683'\n",
       "8. 'PF00969'\n",
       "9. 'PF01421'\n",
       "10. 'PF01833'\n",
       "11. 'PF02931'\n",
       "12. 'PF04103'\n",
       "13. 'PF07645'\n",
       "14. 'PF07679'\n",
       "15. 'PF10409'\n",
       "16. 'Cadherin domain'\n",
       "17. 'Fibronectin type III domain'\n",
       "18. 'Ras family'\n",
       "19. 'Thrombospondin type 1 domain'\n",
       "20. 'Core histone H2A/H2B/H3/H4'\n",
       "21. 'Matrixin'\n",
       "22. 'TB domain'\n",
       "23. 'Class II histocompatibility antigen, beta domain'\n",
       "24. 'Reprolysin (M12B) family zinc metalloprotease'\n",
       "25. 'IPT/TIG domain'\n",
       "26. 'Neurotransmitter-gated ion-channel ligand binding domain'\n",
       "27. 'CD20-like family'\n",
       "28. 'Calcium-binding EGF domain'\n",
       "29. 'Immunoglobulin I-set domain'\n",
       "30. 'C2 domain of PTEN tumour-suppressor protein'\n",
       "\n",
       "\n"
      ],
      "text/plain": [
       "      Id        Name                                                      \n",
       " [1,] \"PF00028\" \"Cadherin domain\"                                         \n",
       " [2,] \"PF00041\" \"Fibronectin type III domain\"                             \n",
       " [3,] \"PF00071\" \"Ras family\"                                              \n",
       " [4,] \"PF00090\" \"Thrombospondin type 1 domain\"                            \n",
       " [5,] \"PF00125\" \"Core histone H2A/H2B/H3/H4\"                              \n",
       " [6,] \"PF00413\" \"Matrixin\"                                                \n",
       " [7,] \"PF00683\" \"TB domain\"                                               \n",
       " [8,] \"PF00969\" \"Class II histocompatibility antigen, beta domain\"        \n",
       " [9,] \"PF01421\" \"Reprolysin (M12B) family zinc metalloprotease\"           \n",
       "[10,] \"PF01833\" \"IPT/TIG domain\"                                          \n",
       "[11,] \"PF02931\" \"Neurotransmitter-gated ion-channel ligand binding domain\"\n",
       "[12,] \"PF04103\" \"CD20-like family\"                                        \n",
       "[13,] \"PF07645\" \"Calcium-binding EGF domain\"                              \n",
       "[14,] \"PF07679\" \"Immunoglobulin I-set domain\"                             \n",
       "[15,] \"PF10409\" \"C2 domain of PTEN tumour-suppressor protein\"             "
      ]
     },
     "execution_count": 8,
     "metadata": {},
     "output_type": "execute_result"
    }
   ],
   "source": [
    "# display MS domains\n",
    "pf.all$Feature[M&S] %>%\n",
    "    gsub(\"_\",\" \",.) %>%\n",
    "    gsub(\"PF[0-9]+\\\\|\",\"\",.) %>%\n",
    "    cbind(pf.all$id[M&S],.) %>%\n",
    "    set_colnames(c(\"Id\",\"Name\"))"
   ]
  },
  {
   "cell_type": "code",
   "execution_count": 9,
   "metadata": {
    "ExecuteTime": {
     "end_time": "2016-08-22T14:17:09.847860",
     "start_time": "2016-08-22T12:14:02.488Z"
    },
    "collapsed": false
   },
   "outputs": [
    {
     "data": {
      "text/html": [
       "<table>\n",
       "<thead><tr><th></th><th scope=col>GeneId</th><th scope=col>Symbol</th><th scope=col>PatientNumber</th></tr></thead>\n",
       "<tbody>\n",
       "\t<tr><th scope=row>1</th><td>345193</td><td>LRIT3</td><td>134</td></tr>\n",
       "\t<tr><th scope=row>6</th><td>51162</td><td>EGFL7</td><td>129</td></tr>\n",
       "\t<tr><th scope=row>17</th><td>3371</td><td>TNC</td><td>115</td></tr>\n",
       "\t<tr><th scope=row>149</th><td>115273</td><td>RAB42</td><td>89</td></tr>\n",
       "\t<tr><th scope=row>160</th><td>4915</td><td>NTRK2</td><td>72</td></tr>\n",
       "\t<tr><th scope=row>182</th><td>5879</td><td>RAC1</td><td>66</td></tr>\n",
       "\t<tr><th scope=row>194</th><td>4238</td><td>MFAP3</td><td>61</td></tr>\n",
       "\t<tr><th scope=row>204</th><td>345193</td><td>LRIT3</td><td>54</td></tr>\n",
       "\t<tr><th scope=row>209</th><td>9708</td><td>PCDHGA8</td><td>54</td></tr>\n",
       "\t<tr><th scope=row>259</th><td>56138</td><td>PCDHA11</td><td>47</td></tr>\n",
       "\t<tr><th scope=row>299</th><td>79148</td><td>MMP28</td><td>47</td></tr>\n",
       "\t<tr><th scope=row>309</th><td>22883</td><td>CLSTN1</td><td>45</td></tr>\n",
       "\t<tr><th scope=row>313</th><td>4638</td><td>MYLK</td><td>45</td></tr>\n",
       "\t<tr><th scope=row>336</th><td>220001</td><td>VWCE</td><td>39</td></tr>\n",
       "\t<tr><th scope=row>369</th><td>221935</td><td>SDK1</td><td>38</td></tr>\n",
       "</tbody>\n",
       "</table>\n"
      ],
      "text/latex": [
       "\\begin{tabular}{r|lll}\n",
       "  & GeneId & Symbol & PatientNumber\\\\\n",
       "\\hline\n",
       "\t1 & 345193 & LRIT3 & 134\\\\\n",
       "\t6 & 51162 & EGFL7 & 129\\\\\n",
       "\t17 & 3371 & TNC & 115\\\\\n",
       "\t149 & 115273 & RAB42 & 89\\\\\n",
       "\t160 & 4915 & NTRK2 & 72\\\\\n",
       "\t182 & 5879 & RAC1 & 66\\\\\n",
       "\t194 & 4238 & MFAP3 & 61\\\\\n",
       "\t204 & 345193 & LRIT3 & 54\\\\\n",
       "\t209 & 9708 & PCDHGA8 & 54\\\\\n",
       "\t259 & 56138 & PCDHA11 & 47\\\\\n",
       "\t299 & 79148 & MMP28 & 47\\\\\n",
       "\t309 & 22883 & CLSTN1 & 45\\\\\n",
       "\t313 & 4638 & MYLK & 45\\\\\n",
       "\t336 & 220001 & VWCE & 39\\\\\n",
       "\t369 & 221935 & SDK1 & 38\\\\\n",
       "\\end{tabular}\n"
      ],
      "text/plain": [
       "    GeneId  Symbol PatientNumber\n",
       "1   345193   LRIT3           134\n",
       "6    51162   EGFL7           129\n",
       "17    3371     TNC           115\n",
       "149 115273   RAB42            89\n",
       "160   4915   NTRK2            72\n",
       "182   5879    RAC1            66\n",
       "194   4238   MFAP3            61\n",
       "204 345193   LRIT3            54\n",
       "209   9708 PCDHGA8            54\n",
       "259  56138 PCDHA11            47\n",
       "299  79148   MMP28            47\n",
       "309  22883  CLSTN1            45\n",
       "313   4638    MYLK            45\n",
       "336 220001    VWCE            39\n",
       "369 221935    SDK1            38"
      ]
     },
     "execution_count": 9,
     "metadata": {},
     "output_type": "execute_result"
    }
   ],
   "source": [
    "# genes where MS domains change\n",
    "features %>%\n",
    "    filter(Feature %in% pf.all$Feature[M&S]) %>%\n",
    "    merge(switches,by=c(\"GeneId\",\"Symbol\")) %>%\n",
    "    arrange(desc(PatientNumber)) %>%\n",
    "    select(GeneId,Symbol,PatientNumber) %>%\n",
    "    unique %>%\n",
    "    head(n=15)"
   ]
  },
  {
   "cell_type": "code",
   "execution_count": 10,
   "metadata": {
    "ExecuteTime": {
     "end_time": "2016-08-22T14:17:09.984620",
     "start_time": "2016-08-22T12:14:02.498Z"
    },
    "collapsed": false
   },
   "outputs": [
    {
     "data": {
      "text/html": [
       "5302"
      ],
      "text/latex": [
       "5302"
      ],
      "text/markdown": [
       "5302"
      ],
      "text/plain": [
       "[1] 5302"
      ]
     },
     "execution_count": 10,
     "metadata": {},
     "output_type": "execute_result"
    },
    {
     "data": {
      "text/html": [
       "1558"
      ],
      "text/latex": [
       "1558"
      ],
      "text/markdown": [
       "1558"
      ],
      "text/plain": [
       "[1] 1558"
      ]
     },
     "execution_count": 10,
     "metadata": {},
     "output_type": "execute_result"
    },
    {
     "data": {
      "text/html": [
       "5056"
      ],
      "text/latex": [
       "5056"
      ],
      "text/markdown": [
       "5056"
      ],
      "text/plain": [
       "[1] 5056"
      ]
     },
     "execution_count": 10,
     "metadata": {},
     "output_type": "execute_result"
    }
   ],
   "source": [
    "# total number of domains observed\n",
    "length(unique(c(pfam.agg$Feature,pf$Feature,pf.m$Feature)))\n",
    "\n",
    "# number of domains for which switch has been observed\n",
    "sum(pf$LostNum > 0 | pf$GainNum > 0,na.rm=T)\n",
    "\n",
    "# number of domains for which a mutation has been observed\n",
    "sum(pf.m$TotalMutations > 0)"
   ]
  },
  {
   "cell_type": "markdown",
   "metadata": {},
   "source": [
    "### GO term enrichment"
   ]
  },
  {
   "cell_type": "raw",
   "metadata": {
    "ExecuteTime": {
     "end_time": "2016-05-30T17:14:42.915007",
     "start_time": "2016-05-30T15:13:16.000Z"
    },
    "collapsed": false
   },
   "source": [
    "# gains\n",
    "awk '$11<0.05 && $16>1' results/pfam_enrichment_analysis.tsv | cut -f1\n",
    "\n",
    "# losses\n",
    "awk '$13<0.05 && $17>1' results/pfam_enrichment_analysis.tsv | cut -f1\n",
    "\n",
    "# gains + losses\n",
    "awk '($13<0.05 && $17>1) || ($11<0.05 && $16>1)' results/pfam_enrichment_analysis.tsv | cut -f1\n",
    "\n",
    "# mutated\n",
    "awk '$15<0.05' results/pfam_enrichment_analysis.tsv | cut -f1\n",
    "\n",
    "# paste in http://supfam.org/SUPERFAMILY/cgi-bin/dcenrichment.cgi using functions/diseases."
   ]
  },
  {
   "cell_type": "markdown",
   "metadata": {},
   "source": [
    "### Comparison M - S"
   ]
  },
  {
   "cell_type": "code",
   "execution_count": null,
   "metadata": {
    "ExecuteTime": {
     "start_time": "2016-08-22T12:14:02.580Z"
    },
    "collapsed": false
   },
   "outputs": [],
   "source": [
    "# Read pfam annotation\n",
    "pfam2go <- read_tsv(\"~/smartas/data/PFAM2GO.txt\",skip=1)\n",
    "go.levels <- read_tsv(\"../data/PFAMGO.txt\",skip=1)\n",
    "\n",
    "pfam2go.m <- merge(pfam2go,go.levels) \n",
    "\n",
    "# Get list of all observed domains with their associated annotation\n",
    "domains <- plyr::dlply(pfam2go.m,.(slim_level,GO_subontology,GO_ID),function(x){\n",
    "    intersect(pf$id,unlist(strsplit(x[,3],\",\")))\n",
    "}) %>% unlist \n",
    "class <- gsub(\"\\\\.[^\\\\.]+$\",\"\",names(domains))\n",
    "\n",
    "expressedgos <- unlist(strsplit(names(domains),\".\",fixed=T))[c(F,F,T)] %>% \n",
    "    substr(1,10) %>%\n",
    "    split(class) %>%\n",
    "    lapply(unique)\n",
    "\n",
    "# read GO term enrichment analysis and calculate an agreement between M and S\n",
    "## molecular function\n",
    "smf <- read_tsv(\"../results/pfam_go_term/S_GO_molecular_function.tsv\",skip=15) %>%\n",
    "    mutate(origin=\"switches\", gotype=\"molecular_function\")\n",
    "mmf <- read_tsv(\"../results/pfam_go_term/M_GO_molecular_function.tsv\",skip=15) %>%\n",
    "    mutate(origin=\"mutations\", gotype=\"molecular_function\")\n",
    "\n",
    "## cellular component\n",
    "scc <- read_tsv(\"../results/pfam_go_term/S_GO_cellular_component.tsv\",skip=15) %>%\n",
    "    mutate(origin=\"switches\", gotype=\"cellular_component\")\n",
    "mcc <- read_tsv(\"../results/pfam_go_term/M_GO_cellular_component.tsv\",skip=15) %>%\n",
    "    mutate(origin=\"mutations\", gotype=\"cellular_component\")\n",
    "\n",
    "## biological process\n",
    "sbp <- read_tsv(\"../results/pfam_go_term/S_GO_biological_process.tsv\",skip=15) %>%\n",
    "    mutate(origin=\"switches\", gotype=\"biological_process\")\n",
    "mbp <- read_tsv(\"../results/pfam_go_term/M_GO_biological_process.tsv\",skip=15) %>%\n",
    "    mutate(origin=\"mutations\", gotype=\"biological_process\")\n",
    "\n",
    "go <- do.call(\"rbind\",list(smf,mmf,scc,mcc,sbp,mbp)) %>%\n",
    "    set_colnames(c(\"group\",\"id\",\"goterm\",\"slim_level\",\"z\",\"p\",\"fdr\",\"table\",\"domains\",\"origin\",\"gotype\")) \n",
    "\n",
    "all <- go %>%\n",
    "    count(id,gotype,slim_level) %>%\n",
    "    group_by(gotype,slim_level)  %>%\n",
    "    summarise(Match = sum(n==2), Any=n())\n",
    "\n",
    "M <- go %>% \n",
    "    filter(origin==\"mutations\") %>%\n",
    "    count(gotype,slim_level) %>%\n",
    "    mutate(M = n) %>%\n",
    "    select(-n)\n",
    "\n",
    "S <- go %>% \n",
    "    filter(origin==\"switches\") %>%\n",
    "    count(gotype,slim_level) %>%\n",
    "    mutate(S = n) %>%\n",
    "    select(-n)\n",
    "\n",
    "coincidence <- merge(all,M) %>%\n",
    "    merge(S) %>%\n",
    "    mutate(MatchPerc = Match/Any, \n",
    "           Coincidence = \"Observed\", \n",
    "           sd = NA, \n",
    "           sdPerc = NA,\n",
    "           slim_level = revalue(as.character(slim_level),\n",
    "                                replace = c('1'=\"Least Informative\", '2'=\"Moderately Informative\",\n",
    "                                            '3'=\"Informative\", '4'=\"Highly Informative\")))\n",
    "\n",
    "# prepare df to get number of samples\n",
    "M <- unique(coincidence[,c('gotype','slim_level',\"M\",\"S\")])\n",
    "rand <- list()\n",
    "for (c in names(expressedgos)){\n",
    "    # select real data comparison\n",
    "    v <- paste(M$slim_level,M$gotype,sep=\".\")==c\n",
    "    if (sum(v)==0) next\n",
    "    x <- M[v,]\n",
    "    tmp <- list()\n",
    "    # permutate 100 times\n",
    "    for (i in 1:100){\n",
    "        m <- sample(expressedgos[[c]],x$M)\n",
    "        s <- sample(expressedgos[[c]],x$S)\n",
    "        tmp[[i]] <- length(intersect(m,s))/length(unique(c(m,s)))\n",
    "    }\n",
    "    tmp <- do.call(\"rbind\",tmp)\n",
    "    rand[[c]] <- data.frame(slim_level=x$slim_level,gotype=x$gotype,Match=mean(tmp),sd=sd(tmp))\n",
    "}\n",
    "    \n",
    "rand <- do.call(\"rbind\",rand) %>%\n",
    "    mutate(MatchPerc=Match, sdPerc=sd, Coincidence=\"Random (x100)\")\n",
    "    \n",
    "coincidence %>%\n",
    "    select(gotype,slim_level,Match,sd,MatchPerc,sdPerc,Coincidence) %>%\n",
    "    rbind(rand) %>%\n",
    "    mutate(slim_level=factor(revalue(slim_level, \n",
    "                                     replace = c('Least Informative'=\"+\",\n",
    "                                                 'Moderately Informative'=\"++\",\n",
    "                                                 'Informative'=\"+++\",\n",
    "                                                 'Highly Informative'=\"++++\")),\n",
    "                                     levels = c('+','++','+++','++++')),\n",
    "          gotype = gsub(\"_\",\" \",gotype))  %>%\n",
    "    ggplot(aes(fill=gotype,y=MatchPerc,x=slim_level,alpha=Coincidence)) +\n",
    "        geom_bar(position=\"dodge\",stat=\"identity\") +\n",
    "        geom_errorbar(aes( ymax = MatchPerc+sdPerc, ymin = MatchPerc-sdPerc),position=\"dodge\") +\n",
    "        scale_alpha_discrete(range=c(\"Observed\"=1,\"Random (x100)\"=0.5)) +\n",
    "        labs(x=\"Information\",y=\"M and S agreement\",fill=\"GO Ontology\") +\n",
    "        clean_theme() +\n",
    "        theme(axis.text.x = element_text(angle=45, hjust=1))"
   ]
  },
  {
   "cell_type": "code",
   "execution_count": null,
   "metadata": {
    "ExecuteTime": {
     "start_time": "2016-08-22T12:14:02.606Z"
    },
    "collapsed": false
   },
   "outputs": [],
   "source": [
    "all <- go %>%\n",
    "    count(id,gotype,slim_level) %>%\n",
    "    group_by(gotype,slim_level)  %>%\n",
    "    summarise(Match = sum(n==2), Any=n())\n",
    "\n",
    "M <- go %>% \n",
    "    filter(origin==\"mutations\") %>%\n",
    "    count(gotype,slim_level) %>%\n",
    "    mutate(M = n) %>%\n",
    "    select(-n)\n",
    "\n",
    "S <- go %>% \n",
    "    filter(origin==\"switches\") %>%\n",
    "    count(gotype,slim_level) %>%\n",
    "    mutate(S = n) %>%\n",
    "    select(-n)"
   ]
  },
  {
   "cell_type": "code",
   "execution_count": null,
   "metadata": {
    "ExecuteTime": {
     "start_time": "2016-08-22T12:14:02.617Z"
    },
    "collapsed": false
   },
   "outputs": [],
   "source": [
    "# some molecular function terms\n",
    "x <- table(rbind(mmf[,c(3,4)],smf[,c(3,4)]))\n",
    "rownames(x)[x[,1]==2]\n",
    "rownames(x)[x[,2]==2]\n",
    "rownames(x)[x[,3]==2]"
   ]
  },
  {
   "cell_type": "markdown",
   "metadata": {},
   "source": [
    "## Coincidence in genes\n",
    "We will check if the domains affected by mutations and switches tend to co-occurr in the same genes."
   ]
  },
  {
   "cell_type": "code",
   "execution_count": null,
   "metadata": {
    "ExecuteTime": {
     "start_time": "2016-08-22T12:14:02.631Z"
    },
    "collapsed": false,
    "scrolled": false
   },
   "outputs": [],
   "source": [
    "M <- pf.all$adjp_m < 0.05\n",
    "M[is.na(M)] <- FALSE\n",
    "S <- (pf.all$adjp_l < 0.05 & pf.all$switches_l > 1) | (pf.all$adjp_g < 0.05 & pf.all$switches_g > 1)\n",
    "S[is.na(S)] <- FALSE\n",
    "\n",
    "# get the genes with a switch involving a MS domain\n",
    "s.genes <- switches.pfam %>%\n",
    "    filter(Feature %in% pf.all$Feature[M&S]) %>%\n",
    "    select(GeneId,Symbol,Feature) %>%\n",
    "    unique %>%\n",
    "    mutate(Switched=TRUE)\n",
    "\n",
    "# get the genes with a mutation involving a MS domain\n",
    "m.genes <- read_tsv(\"../data/mutations/proteome_mutations.txt\") %>%\n",
    "    filter(Analysis==\"Pfam\") %>%\n",
    "    filter(Feature %in% pf.all$Feature[M&S]) %>%\n",
    "    select(GeneId,Symbol,Feature) %>%\n",
    "    unique %>%\n",
    "    mutate(Mutated=TRUE)\n",
    "\n",
    "# check all genes containing this feature in the proteome\n",
    "all.genes <- features %>%\n",
    "    filter(Feature %in% pf.all$Feature[M&S]) %>%\n",
    "    select(GeneId,Symbol,Feature) %>%\n",
    "    unique\n",
    "\n",
    "# merge to see coincidence between genes\n",
    "x <- merge(s.genes,m.genes,all=T) %>%\n",
    "    merge(all.genes,all=T) %>%\n",
    "    mutate(Switched=ifelse(is.na(Switched),FALSE,TRUE),\n",
    "           Mutated=ifelse(is.na(Mutated),FALSE,TRUE)) %>%\n",
    "    group_by(Feature) %>%\n",
    "    summarise(MS=sum(Mutated&Switched), M=sum(Mutated), \n",
    "              S=sum(Switched), N=length(GeneId)) %>%\n",
    "    mutate(M=M-MS, S=S-MS, \n",
    "           N=N-(MS+S+M), J=MS/(M+S+MS)) %>%\n",
    "    arrange(desc(J))\n",
    "\n",
    "x"
   ]
  },
  {
   "cell_type": "code",
   "execution_count": null,
   "metadata": {
    "ExecuteTime": {
     "start_time": "2016-08-22T12:14:02.646Z"
    },
    "collapsed": false
   },
   "outputs": [],
   "source": [
    "switches.pfam %>%\n",
    "    filter(Feature==\"PF00683|TB_domain\") %>%\n",
    "    select(GeneId,Symbol,WhatsHappenning) %>%\n",
    "    unique"
   ]
  }
 ],
 "metadata": {
  "kernelspec": {
   "display_name": "R",
   "language": "R",
   "name": "ir"
  },
  "language_info": {
   "codemirror_mode": "r",
   "file_extension": ".r",
   "mimetype": "text/x-r-source",
   "name": "R",
   "pygments_lexer": "r",
   "version": "3.2.2"
  },
  "toc": {
   "toc_cell": false,
   "toc_number_sections": true,
   "toc_threshold": 6,
   "toc_window_display": false
  }
 },
 "nbformat": 4,
 "nbformat_minor": 0
}
