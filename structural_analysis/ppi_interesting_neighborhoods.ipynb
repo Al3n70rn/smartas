{
 "cells": [
  {
   "cell_type": "markdown",
   "metadata": {},
   "source": [
    "We want to curate the data from [genesets enriched in PPI](ppi_neighborhoods.ipynb). We will look with special interest at those that involve:\n",
    "\n",
    "1. Tumor drivers\n",
    "2. Switches were both isoforms are protein-coding.\n",
    "3. Both PPI gains and losses.\n",
    "4. Are coherent with current annotation.\n",
    "\n",
    "A look at the [networks](../results/networks) yielded 4 candidates:\n",
    "\n",
    "* BIOCARTA_WNT_PATHWAY\n",
    "* hnRNP\n",
    "* BIOCARTA_G1_PATHWAY\n",
    "* Post-splicing, specifically the subset involved in translation initiation."
   ]
  },
  {
   "cell_type": "code",
   "execution_count": 1,
   "metadata": {
    "ExecuteTime": {
     "end_time": "2016-08-25T15:02:22.031696",
     "start_time": "2016-08-25T13:01:41.533Z"
    },
    "collapsed": false
   },
   "outputs": [
    {
     "name": "stderr",
     "output_type": "stream",
     "text": [
      "\n",
      "Attaching package: ‘dplyr’\n",
      "\n",
      "The following objects are masked from ‘package:data.table’:\n",
      "\n",
      "    between, last\n",
      "\n",
      "The following objects are masked from ‘package:stats’:\n",
      "\n",
      "    filter, lag\n",
      "\n",
      "The following objects are masked from ‘package:base’:\n",
      "\n",
      "    intersect, setdiff, setequal, union\n",
      "\n",
      "\n",
      "Attaching package: ‘magrittr’\n",
      "\n",
      "The following object is masked from ‘package:tidyr’:\n",
      "\n",
      "    extract\n",
      "\n",
      "Warning message:\n",
      ": attributes are not identical across measure variables; they will be dropped"
     ]
    }
   ],
   "source": [
    "source(\"../data/env/variables.R\")\n",
    "source(\"~/wisdom/r/data_analysis_environment.R\")\n",
    "source(\"~/wisdom/r/clean_theme.R\")\n",
    "\n",
    "# read switches that affect PPIs\n",
    "switches <- read_tsv(\"../data/pancancer/candidateList_full.tsv\") %>%\n",
    "    filter(Reliable==1 & Origin==\"Tumor\")\n",
    "\n",
    "switches.split <- read_tsv(\"../data/pancancer/candidateList_full.tumorSplit.tsv\") %>%\n",
    "    filter(Origin==\"Tumor\")\n",
    "\n",
    "potus <- switches %>%\n",
    "    select(GeneId,Symbol,Normal_transcript,Tumor_transcript, Recurrence,\n",
    "           Affects_mutated_feature,PPI,Pannegative,Candidate)\n",
    "\n",
    "id2symbol <- read_tsv(\"../data/mutations/proteome_information.txt\") %>%\n",
    "    select(GeneId,Symbol) %>%\n",
    "    unique\n",
    "\n",
    "# read interactions\n",
    "ppi.network <- read_tsv(\"~/smartas/data/ucsc/interactions_found_more_than_three_times.txt\", col_names = F) %>%\n",
    "    select(-X3) %>%\n",
    "    set_colnames(c(\"Gene1\",\"Gene2\")) %>%\n",
    "    merge(id2symbol, by.x = \"Gene1\", by.y = \"GeneId\") %>%\n",
    "    merge(id2symbol, by.x = \"Gene2\", by.y = \"GeneId\", suffixes = c(\"\",\"2\")) %>%\n",
    "    set_colnames(c(\"Gene1\",\"Gene2\",\"Symbol1\",\"Symbol2\"))\n",
    "\n",
    "# unique drivers\n",
    "drivers <- read_tsv(\"../data/intogen_cancer_drivers-2014.12b/Mutational_drivers_per_tumor_type.tsv\",comment=\"#\") %>%\n",
    "    set_colnames(c(\"Symbol\",\"Tumor\")) %>%\n",
    "    .$Symbol %>%\n",
    "    unique\n",
    "\n",
    "# latest version of ucsc genes\n",
    "latestVersion <- read_tsv(\"../data/knownGenes.ucsc2013.txt\") %>%\n",
    "    mutate(Transcript = strsplit(name, \".\", fixed = T) %>% unlist %>% .[c(T,F)],\n",
    "           CDS = ifelse(cdsStart == cdsEnd, 0, 1))\n",
    "\n",
    "# read expression\n",
    "proteome <- read_tsv(\"../data/mutations/proteome_information.txt\") %>%\n",
    "    set_colnames(c(\"Tumor\",\"GeneId\",\"Symbol\",\"Transcript\",\"TPM\",\"ProteinLength\",\"asEvidence\")) %>%\n",
    "    mutate(asEvidence = as.numeric(asEvidence==\"True\"))\n",
    "        \n",
    "# read interactions\n",
    "ppi.network <- read_tsv(\"~/smartas/data/ucsc/interactions_found_more_than_three_times.txt\", col_names = F) %>%\n",
    "    select(-X3) %>%\n",
    "    set_colnames(c(\"Gene1\",\"Gene2\")) %>%\n",
    "    merge(id2symbol, by.x = \"Gene1\", by.y = \"GeneId\") %>%\n",
    "    merge(id2symbol, by.x = \"Gene2\", by.y = \"GeneId\", suffixes = c(\"\",\"2\")) %>%\n",
    "    set_colnames(c(\"Gene1\",\"Gene2\",\"Symbol1\",\"Symbol2\"))\n",
    "    \n",
    "ppi.file <- \"../data/eporta/raw_tables/Switched_interactions_consensus.txt\"\n",
    "\n",
    "## get max number of columns (necessary for reading)\n",
    "no_col <- max(count.fields(ppi.file,sep = \"\\t\"))\n",
    "no_col.ppi <- (no_col-6)/2\n",
    "ppi.cols <- paste(c(\"Origin\",\"Interaction\"), floor(seq(1,no_col.ppi,0.5)), sep=\"_\")\n",
    "\n",
    "## read table\n",
    "ppi.split <- read.table(ppi.file,header=F,fill=T,col.names=1:no_col) %>%\n",
    "    set_colnames(c(\"GeneId\",\"Symbol\",\"Normal_transcript\",\"Tumor_transcript\",\"partnerId\",\"partnerSymbol\",ppi.cols)) %>%\n",
    "    # all Origin columns contail \"DDI_match\", so we can disregard them\n",
    "    select(-starts_with(\"Origin_\")) %>%\n",
    "    # convert from wide to long table format\n",
    "    reshape2::melt(id.vars = c(\"GeneId\",\"Symbol\",\"Normal_transcript\",\"Tumor_transcript\",\"partnerId\",\"partnerSymbol\"),\n",
    "                   value.name = \"Interaction\") %>%\n",
    "    select(-variable) %>%\n",
    "    # remove cases with no interaction described\n",
    "    filter(Interaction != \"\") %>%\n",
    "    # split interaction information\n",
    "    separate(Interaction, into = c(\"What\",\"partnerTranscript\",\"Pfams\"), sep = \"-\") %>%\n",
    "    mutate(What = plyr::revalue(What, replace = c(\"Gained\"=\"Gain\", \"Lost\"=\"Loss\", \"Kept\"=\"Unaffected\"))) %>%\n",
    "    # remove pfams columns (account for different domains for the same interaction)\n",
    "    select(-Pfams) %>%\n",
    "    # remove several instances of the same isoform\n",
    "    unique %>%\n",
    "    # annotate with switch info\n",
    "    merge(switches.split %>% filter(Reliable==1)) %>%\n",
    "    ## remove tumor specific measures\n",
    "    select(-Recurrence,-Affects_mutated_feature,-PPI,-Pannegative) %>%\n",
    "    merge(potus, by=c('GeneId','Symbol','Normal_transcript','Tumor_transcript','Candidate'), \n",
    "          suffixes=c(\".split\",\".pancancer\")) %>%\n",
    "    # consider only the most abundant isoform as partner: one interaction per pair & only expressed genes\n",
    "    merge(proteome, by.x = c(\"Tumor\",\"partnerTranscript\"), by.y = c(\"Tumor\",\"Transcript\"),\n",
    "          suffixes = c(\".switch\",\".partner\"))\n",
    "    \n",
    "ppi <- ppi.split %>%\n",
    "    group_by(GeneId.switch,Symbol.switch,Normal_transcript,Tumor_transcript,GeneId.partner,partnerSymbol) %>%\n",
    "    \n",
    "    summarise(Unaffected = sum(What==\"Unaffected\"), Gain = sum(What==\"Gain\"), Loss = sum(What==\"Loss\")) %>%\n",
    "    ungroup() %>%\n",
    "    set_colnames(c(\"GeneId\",\"Symbol\",\"Normal_transcript\",\"Tumor_transcript\",\n",
    "                   \"partnerGeneId\",\"partnerSymbol\",\"Unaffected\",\"Gain\",\"Loss\")) %>%\n",
    "    mutate(Tag = ifelse(Loss > 0, \"Loss\", \"Unaffected\"),\n",
    "           Tag = ifelse(Gain > 0, \"Gain\", Tag)) %>%\n",
    "    merge(switches)"
   ]
  },
  {
   "cell_type": "markdown",
   "metadata": {},
   "source": [
    "# BIOCARTA_WNT_PATHWAY\n",
    "## Switches in the pathway"
   ]
  },
  {
   "cell_type": "code",
   "execution_count": 2,
   "metadata": {
    "ExecuteTime": {
     "end_time": "2016-08-25T15:02:22.115884",
     "start_time": "2016-08-25T13:01:41.569Z"
    },
    "collapsed": false
   },
   "outputs": [
    {
     "data": {
      "text/html": [
       "13"
      ],
      "text/latex": [
       "13"
      ],
      "text/markdown": [
       "13"
      ],
      "text/plain": [
       "[1] 13"
      ]
     },
     "execution_count": 2,
     "metadata": {},
     "output_type": "execute_result"
    },
    {
     "data": {
      "text/html": [
       "<table>\n",
       "<tbody>\n",
       "\t<tr><th scope=row>Symbol</th><td>DVL1   </td><td>AXIN1  </td><td>CREBBP </td><td>CSNK1D </td><td>CTNNB1 </td><td>GSK3B  </td><td>CTBP1  </td><td>LEF1   </td><td>CSNK1A1</td><td>PPARD  </td><td>MAP3K7 </td><td>TLE1   </td><td>NLK    </td></tr>\n",
       "</tbody>\n",
       "</table>\n"
      ],
      "text/latex": [
       "\\begin{tabular}{r|lllllllllllll}\n",
       "\tSymbol & DVL1    & AXIN1   & CREBBP  & CSNK1D  & CTNNB1  & GSK3B   & CTBP1   & LEF1    & CSNK1A1 & PPARD   & MAP3K7  & TLE1    & NLK    \\\\\n",
       "\\end{tabular}\n"
      ],
      "text/markdown": [
       "1. 'DVL1'\n",
       "2. 'AXIN1'\n",
       "3. 'CREBBP'\n",
       "4. 'CSNK1D'\n",
       "5. 'CTNNB1'\n",
       "6. 'GSK3B'\n",
       "7. 'CTBP1'\n",
       "8. 'LEF1'\n",
       "9. 'CSNK1A1'\n",
       "10. 'PPARD'\n",
       "11. 'MAP3K7'\n",
       "12. 'TLE1'\n",
       "13. 'NLK'\n",
       "\n",
       "\n"
      ],
      "text/plain": [
       "       [,1]   [,2]    [,3]     [,4]     [,5]     [,6]    [,7]    [,8]  \n",
       "Symbol \"DVL1\" \"AXIN1\" \"CREBBP\" \"CSNK1D\" \"CTNNB1\" \"GSK3B\" \"CTBP1\" \"LEF1\"\n",
       "       [,9]      [,10]   [,11]    [,12]  [,13]\n",
       "Symbol \"CSNK1A1\" \"PPARD\" \"MAP3K7\" \"TLE1\" \"NLK\""
      ]
     },
     "execution_count": 2,
     "metadata": {},
     "output_type": "execute_result"
    }
   ],
   "source": [
    "BIOCARTA_WNT_PATHWAY <- c(1457,7471,1453,1452,2932,8945,11197,1499,8321,5515,\n",
    "                          1387,51176,7088,595,1487,51701,324,6885,1855,5467,\n",
    "                          10023,8312,3065,10454,4089,4609)\n",
    "\n",
    "# genes with a switch in the pathway\n",
    "switches %>%\n",
    "    filter(GeneId %in% BIOCARTA_WNT_PATHWAY) %>%\n",
    "    select(GeneId) %>%\n",
    "    unique %>%\n",
    "    nrow\n",
    "\n",
    "switches %>%\n",
    "    filter(GeneId %in% BIOCARTA_WNT_PATHWAY) %>%\n",
    "    select(Symbol) %>%\n",
    "    unique %>%\n",
    "    t"
   ]
  },
  {
   "cell_type": "code",
   "execution_count": 3,
   "metadata": {
    "ExecuteTime": {
     "end_time": "2016-08-25T15:02:23.614888",
     "start_time": "2016-08-25T13:01:41.599Z"
    },
    "collapsed": false
   },
   "outputs": [
    {
     "data": {
      "text/html": [
       "4"
      ],
      "text/latex": [
       "4"
      ],
      "text/markdown": [
       "4"
      ],
      "text/plain": [
       "[1] 4"
      ]
     },
     "execution_count": 3,
     "metadata": {},
     "output_type": "execute_result"
    },
    {
     "data": {
      "text/html": [
       "<ol class=list-inline>\n",
       "\t<li>'AXIN1'</li>\n",
       "\t<li>'CREBBP'</li>\n",
       "\t<li>'CTNNB1'</li>\n",
       "\t<li>'PPARD'</li>\n",
       "</ol>\n"
      ],
      "text/latex": [
       "\\begin{enumerate*}\n",
       "\\item 'AXIN1'\n",
       "\\item 'CREBBP'\n",
       "\\item 'CTNNB1'\n",
       "\\item 'PPARD'\n",
       "\\end{enumerate*}\n"
      ],
      "text/markdown": [
       "1. 'AXIN1'\n",
       "2. 'CREBBP'\n",
       "3. 'CTNNB1'\n",
       "4. 'PPARD'\n",
       "\n",
       "\n"
      ],
      "text/plain": [
       "[1] \"AXIN1\"  \"CREBBP\" \"CTNNB1\" \"PPARD\" "
      ]
     },
     "execution_count": 3,
     "metadata": {},
     "output_type": "execute_result"
    }
   ],
   "source": [
    "# check how many cases there are transcripts with the same id (ie similar exon structure and coordinates)\n",
    "current.switches <- switches %>%\n",
    "    filter(GeneId %in% BIOCARTA_WNT_PATHWAY) %>%\n",
    "    mutate(Normal_transcript = strsplit(Normal_transcript, \".\", fixed = T) %>% unlist %>% .[c(T,F)],\n",
    "           Tumor_transcript = strsplit(Tumor_transcript, \".\", fixed = T) %>% unlist %>% .[c(T,F)]) %>%\n",
    "    merge(latestVersion, by.x=c(\"Normal_transcript\",\"CDS_Normal\"), by.y=c(\"Transcript\",\"CDS\")) %>%\n",
    "    merge(latestVersion, by.x=c(\"Tumor_transcript\",\"CDS_Tumor\"), by.y=c(\"Transcript\",\"CDS\"))\n",
    "\n",
    "current.switches$Symbol %>% unique %>% length\n",
    "current.switches$Symbol %>% unique"
   ]
  },
  {
   "cell_type": "code",
   "execution_count": 4,
   "metadata": {
    "ExecuteTime": {
     "end_time": "2016-08-25T15:02:23.689644",
     "start_time": "2016-08-25T13:01:41.622Z"
    },
    "collapsed": false
   },
   "outputs": [
    {
     "data": {
      "text/html": [
       "1"
      ],
      "text/latex": [
       "1"
      ],
      "text/markdown": [
       "1"
      ],
      "text/plain": [
       "[1] 1"
      ]
     },
     "execution_count": 4,
     "metadata": {},
     "output_type": "execute_result"
    },
    {
     "data": {
      "text/html": [
       "<table>\n",
       "<thead><tr><th></th><th scope=col>1</th></tr></thead>\n",
       "<tbody>\n",
       "\t<tr><th scope=row>Symbol</th><td>PPARD</td></tr>\n",
       "</tbody>\n",
       "</table>\n"
      ],
      "text/latex": [
       "\\begin{tabular}{r|l}\n",
       "  & 1\\\\\n",
       "\\hline\n",
       "\tSymbol & PPARD\\\\\n",
       "\\end{tabular}\n"
      ],
      "text/markdown": [
       "'PPARD'"
      ],
      "text/plain": [
       "       1      \n",
       "Symbol \"PPARD\""
      ]
     },
     "execution_count": 4,
     "metadata": {},
     "output_type": "execute_result"
    }
   ],
   "source": [
    "# genes were both transcripts are protein-coding and affect a PPI\n",
    "current.switches %>%\n",
    "    filter(GeneId %in% BIOCARTA_WNT_PATHWAY & PPI == 1 & CDS_Normal == 1 & CDS_Tumor == 1) %>%\n",
    "    select(GeneId) %>%\n",
    "    unique %>%\n",
    "    nrow\n",
    "\n",
    "current.switches %>%\n",
    "    filter(GeneId %in% BIOCARTA_WNT_PATHWAY & PPI == 1 & CDS_Normal == 1 & CDS_Tumor == 1) %>%\n",
    "    select(Symbol) %>%\n",
    "    unique %>%\n",
    "    t"
   ]
  },
  {
   "cell_type": "code",
   "execution_count": 5,
   "metadata": {
    "ExecuteTime": {
     "end_time": "2016-08-25T15:02:24.792323",
     "start_time": "2016-08-25T13:01:41.642Z"
    },
    "collapsed": false
   },
   "outputs": [
    {
     "name": "stderr",
     "output_type": "stream",
     "text": [
      "network: Classes for Relational Data\n",
      "Version 1.13.0 created on 2015-08-31.\n",
      "copyright (c) 2005, Carter T. Butts, University of California-Irvine\n",
      "                    Mark S. Handcock, University of California -- Los Angeles\n",
      "                    David R. Hunter, Penn State University\n",
      "                    Martina Morris, University of Washington\n",
      "                    Skye Bender-deMoll, University of Washington\n",
      " For citation information, type citation(\"network\").\n",
      " Type help(\"network-package\") to get started.\n",
      "\n",
      "\n",
      "Attaching package: ‘igraph’\n",
      "\n",
      "The following objects are masked from ‘package:network’:\n",
      "\n",
      "    add.edges, add.vertices, %c%, delete.edges, delete.vertices,\n",
      "    get.edge.attribute, get.edges, get.vertex.attribute, is.bipartite,\n",
      "    is.directed, list.edge.attributes, list.vertex.attributes, %s%,\n",
      "    set.edge.attribute, set.vertex.attribute\n",
      "\n",
      "The following object is masked from ‘package:magrittr’:\n",
      "\n",
      "    %>%\n",
      "\n",
      "The following objects are masked from ‘package:dplyr’:\n",
      "\n",
      "    %>%, as_data_frame, groups, union\n",
      "\n",
      "The following objects are masked from ‘package:tidyr’:\n",
      "\n",
      "    %>%, crossing\n",
      "\n",
      "The following objects are masked from ‘package:stats’:\n",
      "\n",
      "    decompose, spectrum\n",
      "\n",
      "The following object is masked from ‘package:base’:\n",
      "\n",
      "    union\n",
      "\n"
     ]
    },
    {
     "data": {
      "text/html": [
       "0"
      ],
      "text/latex": [
       "0"
      ],
      "text/markdown": [
       "0"
      ],
      "text/plain": [
       "[1] 0"
      ]
     },
     "execution_count": 5,
     "metadata": {},
     "output_type": "execute_result"
    },
    {
     "ename": "ERROR",
     "evalue": "Error in xj[i, , drop = FALSE]: subscript out of bounds\n",
     "output_type": "error",
     "traceback": [
      "Error in xj[i, , drop = FALSE]: subscript out of bounds\n"
     ]
    }
   ],
   "source": [
    "source(\"../data/env/getPPINetwork.R\")\n",
    "library(ggnetwork)\n",
    "ppiPalette = c(\"Gain\" = \"#31a354\", \"Loss\" = \"#f03b20\", \"Unaffected\" = \"#d9d9d9\", \"Draw\" = \"#d9d9d9\")\n",
    "\n",
    "BIOCARTA_WNT_PATHWAY.filt <- switches %>%\n",
    "    filter(GeneId %in% BIOCARTA_WNT_PATHWAY) %>%\n",
    "    filter(! GeneId %in% current.switches$GeneId ) %>%\n",
    "    .$GeneId %>%\n",
    "    setdiff(BIOCARTA_WNT_PATHWAY,.)\n",
    "\n",
    "nw <- getPPINetwork(BIOCARTA_WNT_PATHWAY.filt, ppi.network, ppi)\n",
    "\n",
    "# number of edges\n",
    "length(nw %e% \"Effect\")\n",
    "\n",
    "# add node attributes\n",
    "nw %v% \"Gene\" <- ifelse(nw %v% \"vertex.names\" %in% drivers, \"Driver\", \"Non-driver\")\n",
    "nw %v% \"Switched\" <- ifelse(nw %v% \"vertex.names\" %in% current.switches$Symbol, \"Switched\", \"Non-switched\")\n",
    "\n",
    "ggplot(nw, aes(x = x, y = y, xend = xend, yend = yend)) +\n",
    "    geom_edges(aes(color = Effect, linetype = Consensus)) +\n",
    "    geom_nodelabel(aes(label = vertex.names, fill = Gene, alpha = Switched), size = 5, color = \"white\") +\n",
    "    scale_color_manual(values = ppiPalette) +\n",
    "    scale_alpha_manual(values = c(\"Switched\" = 1, \"Non-switched\" = 0.5)) +\n",
    "    scale_fill_manual(values = c(\"Driver\" = \"black\", \"Non-driver\" = \"#0570b0\")) +\n",
    "    scale_linetype_manual(values = c(\"Yes\" = \"solid\", \"No\" = \"dashed\")) +\n",
    "    lims( x = c(-.10, 1.10))+ \n",
    "    theme(axis.line=element_blank(),axis.text.x=element_blank(),\n",
    "          axis.text.y=element_blank(),axis.ticks=element_blank(),\n",
    "          axis.title.x=element_blank(),axis.title.y=element_blank(),\n",
    "          legend.position=\"bottom\")"
   ]
  },
  {
   "cell_type": "markdown",
   "metadata": {},
   "source": [
    "# hnRNP\n",
    "## Switches in the pathway"
   ]
  },
  {
   "cell_type": "code",
   "execution_count": 6,
   "metadata": {
    "ExecuteTime": {
     "end_time": "2016-08-25T15:02:25.118345",
     "start_time": "2016-08-25T13:01:41.668Z"
    },
    "collapsed": false
   },
   "outputs": [
    {
     "data": {
      "text/html": [
       "16"
      ],
      "text/latex": [
       "16"
      ],
      "text/markdown": [
       "16"
      ],
      "text/plain": [
       "[1] 16"
      ]
     },
     "execution_count": 6,
     "metadata": {},
     "output_type": "execute_result"
    },
    {
     "data": {
      "text/html": [
       "<table>\n",
       "<tbody>\n",
       "\t<tr><th scope=row>Symbol</th><td>HNRNPU  </td><td>HNRNPF  </td><td>HNRNPH3 </td><td>PCBP2   </td><td>HNRNPC  </td><td>FUS     </td><td>MSL1    </td><td>HNRNPUL1</td><td>HNRPLL  </td><td>PCBP4   </td><td>HNRNPD  </td><td>HNRPDL  </td><td>SYNCRIP </td><td>HNRNPK  </td><td>HNRNPH2 </td><td>RBMX    </td></tr>\n",
       "</tbody>\n",
       "</table>\n"
      ],
      "text/latex": [
       "\\begin{tabular}{r|llllllllllllllll}\n",
       "\tSymbol & HNRNPU   & HNRNPF   & HNRNPH3  & PCBP2    & HNRNPC   & FUS      & MSL1     & HNRNPUL1 & HNRPLL   & PCBP4    & HNRNPD   & HNRPDL   & SYNCRIP  & HNRNPK   & HNRNPH2  & RBMX    \\\\\n",
       "\\end{tabular}\n"
      ],
      "text/markdown": [
       "1. 'HNRNPU'\n",
       "2. 'HNRNPF'\n",
       "3. 'HNRNPH3'\n",
       "4. 'PCBP2'\n",
       "5. 'HNRNPC'\n",
       "6. 'FUS'\n",
       "7. 'MSL1'\n",
       "8. 'HNRNPUL1'\n",
       "9. 'HNRPLL'\n",
       "10. 'PCBP4'\n",
       "11. 'HNRNPD'\n",
       "12. 'HNRPDL'\n",
       "13. 'SYNCRIP'\n",
       "14. 'HNRNPK'\n",
       "15. 'HNRNPH2'\n",
       "16. 'RBMX'\n",
       "\n",
       "\n"
      ],
      "text/plain": [
       "       [,1]     [,2]     [,3]      [,4]    [,5]     [,6]  [,7]   [,8]      \n",
       "Symbol \"HNRNPU\" \"HNRNPF\" \"HNRNPH3\" \"PCBP2\" \"HNRNPC\" \"FUS\" \"MSL1\" \"HNRNPUL1\"\n",
       "       [,9]     [,10]   [,11]    [,12]    [,13]     [,14]    [,15]     [,16] \n",
       "Symbol \"HNRPLL\" \"PCBP4\" \"HNRNPD\" \"HNRPDL\" \"SYNCRIP\" \"HNRNPK\" \"HNRNPH2\" \"RBMX\""
      ]
     },
     "execution_count": 6,
     "metadata": {},
     "output_type": "execute_result"
    }
   ],
   "source": [
    "hnRNP <- c(\"FUS\",\"HNRNPA0\",\"HNRNPA1\",\"HNRNPA2B1\",\"HNRNPA3\",\"HNRNPAB\",\"HNRNPABD\",\n",
    "           \"HNRNPC\",\"HNRNPCL1\",\"HNRNPCL2\",\"HNRNPD\",\"HNRNPF\",\"  HNRNPH1\",\"HNRNPH2\",\n",
    "           \"HNRNPH3\",\"HNRNPK\",\"HNRNPL\",\"HNRNPM\",\"HNRNPR\",\"HNRNPU\",\"HNRNPUL1\",\n",
    "           \"HNRNPUL2\",\"HNRPDL\",\"HNRPLL\",\"HNRPQ\",\"MSL1\",\"MSL2\",\"PCBP1\",\"PCBP2\",\"PCBP3\",\n",
    "           \"PCBP4\",\"RALY\",\"RALYL\",\"RARY\",\"RBMX\",\"RBMXL2\",\"SQD\",\"SYNCRIP\")\n",
    "\n",
    "hnRNP <- id2symbol %>%\n",
    "    filter(Symbol %in% hnRNP) %>%\n",
    "    .$GeneId\n",
    "\n",
    "# genes with a switch in the pathway\n",
    "switches %>%\n",
    "    filter(GeneId %in% hnRNP) %>%\n",
    "    select(GeneId) %>%\n",
    "    unique %>%\n",
    "    nrow\n",
    "\n",
    "switches %>%\n",
    "    filter(GeneId %in% hnRNP) %>%\n",
    "    select(Symbol) %>%\n",
    "    unique %>%\n",
    "    t"
   ]
  },
  {
   "cell_type": "code",
   "execution_count": 7,
   "metadata": {
    "ExecuteTime": {
     "end_time": "2016-08-25T15:02:26.285189",
     "start_time": "2016-08-25T13:01:41.689Z"
    },
    "collapsed": false
   },
   "outputs": [
    {
     "data": {
      "text/html": [
       "8"
      ],
      "text/latex": [
       "8"
      ],
      "text/markdown": [
       "8"
      ],
      "text/plain": [
       "[1] 8"
      ]
     },
     "execution_count": 7,
     "metadata": {},
     "output_type": "execute_result"
    },
    {
     "data": {
      "text/html": [
       "<ol class=list-inline>\n",
       "\t<li>'PCBP2'</li>\n",
       "\t<li>'HNRNPC'</li>\n",
       "\t<li>'FUS'</li>\n",
       "\t<li>'MSL1'</li>\n",
       "\t<li>'PCBP4'</li>\n",
       "\t<li>'HNRNPD'</li>\n",
       "\t<li>'SYNCRIP'</li>\n",
       "\t<li>'HNRNPK'</li>\n",
       "</ol>\n"
      ],
      "text/latex": [
       "\\begin{enumerate*}\n",
       "\\item 'PCBP2'\n",
       "\\item 'HNRNPC'\n",
       "\\item 'FUS'\n",
       "\\item 'MSL1'\n",
       "\\item 'PCBP4'\n",
       "\\item 'HNRNPD'\n",
       "\\item 'SYNCRIP'\n",
       "\\item 'HNRNPK'\n",
       "\\end{enumerate*}\n"
      ],
      "text/markdown": [
       "1. 'PCBP2'\n",
       "2. 'HNRNPC'\n",
       "3. 'FUS'\n",
       "4. 'MSL1'\n",
       "5. 'PCBP4'\n",
       "6. 'HNRNPD'\n",
       "7. 'SYNCRIP'\n",
       "8. 'HNRNPK'\n",
       "\n",
       "\n"
      ],
      "text/plain": [
       "[1] \"PCBP2\"   \"HNRNPC\"  \"FUS\"     \"MSL1\"    \"PCBP4\"   \"HNRNPD\"  \"SYNCRIP\"\n",
       "[8] \"HNRNPK\" "
      ]
     },
     "execution_count": 7,
     "metadata": {},
     "output_type": "execute_result"
    }
   ],
   "source": [
    "# check how many cases there are transcripts with the same id (ie similar exon structure and coordinates)\n",
    "current.switches <- switches %>%\n",
    "    filter(GeneId %in% hnRNP) %>%\n",
    "    mutate(Normal_transcript = strsplit(Normal_transcript, \".\", fixed = T) %>% unlist %>% .[c(T,F)],\n",
    "           Tumor_transcript = strsplit(Tumor_transcript, \".\", fixed = T) %>% unlist %>% .[c(T,F)]) %>%\n",
    "    merge(latestVersion, by.x=c(\"Normal_transcript\",\"CDS_Normal\"), by.y=c(\"Transcript\",\"CDS\")) %>%\n",
    "    merge(latestVersion, by.x=c(\"Tumor_transcript\",\"CDS_Tumor\"), by.y=c(\"Transcript\",\"CDS\"))\n",
    "\n",
    "current.switches$Symbol %>% unique %>% length\n",
    "current.switches$Symbol %>% unique"
   ]
  },
  {
   "cell_type": "code",
   "execution_count": 8,
   "metadata": {
    "ExecuteTime": {
     "end_time": "2016-08-25T15:02:26.359360",
     "start_time": "2016-08-25T13:01:41.709Z"
    },
    "collapsed": false
   },
   "outputs": [
    {
     "data": {
      "text/html": [
       "1"
      ],
      "text/latex": [
       "1"
      ],
      "text/markdown": [
       "1"
      ],
      "text/plain": [
       "[1] 1"
      ]
     },
     "execution_count": 8,
     "metadata": {},
     "output_type": "execute_result"
    },
    {
     "data": {
      "text/html": [
       "<table>\n",
       "<thead><tr><th></th><th scope=col>1</th></tr></thead>\n",
       "<tbody>\n",
       "\t<tr><th scope=row>Symbol</th><td>MSL1</td></tr>\n",
       "</tbody>\n",
       "</table>\n"
      ],
      "text/latex": [
       "\\begin{tabular}{r|l}\n",
       "  & 1\\\\\n",
       "\\hline\n",
       "\tSymbol & MSL1\\\\\n",
       "\\end{tabular}\n"
      ],
      "text/markdown": [
       "'MSL1'"
      ],
      "text/plain": [
       "       1     \n",
       "Symbol \"MSL1\""
      ]
     },
     "execution_count": 8,
     "metadata": {},
     "output_type": "execute_result"
    }
   ],
   "source": [
    "# genes were both transcripts are protein-coding and affect a PPI\n",
    "current.switches %>%\n",
    "    filter(GeneId %in% hnRNP & PPI == 1 & CDS_Normal == 1 & CDS_Tumor == 1) %>%\n",
    "    select(GeneId) %>%\n",
    "    unique %>%\n",
    "    nrow\n",
    "\n",
    "current.switches %>%\n",
    "    filter(GeneId %in% hnRNP & PPI == 1 & CDS_Normal == 1 & CDS_Tumor == 1) %>%\n",
    "    select(Symbol) %>%\n",
    "    unique %>%\n",
    "    t"
   ]
  },
  {
   "cell_type": "code",
   "execution_count": 9,
   "metadata": {
    "ExecuteTime": {
     "end_time": "2016-08-25T15:02:26.809373",
     "start_time": "2016-08-25T13:01:41.730Z"
    },
    "collapsed": false
   },
   "outputs": [
    {
     "data": {
      "text/html": [
       "1"
      ],
      "text/latex": [
       "1"
      ],
      "text/markdown": [
       "1"
      ],
      "text/plain": [
       "[1] 1"
      ]
     },
     "execution_count": 9,
     "metadata": {},
     "output_type": "execute_result"
    },
    {
     "ename": "ERROR",
     "evalue": "Error in if (nrow(edges[, 1:2]) > nrow(unique(edges[, 1:2]))) {: argument is of length zero\n",
     "output_type": "error",
     "traceback": [
      "Error in if (nrow(edges[, 1:2]) > nrow(unique(edges[, 1:2]))) {: argument is of length zero\n"
     ]
    }
   ],
   "source": [
    "hnRNP.filt <- switches %>%\n",
    "    filter(GeneId %in% hnRNP) %>%\n",
    "    filter(! GeneId %in% current.switches$GeneId ) %>%\n",
    "    .$GeneId %>%\n",
    "    setdiff(hnRNP,.)\n",
    "\n",
    "nw <- getPPINetwork(hnRNP.filt, ppi.network, ppi)\n",
    "\n",
    "# number of edges\n",
    "length(nw %e% \"Effect\")\n",
    "\n",
    "# add node attributes\n",
    "nw %v% \"Gene\" <- ifelse(nw %v% \"vertex.names\" %in% drivers, \"Driver\", \"Non-driver\")\n",
    "nw %v% \"Switched\" <- ifelse(nw %v% \"vertex.names\" %in% current.switches$Symbol, \"Switched\", \"Non-switched\")\n",
    "\n",
    "ggplot(nw, aes(x = x, y = y, xend = xend, yend = yend)) +\n",
    "    geom_edges(aes(color = Effect, linetype = Consensus)) +\n",
    "    geom_nodelabel(aes(label = vertex.names, fill = Gene, alpha = Switched), size = 5, color = \"white\") +\n",
    "    scale_color_manual(values = ppiPalette) +\n",
    "    scale_alpha_manual(values = c(\"Switched\" = 1, \"Non-switched\" = 0.5)) +\n",
    "    scale_fill_manual(values = c(\"Driver\" = \"black\", \"Non-driver\" = \"#0570b0\")) +\n",
    "    scale_linetype_manual(values = c(\"Yes\" = \"solid\", \"No\" = \"dashed\")) +\n",
    "    lims( x = c(-.10, 1.10))+ \n",
    "    theme(axis.line=element_blank(),axis.text.x=element_blank(),\n",
    "          axis.text.y=element_blank(),axis.ticks=element_blank(),\n",
    "          axis.title.x=element_blank(),axis.title.y=element_blank(),\n",
    "          legend.position=\"bottom\")\n",
    "\n"
   ]
  },
  {
   "cell_type": "markdown",
   "metadata": {},
   "source": [
    "# BIOCARTA_G1_PATHWAY\n",
    "## Switches in the pathway"
   ]
  },
  {
   "cell_type": "code",
   "execution_count": 10,
   "metadata": {
    "ExecuteTime": {
     "end_time": "2016-08-25T15:02:26.885342",
     "start_time": "2016-08-25T13:01:41.754Z"
    },
    "collapsed": false
   },
   "outputs": [
    {
     "data": {
      "text/html": [
       "16"
      ],
      "text/latex": [
       "16"
      ],
      "text/markdown": [
       "16"
      ],
      "text/plain": [
       "[1] 16"
      ]
     },
     "execution_count": 10,
     "metadata": {},
     "output_type": "execute_result"
    },
    {
     "data": {
      "text/html": [
       "<table>\n",
       "<tbody>\n",
       "\t<tr><th scope=row>Symbol</th><td>TGFB2 </td><td>CDK1  </td><td>ATM   </td><td>CDK2  </td><td>TFDP1 </td><td>TP53  </td><td>CCNE1 </td><td>CDC25A</td><td>GSK3B </td><td>SKP2  </td><td>CDKN2A</td><td>CDKN2B</td><td>ABL1  </td><td>DHFR  </td><td>SMAD3 </td><td>CDK6  </td></tr>\n",
       "</tbody>\n",
       "</table>\n"
      ],
      "text/latex": [
       "\\begin{tabular}{r|llllllllllllllll}\n",
       "\tSymbol & TGFB2  & CDK1   & ATM    & CDK2   & TFDP1  & TP53   & CCNE1  & CDC25A & GSK3B  & SKP2   & CDKN2A & CDKN2B & ABL1   & DHFR   & SMAD3  & CDK6  \\\\\n",
       "\\end{tabular}\n"
      ],
      "text/markdown": [
       "1. 'TGFB2'\n",
       "2. 'CDK1'\n",
       "3. 'ATM'\n",
       "4. 'CDK2'\n",
       "5. 'TFDP1'\n",
       "6. 'TP53'\n",
       "7. 'CCNE1'\n",
       "8. 'CDC25A'\n",
       "9. 'GSK3B'\n",
       "10. 'SKP2'\n",
       "11. 'CDKN2A'\n",
       "12. 'CDKN2B'\n",
       "13. 'ABL1'\n",
       "14. 'DHFR'\n",
       "15. 'SMAD3'\n",
       "16. 'CDK6'\n",
       "\n",
       "\n"
      ],
      "text/plain": [
       "       [,1]    [,2]   [,3]  [,4]   [,5]    [,6]   [,7]    [,8]     [,9]   \n",
       "Symbol \"TGFB2\" \"CDK1\" \"ATM\" \"CDK2\" \"TFDP1\" \"TP53\" \"CCNE1\" \"CDC25A\" \"GSK3B\"\n",
       "       [,10]  [,11]    [,12]    [,13]  [,14]  [,15]   [,16] \n",
       "Symbol \"SKP2\" \"CDKN2A\" \"CDKN2B\" \"ABL1\" \"DHFR\" \"SMAD3\" \"CDK6\""
      ]
     },
     "execution_count": 10,
     "metadata": {},
     "output_type": "execute_result"
    }
   ],
   "source": [
    "BIOCARTA_G1_PATHWAY <-c(1869,7027,2932,1029,1027,1026,983,7042,8900,1030,7040,\n",
    "                        7043,595,1017,1019,25,5925,6502,7157,1021,1719,993,\n",
    "                        472,545,3065,4088,4089,898)\n",
    "\n",
    "\n",
    "# genes with a switch in the pathway\n",
    "switches %>%\n",
    "    filter(GeneId %in% BIOCARTA_G1_PATHWAY) %>%\n",
    "    select(GeneId) %>%\n",
    "    unique %>%\n",
    "    nrow\n",
    "\n",
    "switches %>%\n",
    "    filter(GeneId %in% BIOCARTA_G1_PATHWAY) %>%\n",
    "    select(Symbol) %>%\n",
    "    unique %>%\n",
    "    t"
   ]
  },
  {
   "cell_type": "code",
   "execution_count": 11,
   "metadata": {
    "ExecuteTime": {
     "end_time": "2016-08-25T15:02:28.498365",
     "start_time": "2016-08-25T13:01:41.775Z"
    },
    "collapsed": false
   },
   "outputs": [
    {
     "data": {
      "text/html": [
       "10"
      ],
      "text/latex": [
       "10"
      ],
      "text/markdown": [
       "10"
      ],
      "text/plain": [
       "[1] 10"
      ]
     },
     "execution_count": 11,
     "metadata": {},
     "output_type": "execute_result"
    },
    {
     "data": {
      "text/html": [
       "<ol class=list-inline>\n",
       "\t<li>'CDK1'</li>\n",
       "\t<li>'TFDP1'</li>\n",
       "\t<li>'CDC25A'</li>\n",
       "\t<li>'SKP2'</li>\n",
       "\t<li>'CDKN2A'</li>\n",
       "\t<li>'CDKN2B'</li>\n",
       "\t<li>'ABL1'</li>\n",
       "\t<li>'CDK6'</li>\n",
       "\t<li>'CDK2'</li>\n",
       "\t<li>'SMAD3'</li>\n",
       "</ol>\n"
      ],
      "text/latex": [
       "\\begin{enumerate*}\n",
       "\\item 'CDK1'\n",
       "\\item 'TFDP1'\n",
       "\\item 'CDC25A'\n",
       "\\item 'SKP2'\n",
       "\\item 'CDKN2A'\n",
       "\\item 'CDKN2B'\n",
       "\\item 'ABL1'\n",
       "\\item 'CDK6'\n",
       "\\item 'CDK2'\n",
       "\\item 'SMAD3'\n",
       "\\end{enumerate*}\n"
      ],
      "text/markdown": [
       "1. 'CDK1'\n",
       "2. 'TFDP1'\n",
       "3. 'CDC25A'\n",
       "4. 'SKP2'\n",
       "5. 'CDKN2A'\n",
       "6. 'CDKN2B'\n",
       "7. 'ABL1'\n",
       "8. 'CDK6'\n",
       "9. 'CDK2'\n",
       "10. 'SMAD3'\n",
       "\n",
       "\n"
      ],
      "text/plain": [
       " [1] \"CDK1\"   \"TFDP1\"  \"CDC25A\" \"SKP2\"   \"CDKN2A\" \"CDKN2B\" \"ABL1\"   \"CDK6\"  \n",
       " [9] \"CDK2\"   \"SMAD3\" "
      ]
     },
     "execution_count": 11,
     "metadata": {},
     "output_type": "execute_result"
    }
   ],
   "source": [
    "# check how many cases there are transcripts with the same id (ie similar exon structure and coordinates)\n",
    "current.switches <- switches %>%\n",
    "    filter(GeneId %in% BIOCARTA_G1_PATHWAY) %>%\n",
    "    mutate(Normal_transcript = strsplit(Normal_transcript, \".\", fixed = T) %>% unlist %>% .[c(T,F)],\n",
    "           Tumor_transcript = strsplit(Tumor_transcript, \".\", fixed = T) %>% unlist %>% .[c(T,F)]) %>%\n",
    "    merge(latestVersion, by.x=c(\"Normal_transcript\",\"CDS_Normal\"), by.y=c(\"Transcript\",\"CDS\")) %>%\n",
    "    merge(latestVersion, by.x=c(\"Tumor_transcript\",\"CDS_Tumor\"), by.y=c(\"Transcript\",\"CDS\"))\n",
    "\n",
    "current.switches$Symbol %>% unique %>% length\n",
    "current.switches$Symbol %>% unique"
   ]
  },
  {
   "cell_type": "code",
   "execution_count": 12,
   "metadata": {
    "ExecuteTime": {
     "end_time": "2016-08-25T15:02:28.581715",
     "start_time": "2016-08-25T13:01:41.793Z"
    },
    "collapsed": false
   },
   "outputs": [
    {
     "data": {
      "text/html": [
       "3"
      ],
      "text/latex": [
       "3"
      ],
      "text/markdown": [
       "3"
      ],
      "text/plain": [
       "[1] 3"
      ]
     },
     "execution_count": 12,
     "metadata": {},
     "output_type": "execute_result"
    },
    {
     "data": {
      "text/html": [
       "<table>\n",
       "<thead><tr><th></th><th scope=col>1</th><th scope=col>2</th><th scope=col>3</th></tr></thead>\n",
       "<tbody>\n",
       "\t<tr><th scope=row>Symbol</th><td>CDKN2A</td><td>CDKN2B</td><td>SKP2  </td></tr>\n",
       "</tbody>\n",
       "</table>\n"
      ],
      "text/latex": [
       "\\begin{tabular}{r|lll}\n",
       "  & 1 & 2 & 3\\\\\n",
       "\\hline\n",
       "\tSymbol & CDKN2A & CDKN2B & SKP2  \\\\\n",
       "\\end{tabular}\n"
      ],
      "text/markdown": [
       "1. 'CDKN2A'\n",
       "2. 'CDKN2B'\n",
       "3. 'SKP2'\n",
       "\n",
       "\n"
      ],
      "text/plain": [
       "       1        2        3     \n",
       "Symbol \"CDKN2A\" \"CDKN2B\" \"SKP2\""
      ]
     },
     "execution_count": 12,
     "metadata": {},
     "output_type": "execute_result"
    }
   ],
   "source": [
    "# genes were both transcripts are protein-coding and affect a PPI\n",
    "current.switches %>%\n",
    "    filter(GeneId %in% BIOCARTA_G1_PATHWAY & PPI == 1 & CDS_Normal == 1 & CDS_Tumor == 1) %>%\n",
    "    select(GeneId) %>%\n",
    "    unique %>%\n",
    "    nrow\n",
    "\n",
    "current.switches %>%\n",
    "    filter(GeneId %in% BIOCARTA_G1_PATHWAY & PPI == 1 & CDS_Normal == 1 & CDS_Tumor == 1) %>%\n",
    "    select(Symbol) %>%\n",
    "    unique %>%\n",
    "    t"
   ]
  },
  {
   "cell_type": "code",
   "execution_count": 13,
   "metadata": {
    "ExecuteTime": {
     "end_time": "2016-08-25T15:02:32.626942",
     "start_time": "2016-08-25T13:01:41.813Z"
    },
    "collapsed": false
   },
   "outputs": [
    {
     "data": {
      "text/html": [
       "7"
      ],
      "text/latex": [
       "7"
      ],
      "text/markdown": [
       "7"
      ],
      "text/plain": [
       "[1] 7"
      ]
     },
     "execution_count": 13,
     "metadata": {},
     "output_type": "execute_result"
    },
    {
     "data": {
      "image/png": "[encoded data removed]",
      "image/svg+xml": [
       "<?xml version=\"1.0\" encoding=\"UTF-8\"?>\n",
       "<svg xmlns=\"http://www.w3.org/2000/svg\" xmlns:xlink=\"http://www.w3.org/1999/xlink\" width=\"504pt\" height=\"504pt\" viewBox=\"0 0 504 504\" version=\"1.1\">\n",
       "<defs>\n",
       "<g>\n",
       "<symbol overflow=\"visible\" id=\"glyph0-0\">\n",
       "<path style=\"stroke:none;\" d=\"\"/>\n",
       "</symbol>\n",
       "<symbol overflow=\"visible\" id=\"glyph0-1\">\n",
       "<path style=\"stroke:none;\" d=\"M 9.40625 -7.15625 C 9 -9.421875 7.6875 -10.53125 5.421875 -10.53125 C 4.03125 -10.53125 2.90625 -10.09375 2.140625 -9.25 C 1.1875 -8.21875 0.6875 -6.734375 0.6875 -5.0625 C 0.6875 -3.359375 1.203125 -1.890625 2.1875 -0.875 C 2.984375 -0.0625 4.015625 0.328125 5.359375 0.328125 C 7.890625 0.328125 9.3125 -1.03125 9.625 -3.78125 L 8.265625 -3.78125 C 8.140625 -3.078125 8 -2.59375 7.796875 -2.171875 C 7.359375 -1.328125 6.484375 -0.84375 5.375 -0.84375 C 3.3125 -0.84375 2 -2.484375 2 -5.078125 C 2 -7.734375 3.25 -9.375 5.265625 -9.375 C 6.09375 -9.375 6.875 -9.109375 7.3125 -8.71875 C 7.6875 -8.359375 7.90625 -7.921875 8.0625 -7.15625 Z \"/>\n",
       "</symbol>\n",
       "<symbol overflow=\"visible\" id=\"glyph0-2\">\n",
       "<path style=\"stroke:none;\" d=\"M 1.265625 0 L 5.265625 0 C 7.875 0 9.484375 -1.96875 9.484375 -5.1875 C 9.484375 -8.40625 7.890625 -10.359375 5.265625 -10.359375 L 1.265625 -10.359375 Z M 2.59375 -1.171875 L 2.59375 -9.203125 L 5.03125 -9.203125 C 7.078125 -9.203125 8.15625 -7.828125 8.15625 -5.171875 C 8.15625 -2.5625 7.078125 -1.171875 5.03125 -1.171875 Z \"/>\n",
       "</symbol>\n",
       "<symbol overflow=\"visible\" id=\"glyph0-3\">\n",
       "<path style=\"stroke:none;\" d=\"M 2.453125 -3.625 L 4.140625 -5.3125 L 7.796875 0 L 9.359375 0 L 5.09375 -6.140625 L 9.3125 -10.359375 L 7.609375 -10.359375 L 2.453125 -5.125 L 2.453125 -10.359375 L 1.125 -10.359375 L 1.125 0 L 2.453125 0 Z \"/>\n",
       "</symbol>\n",
       "<symbol overflow=\"visible\" id=\"glyph0-4\">\n",
       "<path style=\"stroke:none;\" d=\"M 7.1875 -1.234375 L 1.890625 -1.234375 C 2.015625 -2.0625 2.46875 -2.59375 3.71875 -3.3125 L 5.140625 -4.078125 C 6.546875 -4.84375 7.265625 -5.890625 7.265625 -7.125 C 7.265625 -7.96875 6.921875 -8.75 6.328125 -9.28125 C 5.734375 -9.828125 4.984375 -10.078125 4.03125 -10.078125 C 2.765625 -10.078125 1.8125 -9.625 1.25 -8.765625 C 0.890625 -8.234375 0.734375 -7.609375 0.71875 -6.578125 L 1.96875 -6.578125 C 2 -7.265625 2.09375 -7.671875 2.265625 -8 C 2.59375 -8.609375 3.234375 -8.984375 4 -8.984375 C 5.140625 -8.984375 5.984375 -8.171875 5.984375 -7.09375 C 5.984375 -6.296875 5.515625 -5.609375 4.625 -5.109375 L 3.3125 -4.359375 C 1.203125 -3.171875 0.59375 -2.21875 0.484375 0 L 7.1875 0 Z \"/>\n",
       "</symbol>\n",
       "<symbol overflow=\"visible\" id=\"glyph0-5\">\n",
       "<path style=\"stroke:none;\" d=\"M 4.65625 -2.421875 L 4.65625 0 L 5.90625 0 L 5.90625 -2.421875 L 7.390625 -2.421875 L 7.390625 -3.546875 L 5.90625 -3.546875 L 5.90625 -10.078125 L 4.984375 -10.078125 L 0.390625 -3.734375 L 0.390625 -2.421875 Z M 4.65625 -3.546875 L 1.5 -3.546875 L 4.65625 -7.953125 Z \"/>\n",
       "</symbol>\n",
       "<symbol overflow=\"visible\" id=\"glyph0-6\">\n",
       "<path style=\"stroke:none;\" d=\"M 7.078125 -7.453125 C 6.84375 -9.09375 5.765625 -10.078125 4.21875 -10.078125 C 3.109375 -10.078125 2.125 -9.546875 1.515625 -8.640625 C 0.890625 -7.65625 0.609375 -6.421875 0.609375 -4.59375 C 0.609375 -2.90625 0.875 -1.8125 1.46875 -0.921875 C 2 -0.109375 2.890625 0.328125 4 0.328125 C 5.921875 0.328125 7.296875 -1.09375 7.296875 -3.078125 C 7.296875 -4.953125 6.015625 -6.265625 4.203125 -6.265625 C 3.21875 -6.265625 2.4375 -5.890625 1.890625 -5.140625 C 1.90625 -7.609375 2.703125 -8.96875 4.140625 -8.96875 C 5.015625 -8.96875 5.625 -8.421875 5.828125 -7.453125 Z M 4.046875 -5.15625 C 5.265625 -5.15625 6.015625 -4.328125 6.015625 -2.96875 C 6.015625 -1.703125 5.15625 -0.78125 4.015625 -0.78125 C 2.84375 -0.78125 1.96875 -1.75 1.96875 -3.046875 C 1.96875 -4.296875 2.8125 -5.15625 4.046875 -5.15625 Z \"/>\n",
       "</symbol>\n",
       "<symbol overflow=\"visible\" id=\"glyph0-7\">\n",
       "<path style=\"stroke:none;\" d=\"M 2.609375 -4.71875 L 8.25 -4.71875 L 8.25 -5.890625 L 2.609375 -5.890625 L 2.609375 -9.203125 L 8.453125 -9.203125 L 8.453125 -10.359375 L 1.28125 -10.359375 L 1.28125 0 L 8.71875 0 L 8.71875 -1.171875 L 2.609375 -1.171875 Z \"/>\n",
       "</symbol>\n",
       "<symbol overflow=\"visible\" id=\"glyph0-8\">\n",
       "<path style=\"stroke:none;\" d=\"M 2.609375 -4.71875 L 7.546875 -4.71875 L 7.546875 -5.890625 L 2.609375 -5.890625 L 2.609375 -9.203125 L 8.234375 -9.203125 L 8.234375 -10.359375 L 1.28125 -10.359375 L 1.28125 0 L 2.609375 0 Z \"/>\n",
       "</symbol>\n",
       "<symbol overflow=\"visible\" id=\"glyph0-9\">\n",
       "<path style=\"stroke:none;\" d=\"M 3.6875 -7.1875 L 3.6875 0 L 4.9375 0 L 4.9375 -10.078125 L 4.109375 -10.078125 C 3.671875 -8.53125 3.390625 -8.3125 1.453125 -8.078125 L 1.453125 -7.1875 Z \"/>\n",
       "</symbol>\n",
       "<symbol overflow=\"visible\" id=\"glyph0-10\">\n",
       "<path style=\"stroke:none;\" d=\"M 2.640625 -4.46875 L 6.0625 -4.46875 C 7.234375 -4.46875 7.765625 -3.890625 7.765625 -2.609375 L 7.75 -1.6875 C 7.75 -1.046875 7.859375 -0.421875 8.046875 0 L 9.65625 0 L 9.65625 -0.328125 C 9.15625 -0.671875 9.0625 -1.03125 9.03125 -2.421875 C 9.015625 -4.125 8.75 -4.640625 7.625 -5.125 C 8.78125 -5.6875 9.25 -6.40625 9.25 -7.59375 C 9.25 -9.390625 8.140625 -10.359375 6.09375 -10.359375 L 1.328125 -10.359375 L 1.328125 0 L 2.640625 0 Z M 2.640625 -5.625 L 2.640625 -9.203125 L 5.84375 -9.203125 C 6.578125 -9.203125 7.015625 -9.078125 7.34375 -8.796875 C 7.6875 -8.5 7.875 -8.03125 7.875 -7.40625 C 7.875 -6.1875 7.25 -5.625 5.84375 -5.625 Z \"/>\n",
       "</symbol>\n",
       "<symbol overflow=\"visible\" id=\"glyph0-11\">\n",
       "<path style=\"stroke:none;\" d=\"M 1.125 0 L 5.796875 0 C 6.78125 0 7.5 -0.265625 8.0625 -0.875 C 8.578125 -1.40625 8.859375 -2.140625 8.859375 -2.953125 C 8.859375 -4.203125 8.296875 -4.96875 6.96875 -5.46875 C 7.90625 -5.921875 8.40625 -6.6875 8.40625 -7.734375 C 8.40625 -8.484375 8.125 -9.15625 7.578125 -9.640625 C 7.03125 -10.140625 6.328125 -10.359375 5.328125 -10.359375 L 1.125 -10.359375 Z M 2.453125 -5.90625 L 2.453125 -9.203125 L 5 -9.203125 C 5.75 -9.203125 6.15625 -9.09375 6.515625 -8.828125 C 6.875 -8.546875 7.078125 -8.125 7.078125 -7.546875 C 7.078125 -7 6.875 -6.5625 6.515625 -6.265625 C 6.15625 -6 5.75 -5.90625 5 -5.90625 Z M 2.453125 -1.171875 L 2.453125 -4.734375 L 5.671875 -4.734375 C 6.3125 -4.734375 6.734375 -4.578125 7.046875 -4.234375 C 7.359375 -3.90625 7.53125 -3.453125 7.53125 -2.9375 C 7.53125 -2.453125 7.359375 -1.984375 7.046875 -1.65625 C 6.734375 -1.328125 6.3125 -1.171875 5.671875 -1.171875 Z \"/>\n",
       "</symbol>\n",
       "<symbol overflow=\"visible\" id=\"glyph0-12\">\n",
       "<path style=\"stroke:none;\" d=\"M 8.46875 -7.328125 C 8.453125 -9.359375 7.0625 -10.53125 4.671875 -10.53125 C 2.40625 -10.53125 1 -9.375 1 -7.5 C 1 -6.234375 1.65625 -5.4375 3.03125 -5.078125 L 5.609375 -4.390625 C 6.90625 -4.046875 7.5 -3.53125 7.5 -2.71875 C 7.5 -2.15625 7.203125 -1.59375 6.765625 -1.28125 C 6.359375 -1 5.703125 -0.84375 4.859375 -0.84375 C 3.734375 -0.84375 2.96875 -1.109375 2.46875 -1.703125 C 2.09375 -2.15625 1.921875 -2.65625 1.9375 -3.296875 L 0.6875 -3.296875 C 0.703125 -2.34375 0.875 -1.71875 1.296875 -1.15625 C 2 -0.1875 3.203125 0.328125 4.78125 0.328125 C 6.015625 0.328125 7.03125 0.046875 7.6875 -0.46875 C 8.390625 -1.03125 8.828125 -1.953125 8.828125 -2.84375 C 8.828125 -4.125 8.03125 -5.0625 6.625 -5.453125 L 4.03125 -6.140625 C 2.765625 -6.484375 2.3125 -6.875 2.3125 -7.671875 C 2.3125 -8.734375 3.234375 -9.421875 4.640625 -9.421875 C 6.28125 -9.421875 7.203125 -8.671875 7.21875 -7.328125 Z \"/>\n",
       "</symbol>\n",
       "<symbol overflow=\"visible\" id=\"glyph0-13\">\n",
       "<path style=\"stroke:none;\" d=\"M 2.609375 -4.390625 L 5.875 -4.390625 C 6.6875 -4.390625 7.328125 -4.640625 7.875 -5.140625 C 8.5 -5.703125 8.765625 -6.375 8.765625 -7.328125 C 8.765625 -9.265625 7.625 -10.359375 5.578125 -10.359375 L 1.296875 -10.359375 L 1.296875 0 L 2.609375 0 Z M 2.609375 -5.5625 L 2.609375 -9.203125 L 5.375 -9.203125 C 6.640625 -9.203125 7.390625 -8.515625 7.390625 -7.375 C 7.390625 -6.234375 6.640625 -5.5625 5.375 -5.5625 Z \"/>\n",
       "</symbol>\n",
       "<symbol overflow=\"visible\" id=\"glyph0-14\">\n",
       "<path style=\"stroke:none;\" d=\"M 9.1875 -10.359375 L 7.9375 -10.359375 L 7.9375 -1.890625 L 2.515625 -10.359375 L 1.078125 -10.359375 L 1.078125 0 L 2.328125 0 L 2.328125 -8.40625 L 7.6875 0 L 9.1875 0 Z \"/>\n",
       "</symbol>\n",
       "<symbol overflow=\"visible\" id=\"glyph0-15\">\n",
       "<path style=\"stroke:none;\" d=\"M 6.734375 -3.109375 L 7.8125 0 L 9.28125 0 L 5.640625 -10.359375 L 3.9375 -10.359375 L 0.234375 0 L 1.65625 0 L 2.75 -3.109375 Z M 6.375 -4.21875 L 3.078125 -4.21875 L 4.78125 -8.9375 Z \"/>\n",
       "</symbol>\n",
       "<symbol overflow=\"visible\" id=\"glyph0-16\">\n",
       "<path style=\"stroke:none;\" d=\"M 5.03125 -9.203125 L 8.4375 -9.203125 L 8.4375 -10.359375 L 0.296875 -10.359375 L 0.296875 -9.203125 L 3.71875 -9.203125 L 3.71875 0 L 5.03125 0 Z \"/>\n",
       "</symbol>\n",
       "<symbol overflow=\"visible\" id=\"glyph0-17\">\n",
       "<path style=\"stroke:none;\" d=\"M 7.609375 -0.703125 C 7.484375 -0.671875 7.421875 -0.671875 7.34375 -0.671875 C 6.9375 -0.671875 6.71875 -0.875 6.71875 -1.25 L 6.71875 -5.625 C 6.71875 -6.953125 5.75 -7.65625 3.90625 -7.65625 C 2.828125 -7.65625 1.9375 -7.34375 1.4375 -6.796875 C 1.09375 -6.40625 0.953125 -5.984375 0.921875 -5.25 L 2.125 -5.25 C 2.21875 -6.15625 2.765625 -6.5625 3.875 -6.5625 C 4.9375 -6.5625 5.53125 -6.171875 5.53125 -5.453125 L 5.53125 -5.140625 C 5.53125 -4.65625 5.234375 -4.4375 4.296875 -4.328125 C 2.609375 -4.109375 2.359375 -4.046875 1.90625 -3.875 C 1.03125 -3.515625 0.59375 -2.84375 0.59375 -1.875 C 0.59375 -0.53125 1.53125 0.328125 3.046875 0.328125 C 3.984375 0.328125 4.734375 0 5.578125 -0.765625 C 5.65625 -0.015625 6.03125 0.328125 6.796875 0.328125 C 7.03125 0.328125 7.21875 0.296875 7.609375 0.203125 Z M 5.53125 -2.34375 C 5.53125 -1.953125 5.421875 -1.703125 5.0625 -1.375 C 4.578125 -0.9375 4 -0.71875 3.296875 -0.71875 C 2.375 -0.71875 1.828125 -1.15625 1.828125 -1.90625 C 1.828125 -2.6875 2.359375 -3.078125 3.625 -3.265625 C 4.875 -3.4375 5.140625 -3.5 5.53125 -3.6875 Z \"/>\n",
       "</symbol>\n",
       "<symbol overflow=\"visible\" id=\"glyph1-0\">\n",
       "<path style=\"stroke:none;\" d=\"\"/>\n",
       "</symbol>\n",
       "<symbol overflow=\"visible\" id=\"glyph1-1\">\n",
       "<path style=\"stroke:none;\" d=\"M 6.5625 -5.671875 C 6.546875 -7.234375 5.46875 -8.15625 3.625 -8.15625 C 1.859375 -8.15625 0.765625 -7.25 0.765625 -5.796875 C 0.765625 -4.8125 1.28125 -4.203125 2.34375 -3.921875 L 4.328125 -3.40625 C 5.34375 -3.140625 5.8125 -2.734375 5.8125 -2.09375 C 5.8125 -1.671875 5.578125 -1.234375 5.234375 -0.984375 C 4.921875 -0.765625 4.40625 -0.65625 3.765625 -0.65625 C 2.890625 -0.65625 2.296875 -0.859375 1.90625 -1.3125 C 1.609375 -1.671875 1.484375 -2.0625 1.5 -2.546875 L 0.53125 -2.546875 C 0.53125 -1.8125 0.6875 -1.328125 1 -0.890625 C 1.546875 -0.140625 2.46875 0.25 3.703125 0.25 C 4.65625 0.25 5.4375 0.03125 5.953125 -0.359375 C 6.484375 -0.796875 6.828125 -1.5 6.828125 -2.203125 C 6.828125 -3.1875 6.21875 -3.921875 5.125 -4.21875 L 3.109375 -4.75 C 2.140625 -5.015625 1.796875 -5.328125 1.796875 -5.9375 C 1.796875 -6.75 2.515625 -7.296875 3.59375 -7.296875 C 4.859375 -7.296875 5.578125 -6.703125 5.59375 -5.671875 Z \"/>\n",
       "</symbol>\n",
       "<symbol overflow=\"visible\" id=\"glyph1-2\">\n",
       "<path style=\"stroke:none;\" d=\"M 6.09375 0 L 7.78125 -5.765625 L 6.75 -5.765625 L 5.609375 -1.28125 L 4.484375 -5.765625 L 3.359375 -5.765625 L 2.25 -1.28125 L 1.078125 -5.765625 L 0.0625 -5.765625 L 1.734375 0 L 2.765625 0 L 3.890625 -4.515625 L 5.046875 0 Z \"/>\n",
       "</symbol>\n",
       "<symbol overflow=\"visible\" id=\"glyph1-3\">\n",
       "<path style=\"stroke:none;\" d=\"M 1.65625 -5.765625 L 0.734375 -5.765625 L 0.734375 0 L 1.65625 0 Z M 1.65625 -8.015625 L 0.71875 -8.015625 L 0.71875 -6.859375 L 1.65625 -6.859375 Z \"/>\n",
       "</symbol>\n",
       "<symbol overflow=\"visible\" id=\"glyph1-4\">\n",
       "<path style=\"stroke:none;\" d=\"M 2.796875 -5.765625 L 1.84375 -5.765625 L 1.84375 -7.34375 L 0.9375 -7.34375 L 0.9375 -5.765625 L 0.15625 -5.765625 L 0.15625 -5.015625 L 0.9375 -5.015625 L 0.9375 -0.65625 C 0.9375 -0.078125 1.328125 0.25 2.046875 0.25 C 2.265625 0.25 2.484375 0.234375 2.796875 0.171875 L 2.796875 -0.59375 C 2.671875 -0.5625 2.53125 -0.546875 2.359375 -0.546875 C 1.953125 -0.546875 1.84375 -0.65625 1.84375 -1.0625 L 1.84375 -5.015625 L 2.796875 -5.015625 Z \"/>\n",
       "</symbol>\n",
       "<symbol overflow=\"visible\" id=\"glyph1-5\">\n",
       "<path style=\"stroke:none;\" d=\"M 5.1875 -3.828125 C 5.140625 -4.390625 5.015625 -4.75 4.796875 -5.078125 C 4.40625 -5.609375 3.703125 -5.921875 2.90625 -5.921875 C 1.359375 -5.921875 0.34375 -4.703125 0.34375 -2.78125 C 0.34375 -0.921875 1.328125 0.25 2.890625 0.25 C 4.265625 0.25 5.140625 -0.578125 5.25 -1.984375 L 4.328125 -1.984375 C 4.171875 -1.0625 3.703125 -0.59375 2.921875 -0.59375 C 1.90625 -0.59375 1.296875 -1.421875 1.296875 -2.78125 C 1.296875 -4.21875 1.890625 -5.078125 2.890625 -5.078125 C 3.65625 -5.078125 4.140625 -4.625 4.25 -3.828125 Z \"/>\n",
       "</symbol>\n",
       "<symbol overflow=\"visible\" id=\"glyph1-6\">\n",
       "<path style=\"stroke:none;\" d=\"M 0.765625 -8.015625 L 0.765625 0 L 1.6875 0 L 1.6875 -3.171875 C 1.6875 -4.359375 2.296875 -5.125 3.25 -5.125 C 3.546875 -5.125 3.84375 -5.03125 4.0625 -4.859375 C 4.328125 -4.671875 4.4375 -4.40625 4.4375 -4 L 4.4375 0 L 5.34375 0 L 5.34375 -4.359375 C 5.34375 -5.328125 4.65625 -5.921875 3.53125 -5.921875 C 2.71875 -5.921875 2.21875 -5.671875 1.6875 -4.96875 L 1.6875 -8.015625 Z \"/>\n",
       "</symbol>\n",
       "<symbol overflow=\"visible\" id=\"glyph1-7\">\n",
       "<path style=\"stroke:none;\" d=\"M 5.640625 -2.578125 C 5.640625 -3.453125 5.578125 -3.984375 5.40625 -4.40625 C 5.03125 -5.359375 4.15625 -5.921875 3.078125 -5.921875 C 1.46875 -5.921875 0.4375 -4.703125 0.4375 -2.8125 C 0.4375 -0.90625 1.4375 0.25 3.0625 0.25 C 4.375 0.25 5.296875 -0.5 5.515625 -1.75 L 4.59375 -1.75 C 4.34375 -0.984375 3.828125 -0.59375 3.09375 -0.59375 C 2.515625 -0.59375 2.015625 -0.859375 1.703125 -1.34375 C 1.484375 -1.671875 1.40625 -2 1.390625 -2.578125 Z M 1.421875 -3.328125 C 1.5 -4.390625 2.140625 -5.078125 3.0625 -5.078125 C 3.96875 -5.078125 4.65625 -4.328125 4.65625 -3.390625 C 4.65625 -3.359375 4.65625 -3.34375 4.65625 -3.328125 Z \"/>\n",
       "</symbol>\n",
       "<symbol overflow=\"visible\" id=\"glyph1-8\">\n",
       "<path style=\"stroke:none;\" d=\"M 5.4375 -8.015625 L 4.53125 -8.015625 L 4.53125 -5.03125 C 4.140625 -5.625 3.53125 -5.921875 2.765625 -5.921875 C 1.265625 -5.921875 0.28125 -4.734375 0.28125 -2.890625 C 0.28125 -0.953125 1.25 0.25 2.796875 0.25 C 3.59375 0.25 4.140625 -0.046875 4.625 -0.765625 L 4.625 0 L 5.4375 0 Z M 2.921875 -5.078125 C 3.90625 -5.078125 4.53125 -4.1875 4.53125 -2.8125 C 4.53125 -1.484375 3.890625 -0.609375 2.921875 -0.609375 C 1.90625 -0.609375 1.25 -1.5 1.25 -2.84375 C 1.25 -4.1875 1.90625 -5.078125 2.921875 -5.078125 Z \"/>\n",
       "</symbol>\n",
       "<symbol overflow=\"visible\" id=\"glyph1-9\">\n",
       "<path style=\"stroke:none;\" d=\"M 2.015625 -3.65625 L 6.375 -3.65625 L 6.375 -4.546875 L 2.015625 -4.546875 L 2.015625 -7.109375 L 6.546875 -7.109375 L 6.546875 -8.015625 L 0.984375 -8.015625 L 0.984375 0 L 6.75 0 L 6.75 -0.90625 L 2.015625 -0.90625 Z \"/>\n",
       "</symbol>\n",
       "<symbol overflow=\"visible\" id=\"glyph1-10\">\n",
       "<path style=\"stroke:none;\" d=\"M 2.84375 -5.765625 L 1.875 -5.765625 L 1.875 -6.671875 C 1.875 -7.046875 2.09375 -7.25 2.515625 -7.25 C 2.59375 -7.25 2.625 -7.25 2.84375 -7.234375 L 2.84375 -8 C 2.625 -8.046875 2.515625 -8.046875 2.328125 -8.046875 C 1.46875 -8.046875 0.96875 -7.5625 0.96875 -6.75 L 0.96875 -5.765625 L 0.203125 -5.765625 L 0.203125 -5.015625 L 0.96875 -5.015625 L 0.96875 0 L 1.875 0 L 1.875 -5.015625 L 2.84375 -5.015625 Z \"/>\n",
       "</symbol>\n",
       "<symbol overflow=\"visible\" id=\"glyph1-11\">\n",
       "<path style=\"stroke:none;\" d=\"M 7.28125 -5.53125 C 6.96875 -7.296875 5.953125 -8.15625 4.1875 -8.15625 C 3.109375 -8.15625 2.25 -7.8125 1.65625 -7.15625 C 0.921875 -6.359375 0.53125 -5.21875 0.53125 -3.921875 C 0.53125 -2.59375 0.9375 -1.46875 1.6875 -0.6875 C 2.3125 -0.046875 3.109375 0.25 4.140625 0.25 C 6.109375 0.25 7.203125 -0.796875 7.453125 -2.921875 L 6.390625 -2.921875 C 6.296875 -2.375 6.1875 -2 6.03125 -1.6875 C 5.703125 -1.015625 5.015625 -0.65625 4.15625 -0.65625 C 2.5625 -0.65625 1.546875 -1.921875 1.546875 -3.921875 C 1.546875 -5.984375 2.515625 -7.25 4.0625 -7.25 C 4.71875 -7.25 5.328125 -7.046875 5.65625 -6.75 C 5.953125 -6.46875 6.109375 -6.125 6.234375 -5.53125 Z \"/>\n",
       "</symbol>\n",
       "<symbol overflow=\"visible\" id=\"glyph1-12\">\n",
       "<path style=\"stroke:none;\" d=\"M 2.984375 -5.921875 C 1.375 -5.921875 0.390625 -4.78125 0.390625 -2.84375 C 0.390625 -0.90625 1.359375 0.25 3 0.25 C 4.625 0.25 5.609375 -0.90625 5.609375 -2.796875 C 5.609375 -4.78125 4.65625 -5.921875 2.984375 -5.921875 Z M 3 -5.078125 C 4.03125 -5.078125 4.65625 -4.234375 4.65625 -2.8125 C 4.65625 -1.453125 4.015625 -0.59375 3 -0.59375 C 1.984375 -0.59375 1.359375 -1.4375 1.359375 -2.84375 C 1.359375 -4.21875 1.984375 -5.078125 3 -5.078125 Z \"/>\n",
       "</symbol>\n",
       "<symbol overflow=\"visible\" id=\"glyph1-13\">\n",
       "<path style=\"stroke:none;\" d=\"M 0.765625 -5.765625 L 0.765625 0 L 1.6875 0 L 1.6875 -3.171875 C 1.6875 -4.359375 2.3125 -5.125 3.25 -5.125 C 3.984375 -5.125 4.4375 -4.6875 4.4375 -4 L 4.4375 0 L 5.359375 0 L 5.359375 -4.359375 C 5.359375 -5.3125 4.640625 -5.921875 3.53125 -5.921875 C 2.671875 -5.921875 2.125 -5.59375 1.609375 -4.796875 L 1.609375 -5.765625 Z \"/>\n",
       "</symbol>\n",
       "<symbol overflow=\"visible\" id=\"glyph1-14\">\n",
       "<path style=\"stroke:none;\" d=\"M 4.8125 -4.15625 C 4.8125 -5.296875 4.0625 -5.921875 2.734375 -5.921875 C 1.390625 -5.921875 0.515625 -5.234375 0.515625 -4.171875 C 0.515625 -3.265625 0.984375 -2.84375 2.34375 -2.515625 L 3.203125 -2.296875 C 3.84375 -2.140625 4.09375 -1.90625 4.09375 -1.5 C 4.09375 -0.953125 3.546875 -0.59375 2.75 -0.59375 C 2.25 -0.59375 1.84375 -0.734375 1.609375 -0.984375 C 1.46875 -1.140625 1.390625 -1.3125 1.34375 -1.71875 L 0.375 -1.71875 C 0.421875 -0.390625 1.171875 0.25 2.671875 0.25 C 4.125 0.25 5.046875 -0.46875 5.046875 -1.578125 C 5.046875 -2.4375 4.5625 -2.90625 3.421875 -3.171875 L 2.546875 -3.390625 C 1.796875 -3.5625 1.46875 -3.8125 1.46875 -4.21875 C 1.46875 -4.734375 1.953125 -5.078125 2.6875 -5.078125 C 3.4375 -5.078125 3.828125 -4.765625 3.84375 -4.15625 Z \"/>\n",
       "</symbol>\n",
       "<symbol overflow=\"visible\" id=\"glyph1-15\">\n",
       "<path style=\"stroke:none;\" d=\"M 5.296875 0 L 5.296875 -5.765625 L 4.390625 -5.765625 L 4.390625 -2.5 C 4.390625 -1.3125 3.765625 -0.546875 2.8125 -0.546875 C 2.09375 -0.546875 1.625 -0.984375 1.625 -1.6875 L 1.625 -5.765625 L 0.71875 -5.765625 L 0.71875 -1.3125 C 0.71875 -0.359375 1.4375 0.25 2.546875 0.25 C 3.40625 0.25 3.9375 -0.046875 4.484375 -0.796875 L 4.484375 0 Z \"/>\n",
       "</symbol>\n",
       "<symbol overflow=\"visible\" id=\"glyph1-16\">\n",
       "<path style=\"stroke:none;\" d=\"M 7.796875 -4.234375 L 4.453125 -4.234375 L 4.453125 -3.328125 L 6.890625 -3.328125 L 6.890625 -3.109375 C 6.890625 -1.6875 5.84375 -0.65625 4.375 -0.65625 C 3.5625 -0.65625 2.828125 -0.953125 2.359375 -1.46875 C 1.828125 -2.03125 1.5 -2.984375 1.5 -3.984375 C 1.5 -5.953125 2.625 -7.25 4.328125 -7.25 C 5.546875 -7.25 6.421875 -6.625 6.640625 -5.59375 L 7.6875 -5.59375 C 7.40625 -7.21875 6.171875 -8.15625 4.328125 -8.15625 C 3.359375 -8.15625 2.5625 -7.890625 1.9375 -7.375 C 1.015625 -6.609375 0.484375 -5.375 0.484375 -3.921875 C 0.484375 -1.46875 1.984375 0.25 4.15625 0.25 C 5.25 0.25 6.109375 -0.15625 6.890625 -1.015625 L 7.15625 0.046875 L 7.796875 0.046875 Z \"/>\n",
       "</symbol>\n",
       "<symbol overflow=\"visible\" id=\"glyph2-0\">\n",
       "<path style=\"stroke:none;\" d=\"\"/>\n",
       "</symbol>\n",
       "<symbol overflow=\"visible\" id=\"glyph2-1\">\n",
       "<path style=\"stroke:none;\" d=\"M 5.6875 -6.40625 L 4.90625 -6.40625 L 4.90625 -1.171875 L 1.5625 -6.40625 L 0.671875 -6.40625 L 0.671875 0 L 1.4375 0 L 1.4375 -5.203125 L 4.765625 0 L 5.6875 0 Z \"/>\n",
       "</symbol>\n",
       "<symbol overflow=\"visible\" id=\"glyph2-2\">\n",
       "<path style=\"stroke:none;\" d=\"M 2.390625 -4.734375 C 1.09375 -4.734375 0.3125 -3.8125 0.3125 -2.265625 C 0.3125 -0.71875 1.09375 0.203125 2.40625 0.203125 C 3.6875 0.203125 4.484375 -0.71875 4.484375 -2.234375 C 4.484375 -3.828125 3.71875 -4.734375 2.390625 -4.734375 Z M 2.40625 -4.0625 C 3.234375 -4.0625 3.71875 -3.390625 3.71875 -2.25 C 3.71875 -1.15625 3.203125 -0.46875 2.40625 -0.46875 C 1.578125 -0.46875 1.078125 -1.15625 1.078125 -2.265625 C 1.078125 -3.375 1.578125 -4.0625 2.40625 -4.0625 Z \"/>\n",
       "</symbol>\n",
       "<symbol overflow=\"visible\" id=\"glyph2-3\">\n",
       "<path style=\"stroke:none;\" d=\"M 0.609375 -4.609375 L 0.609375 0 L 1.359375 0 L 1.359375 -2.546875 C 1.359375 -3.484375 1.84375 -4.09375 2.609375 -4.09375 C 3.1875 -4.09375 3.546875 -3.75 3.546875 -3.1875 L 3.546875 0 L 4.28125 0 L 4.28125 -3.484375 C 4.28125 -4.25 3.71875 -4.734375 2.828125 -4.734375 C 2.140625 -4.734375 1.703125 -4.484375 1.296875 -3.828125 L 1.296875 -4.609375 Z \"/>\n",
       "</symbol>\n",
       "<symbol overflow=\"visible\" id=\"glyph2-4\">\n",
       "<path style=\"stroke:none;\" d=\"M 2.5 -2.75 L 0.40625 -2.75 L 0.40625 -2.109375 L 2.5 -2.109375 Z \"/>\n",
       "</symbol>\n",
       "<symbol overflow=\"visible\" id=\"glyph2-5\">\n",
       "<path style=\"stroke:none;\" d=\"M 3.859375 -3.328125 C 3.84375 -4.234375 3.25 -4.734375 2.1875 -4.734375 C 1.109375 -4.734375 0.40625 -4.1875 0.40625 -3.328125 C 0.40625 -2.609375 0.78125 -2.265625 1.875 -2 L 2.5625 -1.84375 C 3.0625 -1.71875 3.265625 -1.53125 3.265625 -1.203125 C 3.265625 -0.765625 2.84375 -0.46875 2.203125 -0.46875 C 1.796875 -0.46875 1.46875 -0.59375 1.28125 -0.78125 C 1.171875 -0.921875 1.125 -1.046875 1.078125 -1.375 L 0.296875 -1.375 C 0.328125 -0.3125 0.9375 0.203125 2.140625 0.203125 C 3.296875 0.203125 4.03125 -0.375 4.03125 -1.265625 C 4.03125 -1.9375 3.65625 -2.328125 2.734375 -2.546875 L 2.03125 -2.703125 C 1.4375 -2.84375 1.171875 -3.046875 1.171875 -3.375 C 1.171875 -3.796875 1.5625 -4.0625 2.15625 -4.0625 C 2.75 -4.0625 3.0625 -3.8125 3.078125 -3.328125 Z \"/>\n",
       "</symbol>\n",
       "<symbol overflow=\"visible\" id=\"glyph2-6\">\n",
       "<path style=\"stroke:none;\" d=\"M 4.875 0 L 6.234375 -4.609375 L 5.40625 -4.609375 L 4.484375 -1.015625 L 3.578125 -4.609375 L 2.6875 -4.609375 L 1.796875 -1.015625 L 0.859375 -4.609375 L 0.046875 -4.609375 L 1.390625 0 L 2.21875 0 L 3.109375 -3.609375 L 4.03125 0 Z \"/>\n",
       "</symbol>\n",
       "<symbol overflow=\"visible\" id=\"glyph2-7\">\n",
       "<path style=\"stroke:none;\" d=\"M 1.3125 -4.609375 L 0.59375 -4.609375 L 0.59375 0 L 1.3125 0 Z M 1.3125 -6.40625 L 0.578125 -6.40625 L 0.578125 -5.484375 L 1.3125 -5.484375 Z \"/>\n",
       "</symbol>\n",
       "<symbol overflow=\"visible\" id=\"glyph2-8\">\n",
       "<path style=\"stroke:none;\" d=\"M 2.234375 -4.609375 L 1.484375 -4.609375 L 1.484375 -5.875 L 0.75 -5.875 L 0.75 -4.609375 L 0.125 -4.609375 L 0.125 -4.015625 L 0.75 -4.015625 L 0.75 -0.53125 C 0.75 -0.0625 1.0625 0.203125 1.640625 0.203125 C 1.8125 0.203125 1.984375 0.1875 2.234375 0.140625 L 2.234375 -0.46875 C 2.140625 -0.453125 2.015625 -0.4375 1.875 -0.4375 C 1.5625 -0.4375 1.484375 -0.53125 1.484375 -0.859375 L 1.484375 -4.015625 L 2.234375 -4.015625 Z \"/>\n",
       "</symbol>\n",
       "<symbol overflow=\"visible\" id=\"glyph2-9\">\n",
       "<path style=\"stroke:none;\" d=\"M 4.140625 -3.0625 C 4.109375 -3.515625 4.015625 -3.796875 3.828125 -4.0625 C 3.515625 -4.484375 2.96875 -4.734375 2.328125 -4.734375 C 1.078125 -4.734375 0.265625 -3.75 0.265625 -2.21875 C 0.265625 -0.734375 1.0625 0.203125 2.3125 0.203125 C 3.40625 0.203125 4.109375 -0.453125 4.203125 -1.578125 L 3.453125 -1.578125 C 3.328125 -0.84375 2.953125 -0.46875 2.328125 -0.46875 C 1.515625 -0.46875 1.03125 -1.140625 1.03125 -2.21875 C 1.03125 -3.375 1.515625 -4.0625 2.3125 -4.0625 C 2.921875 -4.0625 3.3125 -3.703125 3.40625 -3.0625 Z \"/>\n",
       "</symbol>\n",
       "<symbol overflow=\"visible\" id=\"glyph2-10\">\n",
       "<path style=\"stroke:none;\" d=\"M 0.609375 -6.40625 L 0.609375 0 L 1.34375 0 L 1.34375 -2.546875 C 1.34375 -3.484375 1.84375 -4.09375 2.59375 -4.09375 C 2.828125 -4.09375 3.0625 -4.015625 3.25 -3.890625 C 3.453125 -3.734375 3.546875 -3.515625 3.546875 -3.1875 L 3.546875 0 L 4.28125 0 L 4.28125 -3.484375 C 4.28125 -4.25 3.71875 -4.734375 2.828125 -4.734375 C 2.171875 -4.734375 1.78125 -4.546875 1.34375 -3.96875 L 1.34375 -6.40625 Z \"/>\n",
       "</symbol>\n",
       "<symbol overflow=\"visible\" id=\"glyph2-11\">\n",
       "<path style=\"stroke:none;\" d=\"M 4.515625 -2.0625 C 4.515625 -2.765625 4.453125 -3.1875 4.328125 -3.53125 C 4.03125 -4.28125 3.328125 -4.734375 2.46875 -4.734375 C 1.171875 -4.734375 0.359375 -3.75 0.359375 -2.25 C 0.359375 -0.734375 1.15625 0.203125 2.453125 0.203125 C 3.5 0.203125 4.234375 -0.390625 4.421875 -1.40625 L 3.671875 -1.40625 C 3.46875 -0.796875 3.0625 -0.46875 2.46875 -0.46875 C 2 -0.46875 1.609375 -0.6875 1.359375 -1.078125 C 1.1875 -1.34375 1.125 -1.59375 1.125 -2.0625 Z M 1.140625 -2.65625 C 1.203125 -3.515625 1.71875 -4.0625 2.453125 -4.0625 C 3.171875 -4.0625 3.734375 -3.46875 3.734375 -2.703125 C 3.734375 -2.6875 3.734375 -2.671875 3.71875 -2.65625 Z \"/>\n",
       "</symbol>\n",
       "<symbol overflow=\"visible\" id=\"glyph2-12\">\n",
       "<path style=\"stroke:none;\" d=\"M 4.359375 -6.40625 L 3.625 -6.40625 L 3.625 -4.03125 C 3.3125 -4.5 2.828125 -4.734375 2.203125 -4.734375 C 1.015625 -4.734375 0.234375 -3.78125 0.234375 -2.3125 C 0.234375 -0.75 1 0.203125 2.234375 0.203125 C 2.875 0.203125 3.3125 -0.03125 3.703125 -0.609375 L 3.703125 0 L 4.359375 0 Z M 2.328125 -4.0625 C 3.125 -4.0625 3.625 -3.359375 3.625 -2.25 C 3.625 -1.1875 3.109375 -0.484375 2.34375 -0.484375 C 1.53125 -0.484375 1 -1.203125 1 -2.265625 C 1 -3.34375 1.53125 -4.0625 2.328125 -4.0625 Z \"/>\n",
       "</symbol>\n",
       "<symbol overflow=\"visible\" id=\"glyph2-13\">\n",
       "<path style=\"stroke:none;\" d=\"M 5.25 -4.53125 C 5.234375 -5.78125 4.375 -6.515625 2.890625 -6.515625 C 1.484375 -6.515625 0.609375 -5.796875 0.609375 -4.640625 C 0.609375 -3.859375 1.03125 -3.359375 1.875 -3.140625 L 3.46875 -2.71875 C 4.28125 -2.5 4.640625 -2.1875 4.640625 -1.6875 C 4.640625 -1.34375 4.453125 -0.984375 4.1875 -0.796875 C 3.9375 -0.609375 3.53125 -0.515625 3.015625 -0.515625 C 2.3125 -0.515625 1.84375 -0.6875 1.53125 -1.0625 C 1.296875 -1.34375 1.1875 -1.640625 1.203125 -2.046875 L 0.421875 -2.046875 C 0.4375 -1.453125 0.546875 -1.0625 0.796875 -0.71875 C 1.234375 -0.109375 1.984375 0.203125 2.953125 0.203125 C 3.71875 0.203125 4.34375 0.03125 4.765625 -0.296875 C 5.1875 -0.640625 5.46875 -1.203125 5.46875 -1.765625 C 5.46875 -2.546875 4.96875 -3.125 4.09375 -3.375 L 2.484375 -3.796875 C 1.71875 -4.015625 1.4375 -4.25 1.4375 -4.75 C 1.4375 -5.40625 2 -5.828125 2.875 -5.828125 C 3.890625 -5.828125 4.453125 -5.359375 4.46875 -4.53125 Z \"/>\n",
       "</symbol>\n",
       "<symbol overflow=\"visible\" id=\"glyph2-14\">\n",
       "<path style=\"stroke:none;\" d=\"M 6.234375 -3.390625 L 3.5625 -3.390625 L 3.5625 -2.671875 L 5.515625 -2.671875 L 5.515625 -2.484375 C 5.515625 -1.34375 4.671875 -0.515625 3.5 -0.515625 C 2.84375 -0.515625 2.265625 -0.75 1.875 -1.171875 C 1.453125 -1.625 1.203125 -2.390625 1.203125 -3.1875 C 1.203125 -4.765625 2.109375 -5.796875 3.453125 -5.796875 C 4.4375 -5.796875 5.140625 -5.296875 5.3125 -4.46875 L 6.15625 -4.46875 C 5.921875 -5.765625 4.9375 -6.515625 3.46875 -6.515625 C 2.6875 -6.515625 2.046875 -6.3125 1.546875 -5.90625 C 0.8125 -5.28125 0.390625 -4.296875 0.390625 -3.140625 C 0.390625 -1.171875 1.59375 0.203125 3.328125 0.203125 C 4.203125 0.203125 4.890625 -0.125 5.515625 -0.8125 L 5.71875 0.03125 L 6.234375 0.03125 Z \"/>\n",
       "</symbol>\n",
       "<symbol overflow=\"visible\" id=\"glyph2-15\">\n",
       "<path style=\"stroke:none;\" d=\"M 4.703125 -0.4375 C 4.625 -0.40625 4.59375 -0.40625 4.546875 -0.40625 C 4.296875 -0.40625 4.15625 -0.546875 4.15625 -0.78125 L 4.15625 -3.484375 C 4.15625 -4.296875 3.546875 -4.734375 2.421875 -4.734375 C 1.75 -4.734375 1.203125 -4.546875 0.890625 -4.203125 C 0.671875 -3.96875 0.59375 -3.703125 0.578125 -3.25 L 1.3125 -3.25 C 1.375 -3.8125 1.703125 -4.0625 2.390625 -4.0625 C 3.046875 -4.0625 3.421875 -3.8125 3.421875 -3.375 L 3.421875 -3.1875 C 3.421875 -2.875 3.234375 -2.75 2.65625 -2.671875 C 1.625 -2.546875 1.453125 -2.5 1.171875 -2.390625 C 0.640625 -2.171875 0.375 -1.765625 0.375 -1.15625 C 0.375 -0.328125 0.953125 0.203125 1.875 0.203125 C 2.46875 0.203125 2.921875 0 3.453125 -0.46875 C 3.5 -0.015625 3.734375 0.203125 4.203125 0.203125 C 4.359375 0.203125 4.46875 0.1875 4.703125 0.125 Z M 3.421875 -1.453125 C 3.421875 -1.203125 3.359375 -1.0625 3.125 -0.859375 C 2.828125 -0.578125 2.46875 -0.4375 2.046875 -0.4375 C 1.46875 -0.4375 1.140625 -0.71875 1.140625 -1.171875 C 1.140625 -1.65625 1.453125 -1.90625 2.25 -2.015625 C 3.015625 -2.125 3.171875 -2.15625 3.421875 -2.28125 Z \"/>\n",
       "</symbol>\n",
       "<symbol overflow=\"visible\" id=\"glyph2-16\">\n",
       "<path style=\"stroke:none;\" d=\"M 1.515625 -6.40625 L 0.703125 -6.40625 L 0.703125 0 L 4.6875 0 L 4.6875 -0.71875 L 1.515625 -0.71875 Z \"/>\n",
       "</symbol>\n",
       "<symbol overflow=\"visible\" id=\"glyph2-17\">\n",
       "<path style=\"stroke:none;\" d=\"M 3.40625 -2.515625 L 5.8125 -6.40625 L 4.84375 -6.40625 L 3.015625 -3.296875 L 1.125 -6.40625 L 0.109375 -6.40625 L 2.59375 -2.515625 L 2.59375 0 L 3.40625 0 Z \"/>\n",
       "</symbol>\n",
       "<symbol overflow=\"visible\" id=\"glyph2-18\">\n",
       "<path style=\"stroke:none;\" d=\"M 0.78125 0 L 3.25 0 C 4.875 0 5.875 -1.21875 5.875 -3.203125 C 5.875 -5.203125 4.875 -6.40625 3.25 -6.40625 L 0.78125 -6.40625 Z M 1.59375 -0.71875 L 1.59375 -5.6875 L 3.109375 -5.6875 C 4.375 -5.6875 5.046875 -4.84375 5.046875 -3.203125 C 5.046875 -1.578125 4.375 -0.71875 3.109375 -0.71875 Z \"/>\n",
       "</symbol>\n",
       "<symbol overflow=\"visible\" id=\"glyph2-19\">\n",
       "<path style=\"stroke:none;\" d=\"M 0.609375 -4.609375 L 0.609375 0 L 1.34375 0 L 1.34375 -2.390625 C 1.34375 -3.046875 1.515625 -3.484375 1.859375 -3.734375 C 2.09375 -3.90625 2.3125 -3.953125 2.828125 -3.96875 L 2.828125 -4.71875 C 2.703125 -4.734375 2.640625 -4.734375 2.546875 -4.734375 C 2.0625 -4.734375 1.703125 -4.453125 1.28125 -3.78125 L 1.28125 -4.609375 Z \"/>\n",
       "</symbol>\n",
       "<symbol overflow=\"visible\" id=\"glyph2-20\">\n",
       "<path style=\"stroke:none;\" d=\"M 2.5 0 L 4.28125 -4.609375 L 3.453125 -4.609375 L 2.140625 -0.875 L 0.921875 -4.609375 L 0.09375 -4.609375 L 1.703125 0 Z \"/>\n",
       "</symbol>\n",
       "</g>\n",
       "<clipPath id=\"clip1\">\n",
       "  <path d=\"M 8.21875 5.480469 L 499 5.480469 L 499 359 L 8.21875 359 Z \"/>\n",
       "</clipPath>\n",
       "<clipPath id=\"clip2\">\n",
       "  <path d=\"M 8.21875 302 L 499 302 L 499 303 L 8.21875 303 Z \"/>\n",
       "</clipPath>\n",
       "<clipPath id=\"clip3\">\n",
       "  <path d=\"M 8.21875 221 L 499 221 L 499 223 L 8.21875 223 Z \"/>\n",
       "</clipPath>\n",
       "<clipPath id=\"clip4\">\n",
       "  <path d=\"M 8.21875 141 L 499 141 L 499 143 L 8.21875 143 Z \"/>\n",
       "</clipPath>\n",
       "<clipPath id=\"clip5\">\n",
       "  <path d=\"M 8.21875 61 L 499 61 L 499 62 L 8.21875 62 Z \"/>\n",
       "</clipPath>\n",
       "<clipPath id=\"clip6\">\n",
       "  <path d=\"M 141 5.480469 L 143 5.480469 L 143 359 L 141 359 Z \"/>\n",
       "</clipPath>\n",
       "<clipPath id=\"clip7\">\n",
       "  <path d=\"M 290 5.480469 L 291 5.480469 L 291 359 L 290 359 Z \"/>\n",
       "</clipPath>\n",
       "<clipPath id=\"clip8\">\n",
       "  <path d=\"M 438 5.480469 L 440 5.480469 L 440 359 L 438 359 Z \"/>\n",
       "</clipPath>\n",
       "<clipPath id=\"clip9\">\n",
       "  <path d=\"M 8.21875 342 L 499.519531 342 L 499.519531 344 L 8.21875 344 Z \"/>\n",
       "</clipPath>\n",
       "<clipPath id=\"clip10\">\n",
       "  <path d=\"M 8.21875 261 L 499.519531 261 L 499.519531 263 L 8.21875 263 Z \"/>\n",
       "</clipPath>\n",
       "<clipPath id=\"clip11\">\n",
       "  <path d=\"M 8.21875 181 L 499.519531 181 L 499.519531 183 L 8.21875 183 Z \"/>\n",
       "</clipPath>\n",
       "<clipPath id=\"clip12\">\n",
       "  <path d=\"M 8.21875 101 L 499.519531 101 L 499.519531 103 L 8.21875 103 Z \"/>\n",
       "</clipPath>\n",
       "<clipPath id=\"clip13\">\n",
       "  <path d=\"M 8.21875 20 L 499.519531 20 L 499.519531 23 L 8.21875 23 Z \"/>\n",
       "</clipPath>\n",
       "<clipPath id=\"clip14\">\n",
       "  <path d=\"M 67 5.480469 L 69 5.480469 L 69 359.628906 L 67 359.628906 Z \"/>\n",
       "</clipPath>\n",
       "<clipPath id=\"clip15\">\n",
       "  <path d=\"M 215 5.480469 L 217 5.480469 L 217 359.628906 L 215 359.628906 Z \"/>\n",
       "</clipPath>\n",
       "<clipPath id=\"clip16\">\n",
       "  <path d=\"M 364 5.480469 L 366 5.480469 L 366 359.628906 L 364 359.628906 Z \"/>\n",
       "</clipPath>\n",
       "</defs>\n",
       "<g id=\"surface79\">\n",
       "<rect x=\"0\" y=\"0\" width=\"504\" height=\"504\" style=\"fill:rgb(100%,100%,100%);fill-opacity:1;stroke:none;\"/>\n",
       "<rect x=\"0\" y=\"0\" width=\"504\" height=\"504\" style=\"fill:rgb(100%,100%,100%);fill-opacity:1;stroke:none;\"/>\n",
       "<path style=\"fill:none;stroke-width:1.066978;stroke-linecap:round;stroke-linejoin:round;stroke:rgb(100%,100%,100%);stroke-opacity:1;stroke-miterlimit:10;\" d=\"M 0 504 L 504 504 L 504 0 L 0 0 Z \"/>\n",
       "<g clip-path=\"url(#clip1)\" clip-rule=\"nonzero\">\n",
       "<path style=\" stroke:none;fill-rule:nonzero;fill:rgb(92.156863%,92.156863%,92.156863%);fill-opacity:1;\" d=\"M 8.21875 358.628906 L 498.519531 358.628906 L 498.519531 5.480469 L 8.21875 5.480469 Z \"/>\n",
       "</g>\n",
       "<g clip-path=\"url(#clip2)\" clip-rule=\"nonzero\">\n",
       "<path style=\"fill:none;stroke-width:0.533489;stroke-linecap:butt;stroke-linejoin:round;stroke:rgb(100%,100%,100%);stroke-opacity:1;stroke-miterlimit:10;\" d=\"M 8.21875 302.445312 L 498.519531 302.445312 \"/>\n",
       "</g>\n",
       "<g clip-path=\"url(#clip3)\" clip-rule=\"nonzero\">\n",
       "<path style=\"fill:none;stroke-width:0.533489;stroke-linecap:butt;stroke-linejoin:round;stroke:rgb(100%,100%,100%);stroke-opacity:1;stroke-miterlimit:10;\" d=\"M 8.21875 222.183594 L 498.519531 222.183594 \"/>\n",
       "</g>\n",
       "<g clip-path=\"url(#clip4)\" clip-rule=\"nonzero\">\n",
       "<path style=\"fill:none;stroke-width:0.533489;stroke-linecap:butt;stroke-linejoin:round;stroke:rgb(100%,100%,100%);stroke-opacity:1;stroke-miterlimit:10;\" d=\"M 8.21875 141.921875 L 498.519531 141.921875 \"/>\n",
       "</g>\n",
       "<g clip-path=\"url(#clip5)\" clip-rule=\"nonzero\">\n",
       "<path style=\"fill:none;stroke-width:0.533489;stroke-linecap:butt;stroke-linejoin:round;stroke:rgb(100%,100%,100%);stroke-opacity:1;stroke-miterlimit:10;\" d=\"M 8.21875 61.664062 L 498.519531 61.664062 \"/>\n",
       "</g>\n",
       "<g clip-path=\"url(#clip6)\" clip-rule=\"nonzero\">\n",
       "<path style=\"fill:none;stroke-width:0.533489;stroke-linecap:butt;stroke-linejoin:round;stroke:rgb(100%,100%,100%);stroke-opacity:1;stroke-miterlimit:10;\" d=\"M 141.9375 358.628906 L 141.9375 5.480469 \"/>\n",
       "</g>\n",
       "<g clip-path=\"url(#clip7)\" clip-rule=\"nonzero\">\n",
       "<path style=\"fill:none;stroke-width:0.533489;stroke-linecap:butt;stroke-linejoin:round;stroke:rgb(100%,100%,100%);stroke-opacity:1;stroke-miterlimit:10;\" d=\"M 290.515625 358.628906 L 290.515625 5.480469 \"/>\n",
       "</g>\n",
       "<g clip-path=\"url(#clip8)\" clip-rule=\"nonzero\">\n",
       "<path style=\"fill:none;stroke-width:0.533489;stroke-linecap:butt;stroke-linejoin:round;stroke:rgb(100%,100%,100%);stroke-opacity:1;stroke-miterlimit:10;\" d=\"M 439.089844 358.628906 L 439.089844 5.480469 \"/>\n",
       "</g>\n",
       "<g clip-path=\"url(#clip9)\" clip-rule=\"nonzero\">\n",
       "<path style=\"fill:none;stroke-width:1.066978;stroke-linecap:butt;stroke-linejoin:round;stroke:rgb(100%,100%,100%);stroke-opacity:1;stroke-miterlimit:10;\" d=\"M 8.21875 342.578125 L 498.519531 342.578125 \"/>\n",
       "</g>\n",
       "<g clip-path=\"url(#clip10)\" clip-rule=\"nonzero\">\n",
       "<path style=\"fill:none;stroke-width:1.066978;stroke-linecap:butt;stroke-linejoin:round;stroke:rgb(100%,100%,100%);stroke-opacity:1;stroke-miterlimit:10;\" d=\"M 8.21875 262.316406 L 498.519531 262.316406 \"/>\n",
       "</g>\n",
       "<g clip-path=\"url(#clip11)\" clip-rule=\"nonzero\">\n",
       "<path style=\"fill:none;stroke-width:1.066978;stroke-linecap:butt;stroke-linejoin:round;stroke:rgb(100%,100%,100%);stroke-opacity:1;stroke-miterlimit:10;\" d=\"M 8.21875 182.054688 L 498.519531 182.054688 \"/>\n",
       "</g>\n",
       "<g clip-path=\"url(#clip12)\" clip-rule=\"nonzero\">\n",
       "<path style=\"fill:none;stroke-width:1.066978;stroke-linecap:butt;stroke-linejoin:round;stroke:rgb(100%,100%,100%);stroke-opacity:1;stroke-miterlimit:10;\" d=\"M 8.21875 101.792969 L 498.519531 101.792969 \"/>\n",
       "</g>\n",
       "<g clip-path=\"url(#clip13)\" clip-rule=\"nonzero\">\n",
       "<path style=\"fill:none;stroke-width:1.066978;stroke-linecap:butt;stroke-linejoin:round;stroke:rgb(100%,100%,100%);stroke-opacity:1;stroke-miterlimit:10;\" d=\"M 8.21875 21.53125 L 498.519531 21.53125 \"/>\n",
       "</g>\n",
       "<g clip-path=\"url(#clip14)\" clip-rule=\"nonzero\">\n",
       "<path style=\"fill:none;stroke-width:1.066978;stroke-linecap:butt;stroke-linejoin:round;stroke:rgb(100%,100%,100%);stroke-opacity:1;stroke-miterlimit:10;\" d=\"M 67.648438 358.628906 L 67.648438 5.480469 \"/>\n",
       "</g>\n",
       "<g clip-path=\"url(#clip15)\" clip-rule=\"nonzero\">\n",
       "<path style=\"fill:none;stroke-width:1.066978;stroke-linecap:butt;stroke-linejoin:round;stroke:rgb(100%,100%,100%);stroke-opacity:1;stroke-miterlimit:10;\" d=\"M 216.226562 358.628906 L 216.226562 5.480469 \"/>\n",
       "</g>\n",
       "<g clip-path=\"url(#clip16)\" clip-rule=\"nonzero\">\n",
       "<path style=\"fill:none;stroke-width:1.066978;stroke-linecap:butt;stroke-linejoin:round;stroke:rgb(100%,100%,100%);stroke-opacity:1;stroke-miterlimit:10;\" d=\"M 364.800781 358.628906 L 364.800781 5.480469 \"/>\n",
       "</g>\n",
       "<path style=\"fill:none;stroke-width:1.066978;stroke-linecap:butt;stroke-linejoin:round;stroke:rgb(94.117647%,23.137255%,12.54902%);stroke-opacity:1;stroke-miterlimit:10;\" d=\"M 67.648438 138.074219 L 115.984375 79.195312 \"/>\n",
       "<path style=\"fill:none;stroke-width:1.066978;stroke-linecap:butt;stroke-linejoin:round;stroke:rgb(19.215686%,63.921569%,32.941176%);stroke-opacity:1;stroke-miterlimit:10;\" d=\"M 135.894531 342.578125 L 69.40625 288.851562 \"/>\n",
       "<path style=\"fill:none;stroke-width:1.066978;stroke-linecap:butt;stroke-linejoin:round;stroke:rgb(94.117647%,23.137255%,12.54902%);stroke-opacity:1;stroke-miterlimit:10;\" d=\"M 170.003906 21.53125 L 115.984375 79.195312 \"/>\n",
       "<path style=\"fill:none;stroke-width:1.066978;stroke-linecap:butt;stroke-linejoin:round;stroke:rgb(19.215686%,63.921569%,32.941176%);stroke-opacity:1;stroke-miterlimit:10;\" d=\"M 354.804688 208.992188 L 378.828125 283.988281 \"/>\n",
       "<path style=\"fill:none;stroke-width:1.066978;stroke-linecap:butt;stroke-linejoin:round;stroke:rgb(94.117647%,23.137255%,12.54902%);stroke-opacity:1;stroke-miterlimit:10;\" d=\"M 354.804688 208.992188 L 415.523438 149.121094 \"/>\n",
       "<path style=\"fill:none;stroke-width:1.066978;stroke-linecap:butt;stroke-linejoin:round;stroke:rgb(19.215686%,63.921569%,32.941176%);stroke-opacity:1;stroke-miterlimit:10;\" d=\"M 439.089844 224.21875 L 378.828125 283.988281 \"/>\n",
       "<path style=\"fill:none;stroke-width:1.066978;stroke-linecap:butt;stroke-linejoin:round;stroke:rgb(94.117647%,23.137255%,12.54902%);stroke-opacity:1;stroke-miterlimit:10;\" d=\"M 439.089844 224.21875 L 415.523438 149.121094 \"/>\n",
       "<path style=\"fill-rule:nonzero;fill:rgb(1.960784%,43.921569%,69.019608%);fill-opacity:1;stroke-width:0.533489;stroke-linecap:round;stroke-linejoin:round;stroke:rgb(100%,100%,100%);stroke-opacity:1;stroke-miterlimit:10;\" d=\"M 115.453125 351.675781 L 156.332031 351.675781 L 156.246094 351.675781 L 156.59375 351.660156 L 156.933594 351.589844 L 157.257812 351.46875 L 157.558594 351.292969 L 157.828125 351.074219 L 158.058594 350.816406 L 158.246094 350.519531 L 158.382812 350.199219 L 158.464844 349.863281 L 158.492188 349.515625 L 158.492188 335.636719 L 158.464844 335.289062 L 158.382812 334.953125 L 158.246094 334.632812 L 158.058594 334.339844 L 157.828125 334.078125 L 157.558594 333.859375 L 157.257812 333.6875 L 156.933594 333.5625 L 156.59375 333.492188 L 156.332031 333.476562 L 115.453125 333.476562 L 115.714844 333.492188 L 115.367188 333.480469 L 115.019531 333.519531 L 114.6875 333.617188 L 114.375 333.765625 L 114.085938 333.964844 L 113.835938 334.203125 L 113.628906 334.484375 L 113.464844 334.789062 L 113.355469 335.121094 L 113.300781 335.464844 L 113.292969 335.636719 L 113.292969 349.515625 L 113.300781 349.34375 L 113.300781 349.691406 L 113.355469 350.035156 L 113.464844 350.363281 L 113.628906 350.671875 L 113.835938 350.949219 L 114.085938 351.191406 L 114.375 351.386719 L 114.6875 351.535156 L 115.019531 351.632812 L 115.367188 351.675781 Z \"/>\n",
       "<g style=\"fill:rgb(100%,100%,100%);fill-opacity:1;\">\n",
       "  <use xlink:href=\"#glyph0-1\" x=\"116.894531\" y=\"347.634766\"/>\n",
       "  <use xlink:href=\"#glyph0-2\" x=\"127.160156\" y=\"347.634766\"/>\n",
       "  <use xlink:href=\"#glyph0-3\" x=\"137.425781\" y=\"347.634766\"/>\n",
       "  <use xlink:href=\"#glyph0-4\" x=\"146.910156\" y=\"347.634766\"/>\n",
       "</g>\n",
       "<path style=\"fill-rule:nonzero;fill:rgb(0%,0%,0%);fill-opacity:0.501961;stroke-width:0.533489;stroke-linecap:round;stroke-linejoin:round;stroke:rgb(100%,100%,100%);stroke-opacity:1;stroke-miterlimit:10;\" d=\"M 418.648438 233.316406 L 459.53125 233.316406 L 459.441406 233.316406 L 459.789062 233.300781 L 460.132812 233.230469 L 460.457031 233.109375 L 460.757812 232.933594 L 461.027344 232.714844 L 461.257812 232.457031 L 461.441406 232.160156 L 461.578125 231.839844 L 461.660156 231.503906 L 461.691406 231.15625 L 461.691406 217.277344 L 461.660156 216.929688 L 461.578125 216.59375 L 461.441406 216.273438 L 461.257812 215.980469 L 461.027344 215.71875 L 460.757812 215.5 L 460.457031 215.328125 L 460.132812 215.203125 L 459.789062 215.132812 L 459.53125 215.117188 L 418.648438 215.117188 L 418.910156 215.132812 L 418.5625 215.121094 L 418.21875 215.160156 L 417.882812 215.257812 L 417.570312 215.40625 L 417.285156 215.605469 L 417.035156 215.84375 L 416.824219 216.125 L 416.664062 216.429688 L 416.554688 216.761719 L 416.496094 217.105469 L 416.488281 217.277344 L 416.488281 231.15625 L 416.496094 230.984375 L 416.496094 231.332031 L 416.554688 231.675781 L 416.664062 232.003906 L 416.824219 232.3125 L 417.035156 232.589844 L 417.285156 232.832031 L 417.570312 233.027344 L 417.882812 233.175781 L 418.21875 233.273438 L 418.5625 233.316406 Z \"/>\n",
       "<g style=\"fill:rgb(100%,100%,100%);fill-opacity:1;\">\n",
       "  <use xlink:href=\"#glyph0-1\" x=\"420.089844\" y=\"229.275391\"/>\n",
       "  <use xlink:href=\"#glyph0-2\" x=\"430.355469\" y=\"229.275391\"/>\n",
       "  <use xlink:href=\"#glyph0-3\" x=\"440.621094\" y=\"229.275391\"/>\n",
       "  <use xlink:href=\"#glyph0-5\" x=\"450.105469\" y=\"229.275391\"/>\n",
       "</g>\n",
       "<path style=\"fill-rule:nonzero;fill:rgb(1.960784%,43.921569%,69.019608%);fill-opacity:1;stroke-width:0.533489;stroke-linecap:round;stroke-linejoin:round;stroke:rgb(100%,100%,100%);stroke-opacity:1;stroke-miterlimit:10;\" d=\"M 334.367188 218.089844 L 375.246094 218.089844 L 375.160156 218.089844 L 375.507812 218.074219 L 375.847656 218.007812 L 376.171875 217.882812 L 376.472656 217.710938 L 376.742188 217.488281 L 376.972656 217.230469 L 377.160156 216.933594 L 377.296875 216.617188 L 377.378906 216.277344 L 377.40625 215.933594 L 377.40625 202.050781 L 377.378906 201.707031 L 377.296875 201.367188 L 377.160156 201.046875 L 376.972656 200.753906 L 376.742188 200.492188 L 376.472656 200.273438 L 376.171875 200.101562 L 375.847656 199.976562 L 375.507812 199.90625 L 375.246094 199.890625 L 334.367188 199.890625 L 334.625 199.90625 L 334.277344 199.894531 L 333.933594 199.933594 L 333.601562 200.03125 L 333.285156 200.179688 L 333 200.378906 L 332.75 200.621094 L 332.539062 200.898438 L 332.378906 201.203125 L 332.269531 201.535156 L 332.214844 201.878906 L 332.207031 202.050781 L 332.207031 215.933594 L 332.214844 215.757812 L 332.214844 216.105469 L 332.269531 216.449219 L 332.378906 216.777344 L 332.539062 217.085938 L 332.75 217.363281 L 333 217.605469 L 333.285156 217.800781 L 333.601562 217.953125 L 333.933594 218.046875 L 334.277344 218.089844 Z \"/>\n",
       "<g style=\"fill:rgb(100%,100%,100%);fill-opacity:1;\">\n",
       "  <use xlink:href=\"#glyph0-1\" x=\"335.804688\" y=\"214.048828\"/>\n",
       "  <use xlink:href=\"#glyph0-2\" x=\"346.070312\" y=\"214.048828\"/>\n",
       "  <use xlink:href=\"#glyph0-3\" x=\"356.335938\" y=\"214.048828\"/>\n",
       "  <use xlink:href=\"#glyph0-6\" x=\"365.820312\" y=\"214.048828\"/>\n",
       "</g>\n",
       "<path style=\"fill-rule:nonzero;fill:rgb(1.960784%,43.921569%,69.019608%);fill-opacity:0.501961;stroke-width:0.533489;stroke-linecap:round;stroke-linejoin:round;stroke:rgb(100%,100%,100%);stroke-opacity:1;stroke-miterlimit:10;\" d=\"M 151.5625 30.632812 L 188.441406 30.632812 L 188.355469 30.628906 L 188.703125 30.617188 L 189.042969 30.546875 L 189.367188 30.421875 L 189.667969 30.25 L 189.9375 30.03125 L 190.167969 29.769531 L 190.355469 29.476562 L 190.492188 29.15625 L 190.574219 28.816406 L 190.601562 28.472656 L 190.601562 14.589844 L 190.574219 14.246094 L 190.492188 13.90625 L 190.355469 13.589844 L 190.167969 13.292969 L 189.9375 13.035156 L 189.667969 12.8125 L 189.367188 12.640625 L 189.042969 12.515625 L 188.703125 12.449219 L 188.441406 12.433594 L 151.5625 12.433594 L 151.824219 12.449219 L 151.476562 12.433594 L 151.128906 12.476562 L 150.796875 12.570312 L 150.484375 12.722656 L 150.195312 12.917969 L 149.945312 13.160156 L 149.738281 13.4375 L 149.574219 13.746094 L 149.464844 14.074219 L 149.410156 14.417969 L 149.402344 14.589844 L 149.402344 28.472656 L 149.410156 28.296875 L 149.410156 28.644531 L 149.464844 28.988281 L 149.574219 29.320312 L 149.738281 29.625 L 149.945312 29.902344 L 150.195312 30.144531 L 150.484375 30.34375 L 150.796875 30.492188 L 151.128906 30.589844 L 151.476562 30.628906 Z \"/>\n",
       "<g style=\"fill:rgb(100%,100%,100%);fill-opacity:1;\">\n",
       "  <use xlink:href=\"#glyph0-7\" x=\"153.003906\" y=\"26.587891\"/>\n",
       "  <use xlink:href=\"#glyph0-4\" x=\"162.488281\" y=\"26.587891\"/>\n",
       "  <use xlink:href=\"#glyph0-8\" x=\"170.393555\" y=\"26.587891\"/>\n",
       "  <use xlink:href=\"#glyph0-9\" x=\"179.081055\" y=\"26.587891\"/>\n",
       "</g>\n",
       "<path style=\"fill-rule:nonzero;fill:rgb(0%,0%,0%);fill-opacity:0.501961;stroke-width:0.533489;stroke-linecap:round;stroke-linejoin:round;stroke:rgb(100%,100%,100%);stroke-opacity:1;stroke-miterlimit:10;\" d=\"M 52.210938 147.171875 L 83.089844 147.171875 L 83.003906 147.171875 L 83.351562 147.15625 L 83.691406 147.085938 L 84.015625 146.964844 L 84.316406 146.789062 L 84.585938 146.570312 L 84.816406 146.308594 L 85.003906 146.015625 L 85.136719 145.695312 L 85.222656 145.359375 L 85.25 145.011719 L 85.25 131.132812 L 85.222656 130.785156 L 85.136719 130.449219 L 85.003906 130.128906 L 84.816406 129.835938 L 84.585938 129.574219 L 84.316406 129.355469 L 84.015625 129.179688 L 83.691406 129.058594 L 83.351562 128.988281 L 83.089844 128.972656 L 52.210938 128.972656 L 52.46875 128.988281 L 52.121094 128.972656 L 51.777344 129.015625 L 51.445312 129.113281 L 51.128906 129.261719 L 50.84375 129.460938 L 50.59375 129.699219 L 50.382812 129.976562 L 50.222656 130.285156 L 50.113281 130.617188 L 50.058594 130.957031 L 50.050781 131.132812 L 50.050781 145.011719 L 50.058594 144.839844 L 50.058594 145.1875 L 50.113281 145.53125 L 50.222656 145.859375 L 50.382812 146.167969 L 50.59375 146.445312 L 50.84375 146.6875 L 51.128906 146.882812 L 51.445312 147.03125 L 51.777344 147.128906 L 52.121094 147.171875 Z \"/>\n",
       "<g style=\"fill:rgb(100%,100%,100%);fill-opacity:1;\">\n",
       "  <use xlink:href=\"#glyph0-10\" x=\"53.648438\" y=\"143.130859\"/>\n",
       "  <use xlink:href=\"#glyph0-11\" x=\"63.914062\" y=\"143.130859\"/>\n",
       "  <use xlink:href=\"#glyph0-9\" x=\"73.398438\" y=\"143.130859\"/>\n",
       "</g>\n",
       "<path style=\"fill-rule:nonzero;fill:rgb(1.960784%,43.921569%,69.019608%);fill-opacity:1;stroke-width:0.533489;stroke-linecap:round;stroke-linejoin:round;stroke:rgb(100%,100%,100%);stroke-opacity:1;stroke-miterlimit:10;\" d=\"M 49.464844 297.949219 L 89.347656 297.949219 L 89.257812 297.949219 L 89.605469 297.933594 L 89.945312 297.863281 L 90.273438 297.742188 L 90.574219 297.566406 L 90.84375 297.347656 L 91.074219 297.085938 L 91.257812 296.792969 L 91.394531 296.472656 L 91.476562 296.136719 L 91.507812 295.789062 L 91.507812 281.910156 L 91.476562 281.5625 L 91.394531 281.226562 L 91.257812 280.90625 L 91.074219 280.613281 L 90.84375 280.351562 L 90.574219 280.132812 L 90.273438 279.957031 L 89.945312 279.835938 L 89.605469 279.765625 L 89.347656 279.75 L 49.464844 279.75 L 49.726562 279.765625 L 49.378906 279.753906 L 49.035156 279.792969 L 48.699219 279.890625 L 48.386719 280.039062 L 48.101562 280.238281 L 47.847656 280.476562 L 47.640625 280.753906 L 47.480469 281.0625 L 47.367188 281.394531 L 47.3125 281.738281 L 47.304688 281.910156 L 47.304688 295.789062 L 47.3125 295.617188 L 47.3125 295.964844 L 47.367188 296.308594 L 47.480469 296.636719 L 47.640625 296.945312 L 47.847656 297.222656 L 48.101562 297.464844 L 48.386719 297.660156 L 48.699219 297.808594 L 49.035156 297.90625 L 49.378906 297.949219 Z \"/>\n",
       "<g style=\"fill:rgb(100%,100%,100%);fill-opacity:1;\">\n",
       "  <use xlink:href=\"#glyph0-12\" x=\"50.90625\" y=\"293.908203\"/>\n",
       "  <use xlink:href=\"#glyph0-3\" x=\"60.390625\" y=\"293.908203\"/>\n",
       "  <use xlink:href=\"#glyph0-13\" x=\"69.875\" y=\"293.908203\"/>\n",
       "  <use xlink:href=\"#glyph0-4\" x=\"79.359375\" y=\"293.908203\"/>\n",
       "</g>\n",
       "<path style=\"fill-rule:nonzero;fill:rgb(0%,0%,0%);fill-opacity:1;stroke-width:0.533489;stroke-linecap:round;stroke-linejoin:round;stroke:rgb(100%,100%,100%);stroke-opacity:1;stroke-miterlimit:10;\" d=\"M 348.386719 293.085938 L 409.265625 293.085938 L 409.179688 293.085938 L 409.527344 293.070312 L 409.867188 293.003906 L 410.191406 292.878906 L 410.492188 292.703125 L 410.761719 292.484375 L 410.992188 292.226562 L 411.179688 291.929688 L 411.316406 291.613281 L 411.398438 291.273438 L 411.425781 290.925781 L 411.425781 277.046875 L 411.398438 276.699219 L 411.316406 276.363281 L 411.179688 276.042969 L 410.992188 275.75 L 410.761719 275.488281 L 410.492188 275.269531 L 410.191406 275.097656 L 409.867188 274.972656 L 409.527344 274.902344 L 409.265625 274.886719 L 348.386719 274.886719 L 348.648438 274.902344 L 348.300781 274.890625 L 347.953125 274.929688 L 347.621094 275.027344 L 347.304688 275.175781 L 347.019531 275.375 L 346.769531 275.613281 L 346.5625 275.894531 L 346.398438 276.199219 L 346.289062 276.53125 L 346.234375 276.875 L 346.226562 277.046875 L 346.226562 290.925781 L 346.234375 290.753906 L 346.234375 291.101562 L 346.289062 291.445312 L 346.398438 291.773438 L 346.5625 292.082031 L 346.769531 292.359375 L 347.019531 292.601562 L 347.304688 292.796875 L 347.621094 292.945312 L 347.953125 293.042969 L 348.300781 293.085938 Z \"/>\n",
       "<g style=\"fill:rgb(100%,100%,100%);fill-opacity:1;\">\n",
       "  <use xlink:href=\"#glyph0-1\" x=\"349.828125\" y=\"289.044922\"/>\n",
       "  <use xlink:href=\"#glyph0-2\" x=\"360.09375\" y=\"289.044922\"/>\n",
       "  <use xlink:href=\"#glyph0-3\" x=\"370.359375\" y=\"289.044922\"/>\n",
       "  <use xlink:href=\"#glyph0-14\" x=\"379.84375\" y=\"289.044922\"/>\n",
       "  <use xlink:href=\"#glyph0-4\" x=\"390.109375\" y=\"289.044922\"/>\n",
       "  <use xlink:href=\"#glyph0-15\" x=\"398.014648\" y=\"289.044922\"/>\n",
       "</g>\n",
       "<path style=\"fill-rule:nonzero;fill:rgb(1.960784%,43.921569%,69.019608%);fill-opacity:1;stroke-width:0.533489;stroke-linecap:round;stroke-linejoin:round;stroke:rgb(100%,100%,100%);stroke-opacity:1;stroke-miterlimit:10;\" d=\"M 385.082031 158.21875 L 445.964844 158.21875 L 445.875 158.21875 L 446.222656 158.203125 L 446.566406 158.132812 L 446.890625 158.011719 L 447.191406 157.835938 L 447.460938 157.617188 L 447.691406 157.355469 L 447.875 157.0625 L 448.011719 156.742188 L 448.097656 156.40625 L 448.125 156.058594 L 448.125 142.179688 L 448.097656 141.832031 L 448.011719 141.496094 L 447.875 141.175781 L 447.691406 140.882812 L 447.460938 140.621094 L 447.191406 140.402344 L 446.890625 140.226562 L 446.566406 140.105469 L 446.222656 140.035156 L 445.964844 140.019531 L 385.082031 140.019531 L 385.34375 140.035156 L 384.996094 140.019531 L 384.652344 140.0625 L 384.316406 140.160156 L 384.003906 140.308594 L 383.71875 140.507812 L 383.46875 140.746094 L 383.257812 141.023438 L 383.097656 141.332031 L 382.988281 141.664062 L 382.929688 142.003906 L 382.925781 142.179688 L 382.925781 156.058594 L 382.929688 155.886719 L 382.929688 156.234375 L 382.988281 156.578125 L 383.097656 156.90625 L 383.257812 157.214844 L 383.46875 157.492188 L 383.71875 157.734375 L 384.003906 157.929688 L 384.316406 158.078125 L 384.652344 158.175781 L 384.996094 158.21875 Z \"/>\n",
       "<g style=\"fill:rgb(100%,100%,100%);fill-opacity:1;\">\n",
       "  <use xlink:href=\"#glyph0-1\" x=\"386.523438\" y=\"154.177734\"/>\n",
       "  <use xlink:href=\"#glyph0-2\" x=\"396.789062\" y=\"154.177734\"/>\n",
       "  <use xlink:href=\"#glyph0-3\" x=\"407.054688\" y=\"154.177734\"/>\n",
       "  <use xlink:href=\"#glyph0-14\" x=\"416.539062\" y=\"154.177734\"/>\n",
       "  <use xlink:href=\"#glyph0-4\" x=\"426.804688\" y=\"154.177734\"/>\n",
       "  <use xlink:href=\"#glyph0-11\" x=\"434.709961\" y=\"154.177734\"/>\n",
       "</g>\n",
       "<path style=\"fill-rule:nonzero;fill:rgb(0%,0%,0%);fill-opacity:1;stroke-width:0.533489;stroke-linecap:round;stroke-linejoin:round;stroke:rgb(100%,100%,100%);stroke-opacity:1;stroke-miterlimit:10;\" d=\"M 91.542969 88.292969 L 140.421875 88.292969 L 140.335938 88.292969 L 140.683594 88.277344 L 141.023438 88.210938 L 141.347656 88.085938 L 141.652344 87.914062 L 141.917969 87.691406 L 142.148438 87.433594 L 142.335938 87.136719 L 142.472656 86.820312 L 142.554688 86.480469 L 142.582031 86.132812 L 142.582031 72.253906 L 142.554688 71.910156 L 142.472656 71.570312 L 142.335938 71.25 L 142.148438 70.957031 L 141.917969 70.695312 L 141.652344 70.476562 L 141.347656 70.304688 L 141.023438 70.179688 L 140.683594 70.109375 L 140.421875 70.09375 L 91.542969 70.09375 L 91.804688 70.109375 L 91.457031 70.097656 L 91.113281 70.136719 L 90.777344 70.234375 L 90.464844 70.382812 L 90.175781 70.582031 L 89.925781 70.824219 L 89.71875 71.101562 L 89.554688 71.40625 L 89.445312 71.738281 L 89.390625 72.082031 L 89.382812 72.253906 L 89.382812 86.132812 L 89.390625 85.960938 L 89.390625 86.308594 L 89.445312 86.652344 L 89.554688 86.980469 L 89.71875 87.289062 L 89.925781 87.566406 L 90.175781 87.808594 L 90.464844 88.003906 L 90.777344 88.15625 L 91.113281 88.25 L 91.457031 88.292969 Z \"/>\n",
       "<g style=\"fill:rgb(100%,100%,100%);fill-opacity:1;\">\n",
       "  <use xlink:href=\"#glyph0-16\" x=\"92.984375\" y=\"84.251953\"/>\n",
       "  <use xlink:href=\"#glyph0-8\" x=\"101.671875\" y=\"84.251953\"/>\n",
       "  <use xlink:href=\"#glyph0-2\" x=\"110.359375\" y=\"84.251953\"/>\n",
       "  <use xlink:href=\"#glyph0-13\" x=\"120.625\" y=\"84.251953\"/>\n",
       "  <use xlink:href=\"#glyph0-9\" x=\"130.109375\" y=\"84.251953\"/>\n",
       "</g>\n",
       "<path style=\" stroke:none;fill-rule:nonzero;fill:rgb(100%,100%,100%);fill-opacity:1;\" d=\"M 157.480469 395.65625 L 349.257812 395.65625 L 349.257812 369.871094 L 157.480469 369.871094 Z \"/>\n",
       "<g style=\"fill:rgb(0%,0%,0%);fill-opacity:1;\">\n",
       "  <use xlink:href=\"#glyph1-1\" x=\"161.734375\" y=\"386.749023\"/>\n",
       "  <use xlink:href=\"#glyph1-2\" x=\"169.071289\" y=\"386.749023\"/>\n",
       "  <use xlink:href=\"#glyph1-3\" x=\"177.013672\" y=\"386.749023\"/>\n",
       "  <use xlink:href=\"#glyph1-4\" x=\"179.456055\" y=\"386.749023\"/>\n",
       "  <use xlink:href=\"#glyph1-5\" x=\"182.513672\" y=\"386.749023\"/>\n",
       "  <use xlink:href=\"#glyph1-6\" x=\"188.013672\" y=\"386.749023\"/>\n",
       "  <use xlink:href=\"#glyph1-7\" x=\"194.129883\" y=\"386.749023\"/>\n",
       "  <use xlink:href=\"#glyph1-8\" x=\"200.246094\" y=\"386.749023\"/>\n",
       "</g>\n",
       "<path style=\"fill-rule:nonzero;fill:rgb(94.901961%,94.901961%,94.901961%);fill-opacity:1;stroke-width:1.066978;stroke-linecap:round;stroke-linejoin:round;stroke:rgb(100%,100%,100%);stroke-opacity:1;stroke-miterlimit:10;\" d=\"M 210.679688 391.40625 L 227.960938 391.40625 L 227.960938 374.125 L 210.679688 374.125 Z \"/>\n",
       "<path style=\" stroke:none;fill-rule:nonzero;fill:rgb(100%,100%,100%);fill-opacity:0.501961;\" d=\"M 210.679688 391.40625 L 227.960938 391.40625 L 227.960938 374.125 L 210.679688 374.125 Z \"/>\n",
       "<g style=\"fill:rgb(100%,100%,100%);fill-opacity:0.501961;\">\n",
       "  <use xlink:href=\"#glyph0-17\" x=\"215.320312\" y=\"387.822266\"/>\n",
       "</g>\n",
       "<path style=\"fill-rule:nonzero;fill:rgb(94.901961%,94.901961%,94.901961%);fill-opacity:1;stroke-width:1.066978;stroke-linecap:round;stroke-linejoin:round;stroke:rgb(100%,100%,100%);stroke-opacity:1;stroke-miterlimit:10;\" d=\"M 289.054688 391.40625 L 306.335938 391.40625 L 306.335938 374.125 L 289.054688 374.125 Z \"/>\n",
       "<path style=\" stroke:none;fill-rule:nonzero;fill:rgb(100%,100%,100%);fill-opacity:1;\" d=\"M 289.054688 391.40625 L 306.335938 391.40625 L 306.335938 374.125 L 289.054688 374.125 Z \"/>\n",
       "<g style=\"fill:rgb(100%,100%,100%);fill-opacity:1;\">\n",
       "  <use xlink:href=\"#glyph0-17\" x=\"293.691406\" y=\"387.822266\"/>\n",
       "</g>\n",
       "<g style=\"fill:rgb(0%,0%,0%);fill-opacity:1;\">\n",
       "  <use xlink:href=\"#glyph2-1\" x=\"230.121094\" y=\"385.651367\"/>\n",
       "  <use xlink:href=\"#glyph2-2\" x=\"236.472656\" y=\"385.651367\"/>\n",
       "  <use xlink:href=\"#glyph2-3\" x=\"241.363281\" y=\"385.651367\"/>\n",
       "  <use xlink:href=\"#glyph2-4\" x=\"246.253906\" y=\"385.651367\"/>\n",
       "  <use xlink:href=\"#glyph2-5\" x=\"249.183594\" y=\"385.651367\"/>\n",
       "  <use xlink:href=\"#glyph2-6\" x=\"253.582031\" y=\"385.651367\"/>\n",
       "  <use xlink:href=\"#glyph2-7\" x=\"259.933594\" y=\"385.651367\"/>\n",
       "  <use xlink:href=\"#glyph2-8\" x=\"261.886719\" y=\"385.651367\"/>\n",
       "  <use xlink:href=\"#glyph2-9\" x=\"264.332031\" y=\"385.651367\"/>\n",
       "  <use xlink:href=\"#glyph2-10\" x=\"268.730469\" y=\"385.651367\"/>\n",
       "  <use xlink:href=\"#glyph2-11\" x=\"273.621094\" y=\"385.651367\"/>\n",
       "  <use xlink:href=\"#glyph2-12\" x=\"278.511719\" y=\"385.651367\"/>\n",
       "</g>\n",
       "<g style=\"fill:rgb(0%,0%,0%);fill-opacity:1;\">\n",
       "  <use xlink:href=\"#glyph2-13\" x=\"308.492188\" y=\"385.651367\"/>\n",
       "  <use xlink:href=\"#glyph2-6\" x=\"314.359375\" y=\"385.651367\"/>\n",
       "  <use xlink:href=\"#glyph2-7\" x=\"320.710938\" y=\"385.651367\"/>\n",
       "  <use xlink:href=\"#glyph2-8\" x=\"322.664062\" y=\"385.651367\"/>\n",
       "  <use xlink:href=\"#glyph2-9\" x=\"325.109375\" y=\"385.651367\"/>\n",
       "  <use xlink:href=\"#glyph2-10\" x=\"329.507812\" y=\"385.651367\"/>\n",
       "  <use xlink:href=\"#glyph2-11\" x=\"334.398438\" y=\"385.651367\"/>\n",
       "  <use xlink:href=\"#glyph2-12\" x=\"339.289062\" y=\"385.651367\"/>\n",
       "</g>\n",
       "<path style=\" stroke:none;fill-rule:nonzero;fill:rgb(100%,100%,100%);fill-opacity:1;\" d=\"M 193.53125 427.109375 L 313.207031 427.109375 L 313.207031 401.324219 L 193.53125 401.324219 Z \"/>\n",
       "<g style=\"fill:rgb(0%,0%,0%);fill-opacity:1;\">\n",
       "  <use xlink:href=\"#glyph1-9\" x=\"197.785156\" y=\"418.202148\"/>\n",
       "  <use xlink:href=\"#glyph1-10\" x=\"205.12207\" y=\"418.202148\"/>\n",
       "  <use xlink:href=\"#glyph1-10\" x=\"208.179688\" y=\"418.202148\"/>\n",
       "  <use xlink:href=\"#glyph1-7\" x=\"211.237305\" y=\"418.202148\"/>\n",
       "  <use xlink:href=\"#glyph1-5\" x=\"217.353516\" y=\"418.202148\"/>\n",
       "  <use xlink:href=\"#glyph1-4\" x=\"222.853516\" y=\"418.202148\"/>\n",
       "</g>\n",
       "<path style=\"fill-rule:nonzero;fill:rgb(94.901961%,94.901961%,94.901961%);fill-opacity:1;stroke-width:1.066978;stroke-linecap:round;stroke-linejoin:round;stroke:rgb(100%,100%,100%);stroke-opacity:1;stroke-miterlimit:10;\" d=\"M 229.898438 422.859375 L 247.179688 422.859375 L 247.179688 405.578125 L 229.898438 405.578125 Z \"/>\n",
       "<path style=\"fill:none;stroke-width:1.066978;stroke-linecap:butt;stroke-linejoin:round;stroke:rgb(19.215686%,63.921569%,32.941176%);stroke-opacity:1;stroke-miterlimit:10;\" d=\"M 231.628906 414.21875 L 245.453125 414.21875 \"/>\n",
       "<path style=\"fill-rule:nonzero;fill:rgb(94.901961%,94.901961%,94.901961%);fill-opacity:1;stroke-width:1.066978;stroke-linecap:round;stroke-linejoin:round;stroke:rgb(100%,100%,100%);stroke-opacity:1;stroke-miterlimit:10;\" d=\"M 270.507812 422.859375 L 287.789062 422.859375 L 287.789062 405.578125 L 270.507812 405.578125 Z \"/>\n",
       "<path style=\"fill:none;stroke-width:1.066978;stroke-linecap:butt;stroke-linejoin:round;stroke:rgb(94.117647%,23.137255%,12.54902%);stroke-opacity:1;stroke-miterlimit:10;\" d=\"M 272.238281 414.21875 L 286.058594 414.21875 \"/>\n",
       "<g style=\"fill:rgb(0%,0%,0%);fill-opacity:1;\">\n",
       "  <use xlink:href=\"#glyph2-14\" x=\"249.339844\" y=\"417.104492\"/>\n",
       "  <use xlink:href=\"#glyph2-15\" x=\"256.183594\" y=\"417.104492\"/>\n",
       "  <use xlink:href=\"#glyph2-7\" x=\"261.074219\" y=\"417.104492\"/>\n",
       "  <use xlink:href=\"#glyph2-3\" x=\"263.027344\" y=\"417.104492\"/>\n",
       "</g>\n",
       "<g style=\"fill:rgb(0%,0%,0%);fill-opacity:1;\">\n",
       "  <use xlink:href=\"#glyph2-16\" x=\"289.949219\" y=\"417.104492\"/>\n",
       "  <use xlink:href=\"#glyph2-2\" x=\"294.839844\" y=\"417.104492\"/>\n",
       "  <use xlink:href=\"#glyph2-5\" x=\"299.730469\" y=\"417.104492\"/>\n",
       "  <use xlink:href=\"#glyph2-5\" x=\"304.128906\" y=\"417.104492\"/>\n",
       "</g>\n",
       "<path style=\" stroke:none;fill-rule:nonzero;fill:rgb(100%,100%,100%);fill-opacity:1;\" d=\"M 202.601562 458.5625 L 304.132812 458.5625 L 304.132812 432.777344 L 202.601562 432.777344 Z \"/>\n",
       "<g style=\"fill:rgb(0%,0%,0%);fill-opacity:1;\">\n",
       "  <use xlink:href=\"#glyph1-11\" x=\"206.855469\" y=\"449.655273\"/>\n",
       "  <use xlink:href=\"#glyph1-12\" x=\"214.797852\" y=\"449.655273\"/>\n",
       "  <use xlink:href=\"#glyph1-13\" x=\"220.914062\" y=\"449.655273\"/>\n",
       "  <use xlink:href=\"#glyph1-14\" x=\"227.030273\" y=\"449.655273\"/>\n",
       "  <use xlink:href=\"#glyph1-7\" x=\"232.530273\" y=\"449.655273\"/>\n",
       "  <use xlink:href=\"#glyph1-13\" x=\"238.646484\" y=\"449.655273\"/>\n",
       "  <use xlink:href=\"#glyph1-14\" x=\"244.762695\" y=\"449.655273\"/>\n",
       "  <use xlink:href=\"#glyph1-15\" x=\"250.262695\" y=\"449.655273\"/>\n",
       "  <use xlink:href=\"#glyph1-14\" x=\"256.378906\" y=\"449.655273\"/>\n",
       "</g>\n",
       "<path style=\"fill-rule:nonzero;fill:rgb(94.901961%,94.901961%,94.901961%);fill-opacity:1;stroke-width:1.066978;stroke-linecap:round;stroke-linejoin:round;stroke:rgb(100%,100%,100%);stroke-opacity:1;stroke-miterlimit:10;\" d=\"M 266.199219 454.3125 L 283.480469 454.3125 L 283.480469 437.03125 L 266.199219 437.03125 Z \"/>\n",
       "<path style=\"fill:none;stroke-width:1.066978;stroke-linecap:butt;stroke-linejoin:round;stroke:rgb(0%,0%,0%);stroke-opacity:1;stroke-miterlimit:10;\" d=\"M 267.925781 445.671875 L 281.75 445.671875 \"/>\n",
       "<g style=\"fill:rgb(0%,0%,0%);fill-opacity:1;\">\n",
       "  <use xlink:href=\"#glyph2-17\" x=\"285.636719\" y=\"448.557617\"/>\n",
       "  <use xlink:href=\"#glyph2-11\" x=\"291.503906\" y=\"448.557617\"/>\n",
       "  <use xlink:href=\"#glyph2-5\" x=\"296.394531\" y=\"448.557617\"/>\n",
       "</g>\n",
       "<path style=\" stroke:none;fill-rule:nonzero;fill:rgb(100%,100%,100%);fill-opacity:1;\" d=\"M 178.945312 490.015625 L 327.792969 490.015625 L 327.792969 464.230469 L 178.945312 464.230469 Z \"/>\n",
       "<g style=\"fill:rgb(0%,0%,0%);fill-opacity:1;\">\n",
       "  <use xlink:href=\"#glyph1-16\" x=\"183.199219\" y=\"481.108398\"/>\n",
       "  <use xlink:href=\"#glyph1-7\" x=\"191.756836\" y=\"481.108398\"/>\n",
       "  <use xlink:href=\"#glyph1-13\" x=\"197.873047\" y=\"481.108398\"/>\n",
       "  <use xlink:href=\"#glyph1-7\" x=\"203.989258\" y=\"481.108398\"/>\n",
       "</g>\n",
       "<path style=\"fill-rule:nonzero;fill:rgb(94.901961%,94.901961%,94.901961%);fill-opacity:1;stroke-width:1.066978;stroke-linecap:round;stroke-linejoin:round;stroke:rgb(100%,100%,100%);stroke-opacity:1;stroke-miterlimit:10;\" d=\"M 214.425781 485.765625 L 231.707031 485.765625 L 231.707031 468.484375 L 214.425781 468.484375 Z \"/>\n",
       "<path style=\" stroke:none;fill-rule:nonzero;fill:rgb(0%,0%,0%);fill-opacity:1;\" d=\"M 214.425781 485.765625 L 231.707031 485.765625 L 231.707031 468.484375 L 214.425781 468.484375 Z \"/>\n",
       "<g style=\"fill:rgb(100%,100%,100%);fill-opacity:1;\">\n",
       "  <use xlink:href=\"#glyph0-17\" x=\"219.066406\" y=\"482.181641\"/>\n",
       "</g>\n",
       "<path style=\"fill-rule:nonzero;fill:rgb(94.901961%,94.901961%,94.901961%);fill-opacity:1;stroke-width:1.066978;stroke-linecap:round;stroke-linejoin:round;stroke:rgb(100%,100%,100%);stroke-opacity:1;stroke-miterlimit:10;\" d=\"M 259.929688 485.765625 L 277.210938 485.765625 L 277.210938 468.484375 L 259.929688 468.484375 Z \"/>\n",
       "<path style=\" stroke:none;fill-rule:nonzero;fill:rgb(1.960784%,43.921569%,69.019608%);fill-opacity:1;\" d=\"M 259.929688 485.765625 L 277.210938 485.765625 L 277.210938 468.484375 L 259.929688 468.484375 Z \"/>\n",
       "<g style=\"fill:rgb(100%,100%,100%);fill-opacity:1;\">\n",
       "  <use xlink:href=\"#glyph0-17\" x=\"264.570312\" y=\"482.181641\"/>\n",
       "</g>\n",
       "<g style=\"fill:rgb(0%,0%,0%);fill-opacity:1;\">\n",
       "  <use xlink:href=\"#glyph2-18\" x=\"233.863281\" y=\"480.010742\"/>\n",
       "  <use xlink:href=\"#glyph2-19\" x=\"240.214844\" y=\"480.010742\"/>\n",
       "  <use xlink:href=\"#glyph2-7\" x=\"243.144531\" y=\"480.010742\"/>\n",
       "  <use xlink:href=\"#glyph2-20\" x=\"245.097656\" y=\"480.010742\"/>\n",
       "  <use xlink:href=\"#glyph2-11\" x=\"249.496094\" y=\"480.010742\"/>\n",
       "  <use xlink:href=\"#glyph2-19\" x=\"254.386719\" y=\"480.010742\"/>\n",
       "</g>\n",
       "<g style=\"fill:rgb(0%,0%,0%);fill-opacity:1;\">\n",
       "  <use xlink:href=\"#glyph2-1\" x=\"279.367188\" y=\"480.010742\"/>\n",
       "  <use xlink:href=\"#glyph2-2\" x=\"285.71875\" y=\"480.010742\"/>\n",
       "  <use xlink:href=\"#glyph2-3\" x=\"290.609375\" y=\"480.010742\"/>\n",
       "  <use xlink:href=\"#glyph2-4\" x=\"295.5\" y=\"480.010742\"/>\n",
       "  <use xlink:href=\"#glyph2-12\" x=\"298.429688\" y=\"480.010742\"/>\n",
       "  <use xlink:href=\"#glyph2-19\" x=\"303.320312\" y=\"480.010742\"/>\n",
       "  <use xlink:href=\"#glyph2-7\" x=\"306.25\" y=\"480.010742\"/>\n",
       "  <use xlink:href=\"#glyph2-20\" x=\"308.203125\" y=\"480.010742\"/>\n",
       "  <use xlink:href=\"#glyph2-11\" x=\"312.601562\" y=\"480.010742\"/>\n",
       "  <use xlink:href=\"#glyph2-19\" x=\"317.492188\" y=\"480.010742\"/>\n",
       "</g>\n",
       "</g>\n",
       "</svg>\n"
      ],
      "text/plain": [
       "plot without title"
      ]
     },
     "metadata": {
      "image/svg+xml": {
       "isolated": true
      }
     },
     "output_type": "display_data"
    }
   ],
   "source": [
    "BIOCARTA_G1_PATHWAY.filt <- switches %>%\n",
    "    filter(GeneId %in% BIOCARTA_G1_PATHWAY) %>%\n",
    "    filter(! GeneId %in% current.switches$GeneId ) %>%\n",
    "    .$GeneId %>%\n",
    "    setdiff(BIOCARTA_G1_PATHWAY,.)\n",
    "\n",
    "nw <- getPPINetwork(BIOCARTA_G1_PATHWAY.filt, ppi.network, ppi)\n",
    "\n",
    "# number of edges\n",
    "length(nw %e% \"Effect\")\n",
    "\n",
    "# add node attributes\n",
    "nw %v% \"Gene\" <- ifelse(nw %v% \"vertex.names\" %in% drivers, \"Driver\", \"Non-driver\")\n",
    "nw %v% \"Switched\" <- ifelse(nw %v% \"vertex.names\" %in% current.switches$Symbol, \"Switched\", \"Non-switched\")\n",
    "\n",
    "ggplot(nw, aes(x = x, y = y, xend = xend, yend = yend)) +\n",
    "    geom_edges(aes(color = Effect, linetype = Consensus)) +\n",
    "    geom_nodelabel(aes(label = vertex.names, fill = Gene, alpha = Switched), size = 5, color = \"white\") +\n",
    "    scale_color_manual(values = ppiPalette) +\n",
    "    scale_alpha_manual(values = c(\"Switched\" = 1, \"Non-switched\" = 0.5)) +\n",
    "    scale_fill_manual(values = c(\"Driver\" = \"black\", \"Non-driver\" = \"#0570b0\")) +\n",
    "    scale_linetype_manual(values = c(\"Yes\" = \"solid\", \"No\" = \"dashed\")) +\n",
    "    lims( x = c(-.10, 1.10))+ \n",
    "    theme(axis.line=element_blank(),axis.text.x=element_blank(),\n",
    "          axis.text.y=element_blank(),axis.ticks=element_blank(),\n",
    "          axis.title.x=element_blank(),axis.title.y=element_blank(),\n",
    "          legend.position=\"bottom\")"
   ]
  },
  {
   "cell_type": "markdown",
   "metadata": {},
   "source": [
    "# Post-splicing, specifically the subset involved in translation initiation.\n",
    "## Switches in the pathway"
   ]
  },
  {
   "cell_type": "code",
   "execution_count": 14,
   "metadata": {
    "ExecuteTime": {
     "end_time": "2016-08-25T15:02:32.714770",
     "start_time": "2016-08-25T13:01:41.836Z"
    },
    "collapsed": false
   },
   "outputs": [
    {
     "data": {
      "text/html": [
       "13"
      ],
      "text/latex": [
       "13"
      ],
      "text/markdown": [
       "13"
      ],
      "text/plain": [
       "[1] 13"
      ]
     },
     "execution_count": 14,
     "metadata": {},
     "output_type": "execute_result"
    },
    {
     "data": {
      "text/html": [
       "<table>\n",
       "<tbody>\n",
       "\t<tr><th scope=row>Symbol</th><td>EIF3A </td><td>EIF4B </td><td>EIF5  </td><td>EIF3C </td><td>EIF2B4</td><td>EIF2B5</td><td>EIF4A2</td><td>EEF1A1</td><td>EIF3B </td><td>PABPC1</td><td>EIF3E </td><td>EIF4A3</td><td>EIF4E </td></tr>\n",
       "</tbody>\n",
       "</table>\n"
      ],
      "text/latex": [
       "\\begin{tabular}{r|lllllllllllll}\n",
       "\tSymbol & EIF3A  & EIF4B  & EIF5   & EIF3C  & EIF2B4 & EIF2B5 & EIF4A2 & EEF1A1 & EIF3B  & PABPC1 & EIF3E  & EIF4A3 & EIF4E \\\\\n",
       "\\end{tabular}\n"
      ],
      "text/markdown": [
       "1. 'EIF3A'\n",
       "2. 'EIF4B'\n",
       "3. 'EIF5'\n",
       "4. 'EIF3C'\n",
       "5. 'EIF2B4'\n",
       "6. 'EIF2B5'\n",
       "7. 'EIF4A2'\n",
       "8. 'EEF1A1'\n",
       "9. 'EIF3B'\n",
       "10. 'PABPC1'\n",
       "11. 'EIF3E'\n",
       "12. 'EIF4A3'\n",
       "13. 'EIF4E'\n",
       "\n",
       "\n"
      ],
      "text/plain": [
       "       [,1]    [,2]    [,3]   [,4]    [,5]     [,6]     [,7]     [,8]    \n",
       "Symbol \"EIF3A\" \"EIF4B\" \"EIF5\" \"EIF3C\" \"EIF2B4\" \"EIF2B5\" \"EIF4A2\" \"EEF1A1\"\n",
       "       [,9]    [,10]    [,11]   [,12]    [,13]  \n",
       "Symbol \"EIF3B\" \"PABPC1\" \"EIF3E\" \"EIF4A3\" \"EIF4E\""
      ]
     },
     "execution_count": 14,
     "metadata": {},
     "output_type": "execute_result"
    }
   ],
   "source": [
    "post.splicing <- c(\"EEF1A1\",\"PABPC1\",\"EIF1\",\"EIF2B1\",\"EIF2B2\",\"EIF2B3\",\"EIF2B4\",\"EIF2B5\",\n",
    "                   \"EIF2S1\",\"EIF2S2\",\"EIF2S3\",\"EIF3A\",\"EIF3B\",\"EIF3C\",\"EIF3D\",\"EIF3E\",\"EIF3F\",\n",
    "                   \"EIF3G\",\"EIF3H\",\"EIF3I\",\"EIF3J\",\"EIF4A2\",\"EIF4A3\",\"EIF4B\",\"EIF4E\",\n",
    "                   \"EIF4EBP1\",\"EIF4G1\",\"EIF5\",\"EIF5B\")\n",
    "post.splicing <- id2symbol %>%\n",
    "    filter(Symbol %in% post.splicing) %>%\n",
    "    .$GeneId\n",
    "\n",
    "# genes with a switch in the pathway\n",
    "switches %>%\n",
    "    filter(GeneId %in% post.splicing) %>%\n",
    "    select(GeneId) %>%\n",
    "    unique %>%\n",
    "    nrow\n",
    "\n",
    "switches %>%\n",
    "    filter(GeneId %in% post.splicing) %>%\n",
    "    select(Symbol) %>%\n",
    "    unique %>%\n",
    "    t"
   ]
  },
  {
   "cell_type": "code",
   "execution_count": 15,
   "metadata": {
    "ExecuteTime": {
     "end_time": "2016-08-25T15:02:34.157188",
     "start_time": "2016-08-25T13:01:41.856Z"
    },
    "collapsed": false
   },
   "outputs": [
    {
     "data": {
      "text/html": [
       "6"
      ],
      "text/latex": [
       "6"
      ],
      "text/markdown": [
       "6"
      ],
      "text/plain": [
       "[1] 6"
      ]
     },
     "execution_count": 15,
     "metadata": {},
     "output_type": "execute_result"
    },
    {
     "data": {
      "text/html": [
       "<ol class=list-inline>\n",
       "\t<li>'EIF2B4'</li>\n",
       "\t<li>'EIF4A2'</li>\n",
       "\t<li>'EIF4E'</li>\n",
       "\t<li>'EIF3B'</li>\n",
       "\t<li>'EIF4B'</li>\n",
       "\t<li>'PABPC1'</li>\n",
       "</ol>\n"
      ],
      "text/latex": [
       "\\begin{enumerate*}\n",
       "\\item 'EIF2B4'\n",
       "\\item 'EIF4A2'\n",
       "\\item 'EIF4E'\n",
       "\\item 'EIF3B'\n",
       "\\item 'EIF4B'\n",
       "\\item 'PABPC1'\n",
       "\\end{enumerate*}\n"
      ],
      "text/markdown": [
       "1. 'EIF2B4'\n",
       "2. 'EIF4A2'\n",
       "3. 'EIF4E'\n",
       "4. 'EIF3B'\n",
       "5. 'EIF4B'\n",
       "6. 'PABPC1'\n",
       "\n",
       "\n"
      ],
      "text/plain": [
       "[1] \"EIF2B4\" \"EIF4A2\" \"EIF4E\"  \"EIF3B\"  \"EIF4B\"  \"PABPC1\""
      ]
     },
     "execution_count": 15,
     "metadata": {},
     "output_type": "execute_result"
    }
   ],
   "source": [
    "# check how many cases there are transcripts with the same id (ie similar exon structure and coordinates)\n",
    "current.switches <- switches %>%\n",
    "    filter(GeneId %in% post.splicing) %>%\n",
    "    mutate(Normal_transcript = strsplit(Normal_transcript, \".\", fixed = T) %>% unlist %>% .[c(T,F)],\n",
    "           Tumor_transcript = strsplit(Tumor_transcript, \".\", fixed = T) %>% unlist %>% .[c(T,F)]) %>%\n",
    "    merge(latestVersion, by.x=c(\"Normal_transcript\",\"CDS_Normal\"), by.y=c(\"Transcript\",\"CDS\")) %>%\n",
    "    merge(latestVersion, by.x=c(\"Tumor_transcript\",\"CDS_Tumor\"), by.y=c(\"Transcript\",\"CDS\"))\n",
    "\n",
    "current.switches$Symbol %>% unique %>% length\n",
    "current.switches$Symbol %>% unique"
   ]
  },
  {
   "cell_type": "code",
   "execution_count": 16,
   "metadata": {
    "ExecuteTime": {
     "end_time": "2016-08-25T15:02:34.444500",
     "start_time": "2016-08-25T13:01:41.875Z"
    },
    "collapsed": false
   },
   "outputs": [
    {
     "data": {
      "text/html": [
       "1"
      ],
      "text/latex": [
       "1"
      ],
      "text/markdown": [
       "1"
      ],
      "text/plain": [
       "[1] 1"
      ]
     },
     "execution_count": 16,
     "metadata": {},
     "output_type": "execute_result"
    },
    {
     "data": {
      "text/html": [
       "<table>\n",
       "<thead><tr><th></th><th scope=col>1</th></tr></thead>\n",
       "<tbody>\n",
       "\t<tr><th scope=row>Symbol</th><td>EIF4B</td></tr>\n",
       "</tbody>\n",
       "</table>\n"
      ],
      "text/latex": [
       "\\begin{tabular}{r|l}\n",
       "  & 1\\\\\n",
       "\\hline\n",
       "\tSymbol & EIF4B\\\\\n",
       "\\end{tabular}\n"
      ],
      "text/markdown": [
       "'EIF4B'"
      ],
      "text/plain": [
       "       1      \n",
       "Symbol \"EIF4B\""
      ]
     },
     "execution_count": 16,
     "metadata": {},
     "output_type": "execute_result"
    }
   ],
   "source": [
    "# genes were both transcripts are protein-coding and affect a PPI\n",
    "current.switches %>%\n",
    "    filter(GeneId %in% post.splicing & PPI == 1 & CDS_Normal == 1 & CDS_Tumor == 1) %>%\n",
    "    select(GeneId) %>%\n",
    "    unique %>%\n",
    "    nrow\n",
    "\n",
    "current.switches %>%\n",
    "    filter(GeneId %in% post.splicing & PPI == 1 & CDS_Normal == 1 & CDS_Tumor == 1) %>%\n",
    "    select(Symbol) %>%\n",
    "    unique %>%\n",
    "    t"
   ]
  },
  {
   "cell_type": "code",
   "execution_count": 17,
   "metadata": {
    "ExecuteTime": {
     "end_time": "2016-08-25T15:02:36.462845",
     "start_time": "2016-08-25T13:01:41.896Z"
    },
    "collapsed": false
   },
   "outputs": [
    {
     "data": {
      "text/html": [
       "11"
      ],
      "text/latex": [
       "11"
      ],
      "text/markdown": [
       "11"
      ],
      "text/plain": [
       "[1] 11"
      ]
     },
     "execution_count": 17,
     "metadata": {},
     "output_type": "execute_result"
    },
    {
     "data": {
      "image/png": "[encoded data removed]",
      "image/svg+xml": [
       "<?xml version=\"1.0\" encoding=\"UTF-8\"?>\n",
       "<svg xmlns=\"http://www.w3.org/2000/svg\" xmlns:xlink=\"http://www.w3.org/1999/xlink\" width=\"504pt\" height=\"504pt\" viewBox=\"0 0 504 504\" version=\"1.1\">\n",
       "<defs>\n",
       "<g>\n",
       "<symbol overflow=\"visible\" id=\"glyph0-0\">\n",
       "<path style=\"stroke:none;\" d=\"\"/>\n",
       "</symbol>\n",
       "<symbol overflow=\"visible\" id=\"glyph0-1\">\n",
       "<path style=\"stroke:none;\" d=\"M 2.609375 -4.71875 L 8.25 -4.71875 L 8.25 -5.890625 L 2.609375 -5.890625 L 2.609375 -9.203125 L 8.453125 -9.203125 L 8.453125 -10.359375 L 1.28125 -10.359375 L 1.28125 0 L 8.71875 0 L 8.71875 -1.171875 L 2.609375 -1.171875 Z \"/>\n",
       "</symbol>\n",
       "<symbol overflow=\"visible\" id=\"glyph0-2\">\n",
       "<path style=\"stroke:none;\" d=\"M 2.765625 -10.359375 L 1.421875 -10.359375 L 1.421875 0 L 2.765625 0 Z \"/>\n",
       "</symbol>\n",
       "<symbol overflow=\"visible\" id=\"glyph0-3\">\n",
       "<path style=\"stroke:none;\" d=\"M 2.609375 -4.71875 L 7.546875 -4.71875 L 7.546875 -5.890625 L 2.609375 -5.890625 L 2.609375 -9.203125 L 8.234375 -9.203125 L 8.234375 -10.359375 L 1.28125 -10.359375 L 1.28125 0 L 2.609375 0 Z \"/>\n",
       "</symbol>\n",
       "<symbol overflow=\"visible\" id=\"glyph0-4\">\n",
       "<path style=\"stroke:none;\" d=\"M 3.140625 -4.625 L 3.296875 -4.625 L 3.828125 -4.640625 C 5.203125 -4.640625 5.921875 -4.015625 5.921875 -2.796875 C 5.921875 -1.53125 5.140625 -0.78125 3.828125 -0.78125 C 2.453125 -0.78125 1.796875 -1.46875 1.703125 -2.921875 L 0.453125 -2.921875 C 0.515625 -2.125 0.65625 -1.59375 0.890625 -1.140625 C 1.40625 -0.171875 2.40625 0.328125 3.78125 0.328125 C 5.859375 0.328125 7.1875 -0.90625 7.1875 -2.8125 C 7.1875 -4.09375 6.703125 -4.8125 5.484375 -5.21875 C 6.421875 -5.59375 6.890625 -6.296875 6.890625 -7.3125 C 6.890625 -9.046875 5.75 -10.078125 3.828125 -10.078125 C 1.796875 -10.078125 0.71875 -8.96875 0.671875 -6.828125 L 1.921875 -6.828125 C 1.9375 -7.4375 1.984375 -7.78125 2.140625 -8.09375 C 2.4375 -8.640625 3.0625 -8.984375 3.84375 -8.984375 C 4.953125 -8.984375 5.609375 -8.328125 5.609375 -7.265625 C 5.609375 -6.5625 5.359375 -6.125 4.8125 -5.90625 C 4.46875 -5.765625 4.03125 -5.703125 3.140625 -5.6875 Z \"/>\n",
       "</symbol>\n",
       "<symbol overflow=\"visible\" id=\"glyph0-5\">\n",
       "<path style=\"stroke:none;\" d=\"M 1.125 0 L 5.796875 0 C 6.78125 0 7.5 -0.265625 8.0625 -0.875 C 8.578125 -1.40625 8.859375 -2.140625 8.859375 -2.953125 C 8.859375 -4.203125 8.296875 -4.96875 6.96875 -5.46875 C 7.90625 -5.921875 8.40625 -6.6875 8.40625 -7.734375 C 8.40625 -8.484375 8.125 -9.15625 7.578125 -9.640625 C 7.03125 -10.140625 6.328125 -10.359375 5.328125 -10.359375 L 1.125 -10.359375 Z M 2.453125 -5.90625 L 2.453125 -9.203125 L 5 -9.203125 C 5.75 -9.203125 6.15625 -9.09375 6.515625 -8.828125 C 6.875 -8.546875 7.078125 -8.125 7.078125 -7.546875 C 7.078125 -7 6.875 -6.5625 6.515625 -6.265625 C 6.15625 -6 5.75 -5.90625 5 -5.90625 Z M 2.453125 -1.171875 L 2.453125 -4.734375 L 5.671875 -4.734375 C 6.3125 -4.734375 6.734375 -4.578125 7.046875 -4.234375 C 7.359375 -3.90625 7.53125 -3.453125 7.53125 -2.9375 C 7.53125 -2.453125 7.359375 -1.984375 7.046875 -1.65625 C 6.734375 -1.328125 6.3125 -1.171875 5.671875 -1.171875 Z \"/>\n",
       "</symbol>\n",
       "<symbol overflow=\"visible\" id=\"glyph0-6\">\n",
       "<path style=\"stroke:none;\" d=\"M 4.65625 -2.421875 L 4.65625 0 L 5.90625 0 L 5.90625 -2.421875 L 7.390625 -2.421875 L 7.390625 -3.546875 L 5.90625 -3.546875 L 5.90625 -10.078125 L 4.984375 -10.078125 L 0.390625 -3.734375 L 0.390625 -2.421875 Z M 4.65625 -3.546875 L 1.5 -3.546875 L 4.65625 -7.953125 Z \"/>\n",
       "</symbol>\n",
       "<symbol overflow=\"visible\" id=\"glyph0-7\">\n",
       "<path style=\"stroke:none;\" d=\"M 10.078125 -5.46875 L 5.765625 -5.46875 L 5.765625 -4.3125 L 8.921875 -4.3125 L 8.921875 -4.03125 C 8.921875 -2.171875 7.546875 -0.84375 5.65625 -0.84375 C 4.609375 -0.84375 3.65625 -1.21875 3.046875 -1.890625 C 2.359375 -2.625 1.953125 -3.875 1.953125 -5.140625 C 1.953125 -7.6875 3.390625 -9.375 5.59375 -9.375 C 7.171875 -9.375 8.296875 -8.5625 8.59375 -7.21875 L 9.9375 -7.21875 C 9.5625 -9.328125 7.984375 -10.53125 5.609375 -10.53125 C 4.34375 -10.53125 3.3125 -10.203125 2.5 -9.546875 C 1.3125 -8.546875 0.625 -6.9375 0.625 -5.078125 C 0.625 -1.890625 2.578125 0.328125 5.375 0.328125 C 6.78125 0.328125 7.90625 -0.203125 8.921875 -1.328125 L 9.25 0.0625 L 10.078125 0.0625 Z \"/>\n",
       "</symbol>\n",
       "<symbol overflow=\"visible\" id=\"glyph0-8\">\n",
       "<path style=\"stroke:none;\" d=\"M 7.828125 -4.71875 L 7.828125 0 L 9.15625 0 L 9.15625 -10.359375 L 7.828125 -10.359375 L 7.828125 -5.890625 L 2.5 -5.890625 L 2.5 -10.359375 L 1.1875 -10.359375 L 1.1875 0 L 2.515625 0 L 2.515625 -4.71875 Z \"/>\n",
       "</symbol>\n",
       "<symbol overflow=\"visible\" id=\"glyph0-9\">\n",
       "<path style=\"stroke:none;\" d=\"M 4.734375 -10.359375 L 4.734375 -3.078125 C 4.734375 -2.25 4.65625 -1.78125 4.40625 -1.421875 C 4.15625 -1.03125 3.671875 -0.78125 3.140625 -0.78125 C 2.140625 -0.78125 1.59375 -1.453125 1.59375 -2.65625 L 1.59375 -3.328125 L 0.234375 -3.328125 L 0.234375 -2.421875 C 0.234375 -0.734375 1.34375 0.328125 3.125 0.328125 C 4.9375 0.328125 6.0625 -0.796875 6.0625 -2.59375 L 6.0625 -10.359375 Z \"/>\n",
       "</symbol>\n",
       "<symbol overflow=\"visible\" id=\"glyph0-10\">\n",
       "<path style=\"stroke:none;\" d=\"M 3.6875 -7.1875 L 3.6875 0 L 4.9375 0 L 4.9375 -10.078125 L 4.109375 -10.078125 C 3.671875 -8.53125 3.390625 -8.3125 1.453125 -8.078125 L 1.453125 -7.1875 Z \"/>\n",
       "</symbol>\n",
       "<symbol overflow=\"visible\" id=\"glyph0-11\">\n",
       "<path style=\"stroke:none;\" d=\"M 2.609375 -4.390625 L 5.875 -4.390625 C 6.6875 -4.390625 7.328125 -4.640625 7.875 -5.140625 C 8.5 -5.703125 8.765625 -6.375 8.765625 -7.328125 C 8.765625 -9.265625 7.625 -10.359375 5.578125 -10.359375 L 1.296875 -10.359375 L 1.296875 0 L 2.609375 0 Z M 2.609375 -5.5625 L 2.609375 -9.203125 L 5.375 -9.203125 C 6.640625 -9.203125 7.390625 -8.515625 7.390625 -7.375 C 7.390625 -6.234375 6.640625 -5.5625 5.375 -5.5625 Z \"/>\n",
       "</symbol>\n",
       "<symbol overflow=\"visible\" id=\"glyph0-12\">\n",
       "<path style=\"stroke:none;\" d=\"M 6.734375 -3.109375 L 7.8125 0 L 9.28125 0 L 5.640625 -10.359375 L 3.9375 -10.359375 L 0.234375 0 L 1.65625 0 L 2.75 -3.109375 Z M 6.375 -4.21875 L 3.078125 -4.21875 L 4.78125 -8.9375 Z \"/>\n",
       "</symbol>\n",
       "<symbol overflow=\"visible\" id=\"glyph0-13\">\n",
       "<path style=\"stroke:none;\" d=\"M 9.40625 -7.15625 C 9 -9.421875 7.6875 -10.53125 5.421875 -10.53125 C 4.03125 -10.53125 2.90625 -10.09375 2.140625 -9.25 C 1.1875 -8.21875 0.6875 -6.734375 0.6875 -5.0625 C 0.6875 -3.359375 1.203125 -1.890625 2.1875 -0.875 C 2.984375 -0.0625 4.015625 0.328125 5.359375 0.328125 C 7.890625 0.328125 9.3125 -1.03125 9.625 -3.78125 L 8.265625 -3.78125 C 8.140625 -3.078125 8 -2.59375 7.796875 -2.171875 C 7.359375 -1.328125 6.484375 -0.84375 5.375 -0.84375 C 3.3125 -0.84375 2 -2.484375 2 -5.078125 C 2 -7.734375 3.25 -9.375 5.265625 -9.375 C 6.09375 -9.375 6.875 -9.109375 7.3125 -8.71875 C 7.6875 -8.359375 7.90625 -7.921875 8.0625 -7.15625 Z \"/>\n",
       "</symbol>\n",
       "<symbol overflow=\"visible\" id=\"glyph0-14\">\n",
       "<path style=\"stroke:none;\" d=\"M 7.609375 -0.703125 C 7.484375 -0.671875 7.421875 -0.671875 7.34375 -0.671875 C 6.9375 -0.671875 6.71875 -0.875 6.71875 -1.25 L 6.71875 -5.625 C 6.71875 -6.953125 5.75 -7.65625 3.90625 -7.65625 C 2.828125 -7.65625 1.9375 -7.34375 1.4375 -6.796875 C 1.09375 -6.40625 0.953125 -5.984375 0.921875 -5.25 L 2.125 -5.25 C 2.21875 -6.15625 2.765625 -6.5625 3.875 -6.5625 C 4.9375 -6.5625 5.53125 -6.171875 5.53125 -5.453125 L 5.53125 -5.140625 C 5.53125 -4.65625 5.234375 -4.4375 4.296875 -4.328125 C 2.609375 -4.109375 2.359375 -4.046875 1.90625 -3.875 C 1.03125 -3.515625 0.59375 -2.84375 0.59375 -1.875 C 0.59375 -0.53125 1.53125 0.328125 3.046875 0.328125 C 3.984375 0.328125 4.734375 0 5.578125 -0.765625 C 5.65625 -0.015625 6.03125 0.328125 6.796875 0.328125 C 7.03125 0.328125 7.21875 0.296875 7.609375 0.203125 Z M 5.53125 -2.34375 C 5.53125 -1.953125 5.421875 -1.703125 5.0625 -1.375 C 4.578125 -0.9375 4 -0.71875 3.296875 -0.71875 C 2.375 -0.71875 1.828125 -1.15625 1.828125 -1.90625 C 1.828125 -2.6875 2.359375 -3.078125 3.625 -3.265625 C 4.875 -3.4375 5.140625 -3.5 5.53125 -3.6875 Z \"/>\n",
       "</symbol>\n",
       "<symbol overflow=\"visible\" id=\"glyph1-0\">\n",
       "<path style=\"stroke:none;\" d=\"\"/>\n",
       "</symbol>\n",
       "<symbol overflow=\"visible\" id=\"glyph1-1\">\n",
       "<path style=\"stroke:none;\" d=\"M 2.015625 -3.65625 L 6.375 -3.65625 L 6.375 -4.546875 L 2.015625 -4.546875 L 2.015625 -7.109375 L 6.546875 -7.109375 L 6.546875 -8.015625 L 0.984375 -8.015625 L 0.984375 0 L 6.75 0 L 6.75 -0.90625 L 2.015625 -0.90625 Z \"/>\n",
       "</symbol>\n",
       "<symbol overflow=\"visible\" id=\"glyph1-2\">\n",
       "<path style=\"stroke:none;\" d=\"M 2.84375 -5.765625 L 1.875 -5.765625 L 1.875 -6.671875 C 1.875 -7.046875 2.09375 -7.25 2.515625 -7.25 C 2.59375 -7.25 2.625 -7.25 2.84375 -7.234375 L 2.84375 -8 C 2.625 -8.046875 2.515625 -8.046875 2.328125 -8.046875 C 1.46875 -8.046875 0.96875 -7.5625 0.96875 -6.75 L 0.96875 -5.765625 L 0.203125 -5.765625 L 0.203125 -5.015625 L 0.96875 -5.015625 L 0.96875 0 L 1.875 0 L 1.875 -5.015625 L 2.84375 -5.015625 Z \"/>\n",
       "</symbol>\n",
       "<symbol overflow=\"visible\" id=\"glyph1-3\">\n",
       "<path style=\"stroke:none;\" d=\"M 5.640625 -2.578125 C 5.640625 -3.453125 5.578125 -3.984375 5.40625 -4.40625 C 5.03125 -5.359375 4.15625 -5.921875 3.078125 -5.921875 C 1.46875 -5.921875 0.4375 -4.703125 0.4375 -2.8125 C 0.4375 -0.90625 1.4375 0.25 3.0625 0.25 C 4.375 0.25 5.296875 -0.5 5.515625 -1.75 L 4.59375 -1.75 C 4.34375 -0.984375 3.828125 -0.59375 3.09375 -0.59375 C 2.515625 -0.59375 2.015625 -0.859375 1.703125 -1.34375 C 1.484375 -1.671875 1.40625 -2 1.390625 -2.578125 Z M 1.421875 -3.328125 C 1.5 -4.390625 2.140625 -5.078125 3.0625 -5.078125 C 3.96875 -5.078125 4.65625 -4.328125 4.65625 -3.390625 C 4.65625 -3.359375 4.65625 -3.34375 4.65625 -3.328125 Z \"/>\n",
       "</symbol>\n",
       "<symbol overflow=\"visible\" id=\"glyph1-4\">\n",
       "<path style=\"stroke:none;\" d=\"M 5.1875 -3.828125 C 5.140625 -4.390625 5.015625 -4.75 4.796875 -5.078125 C 4.40625 -5.609375 3.703125 -5.921875 2.90625 -5.921875 C 1.359375 -5.921875 0.34375 -4.703125 0.34375 -2.78125 C 0.34375 -0.921875 1.328125 0.25 2.890625 0.25 C 4.265625 0.25 5.140625 -0.578125 5.25 -1.984375 L 4.328125 -1.984375 C 4.171875 -1.0625 3.703125 -0.59375 2.921875 -0.59375 C 1.90625 -0.59375 1.296875 -1.421875 1.296875 -2.78125 C 1.296875 -4.21875 1.890625 -5.078125 2.890625 -5.078125 C 3.65625 -5.078125 4.140625 -4.625 4.25 -3.828125 Z \"/>\n",
       "</symbol>\n",
       "<symbol overflow=\"visible\" id=\"glyph1-5\">\n",
       "<path style=\"stroke:none;\" d=\"M 2.796875 -5.765625 L 1.84375 -5.765625 L 1.84375 -7.34375 L 0.9375 -7.34375 L 0.9375 -5.765625 L 0.15625 -5.765625 L 0.15625 -5.015625 L 0.9375 -5.015625 L 0.9375 -0.65625 C 0.9375 -0.078125 1.328125 0.25 2.046875 0.25 C 2.265625 0.25 2.484375 0.234375 2.796875 0.171875 L 2.796875 -0.59375 C 2.671875 -0.5625 2.53125 -0.546875 2.359375 -0.546875 C 1.953125 -0.546875 1.84375 -0.65625 1.84375 -1.0625 L 1.84375 -5.015625 L 2.796875 -5.015625 Z \"/>\n",
       "</symbol>\n",
       "<symbol overflow=\"visible\" id=\"glyph1-6\">\n",
       "<path style=\"stroke:none;\" d=\"M 6.5625 -5.671875 C 6.546875 -7.234375 5.46875 -8.15625 3.625 -8.15625 C 1.859375 -8.15625 0.765625 -7.25 0.765625 -5.796875 C 0.765625 -4.8125 1.28125 -4.203125 2.34375 -3.921875 L 4.328125 -3.40625 C 5.34375 -3.140625 5.8125 -2.734375 5.8125 -2.09375 C 5.8125 -1.671875 5.578125 -1.234375 5.234375 -0.984375 C 4.921875 -0.765625 4.40625 -0.65625 3.765625 -0.65625 C 2.890625 -0.65625 2.296875 -0.859375 1.90625 -1.3125 C 1.609375 -1.671875 1.484375 -2.0625 1.5 -2.546875 L 0.53125 -2.546875 C 0.53125 -1.8125 0.6875 -1.328125 1 -0.890625 C 1.546875 -0.140625 2.46875 0.25 3.703125 0.25 C 4.65625 0.25 5.4375 0.03125 5.953125 -0.359375 C 6.484375 -0.796875 6.828125 -1.5 6.828125 -2.203125 C 6.828125 -3.1875 6.21875 -3.921875 5.125 -4.21875 L 3.109375 -4.75 C 2.140625 -5.015625 1.796875 -5.328125 1.796875 -5.9375 C 1.796875 -6.75 2.515625 -7.296875 3.59375 -7.296875 C 4.859375 -7.296875 5.578125 -6.703125 5.59375 -5.671875 Z \"/>\n",
       "</symbol>\n",
       "<symbol overflow=\"visible\" id=\"glyph1-7\">\n",
       "<path style=\"stroke:none;\" d=\"M 6.09375 0 L 7.78125 -5.765625 L 6.75 -5.765625 L 5.609375 -1.28125 L 4.484375 -5.765625 L 3.359375 -5.765625 L 2.25 -1.28125 L 1.078125 -5.765625 L 0.0625 -5.765625 L 1.734375 0 L 2.765625 0 L 3.890625 -4.515625 L 5.046875 0 Z \"/>\n",
       "</symbol>\n",
       "<symbol overflow=\"visible\" id=\"glyph1-8\">\n",
       "<path style=\"stroke:none;\" d=\"M 1.65625 -5.765625 L 0.734375 -5.765625 L 0.734375 0 L 1.65625 0 Z M 1.65625 -8.015625 L 0.71875 -8.015625 L 0.71875 -6.859375 L 1.65625 -6.859375 Z \"/>\n",
       "</symbol>\n",
       "<symbol overflow=\"visible\" id=\"glyph1-9\">\n",
       "<path style=\"stroke:none;\" d=\"M 0.765625 -8.015625 L 0.765625 0 L 1.6875 0 L 1.6875 -3.171875 C 1.6875 -4.359375 2.296875 -5.125 3.25 -5.125 C 3.546875 -5.125 3.84375 -5.03125 4.0625 -4.859375 C 4.328125 -4.671875 4.4375 -4.40625 4.4375 -4 L 4.4375 0 L 5.34375 0 L 5.34375 -4.359375 C 5.34375 -5.328125 4.65625 -5.921875 3.53125 -5.921875 C 2.71875 -5.921875 2.21875 -5.671875 1.6875 -4.96875 L 1.6875 -8.015625 Z \"/>\n",
       "</symbol>\n",
       "<symbol overflow=\"visible\" id=\"glyph1-10\">\n",
       "<path style=\"stroke:none;\" d=\"M 5.4375 -8.015625 L 4.53125 -8.015625 L 4.53125 -5.03125 C 4.140625 -5.625 3.53125 -5.921875 2.765625 -5.921875 C 1.265625 -5.921875 0.28125 -4.734375 0.28125 -2.890625 C 0.28125 -0.953125 1.25 0.25 2.796875 0.25 C 3.59375 0.25 4.140625 -0.046875 4.625 -0.765625 L 4.625 0 L 5.4375 0 Z M 2.921875 -5.078125 C 3.90625 -5.078125 4.53125 -4.1875 4.53125 -2.8125 C 4.53125 -1.484375 3.890625 -0.609375 2.921875 -0.609375 C 1.90625 -0.609375 1.25 -1.5 1.25 -2.84375 C 1.25 -4.1875 1.90625 -5.078125 2.921875 -5.078125 Z \"/>\n",
       "</symbol>\n",
       "<symbol overflow=\"visible\" id=\"glyph1-11\">\n",
       "<path style=\"stroke:none;\" d=\"M 7.28125 -5.53125 C 6.96875 -7.296875 5.953125 -8.15625 4.1875 -8.15625 C 3.109375 -8.15625 2.25 -7.8125 1.65625 -7.15625 C 0.921875 -6.359375 0.53125 -5.21875 0.53125 -3.921875 C 0.53125 -2.59375 0.9375 -1.46875 1.6875 -0.6875 C 2.3125 -0.046875 3.109375 0.25 4.140625 0.25 C 6.109375 0.25 7.203125 -0.796875 7.453125 -2.921875 L 6.390625 -2.921875 C 6.296875 -2.375 6.1875 -2 6.03125 -1.6875 C 5.703125 -1.015625 5.015625 -0.65625 4.15625 -0.65625 C 2.5625 -0.65625 1.546875 -1.921875 1.546875 -3.921875 C 1.546875 -5.984375 2.515625 -7.25 4.0625 -7.25 C 4.71875 -7.25 5.328125 -7.046875 5.65625 -6.75 C 5.953125 -6.46875 6.109375 -6.125 6.234375 -5.53125 Z \"/>\n",
       "</symbol>\n",
       "<symbol overflow=\"visible\" id=\"glyph1-12\">\n",
       "<path style=\"stroke:none;\" d=\"M 2.984375 -5.921875 C 1.375 -5.921875 0.390625 -4.78125 0.390625 -2.84375 C 0.390625 -0.90625 1.359375 0.25 3 0.25 C 4.625 0.25 5.609375 -0.90625 5.609375 -2.796875 C 5.609375 -4.78125 4.65625 -5.921875 2.984375 -5.921875 Z M 3 -5.078125 C 4.03125 -5.078125 4.65625 -4.234375 4.65625 -2.8125 C 4.65625 -1.453125 4.015625 -0.59375 3 -0.59375 C 1.984375 -0.59375 1.359375 -1.4375 1.359375 -2.84375 C 1.359375 -4.21875 1.984375 -5.078125 3 -5.078125 Z \"/>\n",
       "</symbol>\n",
       "<symbol overflow=\"visible\" id=\"glyph1-13\">\n",
       "<path style=\"stroke:none;\" d=\"M 0.765625 -5.765625 L 0.765625 0 L 1.6875 0 L 1.6875 -3.171875 C 1.6875 -4.359375 2.3125 -5.125 3.25 -5.125 C 3.984375 -5.125 4.4375 -4.6875 4.4375 -4 L 4.4375 0 L 5.359375 0 L 5.359375 -4.359375 C 5.359375 -5.3125 4.640625 -5.921875 3.53125 -5.921875 C 2.671875 -5.921875 2.125 -5.59375 1.609375 -4.796875 L 1.609375 -5.765625 Z \"/>\n",
       "</symbol>\n",
       "<symbol overflow=\"visible\" id=\"glyph1-14\">\n",
       "<path style=\"stroke:none;\" d=\"M 4.8125 -4.15625 C 4.8125 -5.296875 4.0625 -5.921875 2.734375 -5.921875 C 1.390625 -5.921875 0.515625 -5.234375 0.515625 -4.171875 C 0.515625 -3.265625 0.984375 -2.84375 2.34375 -2.515625 L 3.203125 -2.296875 C 3.84375 -2.140625 4.09375 -1.90625 4.09375 -1.5 C 4.09375 -0.953125 3.546875 -0.59375 2.75 -0.59375 C 2.25 -0.59375 1.84375 -0.734375 1.609375 -0.984375 C 1.46875 -1.140625 1.390625 -1.3125 1.34375 -1.71875 L 0.375 -1.71875 C 0.421875 -0.390625 1.171875 0.25 2.671875 0.25 C 4.125 0.25 5.046875 -0.46875 5.046875 -1.578125 C 5.046875 -2.4375 4.5625 -2.90625 3.421875 -3.171875 L 2.546875 -3.390625 C 1.796875 -3.5625 1.46875 -3.8125 1.46875 -4.21875 C 1.46875 -4.734375 1.953125 -5.078125 2.6875 -5.078125 C 3.4375 -5.078125 3.828125 -4.765625 3.84375 -4.15625 Z \"/>\n",
       "</symbol>\n",
       "<symbol overflow=\"visible\" id=\"glyph1-15\">\n",
       "<path style=\"stroke:none;\" d=\"M 5.296875 0 L 5.296875 -5.765625 L 4.390625 -5.765625 L 4.390625 -2.5 C 4.390625 -1.3125 3.765625 -0.546875 2.8125 -0.546875 C 2.09375 -0.546875 1.625 -0.984375 1.625 -1.6875 L 1.625 -5.765625 L 0.71875 -5.765625 L 0.71875 -1.3125 C 0.71875 -0.359375 1.4375 0.25 2.546875 0.25 C 3.40625 0.25 3.9375 -0.046875 4.484375 -0.796875 L 4.484375 0 Z \"/>\n",
       "</symbol>\n",
       "<symbol overflow=\"visible\" id=\"glyph1-16\">\n",
       "<path style=\"stroke:none;\" d=\"M 7.796875 -4.234375 L 4.453125 -4.234375 L 4.453125 -3.328125 L 6.890625 -3.328125 L 6.890625 -3.109375 C 6.890625 -1.6875 5.84375 -0.65625 4.375 -0.65625 C 3.5625 -0.65625 2.828125 -0.953125 2.359375 -1.46875 C 1.828125 -2.03125 1.5 -2.984375 1.5 -3.984375 C 1.5 -5.953125 2.625 -7.25 4.328125 -7.25 C 5.546875 -7.25 6.421875 -6.625 6.640625 -5.59375 L 7.6875 -5.59375 C 7.40625 -7.21875 6.171875 -8.15625 4.328125 -8.15625 C 3.359375 -8.15625 2.5625 -7.890625 1.9375 -7.375 C 1.015625 -6.609375 0.484375 -5.375 0.484375 -3.921875 C 0.484375 -1.46875 1.984375 0.25 4.15625 0.25 C 5.25 0.25 6.109375 -0.15625 6.890625 -1.015625 L 7.15625 0.046875 L 7.796875 0.046875 Z \"/>\n",
       "</symbol>\n",
       "<symbol overflow=\"visible\" id=\"glyph2-0\">\n",
       "<path style=\"stroke:none;\" d=\"\"/>\n",
       "</symbol>\n",
       "<symbol overflow=\"visible\" id=\"glyph2-1\">\n",
       "<path style=\"stroke:none;\" d=\"M 1.515625 -6.40625 L 0.703125 -6.40625 L 0.703125 0 L 4.6875 0 L 4.6875 -0.71875 L 1.515625 -0.71875 Z \"/>\n",
       "</symbol>\n",
       "<symbol overflow=\"visible\" id=\"glyph2-2\">\n",
       "<path style=\"stroke:none;\" d=\"M 2.390625 -4.734375 C 1.09375 -4.734375 0.3125 -3.8125 0.3125 -2.265625 C 0.3125 -0.71875 1.09375 0.203125 2.40625 0.203125 C 3.6875 0.203125 4.484375 -0.71875 4.484375 -2.234375 C 4.484375 -3.828125 3.71875 -4.734375 2.390625 -4.734375 Z M 2.40625 -4.0625 C 3.234375 -4.0625 3.71875 -3.390625 3.71875 -2.25 C 3.71875 -1.15625 3.203125 -0.46875 2.40625 -0.46875 C 1.578125 -0.46875 1.078125 -1.15625 1.078125 -2.265625 C 1.078125 -3.375 1.578125 -4.0625 2.40625 -4.0625 Z \"/>\n",
       "</symbol>\n",
       "<symbol overflow=\"visible\" id=\"glyph2-3\">\n",
       "<path style=\"stroke:none;\" d=\"M 3.859375 -3.328125 C 3.84375 -4.234375 3.25 -4.734375 2.1875 -4.734375 C 1.109375 -4.734375 0.40625 -4.1875 0.40625 -3.328125 C 0.40625 -2.609375 0.78125 -2.265625 1.875 -2 L 2.5625 -1.84375 C 3.0625 -1.71875 3.265625 -1.53125 3.265625 -1.203125 C 3.265625 -0.765625 2.84375 -0.46875 2.203125 -0.46875 C 1.796875 -0.46875 1.46875 -0.59375 1.28125 -0.78125 C 1.171875 -0.921875 1.125 -1.046875 1.078125 -1.375 L 0.296875 -1.375 C 0.328125 -0.3125 0.9375 0.203125 2.140625 0.203125 C 3.296875 0.203125 4.03125 -0.375 4.03125 -1.265625 C 4.03125 -1.9375 3.65625 -2.328125 2.734375 -2.546875 L 2.03125 -2.703125 C 1.4375 -2.84375 1.171875 -3.046875 1.171875 -3.375 C 1.171875 -3.796875 1.5625 -4.0625 2.15625 -4.0625 C 2.75 -4.0625 3.0625 -3.8125 3.078125 -3.328125 Z \"/>\n",
       "</symbol>\n",
       "<symbol overflow=\"visible\" id=\"glyph2-4\">\n",
       "<path style=\"stroke:none;\" d=\"M 5.6875 -6.40625 L 4.90625 -6.40625 L 4.90625 -1.171875 L 1.5625 -6.40625 L 0.671875 -6.40625 L 0.671875 0 L 1.4375 0 L 1.4375 -5.203125 L 4.765625 0 L 5.6875 0 Z \"/>\n",
       "</symbol>\n",
       "<symbol overflow=\"visible\" id=\"glyph2-5\">\n",
       "<path style=\"stroke:none;\" d=\"M 0.609375 -4.609375 L 0.609375 0 L 1.359375 0 L 1.359375 -2.546875 C 1.359375 -3.484375 1.84375 -4.09375 2.609375 -4.09375 C 3.1875 -4.09375 3.546875 -3.75 3.546875 -3.1875 L 3.546875 0 L 4.28125 0 L 4.28125 -3.484375 C 4.28125 -4.25 3.71875 -4.734375 2.828125 -4.734375 C 2.140625 -4.734375 1.703125 -4.484375 1.296875 -3.828125 L 1.296875 -4.609375 Z \"/>\n",
       "</symbol>\n",
       "<symbol overflow=\"visible\" id=\"glyph2-6\">\n",
       "<path style=\"stroke:none;\" d=\"M 2.5 -2.75 L 0.40625 -2.75 L 0.40625 -2.109375 L 2.5 -2.109375 Z \"/>\n",
       "</symbol>\n",
       "<symbol overflow=\"visible\" id=\"glyph2-7\">\n",
       "<path style=\"stroke:none;\" d=\"M 4.875 0 L 6.234375 -4.609375 L 5.40625 -4.609375 L 4.484375 -1.015625 L 3.578125 -4.609375 L 2.6875 -4.609375 L 1.796875 -1.015625 L 0.859375 -4.609375 L 0.046875 -4.609375 L 1.390625 0 L 2.21875 0 L 3.109375 -3.609375 L 4.03125 0 Z \"/>\n",
       "</symbol>\n",
       "<symbol overflow=\"visible\" id=\"glyph2-8\">\n",
       "<path style=\"stroke:none;\" d=\"M 1.3125 -4.609375 L 0.59375 -4.609375 L 0.59375 0 L 1.3125 0 Z M 1.3125 -6.40625 L 0.578125 -6.40625 L 0.578125 -5.484375 L 1.3125 -5.484375 Z \"/>\n",
       "</symbol>\n",
       "<symbol overflow=\"visible\" id=\"glyph2-9\">\n",
       "<path style=\"stroke:none;\" d=\"M 2.234375 -4.609375 L 1.484375 -4.609375 L 1.484375 -5.875 L 0.75 -5.875 L 0.75 -4.609375 L 0.125 -4.609375 L 0.125 -4.015625 L 0.75 -4.015625 L 0.75 -0.53125 C 0.75 -0.0625 1.0625 0.203125 1.640625 0.203125 C 1.8125 0.203125 1.984375 0.1875 2.234375 0.140625 L 2.234375 -0.46875 C 2.140625 -0.453125 2.015625 -0.4375 1.875 -0.4375 C 1.5625 -0.4375 1.484375 -0.53125 1.484375 -0.859375 L 1.484375 -4.015625 L 2.234375 -4.015625 Z \"/>\n",
       "</symbol>\n",
       "<symbol overflow=\"visible\" id=\"glyph2-10\">\n",
       "<path style=\"stroke:none;\" d=\"M 4.140625 -3.0625 C 4.109375 -3.515625 4.015625 -3.796875 3.828125 -4.0625 C 3.515625 -4.484375 2.96875 -4.734375 2.328125 -4.734375 C 1.078125 -4.734375 0.265625 -3.75 0.265625 -2.21875 C 0.265625 -0.734375 1.0625 0.203125 2.3125 0.203125 C 3.40625 0.203125 4.109375 -0.453125 4.203125 -1.578125 L 3.453125 -1.578125 C 3.328125 -0.84375 2.953125 -0.46875 2.328125 -0.46875 C 1.515625 -0.46875 1.03125 -1.140625 1.03125 -2.21875 C 1.03125 -3.375 1.515625 -4.0625 2.3125 -4.0625 C 2.921875 -4.0625 3.3125 -3.703125 3.40625 -3.0625 Z \"/>\n",
       "</symbol>\n",
       "<symbol overflow=\"visible\" id=\"glyph2-11\">\n",
       "<path style=\"stroke:none;\" d=\"M 0.609375 -6.40625 L 0.609375 0 L 1.34375 0 L 1.34375 -2.546875 C 1.34375 -3.484375 1.84375 -4.09375 2.59375 -4.09375 C 2.828125 -4.09375 3.0625 -4.015625 3.25 -3.890625 C 3.453125 -3.734375 3.546875 -3.515625 3.546875 -3.1875 L 3.546875 0 L 4.28125 0 L 4.28125 -3.484375 C 4.28125 -4.25 3.71875 -4.734375 2.828125 -4.734375 C 2.171875 -4.734375 1.78125 -4.546875 1.34375 -3.96875 L 1.34375 -6.40625 Z \"/>\n",
       "</symbol>\n",
       "<symbol overflow=\"visible\" id=\"glyph2-12\">\n",
       "<path style=\"stroke:none;\" d=\"M 4.515625 -2.0625 C 4.515625 -2.765625 4.453125 -3.1875 4.328125 -3.53125 C 4.03125 -4.28125 3.328125 -4.734375 2.46875 -4.734375 C 1.171875 -4.734375 0.359375 -3.75 0.359375 -2.25 C 0.359375 -0.734375 1.15625 0.203125 2.453125 0.203125 C 3.5 0.203125 4.234375 -0.390625 4.421875 -1.40625 L 3.671875 -1.40625 C 3.46875 -0.796875 3.0625 -0.46875 2.46875 -0.46875 C 2 -0.46875 1.609375 -0.6875 1.359375 -1.078125 C 1.1875 -1.34375 1.125 -1.59375 1.125 -2.0625 Z M 1.140625 -2.65625 C 1.203125 -3.515625 1.71875 -4.0625 2.453125 -4.0625 C 3.171875 -4.0625 3.734375 -3.46875 3.734375 -2.703125 C 3.734375 -2.6875 3.734375 -2.671875 3.71875 -2.65625 Z \"/>\n",
       "</symbol>\n",
       "<symbol overflow=\"visible\" id=\"glyph2-13\">\n",
       "<path style=\"stroke:none;\" d=\"M 4.359375 -6.40625 L 3.625 -6.40625 L 3.625 -4.03125 C 3.3125 -4.5 2.828125 -4.734375 2.203125 -4.734375 C 1.015625 -4.734375 0.234375 -3.78125 0.234375 -2.3125 C 0.234375 -0.75 1 0.203125 2.234375 0.203125 C 2.875 0.203125 3.3125 -0.03125 3.703125 -0.609375 L 3.703125 0 L 4.359375 0 Z M 2.328125 -4.0625 C 3.125 -4.0625 3.625 -3.359375 3.625 -2.25 C 3.625 -1.1875 3.109375 -0.484375 2.34375 -0.484375 C 1.53125 -0.484375 1 -1.203125 1 -2.265625 C 1 -3.34375 1.53125 -4.0625 2.328125 -4.0625 Z \"/>\n",
       "</symbol>\n",
       "<symbol overflow=\"visible\" id=\"glyph2-14\">\n",
       "<path style=\"stroke:none;\" d=\"M 5.25 -4.53125 C 5.234375 -5.78125 4.375 -6.515625 2.890625 -6.515625 C 1.484375 -6.515625 0.609375 -5.796875 0.609375 -4.640625 C 0.609375 -3.859375 1.03125 -3.359375 1.875 -3.140625 L 3.46875 -2.71875 C 4.28125 -2.5 4.640625 -2.1875 4.640625 -1.6875 C 4.640625 -1.34375 4.453125 -0.984375 4.1875 -0.796875 C 3.9375 -0.609375 3.53125 -0.515625 3.015625 -0.515625 C 2.3125 -0.515625 1.84375 -0.6875 1.53125 -1.0625 C 1.296875 -1.34375 1.1875 -1.640625 1.203125 -2.046875 L 0.421875 -2.046875 C 0.4375 -1.453125 0.546875 -1.0625 0.796875 -0.71875 C 1.234375 -0.109375 1.984375 0.203125 2.953125 0.203125 C 3.71875 0.203125 4.34375 0.03125 4.765625 -0.296875 C 5.1875 -0.640625 5.46875 -1.203125 5.46875 -1.765625 C 5.46875 -2.546875 4.96875 -3.125 4.09375 -3.375 L 2.484375 -3.796875 C 1.71875 -4.015625 1.4375 -4.25 1.4375 -4.75 C 1.4375 -5.40625 2 -5.828125 2.875 -5.828125 C 3.890625 -5.828125 4.453125 -5.359375 4.46875 -4.53125 Z \"/>\n",
       "</symbol>\n",
       "<symbol overflow=\"visible\" id=\"glyph2-15\">\n",
       "<path style=\"stroke:none;\" d=\"M 3.40625 -2.515625 L 5.8125 -6.40625 L 4.84375 -6.40625 L 3.015625 -3.296875 L 1.125 -6.40625 L 0.109375 -6.40625 L 2.59375 -2.515625 L 2.59375 0 L 3.40625 0 Z \"/>\n",
       "</symbol>\n",
       "<symbol overflow=\"visible\" id=\"glyph2-16\">\n",
       "<path style=\"stroke:none;\" d=\"M 0.78125 0 L 3.25 0 C 4.875 0 5.875 -1.21875 5.875 -3.203125 C 5.875 -5.203125 4.875 -6.40625 3.25 -6.40625 L 0.78125 -6.40625 Z M 1.59375 -0.71875 L 1.59375 -5.6875 L 3.109375 -5.6875 C 4.375 -5.6875 5.046875 -4.84375 5.046875 -3.203125 C 5.046875 -1.578125 4.375 -0.71875 3.109375 -0.71875 Z \"/>\n",
       "</symbol>\n",
       "<symbol overflow=\"visible\" id=\"glyph2-17\">\n",
       "<path style=\"stroke:none;\" d=\"M 0.609375 -4.609375 L 0.609375 0 L 1.34375 0 L 1.34375 -2.390625 C 1.34375 -3.046875 1.515625 -3.484375 1.859375 -3.734375 C 2.09375 -3.90625 2.3125 -3.953125 2.828125 -3.96875 L 2.828125 -4.71875 C 2.703125 -4.734375 2.640625 -4.734375 2.546875 -4.734375 C 2.0625 -4.734375 1.703125 -4.453125 1.28125 -3.78125 L 1.28125 -4.609375 Z \"/>\n",
       "</symbol>\n",
       "<symbol overflow=\"visible\" id=\"glyph2-18\">\n",
       "<path style=\"stroke:none;\" d=\"M 2.5 0 L 4.28125 -4.609375 L 3.453125 -4.609375 L 2.140625 -0.875 L 0.921875 -4.609375 L 0.09375 -4.609375 L 1.703125 0 Z \"/>\n",
       "</symbol>\n",
       "</g>\n",
       "<clipPath id=\"clip1\">\n",
       "  <path d=\"M 8.21875 5.480469 L 499 5.480469 L 499 359 L 8.21875 359 Z \"/>\n",
       "</clipPath>\n",
       "<clipPath id=\"clip2\">\n",
       "  <path d=\"M 8.21875 302 L 499 302 L 499 303 L 8.21875 303 Z \"/>\n",
       "</clipPath>\n",
       "<clipPath id=\"clip3\">\n",
       "  <path d=\"M 8.21875 221 L 499 221 L 499 223 L 8.21875 223 Z \"/>\n",
       "</clipPath>\n",
       "<clipPath id=\"clip4\">\n",
       "  <path d=\"M 8.21875 141 L 499 141 L 499 143 L 8.21875 143 Z \"/>\n",
       "</clipPath>\n",
       "<clipPath id=\"clip5\">\n",
       "  <path d=\"M 8.21875 61 L 499 61 L 499 62 L 8.21875 62 Z \"/>\n",
       "</clipPath>\n",
       "<clipPath id=\"clip6\">\n",
       "  <path d=\"M 141 5.480469 L 143 5.480469 L 143 359 L 141 359 Z \"/>\n",
       "</clipPath>\n",
       "<clipPath id=\"clip7\">\n",
       "  <path d=\"M 290 5.480469 L 291 5.480469 L 291 359 L 290 359 Z \"/>\n",
       "</clipPath>\n",
       "<clipPath id=\"clip8\">\n",
       "  <path d=\"M 438 5.480469 L 440 5.480469 L 440 359 L 438 359 Z \"/>\n",
       "</clipPath>\n",
       "<clipPath id=\"clip9\">\n",
       "  <path d=\"M 8.21875 342 L 499.519531 342 L 499.519531 344 L 8.21875 344 Z \"/>\n",
       "</clipPath>\n",
       "<clipPath id=\"clip10\">\n",
       "  <path d=\"M 8.21875 261 L 499.519531 261 L 499.519531 263 L 8.21875 263 Z \"/>\n",
       "</clipPath>\n",
       "<clipPath id=\"clip11\">\n",
       "  <path d=\"M 8.21875 181 L 499.519531 181 L 499.519531 183 L 8.21875 183 Z \"/>\n",
       "</clipPath>\n",
       "<clipPath id=\"clip12\">\n",
       "  <path d=\"M 8.21875 101 L 499.519531 101 L 499.519531 103 L 8.21875 103 Z \"/>\n",
       "</clipPath>\n",
       "<clipPath id=\"clip13\">\n",
       "  <path d=\"M 8.21875 20 L 499.519531 20 L 499.519531 23 L 8.21875 23 Z \"/>\n",
       "</clipPath>\n",
       "<clipPath id=\"clip14\">\n",
       "  <path d=\"M 67 5.480469 L 69 5.480469 L 69 359.628906 L 67 359.628906 Z \"/>\n",
       "</clipPath>\n",
       "<clipPath id=\"clip15\">\n",
       "  <path d=\"M 215 5.480469 L 217 5.480469 L 217 359.628906 L 215 359.628906 Z \"/>\n",
       "</clipPath>\n",
       "<clipPath id=\"clip16\">\n",
       "  <path d=\"M 364 5.480469 L 366 5.480469 L 366 359.628906 L 364 359.628906 Z \"/>\n",
       "</clipPath>\n",
       "</defs>\n",
       "<g id=\"surface114\">\n",
       "<rect x=\"0\" y=\"0\" width=\"504\" height=\"504\" style=\"fill:rgb(100%,100%,100%);fill-opacity:1;stroke:none;\"/>\n",
       "<rect x=\"0\" y=\"0\" width=\"504\" height=\"504\" style=\"fill:rgb(100%,100%,100%);fill-opacity:1;stroke:none;\"/>\n",
       "<path style=\"fill:none;stroke-width:1.066978;stroke-linecap:round;stroke-linejoin:round;stroke:rgb(100%,100%,100%);stroke-opacity:1;stroke-miterlimit:10;\" d=\"M 0 504 L 504 504 L 504 0 L 0 0 Z \"/>\n",
       "<g clip-path=\"url(#clip1)\" clip-rule=\"nonzero\">\n",
       "<path style=\" stroke:none;fill-rule:nonzero;fill:rgb(92.156863%,92.156863%,92.156863%);fill-opacity:1;\" d=\"M 8.21875 358.628906 L 498.519531 358.628906 L 498.519531 5.480469 L 8.21875 5.480469 Z \"/>\n",
       "</g>\n",
       "<g clip-path=\"url(#clip2)\" clip-rule=\"nonzero\">\n",
       "<path style=\"fill:none;stroke-width:0.533489;stroke-linecap:butt;stroke-linejoin:round;stroke:rgb(100%,100%,100%);stroke-opacity:1;stroke-miterlimit:10;\" d=\"M 8.21875 302.445312 L 498.519531 302.445312 \"/>\n",
       "</g>\n",
       "<g clip-path=\"url(#clip3)\" clip-rule=\"nonzero\">\n",
       "<path style=\"fill:none;stroke-width:0.533489;stroke-linecap:butt;stroke-linejoin:round;stroke:rgb(100%,100%,100%);stroke-opacity:1;stroke-miterlimit:10;\" d=\"M 8.21875 222.183594 L 498.519531 222.183594 \"/>\n",
       "</g>\n",
       "<g clip-path=\"url(#clip4)\" clip-rule=\"nonzero\">\n",
       "<path style=\"fill:none;stroke-width:0.533489;stroke-linecap:butt;stroke-linejoin:round;stroke:rgb(100%,100%,100%);stroke-opacity:1;stroke-miterlimit:10;\" d=\"M 8.21875 141.921875 L 498.519531 141.921875 \"/>\n",
       "</g>\n",
       "<g clip-path=\"url(#clip5)\" clip-rule=\"nonzero\">\n",
       "<path style=\"fill:none;stroke-width:0.533489;stroke-linecap:butt;stroke-linejoin:round;stroke:rgb(100%,100%,100%);stroke-opacity:1;stroke-miterlimit:10;\" d=\"M 8.21875 61.664062 L 498.519531 61.664062 \"/>\n",
       "</g>\n",
       "<g clip-path=\"url(#clip6)\" clip-rule=\"nonzero\">\n",
       "<path style=\"fill:none;stroke-width:0.533489;stroke-linecap:butt;stroke-linejoin:round;stroke:rgb(100%,100%,100%);stroke-opacity:1;stroke-miterlimit:10;\" d=\"M 141.9375 358.628906 L 141.9375 5.480469 \"/>\n",
       "</g>\n",
       "<g clip-path=\"url(#clip7)\" clip-rule=\"nonzero\">\n",
       "<path style=\"fill:none;stroke-width:0.533489;stroke-linecap:butt;stroke-linejoin:round;stroke:rgb(100%,100%,100%);stroke-opacity:1;stroke-miterlimit:10;\" d=\"M 290.515625 358.628906 L 290.515625 5.480469 \"/>\n",
       "</g>\n",
       "<g clip-path=\"url(#clip8)\" clip-rule=\"nonzero\">\n",
       "<path style=\"fill:none;stroke-width:0.533489;stroke-linecap:butt;stroke-linejoin:round;stroke:rgb(100%,100%,100%);stroke-opacity:1;stroke-miterlimit:10;\" d=\"M 439.089844 358.628906 L 439.089844 5.480469 \"/>\n",
       "</g>\n",
       "<g clip-path=\"url(#clip9)\" clip-rule=\"nonzero\">\n",
       "<path style=\"fill:none;stroke-width:1.066978;stroke-linecap:butt;stroke-linejoin:round;stroke:rgb(100%,100%,100%);stroke-opacity:1;stroke-miterlimit:10;\" d=\"M 8.21875 342.578125 L 498.519531 342.578125 \"/>\n",
       "</g>\n",
       "<g clip-path=\"url(#clip10)\" clip-rule=\"nonzero\">\n",
       "<path style=\"fill:none;stroke-width:1.066978;stroke-linecap:butt;stroke-linejoin:round;stroke:rgb(100%,100%,100%);stroke-opacity:1;stroke-miterlimit:10;\" d=\"M 8.21875 262.316406 L 498.519531 262.316406 \"/>\n",
       "</g>\n",
       "<g clip-path=\"url(#clip11)\" clip-rule=\"nonzero\">\n",
       "<path style=\"fill:none;stroke-width:1.066978;stroke-linecap:butt;stroke-linejoin:round;stroke:rgb(100%,100%,100%);stroke-opacity:1;stroke-miterlimit:10;\" d=\"M 8.21875 182.054688 L 498.519531 182.054688 \"/>\n",
       "</g>\n",
       "<g clip-path=\"url(#clip12)\" clip-rule=\"nonzero\">\n",
       "<path style=\"fill:none;stroke-width:1.066978;stroke-linecap:butt;stroke-linejoin:round;stroke:rgb(100%,100%,100%);stroke-opacity:1;stroke-miterlimit:10;\" d=\"M 8.21875 101.792969 L 498.519531 101.792969 \"/>\n",
       "</g>\n",
       "<g clip-path=\"url(#clip13)\" clip-rule=\"nonzero\">\n",
       "<path style=\"fill:none;stroke-width:1.066978;stroke-linecap:butt;stroke-linejoin:round;stroke:rgb(100%,100%,100%);stroke-opacity:1;stroke-miterlimit:10;\" d=\"M 8.21875 21.53125 L 498.519531 21.53125 \"/>\n",
       "</g>\n",
       "<g clip-path=\"url(#clip14)\" clip-rule=\"nonzero\">\n",
       "<path style=\"fill:none;stroke-width:1.066978;stroke-linecap:butt;stroke-linejoin:round;stroke:rgb(100%,100%,100%);stroke-opacity:1;stroke-miterlimit:10;\" d=\"M 67.648438 358.628906 L 67.648438 5.480469 \"/>\n",
       "</g>\n",
       "<g clip-path=\"url(#clip15)\" clip-rule=\"nonzero\">\n",
       "<path style=\"fill:none;stroke-width:1.066978;stroke-linecap:butt;stroke-linejoin:round;stroke:rgb(100%,100%,100%);stroke-opacity:1;stroke-miterlimit:10;\" d=\"M 216.226562 358.628906 L 216.226562 5.480469 \"/>\n",
       "</g>\n",
       "<g clip-path=\"url(#clip16)\" clip-rule=\"nonzero\">\n",
       "<path style=\"fill:none;stroke-width:1.066978;stroke-linecap:butt;stroke-linejoin:round;stroke:rgb(100%,100%,100%);stroke-opacity:1;stroke-miterlimit:10;\" d=\"M 364.800781 358.628906 L 364.800781 5.480469 \"/>\n",
       "</g>\n",
       "<path style=\"fill:none;stroke-width:1.066978;stroke-linecap:butt;stroke-linejoin:round;stroke:rgb(94.117647%,23.137255%,12.54902%);stroke-opacity:1;stroke-miterlimit:10;\" d=\"M 196.6875 183.570312 L 317.261719 111.246094 \"/>\n",
       "<path style=\"fill:none;stroke-width:1.066978;stroke-linecap:butt;stroke-linejoin:round;stroke:rgb(94.117647%,23.137255%,12.54902%);stroke-opacity:1;stroke-miterlimit:10;\" d=\"M 196.6875 183.570312 L 125.941406 47.953125 \"/>\n",
       "<path style=\"fill:none;stroke-width:1.066978;stroke-linecap:butt;stroke-linejoin:round;stroke:rgb(94.117647%,23.137255%,12.54902%);stroke-opacity:1;stroke-miterlimit:10;\" d=\"M 196.6875 183.570312 L 82.289062 268.769531 \"/>\n",
       "<path style=\"fill:none;stroke-width:1.066978;stroke-linecap:butt;stroke-linejoin:round;stroke:rgb(94.117647%,23.137255%,12.54902%);stroke-opacity:1;stroke-miterlimit:10;\" d=\"M 196.6875 183.570312 L 225.253906 21.53125 \"/>\n",
       "<path style=\"fill:none;stroke-width:1.066978;stroke-linecap:butt;stroke-linejoin:round;stroke:rgb(94.117647%,23.137255%,12.54902%);stroke-opacity:1;stroke-miterlimit:10;\" d=\"M 196.6875 183.570312 L 161.140625 342.578125 \"/>\n",
       "<path style=\"fill:none;stroke-width:1.066978;stroke-linecap:butt;stroke-linejoin:round;stroke:rgb(94.117647%,23.137255%,12.54902%);stroke-opacity:1;stroke-miterlimit:10;\" d=\"M 196.6875 183.570312 L 329.441406 221.839844 \"/>\n",
       "<path style=\"fill:none;stroke-width:1.066978;stroke-linecap:butt;stroke-linejoin:round;stroke:rgb(94.117647%,23.137255%,12.54902%);stroke-opacity:1;stroke-miterlimit:10;\" d=\"M 196.6875 183.570312 L 67.648438 147.988281 \"/>\n",
       "<path style=\"fill:none;stroke-width:1.066978;stroke-linecap:butt;stroke-linejoin:round;stroke:rgb(94.117647%,23.137255%,12.54902%);stroke-opacity:1;stroke-miterlimit:10;\" d=\"M 196.6875 183.570312 L 275.382812 313.738281 \"/>\n",
       "<path style=\"fill:none;stroke-width:1.066978;stroke-linecap:butt;stroke-linejoin:round;stroke:rgb(94.117647%,23.137255%,12.54902%);stroke-opacity:1;stroke-miterlimit:10;\" d=\"M 317.261719 111.246094 L 329.441406 221.839844 \"/>\n",
       "<path style=\"fill:none;stroke-width:1.066978;stroke-linecap:butt;stroke-linejoin:round;stroke:rgb(94.117647%,23.137255%,12.54902%);stroke-opacity:1;stroke-miterlimit:10;\" d=\"M 329.441406 221.839844 L 275.382812 313.738281 \"/>\n",
       "<path style=\"fill:none;stroke-width:1.066978;stroke-linecap:butt;stroke-linejoin:round;stroke:rgb(94.117647%,23.137255%,12.54902%);stroke-opacity:1;stroke-miterlimit:10;\" d=\"M 329.441406 221.839844 L 439.089844 253.683594 \"/>\n",
       "<path style=\"fill-rule:nonzero;fill:rgb(1.960784%,43.921569%,69.019608%);fill-opacity:1;stroke-width:0.533489;stroke-linecap:round;stroke-linejoin:round;stroke:rgb(100%,100%,100%);stroke-opacity:1;stroke-miterlimit:10;\" d=\"M 175.246094 192.671875 L 218.125 192.671875 L 218.039062 192.667969 L 218.386719 192.65625 L 218.726562 192.585938 L 219.050781 192.460938 L 219.351562 192.289062 L 219.621094 192.070312 L 219.851562 191.808594 L 220.039062 191.515625 L 220.175781 191.195312 L 220.257812 190.855469 L 220.285156 190.511719 L 220.285156 176.628906 L 220.257812 176.285156 L 220.175781 175.945312 L 220.039062 175.625 L 219.851562 175.332031 L 219.621094 175.074219 L 219.351562 174.851562 L 219.050781 174.679688 L 218.726562 174.554688 L 218.386719 174.484375 L 218.125 174.46875 L 175.246094 174.46875 L 175.507812 174.484375 L 175.160156 174.472656 L 174.8125 174.515625 L 174.480469 174.609375 L 174.167969 174.761719 L 173.878906 174.957031 L 173.628906 175.199219 L 173.421875 175.476562 L 173.257812 175.785156 L 173.148438 176.113281 L 173.09375 176.457031 L 173.085938 176.628906 L 173.085938 190.511719 L 173.09375 190.335938 L 173.09375 190.683594 L 173.148438 191.027344 L 173.257812 191.355469 L 173.421875 191.664062 L 173.628906 191.941406 L 173.878906 192.183594 L 174.167969 192.382812 L 174.480469 192.53125 L 174.8125 192.625 L 175.160156 192.667969 Z \"/>\n",
       "<g style=\"fill:rgb(100%,100%,100%);fill-opacity:1;\">\n",
       "  <use xlink:href=\"#glyph0-1\" x=\"176.6875\" y=\"188.626953\"/>\n",
       "  <use xlink:href=\"#glyph0-2\" x=\"186.171875\" y=\"188.626953\"/>\n",
       "  <use xlink:href=\"#glyph0-3\" x=\"190.125\" y=\"188.626953\"/>\n",
       "  <use xlink:href=\"#glyph0-4\" x=\"198.8125\" y=\"188.626953\"/>\n",
       "  <use xlink:href=\"#glyph0-5\" x=\"206.717773\" y=\"188.626953\"/>\n",
       "</g>\n",
       "<path style=\"fill-rule:nonzero;fill:rgb(1.960784%,43.921569%,69.019608%);fill-opacity:0.501961;stroke-width:0.533489;stroke-linecap:round;stroke-linejoin:round;stroke:rgb(100%,100%,100%);stroke-opacity:1;stroke-miterlimit:10;\" d=\"M 296.324219 120.347656 L 338.203125 120.347656 L 338.117188 120.34375 L 338.464844 120.332031 L 338.804688 120.261719 L 339.128906 120.136719 L 339.429688 119.964844 L 339.699219 119.746094 L 339.929688 119.484375 L 340.117188 119.191406 L 340.25 118.871094 L 340.335938 118.53125 L 340.363281 118.1875 L 340.363281 104.304688 L 340.335938 103.960938 L 340.25 103.621094 L 340.117188 103.300781 L 339.929688 103.007812 L 339.699219 102.75 L 339.429688 102.527344 L 339.128906 102.355469 L 338.804688 102.230469 L 338.464844 102.164062 L 338.203125 102.144531 L 296.324219 102.144531 L 296.582031 102.164062 L 296.234375 102.148438 L 295.890625 102.191406 L 295.558594 102.285156 L 295.242188 102.4375 L 294.957031 102.632812 L 294.707031 102.875 L 294.496094 103.152344 L 294.335938 103.460938 L 294.226562 103.789062 L 294.167969 104.132812 L 294.164062 104.304688 L 294.164062 118.1875 L 294.167969 118.011719 L 294.167969 118.359375 L 294.226562 118.703125 L 294.335938 119.03125 L 294.496094 119.339844 L 294.707031 119.617188 L 294.957031 119.859375 L 295.242188 120.058594 L 295.558594 120.207031 L 295.890625 120.304688 L 296.234375 120.34375 Z \"/>\n",
       "<g style=\"fill:rgb(100%,100%,100%);fill-opacity:1;\">\n",
       "  <use xlink:href=\"#glyph0-1\" x=\"297.761719\" y=\"116.302734\"/>\n",
       "  <use xlink:href=\"#glyph0-2\" x=\"307.246094\" y=\"116.302734\"/>\n",
       "  <use xlink:href=\"#glyph0-3\" x=\"311.199219\" y=\"116.302734\"/>\n",
       "  <use xlink:href=\"#glyph0-4\" x=\"319.886719\" y=\"116.302734\"/>\n",
       "  <use xlink:href=\"#glyph0-3\" x=\"327.791992\" y=\"116.302734\"/>\n",
       "</g>\n",
       "<path style=\"fill-rule:nonzero;fill:rgb(1.960784%,43.921569%,69.019608%);fill-opacity:1;stroke-width:0.533489;stroke-linecap:round;stroke-linejoin:round;stroke:rgb(100%,100%,100%);stroke-opacity:1;stroke-miterlimit:10;\" d=\"M 308.003906 230.941406 L 350.882812 230.941406 L 350.796875 230.9375 L 351.144531 230.925781 L 351.484375 230.855469 L 351.808594 230.730469 L 352.109375 230.558594 L 352.378906 230.339844 L 352.609375 230.078125 L 352.796875 229.785156 L 352.929688 229.464844 L 353.015625 229.128906 L 353.042969 228.78125 L 353.042969 214.902344 L 353.015625 214.554688 L 352.929688 214.21875 L 352.796875 213.898438 L 352.609375 213.601562 L 352.378906 213.34375 L 352.109375 213.125 L 351.808594 212.949219 L 351.484375 212.824219 L 351.144531 212.757812 L 350.882812 212.742188 L 308.003906 212.742188 L 308.261719 212.757812 L 307.914062 212.742188 L 307.570312 212.785156 L 307.238281 212.882812 L 306.921875 213.03125 L 306.636719 213.226562 L 306.386719 213.46875 L 306.175781 213.746094 L 306.015625 214.054688 L 305.90625 214.382812 L 305.847656 214.726562 L 305.84375 214.902344 L 305.84375 228.78125 L 305.847656 228.605469 L 305.847656 228.953125 L 305.90625 229.296875 L 306.015625 229.628906 L 306.175781 229.933594 L 306.386719 230.214844 L 306.636719 230.453125 L 306.921875 230.652344 L 307.238281 230.800781 L 307.570312 230.898438 L 307.914062 230.9375 Z \"/>\n",
       "<g style=\"fill:rgb(100%,100%,100%);fill-opacity:1;\">\n",
       "  <use xlink:href=\"#glyph0-1\" x=\"309.441406\" y=\"226.896484\"/>\n",
       "  <use xlink:href=\"#glyph0-2\" x=\"318.925781\" y=\"226.896484\"/>\n",
       "  <use xlink:href=\"#glyph0-3\" x=\"322.878906\" y=\"226.896484\"/>\n",
       "  <use xlink:href=\"#glyph0-6\" x=\"331.566406\" y=\"226.896484\"/>\n",
       "  <use xlink:href=\"#glyph0-5\" x=\"339.47168\" y=\"226.896484\"/>\n",
       "</g>\n",
       "<path style=\"fill-rule:nonzero;fill:rgb(1.960784%,43.921569%,69.019608%);fill-opacity:0.501961;stroke-width:0.533489;stroke-linecap:round;stroke-linejoin:round;stroke:rgb(100%,100%,100%);stroke-opacity:1;stroke-miterlimit:10;\" d=\"M 103.503906 57.050781 L 148.382812 57.050781 L 148.296875 57.050781 L 148.644531 57.035156 L 148.984375 56.964844 L 149.308594 56.84375 L 149.609375 56.667969 L 149.878906 56.449219 L 150.109375 56.1875 L 150.296875 55.894531 L 150.433594 55.574219 L 150.515625 55.238281 L 150.542969 54.890625 L 150.542969 41.011719 L 150.515625 40.664062 L 150.433594 40.328125 L 150.296875 40.007812 L 150.109375 39.714844 L 149.878906 39.453125 L 149.609375 39.234375 L 149.308594 39.058594 L 148.984375 38.9375 L 148.644531 38.867188 L 148.382812 38.851562 L 103.503906 38.851562 L 103.761719 38.867188 L 103.417969 38.851562 L 103.070312 38.894531 L 102.738281 38.992188 L 102.421875 39.140625 L 102.136719 39.339844 L 101.886719 39.578125 L 101.675781 39.855469 L 101.515625 40.164062 L 101.40625 40.496094 L 101.351562 40.835938 L 101.34375 41.011719 L 101.34375 54.890625 L 101.351562 54.71875 L 101.351562 55.066406 L 101.40625 55.410156 L 101.515625 55.738281 L 101.675781 56.046875 L 101.886719 56.324219 L 102.136719 56.566406 L 102.421875 56.761719 L 102.738281 56.910156 L 103.070312 57.007812 L 103.417969 57.050781 Z \"/>\n",
       "<g style=\"fill:rgb(100%,100%,100%);fill-opacity:1;\">\n",
       "  <use xlink:href=\"#glyph0-1\" x=\"104.941406\" y=\"53.009766\"/>\n",
       "  <use xlink:href=\"#glyph0-2\" x=\"114.425781\" y=\"53.009766\"/>\n",
       "  <use xlink:href=\"#glyph0-3\" x=\"118.378906\" y=\"53.009766\"/>\n",
       "  <use xlink:href=\"#glyph0-4\" x=\"127.066406\" y=\"53.009766\"/>\n",
       "  <use xlink:href=\"#glyph0-7\" x=\"134.97168\" y=\"53.009766\"/>\n",
       "</g>\n",
       "<path style=\"fill-rule:nonzero;fill:rgb(1.960784%,43.921569%,69.019608%);fill-opacity:0.501961;stroke-width:0.533489;stroke-linecap:round;stroke-linejoin:round;stroke:rgb(100%,100%,100%);stroke-opacity:1;stroke-miterlimit:10;\" d=\"M 60.347656 277.871094 L 104.230469 277.871094 L 104.140625 277.867188 L 104.488281 277.855469 L 104.828125 277.785156 L 105.15625 277.660156 L 105.457031 277.488281 L 105.726562 277.265625 L 105.957031 277.007812 L 106.140625 276.714844 L 106.277344 276.394531 L 106.359375 276.054688 L 106.390625 275.710938 L 106.390625 261.828125 L 106.359375 261.484375 L 106.277344 261.144531 L 106.140625 260.824219 L 105.957031 260.53125 L 105.726562 260.273438 L 105.457031 260.050781 L 105.15625 259.878906 L 104.828125 259.753906 L 104.488281 259.683594 L 104.230469 259.667969 L 60.347656 259.667969 L 60.609375 259.683594 L 60.261719 259.671875 L 59.917969 259.714844 L 59.582031 259.808594 L 59.269531 259.957031 L 58.984375 260.15625 L 58.730469 260.398438 L 58.523438 260.675781 L 58.363281 260.984375 L 58.25 261.3125 L 58.195312 261.65625 L 58.1875 261.828125 L 58.1875 275.710938 L 58.195312 275.535156 L 58.195312 275.882812 L 58.25 276.226562 L 58.363281 276.554688 L 58.523438 276.863281 L 58.730469 277.140625 L 58.984375 277.382812 L 59.269531 277.582031 L 59.582031 277.730469 L 59.917969 277.824219 L 60.261719 277.867188 Z \"/>\n",
       "<g style=\"fill:rgb(100%,100%,100%);fill-opacity:1;\">\n",
       "  <use xlink:href=\"#glyph0-1\" x=\"61.789062\" y=\"273.826172\"/>\n",
       "  <use xlink:href=\"#glyph0-2\" x=\"71.273438\" y=\"273.826172\"/>\n",
       "  <use xlink:href=\"#glyph0-3\" x=\"75.226562\" y=\"273.826172\"/>\n",
       "  <use xlink:href=\"#glyph0-4\" x=\"83.914062\" y=\"273.826172\"/>\n",
       "  <use xlink:href=\"#glyph0-8\" x=\"91.819336\" y=\"273.826172\"/>\n",
       "</g>\n",
       "<path style=\"fill-rule:nonzero;fill:rgb(1.960784%,43.921569%,69.019608%);fill-opacity:0.501961;stroke-width:0.533489;stroke-linecap:round;stroke-linejoin:round;stroke:rgb(100%,100%,100%);stroke-opacity:1;stroke-miterlimit:10;\" d=\"M 206.8125 30.632812 L 243.691406 30.632812 L 243.605469 30.628906 L 243.953125 30.617188 L 244.292969 30.546875 L 244.617188 30.421875 L 244.917969 30.25 L 245.1875 30.03125 L 245.417969 29.769531 L 245.605469 29.476562 L 245.742188 29.15625 L 245.824219 28.816406 L 245.851562 28.472656 L 245.851562 14.589844 L 245.824219 14.246094 L 245.742188 13.90625 L 245.605469 13.589844 L 245.417969 13.292969 L 245.1875 13.035156 L 244.917969 12.8125 L 244.617188 12.640625 L 244.292969 12.515625 L 243.953125 12.449219 L 243.691406 12.433594 L 206.8125 12.433594 L 207.074219 12.449219 L 206.726562 12.433594 L 206.378906 12.476562 L 206.046875 12.570312 L 205.730469 12.722656 L 205.445312 12.917969 L 205.195312 13.160156 L 204.988281 13.4375 L 204.824219 13.746094 L 204.714844 14.074219 L 204.660156 14.417969 L 204.652344 14.589844 L 204.652344 28.472656 L 204.660156 28.296875 L 204.660156 28.644531 L 204.714844 28.988281 L 204.824219 29.320312 L 204.988281 29.625 L 205.195312 29.902344 L 205.445312 30.144531 L 205.730469 30.34375 L 206.046875 30.492188 L 206.378906 30.589844 L 206.726562 30.628906 Z \"/>\n",
       "<g style=\"fill:rgb(100%,100%,100%);fill-opacity:1;\">\n",
       "  <use xlink:href=\"#glyph0-1\" x=\"208.253906\" y=\"26.587891\"/>\n",
       "  <use xlink:href=\"#glyph0-2\" x=\"217.738281\" y=\"26.587891\"/>\n",
       "  <use xlink:href=\"#glyph0-3\" x=\"221.691406\" y=\"26.587891\"/>\n",
       "  <use xlink:href=\"#glyph0-4\" x=\"230.378906\" y=\"26.587891\"/>\n",
       "  <use xlink:href=\"#glyph0-2\" x=\"238.28418\" y=\"26.587891\"/>\n",
       "</g>\n",
       "<path style=\"fill-rule:nonzero;fill:rgb(1.960784%,43.921569%,69.019608%);fill-opacity:0.501961;stroke-width:0.533489;stroke-linecap:round;stroke-linejoin:round;stroke:rgb(100%,100%,100%);stroke-opacity:1;stroke-miterlimit:10;\" d=\"M 140.699219 351.675781 L 181.582031 351.675781 L 181.492188 351.675781 L 181.839844 351.660156 L 182.179688 351.589844 L 182.507812 351.46875 L 182.808594 351.292969 L 183.078125 351.074219 L 183.308594 350.816406 L 183.492188 350.519531 L 183.628906 350.199219 L 183.710938 349.863281 L 183.742188 349.515625 L 183.742188 335.636719 L 183.710938 335.289062 L 183.628906 334.953125 L 183.492188 334.632812 L 183.308594 334.339844 L 183.078125 334.078125 L 182.808594 333.859375 L 182.507812 333.6875 L 182.179688 333.5625 L 181.839844 333.492188 L 181.582031 333.476562 L 140.699219 333.476562 L 140.960938 333.492188 L 140.613281 333.480469 L 140.269531 333.519531 L 139.933594 333.617188 L 139.621094 333.765625 L 139.335938 333.964844 L 139.082031 334.203125 L 138.875 334.484375 L 138.714844 334.789062 L 138.601562 335.121094 L 138.546875 335.464844 L 138.539062 335.636719 L 138.539062 349.515625 L 138.546875 349.34375 L 138.546875 349.691406 L 138.601562 350.035156 L 138.714844 350.363281 L 138.875 350.671875 L 139.082031 350.949219 L 139.335938 351.191406 L 139.621094 351.386719 L 139.933594 351.535156 L 140.269531 351.632812 L 140.613281 351.675781 Z \"/>\n",
       "<g style=\"fill:rgb(100%,100%,100%);fill-opacity:1;\">\n",
       "  <use xlink:href=\"#glyph0-1\" x=\"142.140625\" y=\"347.634766\"/>\n",
       "  <use xlink:href=\"#glyph0-2\" x=\"151.625\" y=\"347.634766\"/>\n",
       "  <use xlink:href=\"#glyph0-3\" x=\"155.578125\" y=\"347.634766\"/>\n",
       "  <use xlink:href=\"#glyph0-4\" x=\"164.265625\" y=\"347.634766\"/>\n",
       "  <use xlink:href=\"#glyph0-9\" x=\"172.170898\" y=\"347.634766\"/>\n",
       "</g>\n",
       "<path style=\"fill-rule:nonzero;fill:rgb(1.960784%,43.921569%,69.019608%);fill-opacity:1;stroke-width:0.533489;stroke-linecap:round;stroke-linejoin:round;stroke:rgb(100%,100%,100%);stroke-opacity:1;stroke-miterlimit:10;\" d=\"M 46.210938 157.089844 L 89.089844 157.089844 L 89.003906 157.085938 L 89.351562 157.074219 L 89.691406 157.003906 L 90.015625 156.878906 L 90.316406 156.707031 L 90.585938 156.488281 L 90.816406 156.226562 L 91.003906 155.933594 L 91.136719 155.613281 L 91.222656 155.273438 L 91.25 154.929688 L 91.25 141.050781 L 91.222656 140.703125 L 91.136719 140.363281 L 91.003906 140.046875 L 90.816406 139.75 L 90.585938 139.492188 L 90.316406 139.269531 L 90.015625 139.097656 L 89.691406 138.972656 L 89.351562 138.90625 L 89.089844 138.890625 L 46.210938 138.890625 L 46.46875 138.90625 L 46.121094 138.890625 L 45.777344 138.933594 L 45.445312 139.027344 L 45.128906 139.179688 L 44.84375 139.375 L 44.59375 139.617188 L 44.382812 139.894531 L 44.222656 140.203125 L 44.113281 140.53125 L 44.058594 140.875 L 44.050781 141.050781 L 44.050781 154.929688 L 44.058594 154.753906 L 44.058594 155.101562 L 44.113281 155.445312 L 44.222656 155.777344 L 44.382812 156.082031 L 44.59375 156.359375 L 44.84375 156.601562 L 45.128906 156.800781 L 45.445312 156.949219 L 45.777344 157.046875 L 46.121094 157.085938 Z \"/>\n",
       "<g style=\"fill:rgb(100%,100%,100%);fill-opacity:1;\">\n",
       "  <use xlink:href=\"#glyph0-1\" x=\"47.648438\" y=\"153.044922\"/>\n",
       "  <use xlink:href=\"#glyph0-2\" x=\"57.132812\" y=\"153.044922\"/>\n",
       "  <use xlink:href=\"#glyph0-3\" x=\"61.085938\" y=\"153.044922\"/>\n",
       "  <use xlink:href=\"#glyph0-6\" x=\"69.773438\" y=\"153.044922\"/>\n",
       "  <use xlink:href=\"#glyph0-1\" x=\"77.678711\" y=\"153.044922\"/>\n",
       "</g>\n",
       "<path style=\"fill-rule:nonzero;fill:rgb(0%,0%,0%);fill-opacity:0.501961;stroke-width:0.533489;stroke-linecap:round;stroke-linejoin:round;stroke:rgb(100%,100%,100%);stroke-opacity:1;stroke-miterlimit:10;\" d=\"M 249.441406 322.839844 L 301.320312 322.839844 L 301.234375 322.839844 L 301.582031 322.824219 L 301.921875 322.753906 L 302.25 322.632812 L 302.550781 322.457031 L 302.820312 322.238281 L 303.050781 321.976562 L 303.234375 321.683594 L 303.371094 321.363281 L 303.453125 321.027344 L 303.480469 320.679688 L 303.480469 306.800781 L 303.453125 306.453125 L 303.371094 306.117188 L 303.234375 305.796875 L 303.050781 305.503906 L 302.820312 305.242188 L 302.550781 305.023438 L 302.25 304.847656 L 301.921875 304.726562 L 301.582031 304.65625 L 301.320312 304.640625 L 249.441406 304.640625 L 249.703125 304.65625 L 249.355469 304.640625 L 249.011719 304.683594 L 248.675781 304.78125 L 248.363281 304.929688 L 248.074219 305.125 L 247.824219 305.367188 L 247.617188 305.644531 L 247.453125 305.953125 L 247.34375 306.28125 L 247.289062 306.625 L 247.28125 306.800781 L 247.28125 320.679688 L 247.289062 320.507812 L 247.289062 320.855469 L 247.34375 321.195312 L 247.453125 321.527344 L 247.617188 321.835938 L 247.824219 322.113281 L 248.074219 322.351562 L 248.363281 322.550781 L 248.675781 322.699219 L 249.011719 322.796875 L 249.355469 322.839844 Z \"/>\n",
       "<g style=\"fill:rgb(100%,100%,100%);fill-opacity:1;\">\n",
       "  <use xlink:href=\"#glyph0-1\" x=\"250.882812\" y=\"318.794922\"/>\n",
       "  <use xlink:href=\"#glyph0-2\" x=\"260.367188\" y=\"318.794922\"/>\n",
       "  <use xlink:href=\"#glyph0-3\" x=\"264.320312\" y=\"318.794922\"/>\n",
       "  <use xlink:href=\"#glyph0-6\" x=\"273.007812\" y=\"318.794922\"/>\n",
       "  <use xlink:href=\"#glyph0-7\" x=\"280.913086\" y=\"318.794922\"/>\n",
       "  <use xlink:href=\"#glyph0-10\" x=\"291.975586\" y=\"318.794922\"/>\n",
       "</g>\n",
       "<path style=\"fill-rule:nonzero;fill:rgb(0%,0%,0%);fill-opacity:1;stroke-width:0.533489;stroke-linecap:round;stroke-linejoin:round;stroke:rgb(100%,100%,100%);stroke-opacity:1;stroke-miterlimit:10;\" d=\"M 409.148438 262.785156 L 469.03125 262.785156 L 468.941406 262.785156 L 469.289062 262.769531 L 469.632812 262.699219 L 469.957031 262.578125 L 470.257812 262.402344 L 470.527344 262.183594 L 470.757812 261.921875 L 470.941406 261.628906 L 471.078125 261.308594 L 471.160156 260.972656 L 471.191406 260.625 L 471.191406 246.746094 L 471.160156 246.398438 L 471.078125 246.0625 L 470.941406 245.742188 L 470.757812 245.449219 L 470.527344 245.1875 L 470.257812 244.96875 L 469.957031 244.792969 L 469.632812 244.671875 L 469.289062 244.601562 L 469.03125 244.585938 L 409.148438 244.585938 L 409.410156 244.601562 L 409.0625 244.585938 L 408.71875 244.628906 L 408.382812 244.726562 L 408.070312 244.875 L 407.785156 245.070312 L 407.535156 245.3125 L 407.324219 245.589844 L 407.164062 245.898438 L 407.054688 246.226562 L 406.996094 246.570312 L 406.988281 246.746094 L 406.988281 260.625 L 406.996094 260.453125 L 406.996094 260.800781 L 407.054688 261.140625 L 407.164062 261.472656 L 407.324219 261.78125 L 407.535156 262.058594 L 407.785156 262.296875 L 408.070312 262.496094 L 408.382812 262.644531 L 408.71875 262.742188 L 409.0625 262.785156 Z \"/>\n",
       "<g style=\"fill:rgb(100%,100%,100%);fill-opacity:1;\">\n",
       "  <use xlink:href=\"#glyph0-11\" x=\"410.589844\" y=\"258.740234\"/>\n",
       "  <use xlink:href=\"#glyph0-12\" x=\"420.074219\" y=\"258.740234\"/>\n",
       "  <use xlink:href=\"#glyph0-5\" x=\"429.558594\" y=\"258.740234\"/>\n",
       "  <use xlink:href=\"#glyph0-11\" x=\"439.042969\" y=\"258.740234\"/>\n",
       "  <use xlink:href=\"#glyph0-13\" x=\"448.527344\" y=\"258.740234\"/>\n",
       "  <use xlink:href=\"#glyph0-10\" x=\"458.792969\" y=\"258.740234\"/>\n",
       "</g>\n",
       "<path style=\" stroke:none;fill-rule:nonzero;fill:rgb(100%,100%,100%);fill-opacity:1;\" d=\"M 213.835938 395.65625 L 292.90625 395.65625 L 292.90625 369.871094 L 213.835938 369.871094 Z \"/>\n",
       "<g style=\"fill:rgb(0%,0%,0%);fill-opacity:1;\">\n",
       "  <use xlink:href=\"#glyph1-1\" x=\"218.085938\" y=\"386.749023\"/>\n",
       "  <use xlink:href=\"#glyph1-2\" x=\"225.422852\" y=\"386.749023\"/>\n",
       "  <use xlink:href=\"#glyph1-2\" x=\"228.480469\" y=\"386.749023\"/>\n",
       "  <use xlink:href=\"#glyph1-3\" x=\"231.538086\" y=\"386.749023\"/>\n",
       "  <use xlink:href=\"#glyph1-4\" x=\"237.654297\" y=\"386.749023\"/>\n",
       "  <use xlink:href=\"#glyph1-5\" x=\"243.154297\" y=\"386.749023\"/>\n",
       "</g>\n",
       "<path style=\"fill-rule:nonzero;fill:rgb(94.901961%,94.901961%,94.901961%);fill-opacity:1;stroke-width:1.066978;stroke-linecap:round;stroke-linejoin:round;stroke:rgb(100%,100%,100%);stroke-opacity:1;stroke-miterlimit:10;\" d=\"M 250.203125 391.40625 L 267.484375 391.40625 L 267.484375 374.125 L 250.203125 374.125 Z \"/>\n",
       "<path style=\"fill:none;stroke-width:1.066978;stroke-linecap:butt;stroke-linejoin:round;stroke:rgb(94.117647%,23.137255%,12.54902%);stroke-opacity:1;stroke-miterlimit:10;\" d=\"M 251.933594 382.765625 L 265.757812 382.765625 \"/>\n",
       "<g style=\"fill:rgb(0%,0%,0%);fill-opacity:1;\">\n",
       "  <use xlink:href=\"#glyph2-1\" x=\"269.644531\" y=\"385.651367\"/>\n",
       "  <use xlink:href=\"#glyph2-2\" x=\"274.535156\" y=\"385.651367\"/>\n",
       "  <use xlink:href=\"#glyph2-3\" x=\"279.425781\" y=\"385.651367\"/>\n",
       "  <use xlink:href=\"#glyph2-3\" x=\"283.824219\" y=\"385.651367\"/>\n",
       "</g>\n",
       "<path style=\" stroke:none;fill-rule:nonzero;fill:rgb(100%,100%,100%);fill-opacity:1;\" d=\"M 157.480469 427.109375 L 349.257812 427.109375 L 349.257812 401.324219 L 157.480469 401.324219 Z \"/>\n",
       "<g style=\"fill:rgb(0%,0%,0%);fill-opacity:1;\">\n",
       "  <use xlink:href=\"#glyph1-6\" x=\"161.734375\" y=\"418.202148\"/>\n",
       "  <use xlink:href=\"#glyph1-7\" x=\"169.071289\" y=\"418.202148\"/>\n",
       "  <use xlink:href=\"#glyph1-8\" x=\"177.013672\" y=\"418.202148\"/>\n",
       "  <use xlink:href=\"#glyph1-5\" x=\"179.456055\" y=\"418.202148\"/>\n",
       "  <use xlink:href=\"#glyph1-4\" x=\"182.513672\" y=\"418.202148\"/>\n",
       "  <use xlink:href=\"#glyph1-9\" x=\"188.013672\" y=\"418.202148\"/>\n",
       "  <use xlink:href=\"#glyph1-3\" x=\"194.129883\" y=\"418.202148\"/>\n",
       "  <use xlink:href=\"#glyph1-10\" x=\"200.246094\" y=\"418.202148\"/>\n",
       "</g>\n",
       "<path style=\"fill-rule:nonzero;fill:rgb(94.901961%,94.901961%,94.901961%);fill-opacity:1;stroke-width:1.066978;stroke-linecap:round;stroke-linejoin:round;stroke:rgb(100%,100%,100%);stroke-opacity:1;stroke-miterlimit:10;\" d=\"M 210.679688 422.859375 L 227.960938 422.859375 L 227.960938 405.578125 L 210.679688 405.578125 Z \"/>\n",
       "<path style=\" stroke:none;fill-rule:nonzero;fill:rgb(100%,100%,100%);fill-opacity:0.501961;\" d=\"M 210.679688 422.859375 L 227.960938 422.859375 L 227.960938 405.578125 L 210.679688 405.578125 Z \"/>\n",
       "<g style=\"fill:rgb(100%,100%,100%);fill-opacity:0.501961;\">\n",
       "  <use xlink:href=\"#glyph0-14\" x=\"215.320312\" y=\"419.275391\"/>\n",
       "</g>\n",
       "<path style=\"fill-rule:nonzero;fill:rgb(94.901961%,94.901961%,94.901961%);fill-opacity:1;stroke-width:1.066978;stroke-linecap:round;stroke-linejoin:round;stroke:rgb(100%,100%,100%);stroke-opacity:1;stroke-miterlimit:10;\" d=\"M 289.054688 422.859375 L 306.335938 422.859375 L 306.335938 405.578125 L 289.054688 405.578125 Z \"/>\n",
       "<path style=\" stroke:none;fill-rule:nonzero;fill:rgb(100%,100%,100%);fill-opacity:1;\" d=\"M 289.054688 422.859375 L 306.335938 422.859375 L 306.335938 405.578125 L 289.054688 405.578125 Z \"/>\n",
       "<g style=\"fill:rgb(100%,100%,100%);fill-opacity:1;\">\n",
       "  <use xlink:href=\"#glyph0-14\" x=\"293.691406\" y=\"419.275391\"/>\n",
       "</g>\n",
       "<g style=\"fill:rgb(0%,0%,0%);fill-opacity:1;\">\n",
       "  <use xlink:href=\"#glyph2-4\" x=\"230.121094\" y=\"417.104492\"/>\n",
       "  <use xlink:href=\"#glyph2-2\" x=\"236.472656\" y=\"417.104492\"/>\n",
       "  <use xlink:href=\"#glyph2-5\" x=\"241.363281\" y=\"417.104492\"/>\n",
       "  <use xlink:href=\"#glyph2-6\" x=\"246.253906\" y=\"417.104492\"/>\n",
       "  <use xlink:href=\"#glyph2-3\" x=\"249.183594\" y=\"417.104492\"/>\n",
       "  <use xlink:href=\"#glyph2-7\" x=\"253.582031\" y=\"417.104492\"/>\n",
       "  <use xlink:href=\"#glyph2-8\" x=\"259.933594\" y=\"417.104492\"/>\n",
       "  <use xlink:href=\"#glyph2-9\" x=\"261.886719\" y=\"417.104492\"/>\n",
       "  <use xlink:href=\"#glyph2-10\" x=\"264.332031\" y=\"417.104492\"/>\n",
       "  <use xlink:href=\"#glyph2-11\" x=\"268.730469\" y=\"417.104492\"/>\n",
       "  <use xlink:href=\"#glyph2-12\" x=\"273.621094\" y=\"417.104492\"/>\n",
       "  <use xlink:href=\"#glyph2-13\" x=\"278.511719\" y=\"417.104492\"/>\n",
       "</g>\n",
       "<g style=\"fill:rgb(0%,0%,0%);fill-opacity:1;\">\n",
       "  <use xlink:href=\"#glyph2-14\" x=\"308.492188\" y=\"417.104492\"/>\n",
       "  <use xlink:href=\"#glyph2-7\" x=\"314.359375\" y=\"417.104492\"/>\n",
       "  <use xlink:href=\"#glyph2-8\" x=\"320.710938\" y=\"417.104492\"/>\n",
       "  <use xlink:href=\"#glyph2-9\" x=\"322.664062\" y=\"417.104492\"/>\n",
       "  <use xlink:href=\"#glyph2-10\" x=\"325.109375\" y=\"417.104492\"/>\n",
       "  <use xlink:href=\"#glyph2-11\" x=\"329.507812\" y=\"417.104492\"/>\n",
       "  <use xlink:href=\"#glyph2-12\" x=\"334.398438\" y=\"417.104492\"/>\n",
       "  <use xlink:href=\"#glyph2-13\" x=\"339.289062\" y=\"417.104492\"/>\n",
       "</g>\n",
       "<path style=\" stroke:none;fill-rule:nonzero;fill:rgb(100%,100%,100%);fill-opacity:1;\" d=\"M 202.601562 458.5625 L 304.132812 458.5625 L 304.132812 432.777344 L 202.601562 432.777344 Z \"/>\n",
       "<g style=\"fill:rgb(0%,0%,0%);fill-opacity:1;\">\n",
       "  <use xlink:href=\"#glyph1-11\" x=\"206.855469\" y=\"449.655273\"/>\n",
       "  <use xlink:href=\"#glyph1-12\" x=\"214.797852\" y=\"449.655273\"/>\n",
       "  <use xlink:href=\"#glyph1-13\" x=\"220.914062\" y=\"449.655273\"/>\n",
       "  <use xlink:href=\"#glyph1-14\" x=\"227.030273\" y=\"449.655273\"/>\n",
       "  <use xlink:href=\"#glyph1-3\" x=\"232.530273\" y=\"449.655273\"/>\n",
       "  <use xlink:href=\"#glyph1-13\" x=\"238.646484\" y=\"449.655273\"/>\n",
       "  <use xlink:href=\"#glyph1-14\" x=\"244.762695\" y=\"449.655273\"/>\n",
       "  <use xlink:href=\"#glyph1-15\" x=\"250.262695\" y=\"449.655273\"/>\n",
       "  <use xlink:href=\"#glyph1-14\" x=\"256.378906\" y=\"449.655273\"/>\n",
       "</g>\n",
       "<path style=\"fill-rule:nonzero;fill:rgb(94.901961%,94.901961%,94.901961%);fill-opacity:1;stroke-width:1.066978;stroke-linecap:round;stroke-linejoin:round;stroke:rgb(100%,100%,100%);stroke-opacity:1;stroke-miterlimit:10;\" d=\"M 266.199219 454.3125 L 283.480469 454.3125 L 283.480469 437.03125 L 266.199219 437.03125 Z \"/>\n",
       "<path style=\"fill:none;stroke-width:1.066978;stroke-linecap:butt;stroke-linejoin:round;stroke:rgb(0%,0%,0%);stroke-opacity:1;stroke-miterlimit:10;\" d=\"M 267.925781 445.671875 L 281.75 445.671875 \"/>\n",
       "<g style=\"fill:rgb(0%,0%,0%);fill-opacity:1;\">\n",
       "  <use xlink:href=\"#glyph2-15\" x=\"285.636719\" y=\"448.557617\"/>\n",
       "  <use xlink:href=\"#glyph2-12\" x=\"291.503906\" y=\"448.557617\"/>\n",
       "  <use xlink:href=\"#glyph2-3\" x=\"296.394531\" y=\"448.557617\"/>\n",
       "</g>\n",
       "<path style=\" stroke:none;fill-rule:nonzero;fill:rgb(100%,100%,100%);fill-opacity:1;\" d=\"M 178.945312 490.015625 L 327.792969 490.015625 L 327.792969 464.230469 L 178.945312 464.230469 Z \"/>\n",
       "<g style=\"fill:rgb(0%,0%,0%);fill-opacity:1;\">\n",
       "  <use xlink:href=\"#glyph1-16\" x=\"183.199219\" y=\"481.108398\"/>\n",
       "  <use xlink:href=\"#glyph1-3\" x=\"191.756836\" y=\"481.108398\"/>\n",
       "  <use xlink:href=\"#glyph1-13\" x=\"197.873047\" y=\"481.108398\"/>\n",
       "  <use xlink:href=\"#glyph1-3\" x=\"203.989258\" y=\"481.108398\"/>\n",
       "</g>\n",
       "<path style=\"fill-rule:nonzero;fill:rgb(94.901961%,94.901961%,94.901961%);fill-opacity:1;stroke-width:1.066978;stroke-linecap:round;stroke-linejoin:round;stroke:rgb(100%,100%,100%);stroke-opacity:1;stroke-miterlimit:10;\" d=\"M 214.425781 485.765625 L 231.707031 485.765625 L 231.707031 468.484375 L 214.425781 468.484375 Z \"/>\n",
       "<path style=\" stroke:none;fill-rule:nonzero;fill:rgb(0%,0%,0%);fill-opacity:1;\" d=\"M 214.425781 485.765625 L 231.707031 485.765625 L 231.707031 468.484375 L 214.425781 468.484375 Z \"/>\n",
       "<g style=\"fill:rgb(100%,100%,100%);fill-opacity:1;\">\n",
       "  <use xlink:href=\"#glyph0-14\" x=\"219.066406\" y=\"482.181641\"/>\n",
       "</g>\n",
       "<path style=\"fill-rule:nonzero;fill:rgb(94.901961%,94.901961%,94.901961%);fill-opacity:1;stroke-width:1.066978;stroke-linecap:round;stroke-linejoin:round;stroke:rgb(100%,100%,100%);stroke-opacity:1;stroke-miterlimit:10;\" d=\"M 259.929688 485.765625 L 277.210938 485.765625 L 277.210938 468.484375 L 259.929688 468.484375 Z \"/>\n",
       "<path style=\" stroke:none;fill-rule:nonzero;fill:rgb(1.960784%,43.921569%,69.019608%);fill-opacity:1;\" d=\"M 259.929688 485.765625 L 277.210938 485.765625 L 277.210938 468.484375 L 259.929688 468.484375 Z \"/>\n",
       "<g style=\"fill:rgb(100%,100%,100%);fill-opacity:1;\">\n",
       "  <use xlink:href=\"#glyph0-14\" x=\"264.570312\" y=\"482.181641\"/>\n",
       "</g>\n",
       "<g style=\"fill:rgb(0%,0%,0%);fill-opacity:1;\">\n",
       "  <use xlink:href=\"#glyph2-16\" x=\"233.863281\" y=\"480.010742\"/>\n",
       "  <use xlink:href=\"#glyph2-17\" x=\"240.214844\" y=\"480.010742\"/>\n",
       "  <use xlink:href=\"#glyph2-8\" x=\"243.144531\" y=\"480.010742\"/>\n",
       "  <use xlink:href=\"#glyph2-18\" x=\"245.097656\" y=\"480.010742\"/>\n",
       "  <use xlink:href=\"#glyph2-12\" x=\"249.496094\" y=\"480.010742\"/>\n",
       "  <use xlink:href=\"#glyph2-17\" x=\"254.386719\" y=\"480.010742\"/>\n",
       "</g>\n",
       "<g style=\"fill:rgb(0%,0%,0%);fill-opacity:1;\">\n",
       "  <use xlink:href=\"#glyph2-4\" x=\"279.367188\" y=\"480.010742\"/>\n",
       "  <use xlink:href=\"#glyph2-2\" x=\"285.71875\" y=\"480.010742\"/>\n",
       "  <use xlink:href=\"#glyph2-5\" x=\"290.609375\" y=\"480.010742\"/>\n",
       "  <use xlink:href=\"#glyph2-6\" x=\"295.5\" y=\"480.010742\"/>\n",
       "  <use xlink:href=\"#glyph2-13\" x=\"298.429688\" y=\"480.010742\"/>\n",
       "  <use xlink:href=\"#glyph2-17\" x=\"303.320312\" y=\"480.010742\"/>\n",
       "  <use xlink:href=\"#glyph2-8\" x=\"306.25\" y=\"480.010742\"/>\n",
       "  <use xlink:href=\"#glyph2-18\" x=\"308.203125\" y=\"480.010742\"/>\n",
       "  <use xlink:href=\"#glyph2-12\" x=\"312.601562\" y=\"480.010742\"/>\n",
       "  <use xlink:href=\"#glyph2-17\" x=\"317.492188\" y=\"480.010742\"/>\n",
       "</g>\n",
       "</g>\n",
       "</svg>\n"
      ],
      "text/plain": [
       "plot without title"
      ]
     },
     "metadata": {
      "image/svg+xml": {
       "isolated": true
      }
     },
     "output_type": "display_data"
    }
   ],
   "source": [
    "post.splicing.filt <- switches %>%\n",
    "    filter(GeneId %in% post.splicing) %>%\n",
    "    filter(! GeneId %in% current.switches$GeneId ) %>%\n",
    "    .$GeneId %>%\n",
    "    setdiff(post.splicing,.)\n",
    "\n",
    "nw <- getPPINetwork(post.splicing.filt, ppi.network, ppi)\n",
    "\n",
    "# number of edges\n",
    "length(nw %e% \"Effect\")\n",
    "\n",
    "# add node attributes\n",
    "nw %v% \"Gene\" <- ifelse(nw %v% \"vertex.names\" %in% drivers, \"Driver\", \"Non-driver\")\n",
    "nw %v% \"Switched\" <- ifelse(nw %v% \"vertex.names\" %in% current.switches$Symbol, \"Switched\", \"Non-switched\")\n",
    "\n",
    "ggplot(nw, aes(x = x, y = y, xend = xend, yend = yend)) +\n",
    "    geom_edges(aes(color = Effect, linetype = Consensus)) +\n",
    "    geom_nodelabel(aes(label = vertex.names, fill = Gene, alpha = Switched), size = 5, color = \"white\") +\n",
    "    scale_color_manual(values = ppiPalette) +\n",
    "    scale_alpha_manual(values = c(\"Switched\" = 1, \"Non-switched\" = 0.5)) +\n",
    "    scale_fill_manual(values = c(\"Driver\" = \"black\", \"Non-driver\" = \"#0570b0\")) +\n",
    "    scale_linetype_manual(values = c(\"Yes\" = \"solid\", \"No\" = \"dashed\")) +\n",
    "    lims( x = c(-.10, 1.10))+ \n",
    "    theme(axis.line=element_blank(),axis.text.x=element_blank(),\n",
    "          axis.text.y=element_blank(),axis.ticks=element_blank(),\n",
    "          axis.title.x=element_blank(),axis.title.y=element_blank(),\n",
    "          legend.position=\"bottom\")"
   ]
  }
 ],
 "metadata": {
  "kernelspec": {
   "display_name": "R",
   "language": "R",
   "name": "ir"
  },
  "language_info": {
   "codemirror_mode": "r",
   "file_extension": ".r",
   "mimetype": "text/x-r-source",
   "name": "R",
   "pygments_lexer": "r",
   "version": "3.2.2"
  },
  "toc": {
   "toc_cell": false,
   "toc_number_sections": true,
   "toc_threshold": 6,
   "toc_window_display": false
  }
 },
 "nbformat": 4,
 "nbformat_minor": 0
}
